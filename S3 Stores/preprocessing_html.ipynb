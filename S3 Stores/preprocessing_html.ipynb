{
 "cells": [
  {
   "cell_type": "code",
   "execution_count": null,
   "metadata": {},
   "outputs": [],
   "source": [
    "import pandas as pd\n",
    "import json\n",
    "import re"
   ]
  },
  {
   "cell_type": "code",
   "execution_count": null,
   "metadata": {},
   "outputs": [],
   "source": [
    "input_filename = 'chewy.json'\n",
    "output_filename = 'preprocessed_chewy.json'"
   ]
  },
  {
   "cell_type": "code",
   "execution_count": null,
   "metadata": {},
   "outputs": [],
   "source": [
    "with open(input_filename) as json_file:\n",
    "    data = json.load(json_file)"
   ]
  },
  {
   "cell_type": "code",
   "execution_count": null,
   "metadata": {},
   "outputs": [],
   "source": [
    "df = pd.DataFrame(data['products'])\n",
    "df"
   ]
  },
  {
   "cell_type": "code",
   "execution_count": null,
   "metadata": {},
   "outputs": [],
   "source": [
    "# Удаляем нулевые столбцы\n",
    "df.dropna(axis=1, how='all', inplace=True)\n",
    "print(f'column number = {len(df.columns)}')"
   ]
  },
  {
   "cell_type": "code",
   "execution_count": null,
   "metadata": {},
   "outputs": [],
   "source": [
    "# Удаляем столбцы, в каждом из которых находятся только одинаковые значения\n",
    "df = df.loc[:, (df != df.iloc[0]).any()]\n",
    "print(f'column number = {len(df.columns)}')"
   ]
  },
  {
   "cell_type": "code",
   "execution_count": null,
   "metadata": {},
   "outputs": [],
   "source": [
    "# Удаляем столбец 'mpn' (manufacturer part number), который является источником для 'productcode'\n",
    "df = df.drop(axis=1, labels='mpn')\n",
    "print(f'column number = {len(df.columns)}')"
   ]
  },
  {
   "cell_type": "code",
   "execution_count": null,
   "metadata": {},
   "outputs": [],
   "source": [
    "# Удаляем строки с пустым описанием\n",
    "df = df[df['fulldescr'] != '']\n",
    "print(f\"dataset size = {len(df)}\")"
   ]
  },
  {
   "cell_type": "code",
   "execution_count": null,
   "metadata": {},
   "outputs": [],
   "source": [
    "# Добавляем столбец 'supplier_categories_string', в котором в виде строки представляем иерархическую категорию\n",
    "df['supplier_categories_string'] = [' - '.join(map(str, l)) for l in df['supplier_categories']]\n",
    "print(f'df[\"supplier_categories\"][0] = {df[\"supplier_categories\"][0]}')\n",
    "print(f'\\ndf[\"supplier_categories_string\"][0] = {df[\"supplier_categories_string\"][0]}')"
   ]
  },
  {
   "cell_type": "code",
   "execution_count": null,
   "metadata": {},
   "outputs": [],
   "source": [
    "# Удаляем строки с пустой категорией\n",
    "df = df[df['supplier_categories'].str.len() != 0]\n",
    "print(f\"dataset size = {len(df)}\")"
   ]
  },
  {
   "cell_type": "code",
   "execution_count": null,
   "metadata": {},
   "outputs": [],
   "source": [
    "# Удаляем дубликаты (сохраняя только первый элемент из дублирующихся: keep='first')\n",
    "df.drop_duplicates(subset=['product', 'fulldescr', 'supplier_categories_string'], keep='first', inplace=True)\n",
    "print(f\"dataset size = {len(df)}\")"
   ]
  },
  {
   "cell_type": "code",
   "execution_count": null,
   "metadata": {},
   "outputs": [],
   "source": [
    "# Перенумеровываем индексы, чтобы они начинались с нуля\n",
    "df = df.reset_index(drop=True)"
   ]
  },
  {
   "cell_type": "code",
   "execution_count": null,
   "metadata": {},
   "outputs": [],
   "source": [
    "df.fulldescr = df.fulldescr.apply(lambda x: re.sub(r'<\\S*>', \"\", x))\n",
    "df"
   ]
  },
  {
   "cell_type": "code",
   "execution_count": null,
   "metadata": {},
   "outputs": [],
   "source": [
    "df.to_json(output_filename, indent=2)"
   ]
  }
 ],
 "metadata": {
  "language_info": {
   "name": "python"
  },
  "orig_nbformat": 4
 },
 "nbformat": 4,
 "nbformat_minor": 2
}

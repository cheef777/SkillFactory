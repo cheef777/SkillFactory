{
 "cells": [
  {
   "cell_type": "code",
   "execution_count": 1,
   "metadata": {
    "_cell_guid": "b1076dfc-b9ad-4769-8c92-a6c4dae69d19",
    "_uuid": "8f2839f25d086af736a60e9eeb907d3b93b6e0e5",
    "colab": {},
    "colab_type": "code",
    "id": "U2D2gTdJVp90"
   },
   "outputs": [],
   "source": [
    "import numpy as np\n",
    "import pandas as pd\n",
    "import seaborn as sns\n",
    "import matplotlib.pyplot as plt\n",
    "from collections import Counter"
   ]
  },
  {
   "cell_type": "code",
   "execution_count": 2,
   "metadata": {
    "_cell_guid": "79c7e3d0-c299-4dcb-8224-4455121ee9b0",
    "_uuid": "d629ff2d2480ee46fbb7e2d37f6b5fab8052498a",
    "colab": {},
    "colab_type": "code",
    "id": "oyGfxL3eVp9-"
   },
   "outputs": [
    {
     "data": {
      "text/html": [
       "<div>\n",
       "<style scoped>\n",
       "    .dataframe tbody tr th:only-of-type {\n",
       "        vertical-align: middle;\n",
       "    }\n",
       "\n",
       "    .dataframe tbody tr th {\n",
       "        vertical-align: top;\n",
       "    }\n",
       "\n",
       "    .dataframe thead th {\n",
       "        text-align: right;\n",
       "    }\n",
       "</style>\n",
       "<table border=\"1\" class=\"dataframe\">\n",
       "  <thead>\n",
       "    <tr style=\"text-align: right;\">\n",
       "      <th></th>\n",
       "      <th>imdb_id</th>\n",
       "      <th>budget</th>\n",
       "      <th>revenue</th>\n",
       "      <th>original_title</th>\n",
       "      <th>cast</th>\n",
       "      <th>director</th>\n",
       "      <th>tagline</th>\n",
       "      <th>overview</th>\n",
       "      <th>runtime</th>\n",
       "      <th>genres</th>\n",
       "      <th>production_companies</th>\n",
       "      <th>release_date</th>\n",
       "      <th>vote_average</th>\n",
       "      <th>release_year</th>\n",
       "    </tr>\n",
       "  </thead>\n",
       "  <tbody>\n",
       "    <tr>\n",
       "      <th>826</th>\n",
       "      <td>tt1692486</td>\n",
       "      <td>25000000</td>\n",
       "      <td>27603069</td>\n",
       "      <td>Carnage</td>\n",
       "      <td>Kate Winslet|Jodie Foster|Christoph Waltz|John...</td>\n",
       "      <td>Roman Polanski</td>\n",
       "      <td>A new comedy of no manners</td>\n",
       "      <td>In Brooklyn Bridge Park, eleven-year-old Zacha...</td>\n",
       "      <td>80</td>\n",
       "      <td>Comedy|Drama</td>\n",
       "      <td>Wild Bunch|Zanagar Films|Canal+|Constantin Fil...</td>\n",
       "      <td>9/16/2011</td>\n",
       "      <td>6.9</td>\n",
       "      <td>2011</td>\n",
       "    </tr>\n",
       "    <tr>\n",
       "      <th>941</th>\n",
       "      <td>tt0300532</td>\n",
       "      <td>25000000</td>\n",
       "      <td>51842679</td>\n",
       "      <td>Blue Crush</td>\n",
       "      <td>Kate Bosworth|Matthew Davis|Michelle Rodriguez...</td>\n",
       "      <td>John Stockwell</td>\n",
       "      <td>Three Friends, One Passion, No Limits.</td>\n",
       "      <td>Nothing gets between Anne Marie and her board....</td>\n",
       "      <td>104</td>\n",
       "      <td>Adventure</td>\n",
       "      <td>Imagine Entertainment|Mikona Productions GmbH ...</td>\n",
       "      <td>8/8/2002</td>\n",
       "      <td>5.6</td>\n",
       "      <td>2002</td>\n",
       "    </tr>\n",
       "    <tr>\n",
       "      <th>1438</th>\n",
       "      <td>tt0462590</td>\n",
       "      <td>12000000</td>\n",
       "      <td>114194847</td>\n",
       "      <td>Step Up</td>\n",
       "      <td>Channing Tatum|Jenna Dewan|Damaine Radcliff|De...</td>\n",
       "      <td>Anne Fletcher</td>\n",
       "      <td>Every Second Chance Begins With a First Step</td>\n",
       "      <td>Everyone deserves a chance to follow their dre...</td>\n",
       "      <td>104</td>\n",
       "      <td>Music|Drama|Romance|Crime</td>\n",
       "      <td>Summit Entertainment|Offspring Entertainment|T...</td>\n",
       "      <td>8/11/2006</td>\n",
       "      <td>6.7</td>\n",
       "      <td>2006</td>\n",
       "    </tr>\n",
       "    <tr>\n",
       "      <th>1475</th>\n",
       "      <td>tt0397078</td>\n",
       "      <td>28000000</td>\n",
       "      <td>38159905</td>\n",
       "      <td>Just My Luck</td>\n",
       "      <td>Lindsay Lohan|Samaire Armstrong|Chris Pine|Mis...</td>\n",
       "      <td>Donald Petrie</td>\n",
       "      <td>Everything changed in the wink of an eye.</td>\n",
       "      <td>Manhattanite Ashley is known to many as the lu...</td>\n",
       "      <td>103</td>\n",
       "      <td>Comedy|Drama|Family|Fantasy|Romance</td>\n",
       "      <td>Regency Enterprises|Cheyenne Enterprises|New R...</td>\n",
       "      <td>5/12/2006</td>\n",
       "      <td>5.7</td>\n",
       "      <td>2006</td>\n",
       "    </tr>\n",
       "    <tr>\n",
       "      <th>1726</th>\n",
       "      <td>tt0427327</td>\n",
       "      <td>50000000</td>\n",
       "      <td>90450008</td>\n",
       "      <td>Hairspray</td>\n",
       "      <td>John Travolta|Michelle Pfeiffer|Christopher Wa...</td>\n",
       "      <td>Adam Shankman</td>\n",
       "      <td>When you follow your own beat, the world will ...</td>\n",
       "      <td>Pleasantly plump teenager, Tracy Turnblad and ...</td>\n",
       "      <td>117</td>\n",
       "      <td>Comedy|Music|Romance</td>\n",
       "      <td>New Line Cinema</td>\n",
       "      <td>7/13/2007</td>\n",
       "      <td>6.4</td>\n",
       "      <td>2007</td>\n",
       "    </tr>\n",
       "  </tbody>\n",
       "</table>\n",
       "</div>"
      ],
      "text/plain": [
       "        imdb_id    budget    revenue original_title  \\\n",
       "826   tt1692486  25000000   27603069        Carnage   \n",
       "941   tt0300532  25000000   51842679     Blue Crush   \n",
       "1438  tt0462590  12000000  114194847        Step Up   \n",
       "1475  tt0397078  28000000   38159905   Just My Luck   \n",
       "1726  tt0427327  50000000   90450008      Hairspray   \n",
       "\n",
       "                                                   cast        director  \\\n",
       "826   Kate Winslet|Jodie Foster|Christoph Waltz|John...  Roman Polanski   \n",
       "941   Kate Bosworth|Matthew Davis|Michelle Rodriguez...  John Stockwell   \n",
       "1438  Channing Tatum|Jenna Dewan|Damaine Radcliff|De...   Anne Fletcher   \n",
       "1475  Lindsay Lohan|Samaire Armstrong|Chris Pine|Mis...   Donald Petrie   \n",
       "1726  John Travolta|Michelle Pfeiffer|Christopher Wa...   Adam Shankman   \n",
       "\n",
       "                                                tagline  \\\n",
       "826                          A new comedy of no manners   \n",
       "941              Three Friends, One Passion, No Limits.   \n",
       "1438       Every Second Chance Begins With a First Step   \n",
       "1475          Everything changed in the wink of an eye.   \n",
       "1726  When you follow your own beat, the world will ...   \n",
       "\n",
       "                                               overview  runtime  \\\n",
       "826   In Brooklyn Bridge Park, eleven-year-old Zacha...       80   \n",
       "941   Nothing gets between Anne Marie and her board....      104   \n",
       "1438  Everyone deserves a chance to follow their dre...      104   \n",
       "1475  Manhattanite Ashley is known to many as the lu...      103   \n",
       "1726  Pleasantly plump teenager, Tracy Turnblad and ...      117   \n",
       "\n",
       "                                   genres  \\\n",
       "826                          Comedy|Drama   \n",
       "941                             Adventure   \n",
       "1438            Music|Drama|Romance|Crime   \n",
       "1475  Comedy|Drama|Family|Fantasy|Romance   \n",
       "1726                 Comedy|Music|Romance   \n",
       "\n",
       "                                   production_companies release_date  \\\n",
       "826   Wild Bunch|Zanagar Films|Canal+|Constantin Fil...    9/16/2011   \n",
       "941   Imagine Entertainment|Mikona Productions GmbH ...     8/8/2002   \n",
       "1438  Summit Entertainment|Offspring Entertainment|T...    8/11/2006   \n",
       "1475  Regency Enterprises|Cheyenne Enterprises|New R...    5/12/2006   \n",
       "1726                                    New Line Cinema    7/13/2007   \n",
       "\n",
       "      vote_average  release_year  \n",
       "826            6.9          2011  \n",
       "941            5.6          2002  \n",
       "1438           6.7          2006  \n",
       "1475           5.7          2006  \n",
       "1726           6.4          2007  "
      ]
     },
     "execution_count": 2,
     "metadata": {},
     "output_type": "execute_result"
    }
   ],
   "source": [
    "df = pd.read_csv('movie_bd_v5.csv')\n",
    "df.sample(5)"
   ]
  },
  {
   "cell_type": "code",
   "execution_count": 3,
   "metadata": {
    "colab": {},
    "colab_type": "code",
    "id": "CoYUnagMVp-C"
   },
   "outputs": [
    {
     "data": {
      "text/html": [
       "<div>\n",
       "<style scoped>\n",
       "    .dataframe tbody tr th:only-of-type {\n",
       "        vertical-align: middle;\n",
       "    }\n",
       "\n",
       "    .dataframe tbody tr th {\n",
       "        vertical-align: top;\n",
       "    }\n",
       "\n",
       "    .dataframe thead th {\n",
       "        text-align: right;\n",
       "    }\n",
       "</style>\n",
       "<table border=\"1\" class=\"dataframe\">\n",
       "  <thead>\n",
       "    <tr style=\"text-align: right;\">\n",
       "      <th></th>\n",
       "      <th>budget</th>\n",
       "      <th>revenue</th>\n",
       "      <th>runtime</th>\n",
       "      <th>vote_average</th>\n",
       "      <th>release_year</th>\n",
       "    </tr>\n",
       "  </thead>\n",
       "  <tbody>\n",
       "    <tr>\n",
       "      <th>count</th>\n",
       "      <td>1.889000e+03</td>\n",
       "      <td>1.889000e+03</td>\n",
       "      <td>1889.000000</td>\n",
       "      <td>1889.000000</td>\n",
       "      <td>1889.000000</td>\n",
       "    </tr>\n",
       "    <tr>\n",
       "      <th>mean</th>\n",
       "      <td>5.431083e+07</td>\n",
       "      <td>1.553653e+08</td>\n",
       "      <td>109.658549</td>\n",
       "      <td>6.140762</td>\n",
       "      <td>2007.860773</td>\n",
       "    </tr>\n",
       "    <tr>\n",
       "      <th>std</th>\n",
       "      <td>4.858721e+07</td>\n",
       "      <td>2.146698e+08</td>\n",
       "      <td>18.017041</td>\n",
       "      <td>0.764763</td>\n",
       "      <td>4.468841</td>\n",
       "    </tr>\n",
       "    <tr>\n",
       "      <th>min</th>\n",
       "      <td>5.000000e+06</td>\n",
       "      <td>2.033165e+06</td>\n",
       "      <td>63.000000</td>\n",
       "      <td>3.300000</td>\n",
       "      <td>2000.000000</td>\n",
       "    </tr>\n",
       "    <tr>\n",
       "      <th>25%</th>\n",
       "      <td>2.000000e+07</td>\n",
       "      <td>3.456058e+07</td>\n",
       "      <td>97.000000</td>\n",
       "      <td>5.600000</td>\n",
       "      <td>2004.000000</td>\n",
       "    </tr>\n",
       "    <tr>\n",
       "      <th>50%</th>\n",
       "      <td>3.800000e+07</td>\n",
       "      <td>8.361541e+07</td>\n",
       "      <td>107.000000</td>\n",
       "      <td>6.100000</td>\n",
       "      <td>2008.000000</td>\n",
       "    </tr>\n",
       "    <tr>\n",
       "      <th>75%</th>\n",
       "      <td>7.200000e+07</td>\n",
       "      <td>1.782626e+08</td>\n",
       "      <td>120.000000</td>\n",
       "      <td>6.600000</td>\n",
       "      <td>2012.000000</td>\n",
       "    </tr>\n",
       "    <tr>\n",
       "      <th>max</th>\n",
       "      <td>3.800000e+08</td>\n",
       "      <td>2.781506e+09</td>\n",
       "      <td>214.000000</td>\n",
       "      <td>8.100000</td>\n",
       "      <td>2015.000000</td>\n",
       "    </tr>\n",
       "  </tbody>\n",
       "</table>\n",
       "</div>"
      ],
      "text/plain": [
       "             budget       revenue      runtime  vote_average  release_year\n",
       "count  1.889000e+03  1.889000e+03  1889.000000   1889.000000   1889.000000\n",
       "mean   5.431083e+07  1.553653e+08   109.658549      6.140762   2007.860773\n",
       "std    4.858721e+07  2.146698e+08    18.017041      0.764763      4.468841\n",
       "min    5.000000e+06  2.033165e+06    63.000000      3.300000   2000.000000\n",
       "25%    2.000000e+07  3.456058e+07    97.000000      5.600000   2004.000000\n",
       "50%    3.800000e+07  8.361541e+07   107.000000      6.100000   2008.000000\n",
       "75%    7.200000e+07  1.782626e+08   120.000000      6.600000   2012.000000\n",
       "max    3.800000e+08  2.781506e+09   214.000000      8.100000   2015.000000"
      ]
     },
     "execution_count": 3,
     "metadata": {},
     "output_type": "execute_result"
    }
   ],
   "source": [
    "df.describe()"
   ]
  },
  {
   "cell_type": "markdown",
   "metadata": {
    "colab_type": "text",
    "id": "DTIt7ezGVp-G"
   },
   "source": [
    "# Предобработка"
   ]
  },
  {
   "cell_type": "code",
   "execution_count": 4,
   "metadata": {
    "colab": {},
    "colab_type": "code",
    "id": "jNb40DwKVp-H"
   },
   "outputs": [],
   "source": [
    "answers = {} # создадим словарь для ответов\n",
    "answer_auto = {} # а также создадим словарь, который будет формироваться автоматически)))\n",
    "\n",
    "# тут другие ваши предобработки колонок например:\n",
    "\n",
    "#the time given in the dataset is in string format.\n",
    "#So we need to change this in datetime format\n",
    "# ...\n",
    "\n",
    "# создаем столбец прибыль\n",
    "df['profit'] = 0\n",
    "for i in range(len(df)):\n",
    "    df.loc[i, 'profit'] = df.loc[i, 'revenue'] - df.loc[i, 'budget']\n",
    "    \n",
    "# создаем столбец с приведенной датой к удобному виду\n",
    "df['date'] = pd.to_datetime(df[\"release_date\"])\n",
    "\n",
    "# создаем словарь месяцев\n",
    "month = {1: 'Январь',\n",
    "         2: 'Февраль',\n",
    "         3: 'Март',\n",
    "         4: 'Апрель',\n",
    "         5: 'Май',\n",
    "         6: 'Июнь',\n",
    "         7: 'Июль',\n",
    "         8: 'Август',\n",
    "         9: 'Сентябрь',\n",
    "         10: 'Октябрь',\n",
    "         11: 'Ноябрь',\n",
    "         12: 'Декабрь'}"
   ]
  },
  {
   "cell_type": "markdown",
   "metadata": {
    "colab_type": "text",
    "id": "YxZaH-nPVp-L"
   },
   "source": [
    "# 1. У какого фильма из списка самый большой бюджет?"
   ]
  },
  {
   "cell_type": "markdown",
   "metadata": {
    "colab_type": "text",
    "id": "Nd-G5gX6Vp-M"
   },
   "source": [
    "Использовать варианты ответов в коде решения запрещено.    \n",
    "Вы думаете и в жизни у вас будут варианты ответов?)"
   ]
  },
  {
   "cell_type": "code",
   "execution_count": 5,
   "metadata": {
    "colab": {},
    "colab_type": "code",
    "id": "uVnXAY5RVp-O"
   },
   "outputs": [],
   "source": [
    "# в словарь вставляем номер вопроса и ваш ответ на него\n",
    "# Пример: \n",
    "answers['1'] = '2. Spider-Man 3 (tt0413300)'\n",
    "# запишите свой вариант ответа\n",
    "answers['1'] = '5. Pirates of the Caribbean: On Stranger Tides (tt1298650)' # \"+\"\n",
    "# если ответили верно, можете добавить комментарий со значком \"+\""
   ]
  },
  {
   "cell_type": "code",
   "execution_count": 6,
   "metadata": {
    "colab": {},
    "colab_type": "code",
    "id": "dZwb3m28Vp-S"
   },
   "outputs": [
    {
     "data": {
      "text/plain": [
       "'5. Pirates of the Caribbean: On Stranger Tides (tt1298650)'"
      ]
     },
     "execution_count": 6,
     "metadata": {},
     "output_type": "execute_result"
    }
   ],
   "source": [
    "# тут пишем ваш код для решения данного вопроса:\n",
    "# выбираем строку с максимальным значением в столбце бюджет и берем название фильма\n",
    "answer1 = df[df.budget ==df.budget.max()]['original_title'].iloc[0]\n",
    "# добавляем к названию фильма его индедификатор в скобках\n",
    "answer1 = answer1 + ' ' + '(' + df[df.budget ==df.budget.max()]['imdb_id'].iloc[0] + ')'\n",
    "ss1 = ['The Dark Knight Rises (tt1345836)',     # создаем список ответов\n",
    "     'Spider-Man 3 (tt0413300)',\n",
    "     'Avengers: Age of Ultron (tt2395427)',\n",
    "     'The Warrior\\'s Way (tt1032751)',\n",
    "     'Pirates of the Caribbean: On Stranger Tides (tt1298650)']\n",
    "if str(answer1) in ss1:                          # проверяем ответ  \n",
    "    answer_auto['1'] = str(ss1.index(answer1)+1) + '. ' + answer1  # заполняем словарь по шаблону\n",
    "answer_auto['1']"
   ]
  },
  {
   "cell_type": "markdown",
   "metadata": {
    "colab_type": "text",
    "id": "K7L3nbRXVp-X"
   },
   "source": [
    "ВАРИАНТ 2"
   ]
  },
  {
   "cell_type": "code",
   "execution_count": 0,
   "metadata": {
    "colab": {},
    "colab_type": "code",
    "id": "OGaoQI7rVp-X"
   },
   "outputs": [],
   "source": [
    "# можно добавлять разные варианты решения"
   ]
  },
  {
   "cell_type": "markdown",
   "metadata": {
    "colab_type": "text",
    "id": "FNRbbI3vVp-c"
   },
   "source": [
    "# 2. Какой из фильмов самый длительный (в минутах)?"
   ]
  },
  {
   "cell_type": "code",
   "execution_count": 8,
   "metadata": {
    "colab": {},
    "colab_type": "code",
    "id": "vHAoEXNTVp-d"
   },
   "outputs": [],
   "source": [
    "# думаю логику работы с этим словарем вы уже поняли, \n",
    "# по этому не буду больше его дублировать\n",
    "answers['2'] = '2. Gods and Generals (tt0279111)' #\"+\""
   ]
  },
  {
   "cell_type": "code",
   "execution_count": 9,
   "metadata": {
    "colab": {},
    "colab_type": "code",
    "id": "ot-VX2XrVp-g"
   },
   "outputs": [
    {
     "data": {
      "text/plain": [
       "'2. Gods and Generals (tt0279111)'"
      ]
     },
     "execution_count": 9,
     "metadata": {},
     "output_type": "execute_result"
    }
   ],
   "source": [
    "# мой код для решения данного вопроса:\n",
    "# выбираем строку с максимальным значением в столбце длительность и берем название фильма\n",
    "answer2 = df[df.runtime ==df.runtime.max()]['original_title'].iloc[0]\n",
    "# добавляем к названию фильма его индедификатор в скобках\n",
    "answer2 = answer2 + ' ' + '(' + df[df.runtime == df.runtime.max()]['imdb_id'].iloc[0] + ')'\n",
    "ss2 = ['The Lord of the Rings: The Return of the King (tt0167260)',  # создаем список ответов\n",
    "     'Gods and Generals (tt0279111)',\n",
    "     'King Kong (tt0360717)',\n",
    "     'Pearl Harbor (tt0213149)',\n",
    "     'Alexander (tt0346491)']\n",
    "if answer2 in ss2:                                             # проверяем ответ  \n",
    "    answer_auto['2'] = str(ss2.index(answer2)+1) + '. ' + answer2   # заполняем словарь по шаблону\n",
    "answer_auto['2']"
   ]
  },
  {
   "cell_type": "markdown",
   "metadata": {
    "colab_type": "text",
    "id": "bapLlpW8Vp-k"
   },
   "source": [
    "# 3. Какой из фильмов самый короткий (в минутах)?\n",
    "\n",
    "\n",
    "\n"
   ]
  },
  {
   "cell_type": "code",
   "execution_count": 10,
   "metadata": {
    "colab": {},
    "colab_type": "code",
    "id": "YBxaSHuAVp-l"
   },
   "outputs": [],
   "source": [
    "answers['3'] = '3. Winnie the Pooh (tt1449283)' #\"+\""
   ]
  },
  {
   "cell_type": "code",
   "execution_count": 11,
   "metadata": {},
   "outputs": [
    {
     "data": {
      "text/plain": [
       "'3. Winnie the Pooh (tt1449283)'"
      ]
     },
     "execution_count": 11,
     "metadata": {},
     "output_type": "execute_result"
    }
   ],
   "source": [
    "# мой код для решения данного вопроса:\n",
    "# выбираем строку с минимальным значением в столбце длительность и берем название фильма\n",
    "answer3 = df[df.runtime == df.runtime.min()]['original_title'].iloc[0]\n",
    "# добавляем к названию фильма его индедификатор в скобках\n",
    "answer3 = answer3 + ' ' + '(' + df[df.runtime == df.runtime.min()]['imdb_id'].iloc[0] + ')'\n",
    "ss3 = ['Home on the Range (tt0299172)',   # создаем список ответов\n",
    "       'The Jungle Book 2 (tt0283426)',\n",
    "       'Winnie the Pooh (tt1449283)',\n",
    "       'Corpse Bride (tt0121164)',\n",
    "       'Hoodwinked! (tt0443536)']\n",
    "if answer3 in ss3:                                                 # проверяем ответ  \n",
    "    answer_auto['3'] = str(ss3.index(answer3)+1) + '. ' + answer3       # заполняем словарь по шаблону\n",
    "answer_auto['3']"
   ]
  },
  {
   "cell_type": "markdown",
   "metadata": {
    "colab_type": "text",
    "id": "TfQbxbfNVp-p"
   },
   "source": [
    "# 4. Какова средняя длительность фильмов?\n"
   ]
  },
  {
   "cell_type": "code",
   "execution_count": 12,
   "metadata": {
    "colab": {},
    "colab_type": "code",
    "id": "5K6dKZYVVp-q"
   },
   "outputs": [],
   "source": [
    "answers['4'] = '2. 110' #\"+\""
   ]
  },
  {
   "cell_type": "code",
   "execution_count": 13,
   "metadata": {},
   "outputs": [
    {
     "data": {
      "text/plain": [
       "'2. 110'"
      ]
     },
     "execution_count": 13,
     "metadata": {},
     "output_type": "execute_result"
    }
   ],
   "source": [
    "# мой код для решения данного вопроса:\n",
    "# находим среднее значение колонки длительность, округляем, делаем строкой\n",
    "answer4 = str(int(round(df.runtime.mean(),0)))\n",
    "ss4 = ['115',           # создаем список ответов\n",
    "      '110',\n",
    "      '105',\n",
    "      '120',\n",
    "      '100']\n",
    "if answer4 in ss4:      # проверяем ответ  \n",
    "    answer_auto['4'] = str(ss4.index(answer4)+1) + '. ' + answer4  # заполняем словарь по шаблону\n",
    "answer_auto['4']"
   ]
  },
  {
   "cell_type": "markdown",
   "metadata": {},
   "source": [
    "ВАРИАНТ 2"
   ]
  },
  {
   "cell_type": "code",
   "execution_count": 14,
   "metadata": {},
   "outputs": [
    {
     "data": {
      "text/plain": [
       "110"
      ]
     },
     "execution_count": 14,
     "metadata": {},
     "output_type": "execute_result"
    }
   ],
   "source": [
    "# мой код для решения данного вопроса:\n",
    "# используем таблицу статистики, берем среднее значения для длительности\n",
    "int(round(df.describe().loc['mean', 'runtime'], 0))"
   ]
  },
  {
   "cell_type": "markdown",
   "metadata": {
    "colab_type": "text",
    "id": "r5TvbnT_Vp-u"
   },
   "source": [
    "# 5. Каково медианное значение длительности фильмов? "
   ]
  },
  {
   "cell_type": "code",
   "execution_count": 15,
   "metadata": {
    "colab": {},
    "colab_type": "code",
    "id": "iBROplKnVp-v"
   },
   "outputs": [],
   "source": [
    "answers['5'] = '1. 107' #\"+\""
   ]
  },
  {
   "cell_type": "code",
   "execution_count": 16,
   "metadata": {},
   "outputs": [
    {
     "data": {
      "text/plain": [
       "'1. 107'"
      ]
     },
     "execution_count": 16,
     "metadata": {},
     "output_type": "execute_result"
    }
   ],
   "source": [
    "# мой код для решения данного вопроса:\n",
    "# находим медианное значение колонки длительность, делаем строкой\n",
    "answer5 = str(int(df.runtime.median()))\n",
    "ss5 = ['107',         # создаем список ответов\n",
    "       '112',\n",
    "       '101',\n",
    "       '120',\n",
    "       '115']\n",
    "if answer5 in ss5:    # проверяем ответ \n",
    "    answer_auto['5'] = str(ss5.index(answer5)+1) + '. ' + answer5  # заполняем словарь по шаблону\n",
    "answer_auto['5']"
   ]
  },
  {
   "cell_type": "markdown",
   "metadata": {},
   "source": [
    "ВАРИАНТ 2"
   ]
  },
  {
   "cell_type": "code",
   "execution_count": 17,
   "metadata": {},
   "outputs": [
    {
     "data": {
      "text/plain": [
       "107"
      ]
     },
     "execution_count": 17,
     "metadata": {},
     "output_type": "execute_result"
    }
   ],
   "source": [
    "# мой код для решения данного вопроса:\n",
    "# используем таблицу статистики, берем медианное значения для длительности\n",
    "int(df.describe().loc['50%', 'runtime'])"
   ]
  },
  {
   "cell_type": "markdown",
   "metadata": {
    "colab_type": "text",
    "id": "39P-deDSVp-y"
   },
   "source": [
    "# 6. Какой самый прибыльный фильм?\n",
    "#### Внимание! Здесь и далее под «прибылью» или «убытками» понимается разность между сборами и бюджетом фильма. (прибыль = сборы - бюджет) в нашем датасете это будет (profit = revenue - budget) "
   ]
  },
  {
   "cell_type": "code",
   "execution_count": 0,
   "metadata": {
    "colab": {},
    "colab_type": "code",
    "id": "UYZh4T9WVp-y"
   },
   "outputs": [],
   "source": [
    "# лучше код получения столбца profit вынести в Предобработку что в начале"
   ]
  },
  {
   "cell_type": "code",
   "execution_count": 18,
   "metadata": {},
   "outputs": [],
   "source": [
    "answers['6'] = '5. Avatar (tt0499549)' #\"+\""
   ]
  },
  {
   "cell_type": "code",
   "execution_count": 19,
   "metadata": {},
   "outputs": [
    {
     "data": {
      "text/plain": [
       "'5. Avatar (tt0499549)'"
      ]
     },
     "execution_count": 19,
     "metadata": {},
     "output_type": "execute_result"
    }
   ],
   "source": [
    "# мой код для решения данного вопроса:\n",
    "# находим в колонке прибыль строку с максимальным значением и берем название фильма\n",
    "answer6 = df[df.profit == df.profit.max()]['original_title'].iloc[0]\n",
    "# добавляем к названию фильма его индедификатор в скобках\n",
    "answer6 = answer6 + ' ' + '(' + df[df.profit == df.profit.max()]['imdb_id'].iloc[0] + ')'\n",
    "ss6 = ['The Avengers (tt0848228)',                                   # создаем список ответов\n",
    "        'Minions (tt2293640)',\n",
    "        'Star Wars: The Force Awakens (tt2488496)',\n",
    "        'Furious 7 (tt2820852)',\n",
    "        'Avatar (tt0499549)']\n",
    "if answer6 in ss6:                                                   # проверяем ответ \n",
    "    answer_auto['6'] = str(ss6.index(answer6)+1) + '. ' + answer6    # заполняем словарь по шаблону\n",
    "answer_auto['6']"
   ]
  },
  {
   "cell_type": "markdown",
   "metadata": {
    "colab_type": "text",
    "id": "M99JmIX4Vp-2"
   },
   "source": [
    "# 7. Какой фильм самый убыточный? "
   ]
  },
  {
   "cell_type": "code",
   "execution_count": 20,
   "metadata": {
    "colab": {},
    "colab_type": "code",
    "id": "w-D2m4XPVp-3"
   },
   "outputs": [],
   "source": [
    "answers['7'] = '5. The Lone Ranger (tt1210819)' #\"+\" "
   ]
  },
  {
   "cell_type": "code",
   "execution_count": 21,
   "metadata": {},
   "outputs": [
    {
     "data": {
      "text/plain": [
       "'5. The Lone Ranger (tt1210819)'"
      ]
     },
     "execution_count": 21,
     "metadata": {},
     "output_type": "execute_result"
    }
   ],
   "source": [
    "# мой код для решения данного вопроса:\n",
    "# находим в колонке прибыль строку с максимальным значением и берем название фильма\n",
    "answer7 = df[df.profit == df.profit.min()]['original_title'].iloc[0]\n",
    "# добавляем к названию фильма его индедификатор в скобках\n",
    "answer7 = answer7 + ' ' + '(' + df[df.profit == df.profit.min()]['imdb_id'].iloc[0] + ')'\n",
    "ss7 = ['Supernova (tt0134983)',                                         # создаем список ответов\n",
    "        'Frozen (tt2294629)',\n",
    "        'Flushed Away (tt0424095)',\n",
    "        'The Adventures of Pluto Nash (tt0180052)',\n",
    "        'The Lone Ranger (tt1210819)']\n",
    "if answer7 in ss7:                                                       # проверяем ответ \n",
    "    answer_auto['7'] = str(ss7.index(answer7)+1) + '. ' + answer7        # заполняем словарь по шаблону\n",
    "answer_auto['7']"
   ]
  },
  {
   "cell_type": "markdown",
   "metadata": {
    "colab_type": "text",
    "id": "wEOM5ERVVp-6"
   },
   "source": [
    "# 8. У скольких фильмов из датасета объем сборов оказался выше бюджета?"
   ]
  },
  {
   "cell_type": "code",
   "execution_count": 22,
   "metadata": {
    "colab": {},
    "colab_type": "code",
    "id": "y00_7HD6Vp-7"
   },
   "outputs": [],
   "source": [
    "answers['8'] = '1. 1478' #\"+\" "
   ]
  },
  {
   "cell_type": "code",
   "execution_count": 23,
   "metadata": {},
   "outputs": [
    {
     "data": {
      "text/plain": [
       "'1. 1478'"
      ]
     },
     "execution_count": 23,
     "metadata": {},
     "output_type": "execute_result"
    }
   ],
   "source": [
    "# мой код для решения данного вопроса:\n",
    "# сортируем таблицу, чтобы сборы были больше бюджета, считаем количество фильмов\n",
    "answer8 = str(df[df.revenue > df.budget].count()['original_title'])\n",
    "ss8 = ['1478',  # создаем список ответов\n",
    "        '1520',\n",
    "        '1241',\n",
    "        '1135',\n",
    "        '1398']\n",
    "if answer8 in ss8:  # проверяем ответ \n",
    "    answer_auto['8'] = str(ss8.index(answer8)+1) + '. ' + answer8 # заполняем словарь по шаблону\n",
    "answer_auto['8']"
   ]
  },
  {
   "cell_type": "markdown",
   "metadata": {
    "colab_type": "text",
    "id": "xhpspA9KVp_A"
   },
   "source": [
    "# 9. Какой фильм оказался самым кассовым в 2008 году?"
   ]
  },
  {
   "cell_type": "code",
   "execution_count": 24,
   "metadata": {
    "colab": {},
    "colab_type": "code",
    "id": "MoUyQr9RVp_B"
   },
   "outputs": [],
   "source": [
    "answers['9'] = '4. The Dark Knight (tt0468569)' #\"+\" "
   ]
  },
  {
   "cell_type": "code",
   "execution_count": 25,
   "metadata": {},
   "outputs": [
    {
     "data": {
      "text/plain": [
       "'4. The Dark Knight (tt0468569)'"
      ]
     },
     "execution_count": 25,
     "metadata": {},
     "output_type": "execute_result"
    }
   ],
   "source": [
    "# мой код для решения данного вопроса:\n",
    "# сортируем таблицу по году выпуска\n",
    "df1 = df[df.release_year == 2008]\n",
    "# выбираем максимальный сбор и берем название фильма\n",
    "answer9 = df1[df1.revenue == df1.revenue.max()]['original_title'].iloc[0]\n",
    "# добавляем к названию фильма его индедификатор в скобках\n",
    "answer9 = answer9 + ' ' + '(' + df1[df1.revenue == df1.revenue.max()]['imdb_id'].iloc[0] + ')'\n",
    "ss9 = ['Madagascar: Escape 2 Africa (tt0479952)', # создаем список ответов\n",
    "        'Iron Man (tt0371746)',\n",
    "        'Kung Fu Panda (tt0441773)',\n",
    "        'The Dark Knight (tt0468569)',\n",
    "        'Mamma Mia! (tt0795421)']\n",
    "if answer9 in ss9: # проверяем ответ \n",
    "    answer_auto['9'] = str(ss9.index(answer9)+1) + '. ' + answer9 # заполняем словарь по шаблону\n",
    "answer_auto['9']"
   ]
  },
  {
   "cell_type": "markdown",
   "metadata": {
    "colab_type": "text",
    "id": "Zi4hDKidVp_F"
   },
   "source": [
    "# 10. Самый убыточный фильм за период с 2012 по 2014 г. (включительно)?\n"
   ]
  },
  {
   "cell_type": "code",
   "execution_count": 26,
   "metadata": {
    "colab": {},
    "colab_type": "code",
    "id": "XqyRmufJVp_F"
   },
   "outputs": [],
   "source": [
    "answers['10'] = '5. The Lone Ranger (tt1210819)' #\"+\" "
   ]
  },
  {
   "cell_type": "code",
   "execution_count": 27,
   "metadata": {},
   "outputs": [
    {
     "data": {
      "text/plain": [
       "'5. The Lone Ranger (tt1210819)'"
      ]
     },
     "execution_count": 27,
     "metadata": {},
     "output_type": "execute_result"
    }
   ],
   "source": [
    "# мой код для решения данного вопроса:\n",
    "# сортируем таблицу по годам выпуска\n",
    "df2 = df[(df.release_year >= 2012) & (df.release_year <= 2014)]\n",
    "# выбираем минимальную прибыль и берем название фильма\n",
    "answer10 = df2[df2.profit == df2.profit.min()]['original_title'].iloc[0]\n",
    "# добавляем к названию фильма его индедификатор в скобках\n",
    "answer10 = answer10 + ' ' + '(' + df2[df2.profit == df2.profit.min()]['imdb_id'].iloc[0] + ')'\n",
    "ss10 = ['Winter\\'s Tale (tt1837709)', # создаем список ответов\n",
    "        'Stolen (tt1656186)',\n",
    "        'Broken City (tt1235522)',\n",
    "        'Upside Down (tt1374992)',\n",
    "        'The Lone Ranger (tt1210819)']\n",
    "if answer10 in ss10:   # проверяем ответ \n",
    "    answer_auto['10'] = str(ss10.index(answer10)+1) + '. ' + answer10  # заполняем словарь по шаблону\n",
    "answer_auto['10']"
   ]
  },
  {
   "cell_type": "markdown",
   "metadata": {
    "colab_type": "text",
    "id": "EA7Sa9dkVp_I"
   },
   "source": [
    "# 11. Какого жанра фильмов больше всего?"
   ]
  },
  {
   "cell_type": "code",
   "execution_count": 0,
   "metadata": {
    "colab": {},
    "colab_type": "code",
    "id": "zsJAwJ8QVp_J"
   },
   "outputs": [],
   "source": [
    "# эту задачу тоже можно решать разными подходами, попробуй реализовать разные варианты\n",
    "# если будешь добавлять функцию - выноси ее в предобработку что в начале"
   ]
  },
  {
   "cell_type": "code",
   "execution_count": 28,
   "metadata": {},
   "outputs": [],
   "source": [
    "answers['11'] = '3. Drama' #\"+\" "
   ]
  },
  {
   "cell_type": "code",
   "execution_count": 29,
   "metadata": {},
   "outputs": [
    {
     "data": {
      "text/plain": [
       "'3. Drama'"
      ]
     },
     "execution_count": 29,
     "metadata": {},
     "output_type": "execute_result"
    }
   ],
   "source": [
    "# мой код для решения данного вопроса:\n",
    "# разбиваем строки колонки жанр на отдельные строки для каждого жанра, считаем их количество и берем максимальное\n",
    "answer11 = df.genres.str.split('|').explode().value_counts().index[0]\n",
    "ss11 = ['Action',  # создаем список ответов\n",
    "        'Adventure',\n",
    "        'Drama',\n",
    "        'Comedy',\n",
    "        'Thriller']\n",
    "if answer11 in ss11:  # проверяем ответ \n",
    "    answer_auto['11'] = str(ss11.index(answer11)+1) + '. ' + answer11  # заполняем словарь по шаблону\n",
    "answer_auto['11']"
   ]
  },
  {
   "cell_type": "markdown",
   "metadata": {
    "colab_type": "text",
    "id": "Ax6g2C8SVp_M"
   },
   "source": [
    "ВАРИАНТ 2"
   ]
  },
  {
   "cell_type": "code",
   "execution_count": 67,
   "metadata": {
    "colab": {},
    "colab_type": "code",
    "id": "otO3SbrSVp_N"
   },
   "outputs": [
    {
     "data": {
      "text/plain": [
       "'Drama'"
      ]
     },
     "execution_count": 67,
     "metadata": {},
     "output_type": "execute_result"
    }
   ],
   "source": [
    "# мой код для решения данного вопроса:\n",
    "# генератором списков создаем список жанров, считаем количество, берем максимальное, выводим назавание жанра\n",
    "Counter([unit for string in df.genres for unit in string.split('|')]).most_common(1)[0][0]"
   ]
  },
  {
   "cell_type": "markdown",
   "metadata": {
    "colab_type": "text",
    "id": "T9_bPWpkVp_Q"
   },
   "source": [
    "# 12. Фильмы какого жанра чаще всего становятся прибыльными? "
   ]
  },
  {
   "cell_type": "code",
   "execution_count": 30,
   "metadata": {
    "colab": {},
    "colab_type": "code",
    "id": "Tmt8MaK1Vp_R"
   },
   "outputs": [],
   "source": [
    "answers['12'] = '1. Drama' #\"+\" "
   ]
  },
  {
   "cell_type": "code",
   "execution_count": 31,
   "metadata": {},
   "outputs": [
    {
     "data": {
      "text/plain": [
       "'1. Drama'"
      ]
     },
     "execution_count": 31,
     "metadata": {},
     "output_type": "execute_result"
    }
   ],
   "source": [
    "# мой код для решения данного вопроса:\n",
    "# сортируем таблицу по колонке прибыль\n",
    "# разбиваем строки колонки жанр на отдельные строки для каждого жанра, считаем их количество и берем максимальное\n",
    "answer12 = df[df.profit > 0]['genres'].str.split('|').explode().value_counts().index[0]\n",
    "ss12 = ['Drama',  # создаем список ответов\n",
    "        'Comedy',\n",
    "        'Action',\n",
    "        'Thriller',\n",
    "        'Adventure']\n",
    "if answer12 in ss12:  # проверяем ответ \n",
    "    answer_auto['12'] = str(ss12.index(answer12)+1) + '. ' + answer12  # заполняем словарь по шаблону\n",
    "answer_auto['12']"
   ]
  },
  {
   "cell_type": "markdown",
   "metadata": {
    "colab_type": "text",
    "id": "0F23bgsDVp_U"
   },
   "source": [
    "# 13. У какого режиссера самые большие суммарные кассовые сборы?"
   ]
  },
  {
   "cell_type": "code",
   "execution_count": 32,
   "metadata": {
    "colab": {},
    "colab_type": "code",
    "id": "K6Z3J8ygVp_X"
   },
   "outputs": [],
   "source": [
    "answers['13'] = '5. Peter Jackson' #\"+\" "
   ]
  },
  {
   "cell_type": "code",
   "execution_count": 33,
   "metadata": {},
   "outputs": [
    {
     "data": {
      "text/plain": [
       "'5. Peter Jackson'"
      ]
     },
     "execution_count": 33,
     "metadata": {},
     "output_type": "execute_result"
    }
   ],
   "source": [
    "# мой код для решения данного вопроса:\n",
    "# группируем таблицу по режиссерам и сборам, суммируем сборы, сортируем по сборам на убывание, берем макисмальное значение\n",
    "answer13 = df.groupby(['director'])[['revenue']].sum().sort_values(['revenue'], ascending = False).index[0]\n",
    "ss13 = ['Steven Spielberg',  # создаем список ответов\n",
    "        'Christopher Nolan',\n",
    "        'David Yates',\n",
    "        'James Cameron',\n",
    "        'Peter Jackson']\n",
    "if answer13 in ss13:  # проверяем ответ \n",
    "    answer_auto['13'] = str(ss13.index(answer13)+1) + '. ' + answer13  # заполняем словарь по шаблону\n",
    "answer_auto['13']"
   ]
  },
  {
   "cell_type": "markdown",
   "metadata": {
    "colab_type": "text",
    "id": "PsYC9FgRVp_a"
   },
   "source": [
    "# 14. Какой режисер снял больше всего фильмов в стиле Action?"
   ]
  },
  {
   "cell_type": "code",
   "execution_count": 34,
   "metadata": {
    "colab": {},
    "colab_type": "code",
    "id": "wd2M-wHeVp_b"
   },
   "outputs": [],
   "source": [
    "answers['14'] = '3. Robert Rodriguez' #\"+\" "
   ]
  },
  {
   "cell_type": "code",
   "execution_count": 35,
   "metadata": {},
   "outputs": [
    {
     "data": {
      "text/plain": [
       "'3. Robert Rodriguez'"
      ]
     },
     "execution_count": 35,
     "metadata": {},
     "output_type": "execute_result"
    }
   ],
   "source": [
    "# мой код для решения данного вопроса:\n",
    "# сортируем таблицу по наличию в жанре, разбиваем режиссеров по строкам, подсчитываем количество, берем максимальное\n",
    "answer14 = df[df.genres.str.contains('Action')].director.str.split('|').explode().value_counts().index[0]\n",
    "ss14 = ['Ridley Scott',  # создаем список ответов\n",
    "        'Guy Ritchie',\n",
    "        'Robert Rodriguez',\n",
    "        'Quentin Tarantino',\n",
    "        'Tony Scott']\n",
    "if answer14 in ss14:  # проверяем ответ \n",
    "    answer_auto['14'] = str(ss14.index(answer14)+1) + '. ' + answer14  # заполняем словарь по шаблону\n",
    "answer_auto['14']"
   ]
  },
  {
   "cell_type": "markdown",
   "metadata": {},
   "source": [
    "ВАРИАНТ 2"
   ]
  },
  {
   "cell_type": "code",
   "execution_count": 68,
   "metadata": {},
   "outputs": [
    {
     "data": {
      "text/plain": [
       "'Robert Rodriguez'"
      ]
     },
     "execution_count": 68,
     "metadata": {},
     "output_type": "execute_result"
    }
   ],
   "source": [
    "# мой код для решения данного вопроса:\n",
    "# генератором списков создаем список режисеров из отсортированного по жанру ДФ \n",
    "# считаем количество, берем максимальное, выводим имя режисера\n",
    "Counter([a for string in df[df.genres.str.contains('Action')].director for a in string.split('|')]).most_common(1)[0][0]"
   ]
  },
  {
   "cell_type": "markdown",
   "metadata": {
    "colab_type": "text",
    "id": "PQ0KciD7Vp_f"
   },
   "source": [
    "# 15. Фильмы с каким актером принесли самые высокие кассовые сборы в 2012 году? "
   ]
  },
  {
   "cell_type": "code",
   "execution_count": 36,
   "metadata": {
    "colab": {},
    "colab_type": "code",
    "id": "aga62oeKVp_g"
   },
   "outputs": [],
   "source": [
    "answers['15'] = '3. Chris Hemsworth' #\"+\" "
   ]
  },
  {
   "cell_type": "code",
   "execution_count": 37,
   "metadata": {},
   "outputs": [
    {
     "data": {
      "text/plain": [
       "'3. Chris Hemsworth'"
      ]
     },
     "execution_count": 37,
     "metadata": {},
     "output_type": "execute_result"
    }
   ],
   "source": [
    "# мой код для решения данного вопроса:\n",
    "# сортируем таблицу по году выпуска\n",
    "df4 = df[df['release_year'] == 2012].copy()\n",
    "# разделяем строку актеров \n",
    "df4.cast = df4.cast.str.split('|')\n",
    "# разбиваем актеров по строкам\n",
    "df4 = df4.explode('cast')\n",
    "# группируем по актерам и сборам, считаем сумму сбора и сортируем по убыванию, берем максимальную\n",
    "answer15 = df4.groupby(['cast'])['revenue'].sum().sort_values(ascending = False).index[0]\n",
    "ss15 = ['Nicolas Cage',  # создаем список ответов\n",
    "        'Tom Hardy',\n",
    "        'Chris Hemsworth',\n",
    "        'Jim Sturgess',\n",
    "        'Emma Stone']\n",
    "if answer15 in ss15:  # проверяем ответ \n",
    "    answer_auto['15'] = str(ss15.index(answer15)+1) + '. ' + answer15  # заполняем словарь по шаблону\n",
    "answer_auto['15']"
   ]
  },
  {
   "cell_type": "markdown",
   "metadata": {
    "colab_type": "text",
    "id": "mWHyyL7QVp_j"
   },
   "source": [
    "# 16. Какой актер снялся в большем количестве высокобюджетных фильмов?"
   ]
  },
  {
   "cell_type": "code",
   "execution_count": 38,
   "metadata": {
    "colab": {},
    "colab_type": "code",
    "id": "qQtmHKTFVp_k"
   },
   "outputs": [],
   "source": [
    "answers['16'] = '3. Matt Damon' #\"+\" "
   ]
  },
  {
   "cell_type": "code",
   "execution_count": 39,
   "metadata": {},
   "outputs": [
    {
     "data": {
      "text/plain": [
       "'3. Matt Damon'"
      ]
     },
     "execution_count": 39,
     "metadata": {},
     "output_type": "execute_result"
    }
   ],
   "source": [
    "# мой код для решения данного вопроса:\n",
    "# сортируем таблицу по бюджету\n",
    "df5 = df[df.budget > df.budget.mean()].copy()\n",
    "# разбиваем актеров по строкам, считаем количество, выбираем максимальное\n",
    "answer16 = df5.cast.str.split('|').explode().value_counts().index[0]\n",
    "ss16 = ['Tom Cruise',  # создаем список ответов\n",
    "        'Mark Wahlberg',\n",
    "        'Matt Damon',\n",
    "        'Angelina Jolie',\n",
    "        'Adam Sandler']\n",
    "if answer16 in ss16:  # проверяем ответ \n",
    "    answer_auto['16'] = str(ss16.index(answer16)+1) + '. ' + answer16  # заполняем словарь по шаблону\n",
    "answer_auto['16']"
   ]
  },
  {
   "cell_type": "markdown",
   "metadata": {},
   "source": [
    "ВАРИАНТ 2"
   ]
  },
  {
   "cell_type": "code",
   "execution_count": 40,
   "metadata": {},
   "outputs": [
    {
     "data": {
      "text/plain": [
       "'Matt Damon'"
      ]
     },
     "execution_count": 40,
     "metadata": {},
     "output_type": "execute_result"
    }
   ],
   "source": [
    "pd.Series(df[df.budget > df.budget.mean()].cast.str.split('|').sum()).value_counts().index[0]"
   ]
  },
  {
   "cell_type": "markdown",
   "metadata": {},
   "source": [
    "ВАРИАНТ 3"
   ]
  },
  {
   "cell_type": "code",
   "execution_count": 69,
   "metadata": {},
   "outputs": [
    {
     "data": {
      "text/plain": [
       "'Matt Damon'"
      ]
     },
     "execution_count": 69,
     "metadata": {},
     "output_type": "execute_result"
    }
   ],
   "source": [
    "# мой код для решения данного вопроса:\n",
    "# генератором списков создаем список актеров из отсортированного по бюджету ДФ \n",
    "# считаем количество, берем максимальное, выводим имя актера\n",
    "Counter([b for string in df[df.budget > df.budget.mean()].cast for b in string.split('|')]).most_common(1)[0][0]"
   ]
  },
  {
   "cell_type": "markdown",
   "metadata": {
    "colab_type": "text",
    "id": "NIh6AaW5Vp_n"
   },
   "source": [
    "# 17. В фильмах какого жанра больше всего снимался Nicolas Cage? "
   ]
  },
  {
   "cell_type": "code",
   "execution_count": 41,
   "metadata": {
    "colab": {},
    "colab_type": "code",
    "id": "H74SJDIBVp_n"
   },
   "outputs": [],
   "source": [
    "answers['17'] = '2. Action' #\"+\" "
   ]
  },
  {
   "cell_type": "code",
   "execution_count": 42,
   "metadata": {},
   "outputs": [
    {
     "data": {
      "text/plain": [
       "'2. Action'"
      ]
     },
     "execution_count": 42,
     "metadata": {},
     "output_type": "execute_result"
    }
   ],
   "source": [
    "# мой код для решения данного вопроса:\n",
    "# сортируем таблицу по актеру, разбиваем жанры по строкам, считаем количество, берем максимальное\n",
    "answer17 = df[df.cast.str.contains('Nicolas Cage')].genres.str.split('|').explode().value_counts().index[0]\n",
    "ss17 = ['Drama',  # создаем список ответов\n",
    "        'Action',\n",
    "        'Thriller',\n",
    "        'Adventure',\n",
    "        'Crime']\n",
    "if answer17 in ss17:  # проверяем ответ \n",
    "    answer_auto['17'] = str(ss17.index(answer17)+1) + '. ' + answer17  # заполняем словарь по шаблону\n",
    "answer_auto['17']"
   ]
  },
  {
   "cell_type": "markdown",
   "metadata": {},
   "source": [
    "ВАРИАНТ 2"
   ]
  },
  {
   "cell_type": "code",
   "execution_count": 70,
   "metadata": {},
   "outputs": [
    {
     "data": {
      "text/plain": [
       "'Action'"
      ]
     },
     "execution_count": 70,
     "metadata": {},
     "output_type": "execute_result"
    }
   ],
   "source": [
    "# мой код для решения данного вопроса:\n",
    "# генератором списков создаем список жанров из отсортированного по актеру ДФ \n",
    "# считаем количество, берем максимальное, выводим название жанра\n",
    "Counter([с for string in df[df.cast.str.contains('Nicolas Cage')].genres for с in string.split('|')]).most_common(1)[0][0]"
   ]
  },
  {
   "cell_type": "markdown",
   "metadata": {
    "colab_type": "text",
    "id": "RqOmPRfWVp_q"
   },
   "source": [
    "# 18. Самый убыточный фильм от Paramount Pictures"
   ]
  },
  {
   "cell_type": "code",
   "execution_count": 43,
   "metadata": {
    "colab": {},
    "colab_type": "code",
    "id": "9E_B0Y96Vp_r"
   },
   "outputs": [],
   "source": [
    "answers['18'] = '1. K-19: The Widowmaker (tt0267626)' #\"+\" "
   ]
  },
  {
   "cell_type": "code",
   "execution_count": 44,
   "metadata": {},
   "outputs": [
    {
     "data": {
      "text/plain": [
       "'1. K-19: The Widowmaker (tt0267626)'"
      ]
     },
     "execution_count": 44,
     "metadata": {},
     "output_type": "execute_result"
    }
   ],
   "source": [
    "# мой код для решения данного вопроса:\n",
    "# сортируем таблицу по компании\n",
    "df11 = df[df.production_companies.str.contains('Paramount Pictures')]\n",
    "# сортируем таблицу по минимальной прибыли, берем назавание\n",
    "answer18 = df11[df11.profit == df11.profit.min()]['original_title'].iloc[0]\n",
    "# добавляем к названию фильма его индедификатор в скобках\n",
    "answer18 = answer18 + ' ' + '(' + df11[df11.profit == df11.profit.min()]['imdb_id'].iloc[0] + ')'\n",
    "ss18 = ['K-19: The Widowmaker (tt0267626)',  # создаем список ответов\n",
    "        'Next (tt0435705)',\n",
    "        'Twisted (tt0315297)',\n",
    "        'The Love Guru (tt0811138)',\n",
    "        'The Fighter (tt0964517)']\n",
    "if answer18 in ss18: # проверяем ответ \n",
    "    answer_auto['18'] = str(ss18.index(answer18)+1) + '. ' + answer18  # заполняем словарь по шаблону\n",
    "answer_auto['18']"
   ]
  },
  {
   "cell_type": "markdown",
   "metadata": {
    "colab_type": "text",
    "id": "vS8Ur6ddVp_u"
   },
   "source": [
    "# 19. Какой год стал самым успешным по суммарным кассовым сборам?"
   ]
  },
  {
   "cell_type": "code",
   "execution_count": 45,
   "metadata": {
    "colab": {},
    "colab_type": "code",
    "id": "Dnbt4GdIVp_v"
   },
   "outputs": [],
   "source": [
    "answers['19'] = '5. 2015' #\"+\" "
   ]
  },
  {
   "cell_type": "code",
   "execution_count": 46,
   "metadata": {},
   "outputs": [
    {
     "data": {
      "text/plain": [
       "'5. 2015'"
      ]
     },
     "execution_count": 46,
     "metadata": {},
     "output_type": "execute_result"
    }
   ],
   "source": [
    "# мой код для решения данного вопроса:\n",
    "# группируем по году и сборам, суммируем сборы и сортируем по убыванию, берем максимальное\n",
    "answer19 = str(df.groupby(['release_year'])[['revenue']].sum().sort_values(['revenue'], ascending = False).index[0])\n",
    "ss19 = ['2014',  # создаем список ответов\n",
    "        '2008',\n",
    "        '2012',\n",
    "        '2002',\n",
    "        '2015']\n",
    "if answer19 in ss19:  # проверяем ответ \n",
    "    answer_auto['19'] = str(ss19.index(answer19)+1) + '. ' + answer19  # заполняем словарь по шаблону\n",
    "answer_auto['19']"
   ]
  },
  {
   "cell_type": "markdown",
   "metadata": {
    "colab_type": "text",
    "id": "JAzJh4QAVp_z"
   },
   "source": [
    "# 20. Какой самый прибыльный год для студии Warner Bros?"
   ]
  },
  {
   "cell_type": "code",
   "execution_count": 47,
   "metadata": {
    "colab": {},
    "colab_type": "code",
    "id": "wgVu02DEVp_0"
   },
   "outputs": [],
   "source": [
    "answers['20'] = '1. 2014' #\"+\" "
   ]
  },
  {
   "cell_type": "code",
   "execution_count": 48,
   "metadata": {},
   "outputs": [
    {
     "data": {
      "text/plain": [
       "'1. 2014'"
      ]
     },
     "execution_count": 48,
     "metadata": {},
     "output_type": "execute_result"
    }
   ],
   "source": [
    "# мой код для решения данного вопроса:\n",
    "# оставляем в таблице интересующую нас компанию\n",
    "df13 = df[df.production_companies.str.contains('Warner Bros')]\n",
    "# группируем по году и прибыли, суммируем прибыль и сортируем по убыванию, берем максимальную\n",
    "answer20 = str(df13.groupby(['release_year'])[['profit']].sum().sort_values(['profit'], ascending = False).index[0])\n",
    "ss20 = ['2014',  # создаем список ответов\n",
    "        '2008',\n",
    "        '2012',\n",
    "        '2010',\n",
    "        '2015']\n",
    "if answer20 in ss20:  # проверяем ответ \n",
    "    answer_auto['20'] = str(ss20.index(answer20)+1) + '. ' + answer20  # заполняем словарь по шаблону\n",
    "answer_auto['20']"
   ]
  },
  {
   "cell_type": "markdown",
   "metadata": {
    "colab_type": "text",
    "id": "8Im1S2HRVp_4"
   },
   "source": [
    "# 21. В каком месяце за все годы суммарно вышло больше всего фильмов?"
   ]
  },
  {
   "cell_type": "code",
   "execution_count": 49,
   "metadata": {
    "colab": {},
    "colab_type": "code",
    "id": "lev6TH7gVp_4"
   },
   "outputs": [],
   "source": [
    "answers['21'] = '4. Сентябрь' #\"+\" "
   ]
  },
  {
   "cell_type": "code",
   "execution_count": 50,
   "metadata": {},
   "outputs": [
    {
     "data": {
      "text/plain": [
       "'4. Сентябрь'"
      ]
     },
     "execution_count": 50,
     "metadata": {},
     "output_type": "execute_result"
    }
   ],
   "source": [
    "# мой код для решения данного вопроса:\n",
    "df14 = df.copy()\n",
    "for i in range(len(df)): # создаем колонку с месяцами\n",
    "    df14.loc[i,'Month'] = df.loc[i, 'date'].month\n",
    "# считаем количество месяцев и берем максимальное значение, используем словарь месяцев\n",
    "answer21 = month[int(df14.Month.value_counts().index[0])]\n",
    "ss21 = ['Январь',  # создаем список ответов\n",
    "        'Июнь',\n",
    "        'Декабрь',\n",
    "        'Сентябрь',\n",
    "        'Май']\n",
    "if answer21 in ss21:  # проверяем ответ \n",
    "    answer_auto['21'] = str(ss21.index(answer21)+1) + '. ' + answer21  # заполняем словарь по шаблону\n",
    "answer_auto['21']"
   ]
  },
  {
   "cell_type": "markdown",
   "metadata": {
    "colab_type": "text",
    "id": "uAJsZ_NeVp_7"
   },
   "source": [
    "# 22. Сколько суммарно вышло фильмов летом? (за июнь, июль, август)"
   ]
  },
  {
   "cell_type": "code",
   "execution_count": 51,
   "metadata": {
    "colab": {},
    "colab_type": "code",
    "id": "Aa-hEREoVp_8"
   },
   "outputs": [],
   "source": [
    "answers['22'] = '2. 450' #\"+\" "
   ]
  },
  {
   "cell_type": "code",
   "execution_count": 52,
   "metadata": {},
   "outputs": [
    {
     "data": {
      "text/plain": [
       "'2. 450'"
      ]
     },
     "execution_count": 52,
     "metadata": {},
     "output_type": "execute_result"
    }
   ],
   "source": [
    "# мой код для решения данного вопроса:\n",
    "df15 = df14[ (df14.Month >= 6) & (df14.Month <= 8)] # сортируем по летним месяцам\n",
    "answer22 = str(len(df15)) # считаем количество строк\n",
    "ss22 = ['345',  # создаем список ответов\n",
    "        '450',\n",
    "        '478',\n",
    "        '523',\n",
    "        '381']\n",
    "if answer22 in ss22:  # проверяем ответ \n",
    "    answer_auto['22'] = str(ss22.index(answer22)+1) + '. ' + answer22  # заполняем словарь по шаблону\n",
    "answer_auto['22']"
   ]
  },
  {
   "cell_type": "markdown",
   "metadata": {
    "colab_type": "text",
    "id": "G94ppOY1VqAA"
   },
   "source": [
    "# 23. Для какого режиссера зима – самое продуктивное время года? "
   ]
  },
  {
   "cell_type": "code",
   "execution_count": 53,
   "metadata": {
    "colab": {},
    "colab_type": "code",
    "id": "RhNTsamuVqAB"
   },
   "outputs": [],
   "source": [
    "answers['23'] = '5. Peter Jackson' #\"+\" "
   ]
  },
  {
   "cell_type": "code",
   "execution_count": 54,
   "metadata": {},
   "outputs": [
    {
     "data": {
      "text/plain": [
       "'5. Peter Jackson'"
      ]
     },
     "execution_count": 54,
     "metadata": {},
     "output_type": "execute_result"
    }
   ],
   "source": [
    "# мой код для решения данного вопроса:\n",
    "df16 = df14[(df14.Month == 12) | (df14.Month == 2) | (df14.Month == 1)]   # сортируем по зимним месяцам\n",
    "# разбиваем строку режисеров по именам и строкам, подсчитываем и сортируем их количество, берем максимальное\n",
    "answer23 = df16.director.str.split('|').explode().value_counts().index[0]\n",
    "ss23 = ['Steven Soderbergh',  # создаем список ответов\n",
    "        'Christopher Nolan',\n",
    "        'Clint Eastwood',\n",
    "        'Ridley Scott',\n",
    "        'Peter Jackson']\n",
    "if answer23 in ss23:  # проверяем ответ \n",
    "    answer_auto['23'] = str(ss23.index(answer23)+1) + '. ' + answer23  # заполняем словарь по шаблону\n",
    "answer_auto['23']"
   ]
  },
  {
   "cell_type": "markdown",
   "metadata": {
    "colab_type": "text",
    "id": "RBo0JVjVVqAF"
   },
   "source": [
    "# 24. Какая студия дает самые длинные названия своим фильмам по количеству символов?"
   ]
  },
  {
   "cell_type": "code",
   "execution_count": 55,
   "metadata": {
    "colab": {},
    "colab_type": "code",
    "id": "QRGS8L0iVqAG"
   },
   "outputs": [],
   "source": [
    "answers['24'] = '5. Four By Two Productions' #\"+\" "
   ]
  },
  {
   "cell_type": "code",
   "execution_count": 56,
   "metadata": {
    "scrolled": true
   },
   "outputs": [
    {
     "data": {
      "text/plain": [
       "'5. Four By Two Productions'"
      ]
     },
     "execution_count": 56,
     "metadata": {},
     "output_type": "execute_result"
    }
   ],
   "source": [
    "# мой код для решения данного вопроса:\n",
    "df101 = df.copy()\n",
    "df101['len_name'] = df101.original_title.apply(lambda x: len(x))  # создаем колонку длин названий\n",
    "df101.production_companies = df101.production_companies.str.split('|') # разбиваем строку компаний по именам\n",
    "df101 = df101.explode('production_companies')                          # и создаем для каждой компании свою строку  \n",
    "# группируем по компаниям и длинам названий, сортируем по длине по убыванию, берем максимальное значение\n",
    "answer24 = df101.groupby(['production_companies'])[['len_name']].mean().sort_values(['len_name'], ascending = False).copy()\n",
    "answer24 = answer24.index[0]\n",
    "ss24 = ['Universal Pictures (Universal)',  # создаем список ответов\n",
    "        'Warner Bros',\n",
    "        'Jim Henson Company, The',\n",
    "        'Paramount Pictures',\n",
    "        'Four By Two Productions']\n",
    "if answer24 in ss24:  # проверяем ответ \n",
    "    answer_auto['24'] = str(ss24.index(answer24)+1) + '. ' + answer24  # заполняем словарь по шаблону\n",
    "answer_auto['24']"
   ]
  },
  {
   "cell_type": "markdown",
   "metadata": {
    "colab_type": "text",
    "id": "9G0hbvR7VqAK"
   },
   "source": [
    "# 25. Описание фильмов какой студии в среднем самые длинные по количеству слов?"
   ]
  },
  {
   "cell_type": "code",
   "execution_count": 57,
   "metadata": {
    "colab": {},
    "colab_type": "code",
    "id": "Ge2GsLNxVqAK"
   },
   "outputs": [],
   "source": [
    "answers['25'] = '3. Midnight Picture Show' #\"+\" "
   ]
  },
  {
   "cell_type": "code",
   "execution_count": 58,
   "metadata": {},
   "outputs": [
    {
     "data": {
      "text/plain": [
       "'3. Midnight Picture Show'"
      ]
     },
     "execution_count": 58,
     "metadata": {},
     "output_type": "execute_result"
    }
   ],
   "source": [
    "# мой код для решения данного вопроса:\n",
    "df200 = df.copy()\n",
    "df200['len_overview'] = df200.overview.apply(lambda x: len(x.split())) # создаем колонку длин описаний\n",
    "df200.production_companies = df200.production_companies.str.split('|') # разбиваем строку компаний по именам\n",
    "df200 = df200.explode('production_companies')                          # и создаем для каждой компании свою строку \n",
    "# группируем по компаниям и длинам описаний, сортируем по длине по убыванию, берем максимальное значение\n",
    "answer25 = df200.groupby(['production_companies'])[['len_overview']].mean().sort_values(['len_overview'], ascending = False)\n",
    "answer25 = answer25.index[0]\n",
    "ss25 = ['Universal Pictures', # создаем список ответов\n",
    "        'Warner Bros',\n",
    "        'Midnight Picture Show',\n",
    "        'Paramount Pictures',\n",
    "        'Total Entertainment']\n",
    "if answer25 in ss25:  # проверяем ответ \n",
    "    answer_auto['25'] = str(ss25.index(answer25)+1) + '. ' + answer25  # заполняем словарь по шаблону\n",
    "answer_auto['25']"
   ]
  },
  {
   "cell_type": "markdown",
   "metadata": {
    "colab_type": "text",
    "id": "FJ1AFt90VqAP"
   },
   "source": [
    "# 26. Какие фильмы входят в 1 процент лучших по рейтингу? \n",
    "по vote_average"
   ]
  },
  {
   "cell_type": "code",
   "execution_count": 59,
   "metadata": {
    "colab": {},
    "colab_type": "code",
    "id": "8qmJVq4CVqAQ"
   },
   "outputs": [],
   "source": [
    "answers['26'] = '1. Inside Out, The Dark Knight, 12 Years a Slave' #\"+\""
   ]
  },
  {
   "cell_type": "code",
   "execution_count": 60,
   "metadata": {},
   "outputs": [
    {
     "data": {
      "text/plain": [
       "'1. Inside Out, The Dark Knight, 12 Years a Slave'"
      ]
     },
     "execution_count": 60,
     "metadata": {},
     "output_type": "execute_result"
    }
   ],
   "source": [
    "# мой код для решения данного вопроса:\n",
    "# создаем серию отсортированных по убыванию рейтингов\n",
    "df20 = df.vote_average.sort_values(ascending=False)\n",
    "# оставляем строки с рейтигнгом, с которого начинается последний процент рейтингов и сортируем по убыванию рейтинга\n",
    "df22 = df[df.vote_average > df20.iloc[round(len(df20) / 100)]].sort_values(['vote_average'], ascending=False)\n",
    "# оставляем в таблице колонки назание и рейтинг, т.к. мне так удобнее\n",
    "df22 = df22[['original_title', 'vote_average']]\n",
    "answer = [] # создаем список для формирования правильного ответа\n",
    "answer26 = '' # правильный ответ\n",
    "ss26 = [['Inside Out', 'The Dark Knight', '12 Years a Slave'], # создаем список ответов\n",
    "      ['BloodRayne', 'The Adventures of Rocky & Bullwinkle'],\n",
    "      ['Batman Begins', 'The Lord of the Rings: The Return of the King', 'Upside Down'],\n",
    "      ['300', 'Lucky Number Slevin', 'Kill Bill: Vol. 1'],\n",
    "      ['Upside Down', 'Inside Out', 'Iron Man']]\n",
    "for i in ss26: # перебираем список ответов\n",
    "    count = 0  # счетчик числа вхождений в ответ\n",
    "    for j in i: # перебираем фильмы из списка ответов\n",
    "        if j in list(df22.original_title): # проверяем вхождения фильмов из списка ответов в наш рейтинг\n",
    "            count+=1\n",
    "    if count == 3 or count == 2:\n",
    "        answer.append(i) # формируем правильный ответ\n",
    "for i in answer[0]: # из списка правильного ответа создаем строку с правильным ответом\n",
    "    answer26 = answer26 + i +', '\n",
    "answer_auto['26'] = str(ss26.index(answer[0])+1) + '. ' + answer26[:-2]  # заполняем словарь по шаблону\n",
    "answer_auto['26']"
   ]
  },
  {
   "cell_type": "markdown",
   "metadata": {
    "colab_type": "text",
    "id": "MdXsUXbCVqAV"
   },
   "source": [
    "# 27. Какие актеры чаще всего снимаются в одном фильме вместе?\n"
   ]
  },
  {
   "cell_type": "code",
   "execution_count": 61,
   "metadata": {},
   "outputs": [],
   "source": [
    "answers['27'] = '5. Daniel Radcliffe & Rupert Grint' #\"+\""
   ]
  },
  {
   "cell_type": "code",
   "execution_count": 62,
   "metadata": {},
   "outputs": [
    {
     "data": {
      "text/plain": [
       "'5. Daniel Radcliffe & Rupert Grint'"
      ]
     },
     "execution_count": 62,
     "metadata": {},
     "output_type": "execute_result"
    }
   ],
   "source": [
    "# мой код для решения данного вопроса:\n",
    "import itertools as it\n",
    "answer27 = ''                                                  # это будет наш ответ\n",
    "mov_acts_comb = []                                           # это комбинации пар\n",
    "for cast in df.cast.str.split('|'):\n",
    "    mov_acts_comb.extend(list(it.combinations(cast, 2)))     # составляем список пар актеров\n",
    "mov_acts_pair = pd.Series(mov_acts_comb).value_counts()      # подсчитываем, сколько раз встречается каждая пара\n",
    "mov_acts_pair = mov_acts_pair[mov_acts_pair == mov_acts_pair.max()]   # выбираем пары, которые встречаются чаще\n",
    "mov_acts_pair = list(mov_acts_pair.index)         # из серии берем имена           \n",
    "ss27 = ['Johnny Depp & Helena Bonham Carter',      # составляем список вариантов ответов\n",
    "       'Ben Stiller & Owen Wilson',\n",
    "       'Vin Diesel & Paul Walker',\n",
    "       'Adam Sandler & Kevin James',\n",
    "       'Daniel Radcliffe & Rupert Grint']\n",
    "for i in mov_acts_pair:                           # выбираем правильный ответ\n",
    "    for j in ss27:\n",
    "        a3 = []\n",
    "        a1 = j.split('&')\n",
    "        for z in a1:\n",
    "            a3.append(z.strip())\n",
    "        a2 = list(i)\n",
    "        if a3 == a2:\n",
    "            answer27 = j\n",
    "if answer27 in ss27:  # проверяем ответ \n",
    "    answer_auto['27'] = str(ss27.index(answer27)+1) + '. ' + answer27  # заполняем словарь по шаблону\n",
    "answer_auto['27']"
   ]
  },
  {
   "cell_type": "markdown",
   "metadata": {
    "colab_type": "text",
    "id": "4ymnxEVoVqAW"
   },
   "source": [
    "ВАРИАНТ 2"
   ]
  },
  {
   "cell_type": "markdown",
   "metadata": {
    "colab_type": "text",
    "id": "U0nONFnGVqAX"
   },
   "source": [
    "# Submission"
   ]
  },
  {
   "cell_type": "code",
   "execution_count": 63,
   "metadata": {
    "colab": {},
    "colab_type": "code",
    "id": "IfcaRO9-VqAX",
    "outputId": "0f132912-32bb-4196-c98c-abfbc4ad5a5f"
   },
   "outputs": [
    {
     "data": {
      "text/plain": [
       "{'1': '5. Pirates of the Caribbean: On Stranger Tides (tt1298650)',\n",
       " '2': '2. Gods and Generals (tt0279111)',\n",
       " '3': '3. Winnie the Pooh (tt1449283)',\n",
       " '4': '2. 110',\n",
       " '5': '1. 107',\n",
       " '6': '5. Avatar (tt0499549)',\n",
       " '7': '5. The Lone Ranger (tt1210819)',\n",
       " '8': '1. 1478',\n",
       " '9': '4. The Dark Knight (tt0468569)',\n",
       " '10': '5. The Lone Ranger (tt1210819)',\n",
       " '11': '3. Drama',\n",
       " '12': '1. Drama',\n",
       " '13': '5. Peter Jackson',\n",
       " '14': '3. Robert Rodriguez',\n",
       " '15': '3. Chris Hemsworth',\n",
       " '16': '3. Matt Damon',\n",
       " '17': '2. Action',\n",
       " '18': '1. K-19: The Widowmaker (tt0267626)',\n",
       " '19': '5. 2015',\n",
       " '20': '1. 2014',\n",
       " '21': '4. Сентябрь',\n",
       " '22': '2. 450',\n",
       " '23': '5. Peter Jackson',\n",
       " '24': '5. Four By Two Productions',\n",
       " '25': '3. Midnight Picture Show',\n",
       " '26': '1. Inside Out, The Dark Knight, 12 Years a Slave',\n",
       " '27': '5. Daniel Radcliffe & Rupert Grint'}"
      ]
     },
     "execution_count": 63,
     "metadata": {},
     "output_type": "execute_result"
    }
   ],
   "source": [
    "# в конце можно посмотреть свои ответы к каждому вопросу\n",
    "answers"
   ]
  },
  {
   "cell_type": "code",
   "execution_count": 64,
   "metadata": {},
   "outputs": [
    {
     "data": {
      "text/plain": [
       "{'1': '5. Pirates of the Caribbean: On Stranger Tides (tt1298650)',\n",
       " '2': '2. Gods and Generals (tt0279111)',\n",
       " '3': '3. Winnie the Pooh (tt1449283)',\n",
       " '4': '2. 110',\n",
       " '5': '1. 107',\n",
       " '6': '5. Avatar (tt0499549)',\n",
       " '7': '5. The Lone Ranger (tt1210819)',\n",
       " '8': '1. 1478',\n",
       " '9': '4. The Dark Knight (tt0468569)',\n",
       " '10': '5. The Lone Ranger (tt1210819)',\n",
       " '11': '3. Drama',\n",
       " '12': '1. Drama',\n",
       " '13': '5. Peter Jackson',\n",
       " '14': '3. Robert Rodriguez',\n",
       " '15': '3. Chris Hemsworth',\n",
       " '16': '3. Matt Damon',\n",
       " '17': '2. Action',\n",
       " '18': '1. K-19: The Widowmaker (tt0267626)',\n",
       " '19': '5. 2015',\n",
       " '20': '1. 2014',\n",
       " '21': '4. Сентябрь',\n",
       " '22': '2. 450',\n",
       " '23': '5. Peter Jackson',\n",
       " '24': '5. Four By Two Productions',\n",
       " '25': '3. Midnight Picture Show',\n",
       " '26': '1. Inside Out, The Dark Knight, 12 Years a Slave',\n",
       " '27': '5. Daniel Radcliffe & Rupert Grint'}"
      ]
     },
     "execution_count": 64,
     "metadata": {},
     "output_type": "execute_result"
    }
   ],
   "source": [
    "answer_auto"
   ]
  },
  {
   "cell_type": "code",
   "execution_count": 65,
   "metadata": {
    "colab": {},
    "colab_type": "code",
    "id": "SiRmHPl8VqAd"
   },
   "outputs": [
    {
     "data": {
      "text/plain": [
       "27"
      ]
     },
     "execution_count": 65,
     "metadata": {},
     "output_type": "execute_result"
    }
   ],
   "source": [
    "# и убедиться что ни чего не пропустил)\n",
    "len(answers)"
   ]
  },
  {
   "cell_type": "code",
   "execution_count": 66,
   "metadata": {
    "colab": {},
    "colab_type": "code",
    "id": "uCfuTkRbVqAg"
   },
   "outputs": [
    {
     "data": {
      "text/plain": [
       "True"
      ]
     },
     "execution_count": 66,
     "metadata": {},
     "output_type": "execute_result"
    }
   ],
   "source": [
    "answers == answer_auto"
   ]
  },
  {
   "cell_type": "code",
   "execution_count": 0,
   "metadata": {
    "colab": {},
    "colab_type": "code",
    "id": "Vwx3NrkSVqAl"
   },
   "outputs": [],
   "source": []
  }
 ],
 "metadata": {
  "colab": {
   "name": "Copy of [SF-DST] Movies IMBD v4.1 TEMPLATE.ipynb",
   "provenance": []
  },
  "kernelspec": {
   "display_name": "Python 3",
   "language": "python",
   "name": "python3"
  },
  "language_info": {
   "codemirror_mode": {
    "name": "ipython",
    "version": 3
   },
   "file_extension": ".py",
   "mimetype": "text/x-python",
   "name": "python",
   "nbconvert_exporter": "python",
   "pygments_lexer": "ipython3",
   "version": "3.8.5"
  }
 },
 "nbformat": 4,
 "nbformat_minor": 1
}

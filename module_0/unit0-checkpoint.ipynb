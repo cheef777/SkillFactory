{
 "cells": [
  {
   "cell_type": "code",
   "execution_count": 16,
   "metadata": {},
   "outputs": [],
   "source": [
    "import numpy as np\n",
    "begin = 1              # минимальное загадываемое число\n",
    "end = 100              # максимальное загадываемое число  "
   ]
  },
  {
   "cell_type": "code",
   "execution_count": 17,
   "metadata": {},
   "outputs": [],
   "source": [
    "def score_game(game_core):\n",
    "    '''Запускаем игру 1000 раз, чтобы узнать, как быстро игра угадывает число'''\n",
    "    count_ls = []\n",
    "    np.random.seed(1)  # фиксируем RANDOM SEED, чтобы ваш эксперимент был воспроизводим!\n",
    "    random_array = np.random.randint(begin,end+1, size=(1000))\n",
    "    for number in random_array:\n",
    "        count_ls.append(game_core(number))\n",
    "    score = int(np.mean(count_ls))\n",
    "    print(f\"Ваш алгоритм угадывает число в среднем за {score} попыток\")\n",
    "    return(score)"
   ]
  },
  {
   "cell_type": "code",
   "execution_count": 23,
   "metadata": {},
   "outputs": [],
   "source": [
    "def game_core_bin(number):                            # функция реализует бинарный поиск\n",
    "    count = 0                                         # значение счетчика попыток\n",
    "    first = begin                                     # значение нижней границы поиска \n",
    "    last = end                                        # значение верхней границы поиска \n",
    "    predict = 0                                       # результат поиска\n",
    "    while number != predict:                          # выполняем цикл, пока не найдем загаданное число \n",
    "        predict = (first+last)//2                     # разбиваем поле поиска пополам\n",
    "        count+=1                                      # считаем попытки\n",
    "        if number > predict :                         # если искомое число больше \n",
    "            first = predict + 1                       # отбрасываем первую половину значений из поиска\n",
    "        else:                                         # иначе \n",
    "            last = predict - 1                        # отбрасываем вторую половину значений из поиска\n",
    "    return count                                      # возвращаем значение счетчика попыток\n"
   ]
  },
  {
   "cell_type": "code",
   "execution_count": 25,
   "metadata": {},
   "outputs": [],
   "source": [
    "def game_core_jump(number):                           # функция реализует Jump Search\n",
    "    count = 0                                         # значение счетчика попыток\n",
    "    first = begin                                     # значение нижней границы поиска \n",
    "    jump = int((end-begin)**(1/2))                    # вычисление значения прыжка\n",
    "    last = first + jump                               # вычисление верхней границы поиска\n",
    "    while True:                                       # запускаем бесконечный цикл\n",
    "        if number < last and number >= first:         # если загаданное число находится в данном отрезке значений   \n",
    "            for predict in range(first,last):         # производим линейный поиск в этом отрезке\n",
    "                count += 1\n",
    "                if predict == number :\n",
    "                    return count\n",
    "        else:                                         # иначе\n",
    "            last +=  jump                             # увеличиваем значения границ поиска на величину прыжка\n",
    "            first +=  jump\n",
    "            count += 1\n",
    "    \n",
    "        "
   ]
  },
  {
   "cell_type": "code",
   "execution_count": 10,
   "metadata": {},
   "outputs": [],
   "source": [
    "def game_core_exp(number):                           # вариация на тему экспоненциального поиска\n",
    "    count = 0                                        # значение счетчика попыток    \n",
    "    first = begin                                    # значение начальной границы поиска \n",
    "    last = first + int((end-begin)**(1/2))           # вычисление конечной границы поиска\n",
    "    predict = 0                                      # результат поиска \n",
    "    while True:                                      # запускаем бесконечный цикл\n",
    "        if number < last and number >= first:        # если загаданное число лежит в заданном диапазоне \n",
    "            while number != predict:                 # запускаем бинарный поиск\n",
    "                predict = (first+last)//2                    \n",
    "                count+=1                                     \n",
    "                if number > predict :                         \n",
    "                    first = predict + 1                       \n",
    "                else:                                         \n",
    "                    last = predict - 1  \n",
    "            return count\n",
    "        else:                                        # иначе\n",
    "            first = last                             # конечная граница становится начальной \n",
    "            last = last*2                            # конечную границу увеличиваем на два\n",
    "            if last > end:                           # проверяем, не вышли ли мы за пределы диапазона\n",
    "                last = end+1\n",
    "            count +=1\n",
    "\n",
    "\n",
    "            "
   ]
  }
 ],
 "metadata": {
  "kernelspec": {
   "display_name": "Python 3",
   "language": "python",
   "name": "python3"
  },
  "language_info": {
   "codemirror_mode": {
    "name": "ipython",
    "version": 3
   },
   "file_extension": ".py",
   "mimetype": "text/x-python",
   "name": "python",
   "nbconvert_exporter": "python",
   "pygments_lexer": "ipython3",
   "version": "3.8.3"
  }
 },
 "nbformat": 4,
 "nbformat_minor": 4
}

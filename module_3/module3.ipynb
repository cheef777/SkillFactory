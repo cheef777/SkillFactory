{
 "cells": [
  {
   "cell_type": "code",
   "execution_count": 76,
   "metadata": {},
   "outputs": [],
   "source": [
    "import pandas as pd\n",
    "import numpy as np\n",
    "import matplotlib as plt\n",
    "import seaborn as sns\n",
    "from datetime import datetime, timedelta\n",
    "import re\n",
    "from sklearn.model_selection import train_test_split\n",
    "from sklearn.preprocessing import StandardScaler\n",
    "from sklearn.preprocessing import MinMaxScaler\n",
    "from textblob import TextBlob\n",
    "from itertools import combinations\n",
    "from scipy.stats import ttest_ind\n",
    "import os\n",
    "# for dirname, _, filenames in os.walk('/kaggle/input'):\n",
    "#     for filename in filenames:\n",
    "#         print(os.path.join(dirname, filename))\n",
    "RANDOM_SEED = 42\n",
    "!pip freeze > requirements.txt"
   ]
  },
  {
   "cell_type": "code",
   "execution_count": 161,
   "metadata": {},
   "outputs": [],
   "source": [
    "# DATA_DIR = '/kaggle/input/sf-dst-restaurant-rating/'\n",
    "# df_train = pd.read_csv(DATA_DIR+'main_task.csv')\n",
    "# df_test = pd.read_csv(DATA_DIR+'kaggle_task.csv')\n",
    "# sample_submission = pd.read_csv(DATA_DIR+'/sample_submission.csv')\n",
    "df_train = pd.read_csv('g:\\SkillFactory\\о вкусной и здоровой пище\\Данные\\main_task.csv')\n",
    "df_test = pd.read_csv('g:\\SkillFactory\\о вкусной и здоровой пище\\Данные\\kaggle_task.csv')\n",
    "sample_submission = pd.read_csv('g:\\SkillFactory\\о вкусной и здоровой пище\\Данные\\sample_submission.csv')\n",
    "# ВАЖНО! дря корректной обработки признаков объединяем трейн и тест в один датасет\n",
    "df_train['sample'] = 1 # помечаем где у нас трейн\n",
    "df_test['sample'] = 0 # помечаем где у нас тест\n",
    "df_test['Rating'] = 0 # в тесте у нас нет значения Rating, мы его должны предсказать, по этому пока просто заполняем нулями\n",
    "\n",
    "df = df_test.append(df_train, sort = False).reset_index(drop = True) # объединяем"
   ]
  },
  {
   "cell_type": "code",
   "execution_count": 3,
   "metadata": {},
   "outputs": [],
   "source": [
    "# функция расчета выбросов\n",
    "def outliers_iqr(ys):\n",
    "    quartile_1, quartile_3 = np.percentile(ys, [25, 75])\n",
    "    iqr = quartile_3 - quartile_1\n",
    "    lower_bound = quartile_1 - (iqr * 1.5)\n",
    "    upper_bound = quartile_3 + (iqr * 1.5)\n",
    "    return lower_bound, upper_bound"
   ]
  },
  {
   "cell_type": "code",
   "execution_count": 4,
   "metadata": {},
   "outputs": [],
   "source": [
    "# функция расчета стаистических закономерностей\n",
    "def get_stat_dif(column):\n",
    "    cols = df_stat.loc[:, column].value_counts().index[:10]\n",
    "    combinations_all = list(combinations(cols, 2))\n",
    "    for comb in combinations_all:\n",
    "        if ttest_ind(df_stat.loc[df_stat.loc[:, column] == comb[0], 'rating'], \n",
    "                        df_stat.loc[df_stat.loc[:, column] == comb[1], 'rating']).pvalue \\\n",
    "            <= 0.05/len(combinations_all): # Учли поправку Бонферони\n",
    "            print('Найдены статистически значимые различия для колонки', column)\n",
    "            break"
   ]
  },
  {
   "cell_type": "code",
   "execution_count": 5,
   "metadata": {},
   "outputs": [],
   "source": [
    "# функция округления результатов предсказания\n",
    "def round_pred(y_pred):\n",
    "    return [(round(y / 0.5) * 0.5) for y in y_pred]"
   ]
  },
  {
   "cell_type": "code",
   "execution_count": 6,
   "metadata": {},
   "outputs": [],
   "source": [
    "# функция minmax нормализации столбца датасета\n",
    "def MMS(ser):\n",
    "    scaler = MinMaxScaler()\n",
    "    x = np.array(ser).reshape(len(ser), 1)\n",
    "    a = scaler.fit_transform(x)\n",
    "    a_s = pd.Series(a.flatten())\n",
    "    return a_s"
   ]
  },
  {
   "cell_type": "code",
   "execution_count": 7,
   "metadata": {},
   "outputs": [],
   "source": [
    "# функция std нормализации столбца датасета\n",
    "def stdS(ser):\n",
    "    scaler = StandardScaler()\n",
    "    x = np.array(ser).reshape(len(ser), 1)\n",
    "    a = scaler.fit_transform(x)\n",
    "    a_s = pd.Series(a.flatten())\n",
    "    return a_s"
   ]
  },
  {
   "cell_type": "code",
   "execution_count": 8,
   "metadata": {},
   "outputs": [
    {
     "data": {
      "text/html": [
       "<div>\n",
       "<style scoped>\n",
       "    .dataframe tbody tr th:only-of-type {\n",
       "        vertical-align: middle;\n",
       "    }\n",
       "\n",
       "    .dataframe tbody tr th {\n",
       "        vertical-align: top;\n",
       "    }\n",
       "\n",
       "    .dataframe thead th {\n",
       "        text-align: right;\n",
       "    }\n",
       "</style>\n",
       "<table border=\"1\" class=\"dataframe\">\n",
       "  <thead>\n",
       "    <tr style=\"text-align: right;\">\n",
       "      <th></th>\n",
       "      <th>Restaurant_id</th>\n",
       "      <th>City</th>\n",
       "      <th>Cuisine Style</th>\n",
       "      <th>Ranking</th>\n",
       "      <th>Price Range</th>\n",
       "      <th>Number of Reviews</th>\n",
       "      <th>Reviews</th>\n",
       "      <th>URL_TA</th>\n",
       "      <th>ID_TA</th>\n",
       "      <th>sample</th>\n",
       "      <th>Rating</th>\n",
       "    </tr>\n",
       "  </thead>\n",
       "  <tbody>\n",
       "    <tr>\n",
       "      <th>0</th>\n",
       "      <td>id_0</td>\n",
       "      <td>Paris</td>\n",
       "      <td>['Bar', 'Pub']</td>\n",
       "      <td>12963.0</td>\n",
       "      <td>$$ - $$$</td>\n",
       "      <td>4.0</td>\n",
       "      <td>[[], []]</td>\n",
       "      <td>/Restaurant_Review-g187147-d10746918-Reviews-L...</td>\n",
       "      <td>d10746918</td>\n",
       "      <td>0</td>\n",
       "      <td>0.0</td>\n",
       "    </tr>\n",
       "    <tr>\n",
       "      <th>1</th>\n",
       "      <td>id_1</td>\n",
       "      <td>Helsinki</td>\n",
       "      <td>['European', 'Scandinavian', 'Gluten Free Opti...</td>\n",
       "      <td>106.0</td>\n",
       "      <td>$$ - $$$</td>\n",
       "      <td>97.0</td>\n",
       "      <td>[['Very good reviews!', 'Fine dining in Hakani...</td>\n",
       "      <td>/Restaurant_Review-g189934-d6674944-Reviews-Ra...</td>\n",
       "      <td>d6674944</td>\n",
       "      <td>0</td>\n",
       "      <td>0.0</td>\n",
       "    </tr>\n",
       "    <tr>\n",
       "      <th>2</th>\n",
       "      <td>id_2</td>\n",
       "      <td>Edinburgh</td>\n",
       "      <td>['Vegetarian Friendly']</td>\n",
       "      <td>810.0</td>\n",
       "      <td>$$ - $$$</td>\n",
       "      <td>28.0</td>\n",
       "      <td>[['Better than the Links', 'Ivy Black'], ['12/...</td>\n",
       "      <td>/Restaurant_Review-g186525-d13129638-Reviews-B...</td>\n",
       "      <td>d13129638</td>\n",
       "      <td>0</td>\n",
       "      <td>0.0</td>\n",
       "    </tr>\n",
       "    <tr>\n",
       "      <th>3</th>\n",
       "      <td>id_3</td>\n",
       "      <td>London</td>\n",
       "      <td>['Italian', 'Mediterranean', 'European', 'Vege...</td>\n",
       "      <td>1669.0</td>\n",
       "      <td>$$$$</td>\n",
       "      <td>202.0</td>\n",
       "      <td>[['Most exquisite', 'Delicious and authentic']...</td>\n",
       "      <td>/Restaurant_Review-g186338-d680417-Reviews-Qui...</td>\n",
       "      <td>d680417</td>\n",
       "      <td>0</td>\n",
       "      <td>0.0</td>\n",
       "    </tr>\n",
       "    <tr>\n",
       "      <th>4</th>\n",
       "      <td>id_4</td>\n",
       "      <td>Bratislava</td>\n",
       "      <td>['Italian', 'Mediterranean', 'European', 'Seaf...</td>\n",
       "      <td>37.0</td>\n",
       "      <td>$$$$</td>\n",
       "      <td>162.0</td>\n",
       "      <td>[['Always the best in bratislava', 'Very good ...</td>\n",
       "      <td>/Restaurant_Review-g274924-d1112354-Reviews-Ma...</td>\n",
       "      <td>d1112354</td>\n",
       "      <td>0</td>\n",
       "      <td>0.0</td>\n",
       "    </tr>\n",
       "    <tr>\n",
       "      <th>...</th>\n",
       "      <td>...</td>\n",
       "      <td>...</td>\n",
       "      <td>...</td>\n",
       "      <td>...</td>\n",
       "      <td>...</td>\n",
       "      <td>...</td>\n",
       "      <td>...</td>\n",
       "      <td>...</td>\n",
       "      <td>...</td>\n",
       "      <td>...</td>\n",
       "      <td>...</td>\n",
       "    </tr>\n",
       "    <tr>\n",
       "      <th>49995</th>\n",
       "      <td>id_499</td>\n",
       "      <td>Milan</td>\n",
       "      <td>['Italian', 'Vegetarian Friendly', 'Vegan Opti...</td>\n",
       "      <td>500.0</td>\n",
       "      <td>$$ - $$$</td>\n",
       "      <td>79.0</td>\n",
       "      <td>[['The real Italian experience!', 'Wonderful f...</td>\n",
       "      <td>/Restaurant_Review-g187849-d2104414-Reviews-Ro...</td>\n",
       "      <td>d2104414</td>\n",
       "      <td>1</td>\n",
       "      <td>4.5</td>\n",
       "    </tr>\n",
       "    <tr>\n",
       "      <th>49996</th>\n",
       "      <td>id_6340</td>\n",
       "      <td>Paris</td>\n",
       "      <td>['French', 'American', 'Bar', 'European', 'Veg...</td>\n",
       "      <td>6341.0</td>\n",
       "      <td>$$ - $$$</td>\n",
       "      <td>542.0</td>\n",
       "      <td>[['Parisian atmosphere', 'Bit pricey but inter...</td>\n",
       "      <td>/Restaurant_Review-g187147-d1800036-Reviews-La...</td>\n",
       "      <td>d1800036</td>\n",
       "      <td>1</td>\n",
       "      <td>3.5</td>\n",
       "    </tr>\n",
       "    <tr>\n",
       "      <th>49997</th>\n",
       "      <td>id_1649</td>\n",
       "      <td>Stockholm</td>\n",
       "      <td>['Japanese', 'Sushi']</td>\n",
       "      <td>1652.0</td>\n",
       "      <td>NaN</td>\n",
       "      <td>4.0</td>\n",
       "      <td>[['Good by swedish standards', 'A hidden jewel...</td>\n",
       "      <td>/Restaurant_Review-g189852-d947615-Reviews-Sus...</td>\n",
       "      <td>d947615</td>\n",
       "      <td>1</td>\n",
       "      <td>4.5</td>\n",
       "    </tr>\n",
       "    <tr>\n",
       "      <th>49998</th>\n",
       "      <td>id_640</td>\n",
       "      <td>Warsaw</td>\n",
       "      <td>['Polish', 'European', 'Eastern European', 'Ce...</td>\n",
       "      <td>641.0</td>\n",
       "      <td>$$ - $$$</td>\n",
       "      <td>70.0</td>\n",
       "      <td>[['Underground restaurant', 'Oldest Restaurant...</td>\n",
       "      <td>/Restaurant_Review-g274856-d1100838-Reviews-Ho...</td>\n",
       "      <td>d1100838</td>\n",
       "      <td>1</td>\n",
       "      <td>4.0</td>\n",
       "    </tr>\n",
       "    <tr>\n",
       "      <th>49999</th>\n",
       "      <td>id_4824</td>\n",
       "      <td>Milan</td>\n",
       "      <td>['Spanish']</td>\n",
       "      <td>4827.0</td>\n",
       "      <td>$$ - $$$</td>\n",
       "      <td>260.0</td>\n",
       "      <td>[['Average', 'Nice an informal'], ['01/31/2016...</td>\n",
       "      <td>/Restaurant_Review-g187849-d1109020-Reviews-Ta...</td>\n",
       "      <td>d1109020</td>\n",
       "      <td>1</td>\n",
       "      <td>3.0</td>\n",
       "    </tr>\n",
       "  </tbody>\n",
       "</table>\n",
       "<p>50000 rows × 11 columns</p>\n",
       "</div>"
      ],
      "text/plain": [
       "      Restaurant_id        City  \\\n",
       "0              id_0       Paris   \n",
       "1              id_1    Helsinki   \n",
       "2              id_2   Edinburgh   \n",
       "3              id_3      London   \n",
       "4              id_4  Bratislava   \n",
       "...             ...         ...   \n",
       "49995        id_499       Milan   \n",
       "49996       id_6340       Paris   \n",
       "49997       id_1649   Stockholm   \n",
       "49998        id_640      Warsaw   \n",
       "49999       id_4824       Milan   \n",
       "\n",
       "                                           Cuisine Style  Ranking Price Range  \\\n",
       "0                                         ['Bar', 'Pub']  12963.0    $$ - $$$   \n",
       "1      ['European', 'Scandinavian', 'Gluten Free Opti...    106.0    $$ - $$$   \n",
       "2                                ['Vegetarian Friendly']    810.0    $$ - $$$   \n",
       "3      ['Italian', 'Mediterranean', 'European', 'Vege...   1669.0        $$$$   \n",
       "4      ['Italian', 'Mediterranean', 'European', 'Seaf...     37.0        $$$$   \n",
       "...                                                  ...      ...         ...   \n",
       "49995  ['Italian', 'Vegetarian Friendly', 'Vegan Opti...    500.0    $$ - $$$   \n",
       "49996  ['French', 'American', 'Bar', 'European', 'Veg...   6341.0    $$ - $$$   \n",
       "49997                              ['Japanese', 'Sushi']   1652.0         NaN   \n",
       "49998  ['Polish', 'European', 'Eastern European', 'Ce...    641.0    $$ - $$$   \n",
       "49999                                        ['Spanish']   4827.0    $$ - $$$   \n",
       "\n",
       "       Number of Reviews                                            Reviews  \\\n",
       "0                    4.0                                           [[], []]   \n",
       "1                   97.0  [['Very good reviews!', 'Fine dining in Hakani...   \n",
       "2                   28.0  [['Better than the Links', 'Ivy Black'], ['12/...   \n",
       "3                  202.0  [['Most exquisite', 'Delicious and authentic']...   \n",
       "4                  162.0  [['Always the best in bratislava', 'Very good ...   \n",
       "...                  ...                                                ...   \n",
       "49995               79.0  [['The real Italian experience!', 'Wonderful f...   \n",
       "49996              542.0  [['Parisian atmosphere', 'Bit pricey but inter...   \n",
       "49997                4.0  [['Good by swedish standards', 'A hidden jewel...   \n",
       "49998               70.0  [['Underground restaurant', 'Oldest Restaurant...   \n",
       "49999              260.0  [['Average', 'Nice an informal'], ['01/31/2016...   \n",
       "\n",
       "                                                  URL_TA      ID_TA  sample  \\\n",
       "0      /Restaurant_Review-g187147-d10746918-Reviews-L...  d10746918       0   \n",
       "1      /Restaurant_Review-g189934-d6674944-Reviews-Ra...   d6674944       0   \n",
       "2      /Restaurant_Review-g186525-d13129638-Reviews-B...  d13129638       0   \n",
       "3      /Restaurant_Review-g186338-d680417-Reviews-Qui...    d680417       0   \n",
       "4      /Restaurant_Review-g274924-d1112354-Reviews-Ma...   d1112354       0   \n",
       "...                                                  ...        ...     ...   \n",
       "49995  /Restaurant_Review-g187849-d2104414-Reviews-Ro...   d2104414       1   \n",
       "49996  /Restaurant_Review-g187147-d1800036-Reviews-La...   d1800036       1   \n",
       "49997  /Restaurant_Review-g189852-d947615-Reviews-Sus...    d947615       1   \n",
       "49998  /Restaurant_Review-g274856-d1100838-Reviews-Ho...   d1100838       1   \n",
       "49999  /Restaurant_Review-g187849-d1109020-Reviews-Ta...   d1109020       1   \n",
       "\n",
       "       Rating  \n",
       "0         0.0  \n",
       "1         0.0  \n",
       "2         0.0  \n",
       "3         0.0  \n",
       "4         0.0  \n",
       "...       ...  \n",
       "49995     4.5  \n",
       "49996     3.5  \n",
       "49997     4.5  \n",
       "49998     4.0  \n",
       "49999     3.0  \n",
       "\n",
       "[50000 rows x 11 columns]"
      ]
     },
     "execution_count": 8,
     "metadata": {},
     "output_type": "execute_result"
    }
   ],
   "source": [
    "df"
   ]
  },
  {
   "cell_type": "code",
   "execution_count": 9,
   "metadata": {},
   "outputs": [
    {
     "data": {
      "text/plain": [
       "Index(['Restaurant_id', 'City', 'Cuisine Style', 'Ranking', 'Price Range',\n",
       "       'Number of Reviews', 'Reviews', 'URL_TA', 'ID_TA', 'sample', 'Rating'],\n",
       "      dtype='object')"
      ]
     },
     "execution_count": 9,
     "metadata": {},
     "output_type": "execute_result"
    }
   ],
   "source": [
    "df.columns"
   ]
  },
  {
   "cell_type": "code",
   "execution_count": 162,
   "metadata": {},
   "outputs": [],
   "source": [
    "df.columns = ['id', 'city', 'cuisine', 'ranking',\n",
    "       'price', 'number', 'reviews', 'URL_TA', 'ID_TA',\n",
    "       'sample','rating']"
   ]
  },
  {
   "cell_type": "code",
   "execution_count": 11,
   "metadata": {},
   "outputs": [
    {
     "data": {
      "text/html": [
       "<div>\n",
       "<style scoped>\n",
       "    .dataframe tbody tr th:only-of-type {\n",
       "        vertical-align: middle;\n",
       "    }\n",
       "\n",
       "    .dataframe tbody tr th {\n",
       "        vertical-align: top;\n",
       "    }\n",
       "\n",
       "    .dataframe thead th {\n",
       "        text-align: right;\n",
       "    }\n",
       "</style>\n",
       "<table border=\"1\" class=\"dataframe\">\n",
       "  <thead>\n",
       "    <tr style=\"text-align: right;\">\n",
       "      <th></th>\n",
       "      <th>id</th>\n",
       "      <th>city</th>\n",
       "      <th>cuisine</th>\n",
       "      <th>ranking</th>\n",
       "      <th>price</th>\n",
       "      <th>number</th>\n",
       "      <th>reviews</th>\n",
       "      <th>URL_TA</th>\n",
       "      <th>ID_TA</th>\n",
       "      <th>sample</th>\n",
       "      <th>rating</th>\n",
       "    </tr>\n",
       "  </thead>\n",
       "  <tbody>\n",
       "    <tr>\n",
       "      <th>0</th>\n",
       "      <td>id_0</td>\n",
       "      <td>Paris</td>\n",
       "      <td>['Bar', 'Pub']</td>\n",
       "      <td>12963.0</td>\n",
       "      <td>$$ - $$$</td>\n",
       "      <td>4.0</td>\n",
       "      <td>[[], []]</td>\n",
       "      <td>/Restaurant_Review-g187147-d10746918-Reviews-L...</td>\n",
       "      <td>d10746918</td>\n",
       "      <td>0</td>\n",
       "      <td>0.0</td>\n",
       "    </tr>\n",
       "    <tr>\n",
       "      <th>1</th>\n",
       "      <td>id_1</td>\n",
       "      <td>Helsinki</td>\n",
       "      <td>['European', 'Scandinavian', 'Gluten Free Opti...</td>\n",
       "      <td>106.0</td>\n",
       "      <td>$$ - $$$</td>\n",
       "      <td>97.0</td>\n",
       "      <td>[['Very good reviews!', 'Fine dining in Hakani...</td>\n",
       "      <td>/Restaurant_Review-g189934-d6674944-Reviews-Ra...</td>\n",
       "      <td>d6674944</td>\n",
       "      <td>0</td>\n",
       "      <td>0.0</td>\n",
       "    </tr>\n",
       "    <tr>\n",
       "      <th>2</th>\n",
       "      <td>id_2</td>\n",
       "      <td>Edinburgh</td>\n",
       "      <td>['Vegetarian Friendly']</td>\n",
       "      <td>810.0</td>\n",
       "      <td>$$ - $$$</td>\n",
       "      <td>28.0</td>\n",
       "      <td>[['Better than the Links', 'Ivy Black'], ['12/...</td>\n",
       "      <td>/Restaurant_Review-g186525-d13129638-Reviews-B...</td>\n",
       "      <td>d13129638</td>\n",
       "      <td>0</td>\n",
       "      <td>0.0</td>\n",
       "    </tr>\n",
       "    <tr>\n",
       "      <th>3</th>\n",
       "      <td>id_3</td>\n",
       "      <td>London</td>\n",
       "      <td>['Italian', 'Mediterranean', 'European', 'Vege...</td>\n",
       "      <td>1669.0</td>\n",
       "      <td>$$$$</td>\n",
       "      <td>202.0</td>\n",
       "      <td>[['Most exquisite', 'Delicious and authentic']...</td>\n",
       "      <td>/Restaurant_Review-g186338-d680417-Reviews-Qui...</td>\n",
       "      <td>d680417</td>\n",
       "      <td>0</td>\n",
       "      <td>0.0</td>\n",
       "    </tr>\n",
       "    <tr>\n",
       "      <th>4</th>\n",
       "      <td>id_4</td>\n",
       "      <td>Bratislava</td>\n",
       "      <td>['Italian', 'Mediterranean', 'European', 'Seaf...</td>\n",
       "      <td>37.0</td>\n",
       "      <td>$$$$</td>\n",
       "      <td>162.0</td>\n",
       "      <td>[['Always the best in bratislava', 'Very good ...</td>\n",
       "      <td>/Restaurant_Review-g274924-d1112354-Reviews-Ma...</td>\n",
       "      <td>d1112354</td>\n",
       "      <td>0</td>\n",
       "      <td>0.0</td>\n",
       "    </tr>\n",
       "    <tr>\n",
       "      <th>...</th>\n",
       "      <td>...</td>\n",
       "      <td>...</td>\n",
       "      <td>...</td>\n",
       "      <td>...</td>\n",
       "      <td>...</td>\n",
       "      <td>...</td>\n",
       "      <td>...</td>\n",
       "      <td>...</td>\n",
       "      <td>...</td>\n",
       "      <td>...</td>\n",
       "      <td>...</td>\n",
       "    </tr>\n",
       "    <tr>\n",
       "      <th>49995</th>\n",
       "      <td>id_499</td>\n",
       "      <td>Milan</td>\n",
       "      <td>['Italian', 'Vegetarian Friendly', 'Vegan Opti...</td>\n",
       "      <td>500.0</td>\n",
       "      <td>$$ - $$$</td>\n",
       "      <td>79.0</td>\n",
       "      <td>[['The real Italian experience!', 'Wonderful f...</td>\n",
       "      <td>/Restaurant_Review-g187849-d2104414-Reviews-Ro...</td>\n",
       "      <td>d2104414</td>\n",
       "      <td>1</td>\n",
       "      <td>4.5</td>\n",
       "    </tr>\n",
       "    <tr>\n",
       "      <th>49996</th>\n",
       "      <td>id_6340</td>\n",
       "      <td>Paris</td>\n",
       "      <td>['French', 'American', 'Bar', 'European', 'Veg...</td>\n",
       "      <td>6341.0</td>\n",
       "      <td>$$ - $$$</td>\n",
       "      <td>542.0</td>\n",
       "      <td>[['Parisian atmosphere', 'Bit pricey but inter...</td>\n",
       "      <td>/Restaurant_Review-g187147-d1800036-Reviews-La...</td>\n",
       "      <td>d1800036</td>\n",
       "      <td>1</td>\n",
       "      <td>3.5</td>\n",
       "    </tr>\n",
       "    <tr>\n",
       "      <th>49997</th>\n",
       "      <td>id_1649</td>\n",
       "      <td>Stockholm</td>\n",
       "      <td>['Japanese', 'Sushi']</td>\n",
       "      <td>1652.0</td>\n",
       "      <td>NaN</td>\n",
       "      <td>4.0</td>\n",
       "      <td>[['Good by swedish standards', 'A hidden jewel...</td>\n",
       "      <td>/Restaurant_Review-g189852-d947615-Reviews-Sus...</td>\n",
       "      <td>d947615</td>\n",
       "      <td>1</td>\n",
       "      <td>4.5</td>\n",
       "    </tr>\n",
       "    <tr>\n",
       "      <th>49998</th>\n",
       "      <td>id_640</td>\n",
       "      <td>Warsaw</td>\n",
       "      <td>['Polish', 'European', 'Eastern European', 'Ce...</td>\n",
       "      <td>641.0</td>\n",
       "      <td>$$ - $$$</td>\n",
       "      <td>70.0</td>\n",
       "      <td>[['Underground restaurant', 'Oldest Restaurant...</td>\n",
       "      <td>/Restaurant_Review-g274856-d1100838-Reviews-Ho...</td>\n",
       "      <td>d1100838</td>\n",
       "      <td>1</td>\n",
       "      <td>4.0</td>\n",
       "    </tr>\n",
       "    <tr>\n",
       "      <th>49999</th>\n",
       "      <td>id_4824</td>\n",
       "      <td>Milan</td>\n",
       "      <td>['Spanish']</td>\n",
       "      <td>4827.0</td>\n",
       "      <td>$$ - $$$</td>\n",
       "      <td>260.0</td>\n",
       "      <td>[['Average', 'Nice an informal'], ['01/31/2016...</td>\n",
       "      <td>/Restaurant_Review-g187849-d1109020-Reviews-Ta...</td>\n",
       "      <td>d1109020</td>\n",
       "      <td>1</td>\n",
       "      <td>3.0</td>\n",
       "    </tr>\n",
       "  </tbody>\n",
       "</table>\n",
       "<p>50000 rows × 11 columns</p>\n",
       "</div>"
      ],
      "text/plain": [
       "            id        city                                            cuisine  \\\n",
       "0         id_0       Paris                                     ['Bar', 'Pub']   \n",
       "1         id_1    Helsinki  ['European', 'Scandinavian', 'Gluten Free Opti...   \n",
       "2         id_2   Edinburgh                            ['Vegetarian Friendly']   \n",
       "3         id_3      London  ['Italian', 'Mediterranean', 'European', 'Vege...   \n",
       "4         id_4  Bratislava  ['Italian', 'Mediterranean', 'European', 'Seaf...   \n",
       "...        ...         ...                                                ...   \n",
       "49995   id_499       Milan  ['Italian', 'Vegetarian Friendly', 'Vegan Opti...   \n",
       "49996  id_6340       Paris  ['French', 'American', 'Bar', 'European', 'Veg...   \n",
       "49997  id_1649   Stockholm                              ['Japanese', 'Sushi']   \n",
       "49998   id_640      Warsaw  ['Polish', 'European', 'Eastern European', 'Ce...   \n",
       "49999  id_4824       Milan                                        ['Spanish']   \n",
       "\n",
       "       ranking     price  number  \\\n",
       "0      12963.0  $$ - $$$     4.0   \n",
       "1        106.0  $$ - $$$    97.0   \n",
       "2        810.0  $$ - $$$    28.0   \n",
       "3       1669.0      $$$$   202.0   \n",
       "4         37.0      $$$$   162.0   \n",
       "...        ...       ...     ...   \n",
       "49995    500.0  $$ - $$$    79.0   \n",
       "49996   6341.0  $$ - $$$   542.0   \n",
       "49997   1652.0       NaN     4.0   \n",
       "49998    641.0  $$ - $$$    70.0   \n",
       "49999   4827.0  $$ - $$$   260.0   \n",
       "\n",
       "                                                 reviews  \\\n",
       "0                                               [[], []]   \n",
       "1      [['Very good reviews!', 'Fine dining in Hakani...   \n",
       "2      [['Better than the Links', 'Ivy Black'], ['12/...   \n",
       "3      [['Most exquisite', 'Delicious and authentic']...   \n",
       "4      [['Always the best in bratislava', 'Very good ...   \n",
       "...                                                  ...   \n",
       "49995  [['The real Italian experience!', 'Wonderful f...   \n",
       "49996  [['Parisian atmosphere', 'Bit pricey but inter...   \n",
       "49997  [['Good by swedish standards', 'A hidden jewel...   \n",
       "49998  [['Underground restaurant', 'Oldest Restaurant...   \n",
       "49999  [['Average', 'Nice an informal'], ['01/31/2016...   \n",
       "\n",
       "                                                  URL_TA      ID_TA  sample  \\\n",
       "0      /Restaurant_Review-g187147-d10746918-Reviews-L...  d10746918       0   \n",
       "1      /Restaurant_Review-g189934-d6674944-Reviews-Ra...   d6674944       0   \n",
       "2      /Restaurant_Review-g186525-d13129638-Reviews-B...  d13129638       0   \n",
       "3      /Restaurant_Review-g186338-d680417-Reviews-Qui...    d680417       0   \n",
       "4      /Restaurant_Review-g274924-d1112354-Reviews-Ma...   d1112354       0   \n",
       "...                                                  ...        ...     ...   \n",
       "49995  /Restaurant_Review-g187849-d2104414-Reviews-Ro...   d2104414       1   \n",
       "49996  /Restaurant_Review-g187147-d1800036-Reviews-La...   d1800036       1   \n",
       "49997  /Restaurant_Review-g189852-d947615-Reviews-Sus...    d947615       1   \n",
       "49998  /Restaurant_Review-g274856-d1100838-Reviews-Ho...   d1100838       1   \n",
       "49999  /Restaurant_Review-g187849-d1109020-Reviews-Ta...   d1109020       1   \n",
       "\n",
       "       rating  \n",
       "0         0.0  \n",
       "1         0.0  \n",
       "2         0.0  \n",
       "3         0.0  \n",
       "4         0.0  \n",
       "...       ...  \n",
       "49995     4.5  \n",
       "49996     3.5  \n",
       "49997     4.5  \n",
       "49998     4.0  \n",
       "49999     3.0  \n",
       "\n",
       "[50000 rows x 11 columns]"
      ]
     },
     "execution_count": 11,
     "metadata": {},
     "output_type": "execute_result"
    }
   ],
   "source": [
    "df"
   ]
  },
  {
   "cell_type": "code",
   "execution_count": 12,
   "metadata": {},
   "outputs": [
    {
     "name": "stdout",
     "output_type": "stream",
     "text": [
      "<class 'pandas.core.frame.DataFrame'>\n",
      "RangeIndex: 50000 entries, 0 to 49999\n",
      "Data columns (total 11 columns):\n",
      " #   Column   Non-Null Count  Dtype  \n",
      "---  ------   --------------  -----  \n",
      " 0   id       50000 non-null  object \n",
      " 1   city     50000 non-null  object \n",
      " 2   cuisine  38410 non-null  object \n",
      " 3   ranking  50000 non-null  float64\n",
      " 4   price    32639 non-null  object \n",
      " 5   number   46800 non-null  float64\n",
      " 6   reviews  49998 non-null  object \n",
      " 7   URL_TA   50000 non-null  object \n",
      " 8   ID_TA    50000 non-null  object \n",
      " 9   sample   50000 non-null  int64  \n",
      " 10  rating   50000 non-null  float64\n",
      "dtypes: float64(3), int64(1), object(7)\n",
      "memory usage: 4.2+ MB\n"
     ]
    }
   ],
   "source": [
    "df.info()"
   ]
  },
  {
   "cell_type": "code",
   "execution_count": 13,
   "metadata": {},
   "outputs": [
    {
     "data": {
      "text/plain": [
       "<seaborn.axisgrid.PairGrid at 0x1ba71b7c6a0>"
      ]
     },
     "execution_count": 13,
     "metadata": {},
     "output_type": "execute_result"
    },
    {
     "data": {
      "image/png": "[encoded data removed]",
      "text/plain": [
       "<Figure size 540x540 with 12 Axes>"
      ]
     },
     "metadata": {
      "needs_background": "light"
     },
     "output_type": "display_data"
    }
   ],
   "source": [
    "sns.pairplot(df.drop(['sample'], axis = 1))"
   ]
  },
  {
   "cell_type": "markdown",
   "metadata": {},
   "source": [
    "\n",
    "\n",
    "\n",
    "# cuisine"
   ]
  },
  {
   "cell_type": "code",
   "execution_count": 14,
   "metadata": {},
   "outputs": [
    {
     "data": {
      "text/plain": [
       "0                                           ['Bar', 'Pub']\n",
       "1        ['European', 'Scandinavian', 'Gluten Free Opti...\n",
       "2                                  ['Vegetarian Friendly']\n",
       "3        ['Italian', 'Mediterranean', 'European', 'Vege...\n",
       "4        ['Italian', 'Mediterranean', 'European', 'Seaf...\n",
       "                               ...                        \n",
       "49995    ['Italian', 'Vegetarian Friendly', 'Vegan Opti...\n",
       "49996    ['French', 'American', 'Bar', 'European', 'Veg...\n",
       "49997                                ['Japanese', 'Sushi']\n",
       "49998    ['Polish', 'European', 'Eastern European', 'Ce...\n",
       "49999                                          ['Spanish']\n",
       "Name: cuisine, Length: 50000, dtype: object"
      ]
     },
     "execution_count": 14,
     "metadata": {},
     "output_type": "execute_result"
    }
   ],
   "source": [
    "df.cuisine"
   ]
  },
  {
   "cell_type": "code",
   "execution_count": 15,
   "metadata": {},
   "outputs": [
    {
     "data": {
      "text/plain": [
       "\"['European', 'Scandinavian', 'Gluten Free Options', 'Vegetarian Friendly', 'Vegan Options']\""
      ]
     },
     "execution_count": 15,
     "metadata": {},
     "output_type": "execute_result"
    }
   ],
   "source": [
    "df.cuisine[1]"
   ]
  },
  {
   "cell_type": "markdown",
   "metadata": {},
   "source": [
    "получилась строка списка строк, нужно преобразовывать"
   ]
  },
  {
   "cell_type": "code",
   "execution_count": 16,
   "metadata": {},
   "outputs": [
    {
     "data": {
      "text/plain": [
       "11590"
      ]
     },
     "execution_count": 16,
     "metadata": {},
     "output_type": "execute_result"
    }
   ],
   "source": [
    "# считаем количесвто нулевых строк\n",
    "df.cuisine.isna().sum()"
   ]
  },
  {
   "cell_type": "code",
   "execution_count": 17,
   "metadata": {},
   "outputs": [
    {
     "data": {
      "text/plain": [
       "23.18"
      ]
     },
     "execution_count": 17,
     "metadata": {},
     "output_type": "execute_result"
    }
   ],
   "source": [
    "# количесвто нулевых строк в процентах\n",
    "df.cuisine.isna().sum()/len(df)*100"
   ]
  },
  {
   "cell_type": "markdown",
   "metadata": {},
   "source": [
    "мы видим очень много пустых строк, но в ресторане не может не быть кухни, как минимум одна все равно есть"
   ]
  },
  {
   "cell_type": "code",
   "execution_count": 163,
   "metadata": {},
   "outputs": [],
   "source": [
    "# преобразуем строку списка в список и пустые строки назовем стандартная кухня\n",
    "df3 = df.cuisine\n",
    "df3 = df3.fillna('[standart]')\n",
    "df3 = df3.apply(lambda x: str(x)[1:-1])\n",
    "df3 = df3.apply(lambda x: x.replace(\"'\", ''))\n",
    "df3 = df3.str.split(', ')"
   ]
  },
  {
   "cell_type": "code",
   "execution_count": 19,
   "metadata": {},
   "outputs": [
    {
     "data": {
      "text/plain": [
       "['European',\n",
       " 'Scandinavian',\n",
       " 'Gluten Free Options',\n",
       " 'Vegetarian Friendly',\n",
       " 'Vegan Options']"
      ]
     },
     "execution_count": 19,
     "metadata": {},
     "output_type": "execute_result"
    }
   ],
   "source": [
    "# посмотрим на результат\n",
    "df3[1]"
   ]
  },
  {
   "cell_type": "code",
   "execution_count": 164,
   "metadata": {},
   "outputs": [
    {
     "name": "stdout",
     "output_type": "stream",
     "text": [
      "Vegetarian Friendly    14021\n",
      "European               12561\n",
      "standart               11590\n",
      "Mediterranean           7820\n",
      "Italian                 7433\n",
      "                       ...  \n",
      "Yunnan                     2\n",
      "Burmese                    1\n",
      "Xinjiang                   1\n",
      "Salvadoran                 1\n",
      "Latvian                    1\n",
      "Name: cuisine, Length: 126, dtype: int64\n",
      "Vegetarian Friendly    0.106814\n",
      "European               0.095691\n",
      "standart               0.088294\n",
      "Mediterranean          0.059574\n",
      "Italian                0.056625\n",
      "                         ...   \n",
      "Yunnan                 0.000015\n",
      "Burmese                0.000008\n",
      "Xinjiang               0.000008\n",
      "Salvadoran             0.000008\n",
      "Latvian                0.000008\n",
      "Name: cuisine, Length: 126, dtype: float64\n",
      "126\n"
     ]
    }
   ],
   "source": [
    "# посчитаем количество кухонь\n",
    "cuisine_all = df3.explode()\n",
    "print(cuisine_all.value_counts())\n",
    "print(cuisine_all.value_counts(normalize = True))\n",
    "print(cuisine_all.nunique())"
   ]
  },
  {
   "cell_type": "code",
   "execution_count": 81,
   "metadata": {},
   "outputs": [
    {
     "name": "stdout",
     "output_type": "stream",
     "text": [
      "Найдены статистически значимые различия для колонки cuisine\n"
     ]
    }
   ],
   "source": [
    "# проверим колонку на наличие статистически значимых различий\n",
    "df_stat = pd.DataFrame()\n",
    "df_stat['cuisine'] = df3\n",
    "df_stat['rating'] = df['rating']\n",
    "df_stat['sample'] = df['sample']\n",
    "df_stat = df_stat.explode('cuisine')\n",
    "df_stat = df_stat[df_stat['sample'] == 1]\n",
    "df_stat = df_stat[df_stat['cuisine'] != '']\n",
    "get_stat_dif('cuisine')"
   ]
  },
  {
   "cell_type": "code",
   "execution_count": 165,
   "metadata": {},
   "outputs": [
    {
     "name": "stdout",
     "output_type": "stream",
     "text": [
      "[ 2  5  1  6  3  4  7  8  9 10 15 11 13 21]\n",
      "1     20744\n",
      "2      7794\n",
      "3      6638\n",
      "4      5948\n",
      "5      4482\n",
      "6      2611\n",
      "7      1294\n",
      "8       363\n",
      "9        93\n",
      "10       26\n",
      "11        4\n",
      "21        1\n",
      "15        1\n",
      "13        1\n",
      "Name: cuisine, dtype: int64\n",
      "1     0.41488\n",
      "2     0.15588\n",
      "3     0.13276\n",
      "4     0.11896\n",
      "5     0.08964\n",
      "6     0.05222\n",
      "7     0.02588\n",
      "8     0.00726\n",
      "9     0.00186\n",
      "10    0.00052\n",
      "11    0.00008\n",
      "21    0.00002\n",
      "15    0.00002\n",
      "13    0.00002\n",
      "Name: cuisine, dtype: float64\n"
     ]
    }
   ],
   "source": [
    "df3_c = df3.apply(lambda x: len(x))\n",
    "print(df3_c.unique())\n",
    "print(df3_c.value_counts())\n",
    "print(df3_c.value_counts(normalize = True))\n",
    "df['cuisine_c'] = df3_c"
   ]
  },
  {
   "cell_type": "code",
   "execution_count": 23,
   "metadata": {},
   "outputs": [
    {
     "name": "stderr",
     "output_type": "stream",
     "text": [
      "C:\\Users\\1\\anaconda3\\lib\\site-packages\\seaborn\\_decorators.py:36: FutureWarning: Pass the following variable as a keyword arg: x. From version 0.12, the only valid positional argument will be `data`, and passing other arguments without an explicit keyword will result in an error or misinterpretation.\n",
      "  warnings.warn(\n"
     ]
    },
    {
     "data": {
      "image/png": "[encoded data removed]",
      "text/plain": [
       "<Figure size 432x288 with 1 Axes>"
      ]
     },
     "metadata": {
      "needs_background": "light"
     },
     "output_type": "display_data"
    }
   ],
   "source": [
    "sns.boxplot(df['cuisine_c']);"
   ]
  },
  {
   "cell_type": "code",
   "execution_count": 24,
   "metadata": {},
   "outputs": [
    {
     "data": {
      "image/png": "[encoded data removed]",
      "text/plain": [
       "<Figure size 432x288 with 1 Axes>"
      ]
     },
     "metadata": {
      "needs_background": "light"
     },
     "output_type": "display_data"
    }
   ],
   "source": [
    "df.cuisine_c.hist();"
   ]
  },
  {
   "cell_type": "code",
   "execution_count": 25,
   "metadata": {},
   "outputs": [
    {
     "name": "stdout",
     "output_type": "stream",
     "text": [
      "выбросы (-3.5, 8.5)\n"
     ]
    }
   ],
   "source": [
    "print('выбросы', outliers_iqr(df.cuisine_c))"
   ]
  },
  {
   "cell_type": "code",
   "execution_count": 26,
   "metadata": {},
   "outputs": [
    {
     "data": {
      "text/html": [
       "<div>\n",
       "<style scoped>\n",
       "    .dataframe tbody tr th:only-of-type {\n",
       "        vertical-align: middle;\n",
       "    }\n",
       "\n",
       "    .dataframe tbody tr th {\n",
       "        vertical-align: top;\n",
       "    }\n",
       "\n",
       "    .dataframe thead th {\n",
       "        text-align: right;\n",
       "    }\n",
       "</style>\n",
       "<table border=\"1\" class=\"dataframe\">\n",
       "  <thead>\n",
       "    <tr style=\"text-align: right;\">\n",
       "      <th></th>\n",
       "      <th>id</th>\n",
       "      <th>city</th>\n",
       "      <th>cuisine</th>\n",
       "      <th>ranking</th>\n",
       "      <th>price</th>\n",
       "      <th>number</th>\n",
       "      <th>reviews</th>\n",
       "      <th>URL_TA</th>\n",
       "      <th>ID_TA</th>\n",
       "      <th>sample</th>\n",
       "      <th>rating</th>\n",
       "      <th>cuisine_c</th>\n",
       "    </tr>\n",
       "  </thead>\n",
       "  <tbody>\n",
       "    <tr>\n",
       "      <th>679</th>\n",
       "      <td>id_679</td>\n",
       "      <td>Madrid</td>\n",
       "      <td>['Mexican', 'Latin', 'Contemporary', 'Fusion',...</td>\n",
       "      <td>168.0</td>\n",
       "      <td>$$ - $$$</td>\n",
       "      <td>144.0</td>\n",
       "      <td>[['Great Mexican cuisine is a lively neighbor....</td>\n",
       "      <td>/Restaurant_Review-g187514-d10494492-Reviews-M...</td>\n",
       "      <td>d10494492</td>\n",
       "      <td>0</td>\n",
       "      <td>0.0</td>\n",
       "      <td>9</td>\n",
       "    </tr>\n",
       "    <tr>\n",
       "      <th>832</th>\n",
       "      <td>id_832</td>\n",
       "      <td>Budapest</td>\n",
       "      <td>['Italian', 'French', 'German', 'European', 'H...</td>\n",
       "      <td>422.0</td>\n",
       "      <td>$$ - $$$</td>\n",
       "      <td>41.0</td>\n",
       "      <td>[['Nice place, nice staff', 'Perfect'], ['11/1...</td>\n",
       "      <td>/Restaurant_Review-g274887-d11806031-Reviews-M...</td>\n",
       "      <td>d11806031</td>\n",
       "      <td>0</td>\n",
       "      <td>0.0</td>\n",
       "      <td>10</td>\n",
       "    </tr>\n",
       "    <tr>\n",
       "      <th>1358</th>\n",
       "      <td>id_1358</td>\n",
       "      <td>Budapest</td>\n",
       "      <td>['International', 'Grill', 'Barbecue', 'Europe...</td>\n",
       "      <td>319.0</td>\n",
       "      <td>$$ - $$$</td>\n",
       "      <td>241.0</td>\n",
       "      <td>[['Good value for your money', 'Nice evening d...</td>\n",
       "      <td>/Restaurant_Review-g274887-d1023224-Reviews-Tr...</td>\n",
       "      <td>d1023224</td>\n",
       "      <td>0</td>\n",
       "      <td>0.0</td>\n",
       "      <td>9</td>\n",
       "    </tr>\n",
       "    <tr>\n",
       "      <th>2292</th>\n",
       "      <td>id_2292</td>\n",
       "      <td>Vienna</td>\n",
       "      <td>['German', 'Austrian', 'European', 'Asian', 'C...</td>\n",
       "      <td>1379.0</td>\n",
       "      <td>$$ - $$$</td>\n",
       "      <td>42.0</td>\n",
       "      <td>[['Traditional Austrian dishes', 'Delicious Au...</td>\n",
       "      <td>/Restaurant_Review-g190454-d1907599-Reviews-Gi...</td>\n",
       "      <td>d1907599</td>\n",
       "      <td>0</td>\n",
       "      <td>0.0</td>\n",
       "      <td>10</td>\n",
       "    </tr>\n",
       "    <tr>\n",
       "      <th>3184</th>\n",
       "      <td>id_3184</td>\n",
       "      <td>Rome</td>\n",
       "      <td>['Italian', 'Pizza', 'Seafood', 'Mediterranean...</td>\n",
       "      <td>774.0</td>\n",
       "      <td>$$ - $$$</td>\n",
       "      <td>893.0</td>\n",
       "      <td>[['Waterfront experience', 'Excellent location...</td>\n",
       "      <td>/Restaurant_Review-g187791-d1641052-Reviews-Cu...</td>\n",
       "      <td>d1641052</td>\n",
       "      <td>0</td>\n",
       "      <td>0.0</td>\n",
       "      <td>9</td>\n",
       "    </tr>\n",
       "    <tr>\n",
       "      <th>...</th>\n",
       "      <td>...</td>\n",
       "      <td>...</td>\n",
       "      <td>...</td>\n",
       "      <td>...</td>\n",
       "      <td>...</td>\n",
       "      <td>...</td>\n",
       "      <td>...</td>\n",
       "      <td>...</td>\n",
       "      <td>...</td>\n",
       "      <td>...</td>\n",
       "      <td>...</td>\n",
       "      <td>...</td>\n",
       "    </tr>\n",
       "    <tr>\n",
       "      <th>48241</th>\n",
       "      <td>id_17</td>\n",
       "      <td>Edinburgh</td>\n",
       "      <td>['Mediterranean', 'Barbecue', 'Turkish', 'Euro...</td>\n",
       "      <td>18.0</td>\n",
       "      <td>$$ - $$$</td>\n",
       "      <td>440.0</td>\n",
       "      <td>[['Dinner', 'Still the best'], ['01/10/2018', ...</td>\n",
       "      <td>/Restaurant_Review-g186525-d8699437-Reviews-Ad...</td>\n",
       "      <td>d8699437</td>\n",
       "      <td>1</td>\n",
       "      <td>4.5</td>\n",
       "      <td>9</td>\n",
       "    </tr>\n",
       "    <tr>\n",
       "      <th>49276</th>\n",
       "      <td>id_67</td>\n",
       "      <td>Warsaw</td>\n",
       "      <td>['Lebanese', 'Mediterranean', 'Middle Eastern'...</td>\n",
       "      <td>68.0</td>\n",
       "      <td>$$ - $$$</td>\n",
       "      <td>180.0</td>\n",
       "      <td>[['Good place in Warsaw', 'Exceeded the expect...</td>\n",
       "      <td>/Restaurant_Review-g274856-d3854108-Reviews-Le...</td>\n",
       "      <td>d3854108</td>\n",
       "      <td>1</td>\n",
       "      <td>4.5</td>\n",
       "      <td>9</td>\n",
       "    </tr>\n",
       "    <tr>\n",
       "      <th>49413</th>\n",
       "      <td>id_93</td>\n",
       "      <td>Amsterdam</td>\n",
       "      <td>['Asian', 'Italian', 'French', 'American', 'In...</td>\n",
       "      <td>94.0</td>\n",
       "      <td>$$ - $$$</td>\n",
       "      <td>1480.0</td>\n",
       "      <td>[['Amazing place, great food &amp; vibe - you MUS....</td>\n",
       "      <td>/Restaurant_Review-g188590-d7231902-Reviews-Fo...</td>\n",
       "      <td>d7231902</td>\n",
       "      <td>1</td>\n",
       "      <td>4.5</td>\n",
       "      <td>21</td>\n",
       "    </tr>\n",
       "    <tr>\n",
       "      <th>49614</th>\n",
       "      <td>id_106</td>\n",
       "      <td>Edinburgh</td>\n",
       "      <td>['American', 'Bar', 'British', 'Pub', 'Scottis...</td>\n",
       "      <td>107.0</td>\n",
       "      <td>$$ - $$$</td>\n",
       "      <td>1072.0</td>\n",
       "      <td>[['Great burgers!', 'Great for meat lovers, bu...</td>\n",
       "      <td>/Restaurant_Review-g186525-d1811602-Reviews-Th...</td>\n",
       "      <td>d1811602</td>\n",
       "      <td>1</td>\n",
       "      <td>4.5</td>\n",
       "      <td>9</td>\n",
       "    </tr>\n",
       "    <tr>\n",
       "      <th>49955</th>\n",
       "      <td>id_1502</td>\n",
       "      <td>Barcelona</td>\n",
       "      <td>['Cafe', 'International', 'Mediterranean', 'Sp...</td>\n",
       "      <td>1503.0</td>\n",
       "      <td>$$ - $$$</td>\n",
       "      <td>43.0</td>\n",
       "      <td>[['Perfect 👌', 'A great alternative to the sho...</td>\n",
       "      <td>/Restaurant_Review-g187497-d12036041-Reviews-P...</td>\n",
       "      <td>d12036041</td>\n",
       "      <td>1</td>\n",
       "      <td>4.5</td>\n",
       "      <td>9</td>\n",
       "    </tr>\n",
       "  </tbody>\n",
       "</table>\n",
       "<p>126 rows × 12 columns</p>\n",
       "</div>"
      ],
      "text/plain": [
       "            id       city                                            cuisine  \\\n",
       "679     id_679     Madrid  ['Mexican', 'Latin', 'Contemporary', 'Fusion',...   \n",
       "832     id_832   Budapest  ['Italian', 'French', 'German', 'European', 'H...   \n",
       "1358   id_1358   Budapest  ['International', 'Grill', 'Barbecue', 'Europe...   \n",
       "2292   id_2292     Vienna  ['German', 'Austrian', 'European', 'Asian', 'C...   \n",
       "3184   id_3184       Rome  ['Italian', 'Pizza', 'Seafood', 'Mediterranean...   \n",
       "...        ...        ...                                                ...   \n",
       "48241    id_17  Edinburgh  ['Mediterranean', 'Barbecue', 'Turkish', 'Euro...   \n",
       "49276    id_67     Warsaw  ['Lebanese', 'Mediterranean', 'Middle Eastern'...   \n",
       "49413    id_93  Amsterdam  ['Asian', 'Italian', 'French', 'American', 'In...   \n",
       "49614   id_106  Edinburgh  ['American', 'Bar', 'British', 'Pub', 'Scottis...   \n",
       "49955  id_1502  Barcelona  ['Cafe', 'International', 'Mediterranean', 'Sp...   \n",
       "\n",
       "       ranking     price  number  \\\n",
       "679      168.0  $$ - $$$   144.0   \n",
       "832      422.0  $$ - $$$    41.0   \n",
       "1358     319.0  $$ - $$$   241.0   \n",
       "2292    1379.0  $$ - $$$    42.0   \n",
       "3184     774.0  $$ - $$$   893.0   \n",
       "...        ...       ...     ...   \n",
       "48241     18.0  $$ - $$$   440.0   \n",
       "49276     68.0  $$ - $$$   180.0   \n",
       "49413     94.0  $$ - $$$  1480.0   \n",
       "49614    107.0  $$ - $$$  1072.0   \n",
       "49955   1503.0  $$ - $$$    43.0   \n",
       "\n",
       "                                                 reviews  \\\n",
       "679    [['Great Mexican cuisine is a lively neighbor....   \n",
       "832    [['Nice place, nice staff', 'Perfect'], ['11/1...   \n",
       "1358   [['Good value for your money', 'Nice evening d...   \n",
       "2292   [['Traditional Austrian dishes', 'Delicious Au...   \n",
       "3184   [['Waterfront experience', 'Excellent location...   \n",
       "...                                                  ...   \n",
       "48241  [['Dinner', 'Still the best'], ['01/10/2018', ...   \n",
       "49276  [['Good place in Warsaw', 'Exceeded the expect...   \n",
       "49413  [['Amazing place, great food & vibe - you MUS....   \n",
       "49614  [['Great burgers!', 'Great for meat lovers, bu...   \n",
       "49955  [['Perfect 👌', 'A great alternative to the sho...   \n",
       "\n",
       "                                                  URL_TA      ID_TA  sample  \\\n",
       "679    /Restaurant_Review-g187514-d10494492-Reviews-M...  d10494492       0   \n",
       "832    /Restaurant_Review-g274887-d11806031-Reviews-M...  d11806031       0   \n",
       "1358   /Restaurant_Review-g274887-d1023224-Reviews-Tr...   d1023224       0   \n",
       "2292   /Restaurant_Review-g190454-d1907599-Reviews-Gi...   d1907599       0   \n",
       "3184   /Restaurant_Review-g187791-d1641052-Reviews-Cu...   d1641052       0   \n",
       "...                                                  ...        ...     ...   \n",
       "48241  /Restaurant_Review-g186525-d8699437-Reviews-Ad...   d8699437       1   \n",
       "49276  /Restaurant_Review-g274856-d3854108-Reviews-Le...   d3854108       1   \n",
       "49413  /Restaurant_Review-g188590-d7231902-Reviews-Fo...   d7231902       1   \n",
       "49614  /Restaurant_Review-g186525-d1811602-Reviews-Th...   d1811602       1   \n",
       "49955  /Restaurant_Review-g187497-d12036041-Reviews-P...  d12036041       1   \n",
       "\n",
       "       rating  cuisine_c  \n",
       "679       0.0          9  \n",
       "832       0.0         10  \n",
       "1358      0.0          9  \n",
       "2292      0.0         10  \n",
       "3184      0.0          9  \n",
       "...       ...        ...  \n",
       "48241     4.5          9  \n",
       "49276     4.5          9  \n",
       "49413     4.5         21  \n",
       "49614     4.5          9  \n",
       "49955     4.5          9  \n",
       "\n",
       "[126 rows x 12 columns]"
      ]
     },
     "execution_count": 26,
     "metadata": {},
     "output_type": "execute_result"
    }
   ],
   "source": [
    "df[df.cuisine_c > 8.5]"
   ]
  },
  {
   "cell_type": "code",
   "execution_count": 166,
   "metadata": {},
   "outputs": [
    {
     "name": "stdout",
     "output_type": "stream",
     "text": [
      "максимальное значение 3.044522437723423\n",
      "выбросы (-2.0794415416798357, 3.465735902799726)\n",
      "значения и их количество 0.000000    20744\n",
      "0.693147     7794\n",
      "1.098612     6638\n",
      "1.386294     5948\n",
      "1.609438     4482\n",
      "1.791759     2611\n",
      "1.945910     1294\n",
      "2.079442      363\n",
      "2.197225       93\n",
      "2.302585       26\n",
      "2.397895        4\n",
      "2.708050        1\n",
      "2.564949        1\n",
      "3.044522        1\n",
      "Name: cuisine_c, dtype: int64\n"
     ]
    }
   ],
   "source": [
    "df.cuisine_c = df.cuisine_c.apply(lambda x: np.log(x))\n",
    "print('максимальное значение', df.cuisine_c.max())\n",
    "print('выбросы', outliers_iqr(df.cuisine_c))\n",
    "print('значения и их количество', df.cuisine_c.value_counts())"
   ]
  },
  {
   "cell_type": "code",
   "execution_count": 28,
   "metadata": {},
   "outputs": [
    {
     "data": {
      "text/plain": [
       "<AxesSubplot:>"
      ]
     },
     "execution_count": 28,
     "metadata": {},
     "output_type": "execute_result"
    },
    {
     "data": {
      "image/png": "[encoded data removed]",
      "text/plain": [
       "<Figure size 432x288 with 1 Axes>"
      ]
     },
     "metadata": {
      "needs_background": "light"
     },
     "output_type": "display_data"
    }
   ],
   "source": [
    "df.cuisine_c.hist(bins = 5)"
   ]
  },
  {
   "cell_type": "code",
   "execution_count": 29,
   "metadata": {},
   "outputs": [
    {
     "name": "stderr",
     "output_type": "stream",
     "text": [
      "C:\\Users\\1\\anaconda3\\lib\\site-packages\\seaborn\\_decorators.py:36: FutureWarning: Pass the following variable as a keyword arg: x. From version 0.12, the only valid positional argument will be `data`, and passing other arguments without an explicit keyword will result in an error or misinterpretation.\n",
      "  warnings.warn(\n"
     ]
    },
    {
     "data": {
      "image/png": "[encoded data removed]",
      "text/plain": [
       "<Figure size 432x288 with 1 Axes>"
      ]
     },
     "metadata": {
      "needs_background": "light"
     },
     "output_type": "display_data"
    }
   ],
   "source": [
    "sns.boxplot(df.cuisine_c);"
   ]
  },
  {
   "cell_type": "markdown",
   "metadata": {},
   "source": [
    "# rating"
   ]
  },
  {
   "cell_type": "code",
   "execution_count": 30,
   "metadata": {},
   "outputs": [
    {
     "name": "stdout",
     "output_type": "stream",
     "text": [
      "уникальные значения [0.  3.5 4.  4.5 5.  3.  2.5 2.  1.  1.5]\n",
      "значения и их количество 4.0    13692\n",
      "4.5    10929\n",
      "0.0    10000\n",
      "3.5     6824\n",
      "5.0     3879\n",
      "3.0     2955\n",
      "2.5      915\n",
      "2.0      466\n",
      "1.0      201\n",
      "1.5      139\n",
      "Name: rating, dtype: int64\n"
     ]
    },
    {
     "data": {
      "text/plain": [
       "<AxesSubplot:>"
      ]
     },
     "execution_count": 30,
     "metadata": {},
     "output_type": "execute_result"
    },
    {
     "data": {
      "image/png": "[encoded data removed]",
      "text/plain": [
       "<Figure size 432x288 with 1 Axes>"
      ]
     },
     "metadata": {
      "needs_background": "light"
     },
     "output_type": "display_data"
    }
   ],
   "source": [
    "print('уникальные значения', df.rating.unique())\n",
    "print('значения и их количество', df.rating.value_counts())\n",
    "df.rating.hist(bins = 100)"
   ]
  },
  {
   "cell_type": "markdown",
   "metadata": {},
   "source": [
    "# price"
   ]
  },
  {
   "cell_type": "code",
   "execution_count": 167,
   "metadata": {},
   "outputs": [
    {
     "name": "stdout",
     "output_type": "stream",
     "text": [
      "уникальные значения ['$$ - $$$' '$$$$' '$' nan]\n",
      "значения и их количество\n",
      " $$ - $$$    23041\n",
      "$            7816\n",
      "$$$$         1782\n",
      "Name: price, dtype: int64\n",
      "34.721999999999994\n",
      "3475\n",
      "13886\n"
     ]
    }
   ],
   "source": [
    "print('уникальные значения', df.price.unique())\n",
    "price_vl = df.price.value_counts()\n",
    "print('значения и их количество\\n', price_vl)\n",
    "print(df.price.isna().sum()/50000*100)\n",
    "print(df[df['sample'] == 0].price.isna().sum())\n",
    "print(df[df['sample'] == 1].price.isna().sum())"
   ]
  },
  {
   "cell_type": "code",
   "execution_count": 32,
   "metadata": {},
   "outputs": [
    {
     "name": "stdout",
     "output_type": "stream",
     "text": [
      "Найдены статистически значимые различия для колонки price\n"
     ]
    }
   ],
   "source": [
    "# проверим колонку на наличие статистически значимых различий\n",
    "df_stat = pd.DataFrame()\n",
    "df_stat['price'] = df['price']\n",
    "df_stat['rating'] = df['rating']\n",
    "df_stat['sample'] = df['sample']\n",
    "df_stat = df_stat[df['sample'] == 1]\n",
    "get_stat_dif('price')"
   ]
  },
  {
   "cell_type": "code",
   "execution_count": 168,
   "metadata": {},
   "outputs": [],
   "source": [
    "# пометим строки, где есть NaN\n",
    "df['price_ind'] = df.price.isna()\n",
    "df['price_ind'] = df['price_ind'].apply(lambda x: 0 if x else 1)"
   ]
  },
  {
   "cell_type": "code",
   "execution_count": 169,
   "metadata": {},
   "outputs": [
    {
     "name": "stdout",
     "output_type": "stream",
     "text": [
      "['$$ - $$$', '$', '$$$$'] [0.7059346180949171, 0.23946812095958822, 0.054597260945494656]\n",
      "$$ - $$$    35300\n",
      "$           11971\n",
      "$$$$         2729\n",
      "Name: price, dtype: int64\n"
     ]
    }
   ],
   "source": [
    "# заменим пропуски пропорционально имеющимся данным\n",
    "price_list = [price_vl.index[x] for x in range(3)]\n",
    "p = [price_vl[z]/price_vl.sum() for z in range(3)]\n",
    "print(price_list, p)\n",
    "a = np.random.choice(price_list, df.price.isna().sum(), p=p)\n",
    "count = 0\n",
    "for i in range(len(df.price)):\n",
    "    if pd.isna(df.loc[i, 'price']) :\n",
    "        df.loc[i, 'price'] = a[count]\n",
    "        count += 1\n",
    "print(df.price.value_counts())"
   ]
  },
  {
   "cell_type": "code",
   "execution_count": 170,
   "metadata": {},
   "outputs": [
    {
     "data": {
      "text/plain": [
       "<AxesSubplot:>"
      ]
     },
     "execution_count": 170,
     "metadata": {},
     "output_type": "execute_result"
    },
    {
     "data": {
      "image/png": "[encoded data removed]",
      "text/plain": [
       "<Figure size 720x720 with 1 Axes>"
      ]
     },
     "metadata": {
      "needs_background": "light"
     },
     "output_type": "display_data"
    }
   ],
   "source": [
    "# сохраним колонку с категориальными значениями для последующего преобразования в dummy-переменные\n",
    "df['price1'] = df.price.copy()\n",
    "# заменим на числовыми значениями по принципу LabelEncoding\n",
    "df.price = df.price.apply(lambda x: 1 if x == '$' else 2 if x == '$$ - $$$' else 3)\n",
    "df.price.hist(bins = 3)"
   ]
  },
  {
   "cell_type": "code",
   "execution_count": 36,
   "metadata": {},
   "outputs": [
    {
     "name": "stdout",
     "output_type": "stream",
     "text": [
      "Найдены статистически значимые различия для колонки price\n"
     ]
    }
   ],
   "source": [
    "# проверим колонку на наличие статистически значимых различий после манипуляций\n",
    "df_stat = pd.DataFrame()\n",
    "df_stat['price'] = df['price']\n",
    "df_stat['rating'] = df['rating']\n",
    "df_stat['sample'] = df['sample']\n",
    "df_stat = df_stat[df['sample'] == 1]\n",
    "get_stat_dif('price')"
   ]
  },
  {
   "cell_type": "markdown",
   "metadata": {},
   "source": [
    "# number"
   ]
  },
  {
   "cell_type": "code",
   "execution_count": 171,
   "metadata": {},
   "outputs": [
    {
     "name": "stdout",
     "output_type": "stream",
     "text": [
      "значения и их количество\n",
      " 2.0       2403\n",
      "3.0       2042\n",
      "4.0       1707\n",
      "5.0       1471\n",
      "6.0       1258\n",
      "          ... \n",
      "5216.0       1\n",
      "1932.0       1\n",
      "1050.0       1\n",
      "1145.0       1\n",
      "1471.0       1\n",
      "Name: number, Length: 1573, dtype: int64\n",
      "количество пустых строк 3200\n"
     ]
    },
    {
     "data": {
      "text/plain": [
       "<AxesSubplot:>"
      ]
     },
     "execution_count": 171,
     "metadata": {},
     "output_type": "execute_result"
    },
    {
     "data": {
      "image/png": "[encoded data removed]",
      "text/plain": [
       "<Figure size 720x720 with 1 Axes>"
      ]
     },
     "metadata": {
      "needs_background": "light"
     },
     "output_type": "display_data"
    }
   ],
   "source": [
    "print('значения и их количество\\n', df.number.value_counts())\n",
    "print('количество пустых строк', df.number.isna().sum())\n",
    "# пометим строки, где есть NaN\n",
    "df['number_ind'] = df.number.isna()\n",
    "df['number_ind'] = df['number_ind'].apply(lambda x: 0 if x else 1)\n",
    "df.number.hist(bins = 100)"
   ]
  },
  {
   "cell_type": "code",
   "execution_count": 172,
   "metadata": {},
   "outputs": [
    {
     "data": {
      "text/plain": [
       "array(['[[], []]', '[[\"Nova\\' Doba\"], [\\'01/26/2017\\']]',\n",
       "       \"[['South American food at its best!'], ['09/05/2013']]\", ...,\n",
       "       \"[['Small, Friendly Place on the Mile'], ['11/15/2015']]\",\n",
       "       \"[['Personal expirence'], ['10/27/2017']]\",\n",
       "       \"[['I love this place!'], ['08/24/2015']]\"], dtype=object)"
      ]
     },
     "execution_count": 172,
     "metadata": {},
     "output_type": "execute_result"
    }
   ],
   "source": [
    "df_isna = df[df.number.isna()]\n",
    "df_isna['reviews'].unique()"
   ]
  },
  {
   "cell_type": "code",
   "execution_count": 173,
   "metadata": {},
   "outputs": [
    {
     "data": {
      "text/plain": [
       "1177"
      ]
     },
     "execution_count": 173,
     "metadata": {},
     "output_type": "execute_result"
    }
   ],
   "source": [
    "df_isna['reviews'].nunique()"
   ]
  },
  {
   "cell_type": "code",
   "execution_count": 174,
   "metadata": {},
   "outputs": [
    {
     "data": {
      "text/plain": [
       "1"
      ]
     },
     "execution_count": 174,
     "metadata": {},
     "output_type": "execute_result"
    }
   ],
   "source": [
    "df_isna.reviews.isna().sum()"
   ]
  },
  {
   "cell_type": "code",
   "execution_count": 175,
   "metadata": {},
   "outputs": [
    {
     "data": {
      "text/html": [
       "<div>\n",
       "<style scoped>\n",
       "    .dataframe tbody tr th:only-of-type {\n",
       "        vertical-align: middle;\n",
       "    }\n",
       "\n",
       "    .dataframe tbody tr th {\n",
       "        vertical-align: top;\n",
       "    }\n",
       "\n",
       "    .dataframe thead th {\n",
       "        text-align: right;\n",
       "    }\n",
       "</style>\n",
       "<table border=\"1\" class=\"dataframe\">\n",
       "  <thead>\n",
       "    <tr style=\"text-align: right;\">\n",
       "      <th></th>\n",
       "      <th>id</th>\n",
       "      <th>city</th>\n",
       "      <th>cuisine</th>\n",
       "      <th>ranking</th>\n",
       "      <th>price</th>\n",
       "      <th>number</th>\n",
       "      <th>reviews</th>\n",
       "      <th>URL_TA</th>\n",
       "      <th>ID_TA</th>\n",
       "      <th>sample</th>\n",
       "      <th>rating</th>\n",
       "      <th>cuisine_c</th>\n",
       "      <th>price_ind</th>\n",
       "      <th>price1</th>\n",
       "      <th>number_ind</th>\n",
       "    </tr>\n",
       "  </thead>\n",
       "  <tbody>\n",
       "    <tr>\n",
       "      <th>9608</th>\n",
       "      <td>id_9608</td>\n",
       "      <td>Vienna</td>\n",
       "      <td>NaN</td>\n",
       "      <td>1779.0</td>\n",
       "      <td>1</td>\n",
       "      <td>NaN</td>\n",
       "      <td>NaN</td>\n",
       "      <td>/Restaurant_Review-g190454-d12605368-Reviews-R...</td>\n",
       "      <td>d12605368</td>\n",
       "      <td>0</td>\n",
       "      <td>0.0</td>\n",
       "      <td>0.0</td>\n",
       "      <td>0</td>\n",
       "      <td>$</td>\n",
       "      <td>0</td>\n",
       "    </tr>\n",
       "  </tbody>\n",
       "</table>\n",
       "</div>"
      ],
      "text/plain": [
       "           id    city cuisine  ranking  price  number reviews  \\\n",
       "9608  id_9608  Vienna     NaN   1779.0      1     NaN     NaN   \n",
       "\n",
       "                                                 URL_TA      ID_TA  sample  \\\n",
       "9608  /Restaurant_Review-g190454-d12605368-Reviews-R...  d12605368       0   \n",
       "\n",
       "      rating  cuisine_c  price_ind price1  number_ind  \n",
       "9608     0.0        0.0          0      $           0  "
      ]
     },
     "execution_count": 175,
     "metadata": {},
     "output_type": "execute_result"
    }
   ],
   "source": [
    "df_isna[df_isna.reviews.isna()]"
   ]
  },
  {
   "cell_type": "code",
   "execution_count": 176,
   "metadata": {},
   "outputs": [
    {
     "data": {
      "text/plain": [
       "[[], []]                                                               2023\n",
       "[['OK Noodles, no athmosphere'], ['09/13/2016']]                          1\n",
       "[['Value for money'], ['12/15/2013']]                                     1\n",
       "[[\"Fresh and Vibrant, It's more than just Jui...\"], ['02/13/2015']]       1\n",
       "[['shockingly dissapointed'], ['10/23/2017']]                             1\n",
       "                                                                       ... \n",
       "[['Delicious pastries, not so nice interior'], ['08/27/2015']]            1\n",
       "[['Unique Chicken Shop'], ['01/27/2017']]                                 1\n",
       "[['Cozy rum bar'], ['11/03/2016']]                                        1\n",
       "[['Filling portions at any time of day or nig...'], ['06/29/2015']]       1\n",
       "[['Mixed report; but overall good'], ['06/13/2017']]                      1\n",
       "Name: reviews, Length: 1177, dtype: int64"
      ]
     },
     "execution_count": 176,
     "metadata": {},
     "output_type": "execute_result"
    }
   ],
   "source": [
    "df_isna['reviews'].value_counts()"
   ]
  },
  {
   "cell_type": "code",
   "execution_count": 177,
   "metadata": {},
   "outputs": [
    {
     "data": {
      "text/plain": [
       "']'"
      ]
     },
     "execution_count": 177,
     "metadata": {},
     "output_type": "execute_result"
    }
   ],
   "source": [
    "df_isna['reviews'].value_counts().index[0][2]"
   ]
  },
  {
   "cell_type": "code",
   "execution_count": 120,
   "metadata": {},
   "outputs": [
    {
     "data": {
      "text/plain": [
       "33.0"
      ]
     },
     "execution_count": 120,
     "metadata": {},
     "output_type": "execute_result"
    }
   ],
   "source": [
    "df.number.median()"
   ]
  },
  {
   "cell_type": "code",
   "execution_count": 178,
   "metadata": {},
   "outputs": [],
   "source": [
    "for i in range(len(df)):\n",
    "    if pd.isna(df.loc[i, 'number']):\n",
    "        if not pd.isna(df.loc[i, 'reviews']):\n",
    "            if df.loc[i, 'reviews'][2] != ']':\n",
    "                df.loc[i, 'number'] = 1"
   ]
  },
  {
   "cell_type": "code",
   "execution_count": 179,
   "metadata": {},
   "outputs": [
    {
     "data": {
      "text/plain": [
       "2024"
      ]
     },
     "execution_count": 179,
     "metadata": {},
     "output_type": "execute_result"
    }
   ],
   "source": [
    "df.number.isna().sum()"
   ]
  },
  {
   "cell_type": "code",
   "execution_count": 180,
   "metadata": {},
   "outputs": [],
   "source": [
    "df.number.fillna(0, inplace = True)"
   ]
  },
  {
   "cell_type": "code",
   "execution_count": 181,
   "metadata": {},
   "outputs": [
    {
     "data": {
      "text/plain": [
       "(-140.0, 252.0)"
      ]
     },
     "execution_count": 181,
     "metadata": {},
     "output_type": "execute_result"
    }
   ],
   "source": [
    "outliers_iqr(df.number)"
   ]
  },
  {
   "cell_type": "code",
   "execution_count": 182,
   "metadata": {},
   "outputs": [
    {
     "data": {
      "text/html": [
       "<div>\n",
       "<style scoped>\n",
       "    .dataframe tbody tr th:only-of-type {\n",
       "        vertical-align: middle;\n",
       "    }\n",
       "\n",
       "    .dataframe tbody tr th {\n",
       "        vertical-align: top;\n",
       "    }\n",
       "\n",
       "    .dataframe thead th {\n",
       "        text-align: right;\n",
       "    }\n",
       "</style>\n",
       "<table border=\"1\" class=\"dataframe\">\n",
       "  <thead>\n",
       "    <tr style=\"text-align: right;\">\n",
       "      <th></th>\n",
       "      <th>id</th>\n",
       "      <th>city</th>\n",
       "      <th>cuisine</th>\n",
       "      <th>ranking</th>\n",
       "      <th>price</th>\n",
       "      <th>number</th>\n",
       "      <th>reviews</th>\n",
       "      <th>URL_TA</th>\n",
       "      <th>ID_TA</th>\n",
       "      <th>sample</th>\n",
       "      <th>rating</th>\n",
       "      <th>cuisine_c</th>\n",
       "      <th>price_ind</th>\n",
       "      <th>price1</th>\n",
       "      <th>number_ind</th>\n",
       "    </tr>\n",
       "  </thead>\n",
       "  <tbody>\n",
       "    <tr>\n",
       "      <th>10</th>\n",
       "      <td>id_10</td>\n",
       "      <td>Rome</td>\n",
       "      <td>NaN</td>\n",
       "      <td>1209.0</td>\n",
       "      <td>2</td>\n",
       "      <td>306.0</td>\n",
       "      <td>[['Very pretentious, but drinks are top notch'...</td>\n",
       "      <td>/Restaurant_Review-g187791-d7818546-Reviews-Je...</td>\n",
       "      <td>d7818546</td>\n",
       "      <td>0</td>\n",
       "      <td>0.0</td>\n",
       "      <td>0.000000</td>\n",
       "      <td>0</td>\n",
       "      <td>$$ - $$$</td>\n",
       "      <td>1</td>\n",
       "    </tr>\n",
       "    <tr>\n",
       "      <th>14</th>\n",
       "      <td>id_14</td>\n",
       "      <td>Prague</td>\n",
       "      <td>['European', 'Czech', 'Eastern European', 'Cen...</td>\n",
       "      <td>1105.0</td>\n",
       "      <td>2</td>\n",
       "      <td>273.0</td>\n",
       "      <td>[['Good food, beer, value and service', 'Eat u...</td>\n",
       "      <td>/Restaurant_Review-g274707-d1093021-Reviews-U_...</td>\n",
       "      <td>d1093021</td>\n",
       "      <td>0</td>\n",
       "      <td>0.0</td>\n",
       "      <td>1.386294</td>\n",
       "      <td>1</td>\n",
       "      <td>$$ - $$$</td>\n",
       "      <td>1</td>\n",
       "    </tr>\n",
       "    <tr>\n",
       "      <th>16</th>\n",
       "      <td>id_16</td>\n",
       "      <td>Milan</td>\n",
       "      <td>['Pizza', 'Vegetarian Friendly', 'Vegan Options']</td>\n",
       "      <td>1825.0</td>\n",
       "      <td>2</td>\n",
       "      <td>322.0</td>\n",
       "      <td>[['truly Neapolitan pizza, new/slick location'...</td>\n",
       "      <td>/Restaurant_Review-g187849-d11850449-Reviews-P...</td>\n",
       "      <td>d11850449</td>\n",
       "      <td>0</td>\n",
       "      <td>0.0</td>\n",
       "      <td>1.098612</td>\n",
       "      <td>1</td>\n",
       "      <td>$$ - $$$</td>\n",
       "      <td>1</td>\n",
       "    </tr>\n",
       "    <tr>\n",
       "      <th>17</th>\n",
       "      <td>id_17</td>\n",
       "      <td>London</td>\n",
       "      <td>['Bar', 'British', 'Pub', 'Vegetarian Friendly...</td>\n",
       "      <td>2349.0</td>\n",
       "      <td>2</td>\n",
       "      <td>282.0</td>\n",
       "      <td>[['Quite a decent pub', 'in the middle of noth...</td>\n",
       "      <td>/Restaurant_Review-g186338-d2188276-Reviews-Th...</td>\n",
       "      <td>d2188276</td>\n",
       "      <td>0</td>\n",
       "      <td>0.0</td>\n",
       "      <td>1.609438</td>\n",
       "      <td>1</td>\n",
       "      <td>$$ - $$$</td>\n",
       "      <td>1</td>\n",
       "    </tr>\n",
       "    <tr>\n",
       "      <th>29</th>\n",
       "      <td>id_29</td>\n",
       "      <td>Oslo</td>\n",
       "      <td>['French', 'European', 'Norwegian', 'Italian',...</td>\n",
       "      <td>550.0</td>\n",
       "      <td>2</td>\n",
       "      <td>465.0</td>\n",
       "      <td>[['Lovely food!', 'Nightmare'], ['02/26/2017',...</td>\n",
       "      <td>/Restaurant_Review-g190479-d1495732-Reviews-Mo...</td>\n",
       "      <td>d1495732</td>\n",
       "      <td>0</td>\n",
       "      <td>0.0</td>\n",
       "      <td>1.791759</td>\n",
       "      <td>1</td>\n",
       "      <td>$$ - $$$</td>\n",
       "      <td>1</td>\n",
       "    </tr>\n",
       "    <tr>\n",
       "      <th>...</th>\n",
       "      <td>...</td>\n",
       "      <td>...</td>\n",
       "      <td>...</td>\n",
       "      <td>...</td>\n",
       "      <td>...</td>\n",
       "      <td>...</td>\n",
       "      <td>...</td>\n",
       "      <td>...</td>\n",
       "      <td>...</td>\n",
       "      <td>...</td>\n",
       "      <td>...</td>\n",
       "      <td>...</td>\n",
       "      <td>...</td>\n",
       "      <td>...</td>\n",
       "      <td>...</td>\n",
       "    </tr>\n",
       "    <tr>\n",
       "      <th>49980</th>\n",
       "      <td>id_253</td>\n",
       "      <td>Rome</td>\n",
       "      <td>['Italian', 'Seafood', 'Mediterranean', 'Europ...</td>\n",
       "      <td>254.0</td>\n",
       "      <td>2</td>\n",
       "      <td>560.0</td>\n",
       "      <td>[['Creative cocktails and pleasant atmosphere....</td>\n",
       "      <td>/Restaurant_Review-g187791-d8273642-Reviews-Su...</td>\n",
       "      <td>d8273642</td>\n",
       "      <td>1</td>\n",
       "      <td>4.5</td>\n",
       "      <td>1.791759</td>\n",
       "      <td>1</td>\n",
       "      <td>$$ - $$$</td>\n",
       "      <td>1</td>\n",
       "    </tr>\n",
       "    <tr>\n",
       "      <th>49985</th>\n",
       "      <td>id_56</td>\n",
       "      <td>Brussels</td>\n",
       "      <td>['African', 'Ethiopian', 'Vegetarian Friendly'...</td>\n",
       "      <td>57.0</td>\n",
       "      <td>2</td>\n",
       "      <td>989.0</td>\n",
       "      <td>[['A nice experience with Ethiopian food', 'A ...</td>\n",
       "      <td>/Restaurant_Review-g188644-d778285-Reviews-Kok...</td>\n",
       "      <td>d778285</td>\n",
       "      <td>1</td>\n",
       "      <td>4.0</td>\n",
       "      <td>1.386294</td>\n",
       "      <td>1</td>\n",
       "      <td>$$ - $$$</td>\n",
       "      <td>1</td>\n",
       "    </tr>\n",
       "    <tr>\n",
       "      <th>49992</th>\n",
       "      <td>id_13</td>\n",
       "      <td>Stockholm</td>\n",
       "      <td>['Swedish', 'Scandinavian', 'Vegetarian Friend...</td>\n",
       "      <td>14.0</td>\n",
       "      <td>2</td>\n",
       "      <td>1162.0</td>\n",
       "      <td>[['Great Viking Dinner', 'A foot stompingly go...</td>\n",
       "      <td>/Restaurant_Review-g189852-d2560559-Reviews-Ai...</td>\n",
       "      <td>d2560559</td>\n",
       "      <td>1</td>\n",
       "      <td>4.5</td>\n",
       "      <td>1.386294</td>\n",
       "      <td>1</td>\n",
       "      <td>$$ - $$$</td>\n",
       "      <td>1</td>\n",
       "    </tr>\n",
       "    <tr>\n",
       "      <th>49996</th>\n",
       "      <td>id_6340</td>\n",
       "      <td>Paris</td>\n",
       "      <td>['French', 'American', 'Bar', 'European', 'Veg...</td>\n",
       "      <td>6341.0</td>\n",
       "      <td>2</td>\n",
       "      <td>542.0</td>\n",
       "      <td>[['Parisian atmosphere', 'Bit pricey but inter...</td>\n",
       "      <td>/Restaurant_Review-g187147-d1800036-Reviews-La...</td>\n",
       "      <td>d1800036</td>\n",
       "      <td>1</td>\n",
       "      <td>3.5</td>\n",
       "      <td>1.609438</td>\n",
       "      <td>1</td>\n",
       "      <td>$$ - $$$</td>\n",
       "      <td>1</td>\n",
       "    </tr>\n",
       "    <tr>\n",
       "      <th>49999</th>\n",
       "      <td>id_4824</td>\n",
       "      <td>Milan</td>\n",
       "      <td>['Spanish']</td>\n",
       "      <td>4827.0</td>\n",
       "      <td>2</td>\n",
       "      <td>260.0</td>\n",
       "      <td>[['Average', 'Nice an informal'], ['01/31/2016...</td>\n",
       "      <td>/Restaurant_Review-g187849-d1109020-Reviews-Ta...</td>\n",
       "      <td>d1109020</td>\n",
       "      <td>1</td>\n",
       "      <td>3.0</td>\n",
       "      <td>0.000000</td>\n",
       "      <td>1</td>\n",
       "      <td>$$ - $$$</td>\n",
       "      <td>1</td>\n",
       "    </tr>\n",
       "  </tbody>\n",
       "</table>\n",
       "<p>5946 rows × 15 columns</p>\n",
       "</div>"
      ],
      "text/plain": [
       "            id       city                                            cuisine  \\\n",
       "10       id_10       Rome                                                NaN   \n",
       "14       id_14     Prague  ['European', 'Czech', 'Eastern European', 'Cen...   \n",
       "16       id_16      Milan  ['Pizza', 'Vegetarian Friendly', 'Vegan Options']   \n",
       "17       id_17     London  ['Bar', 'British', 'Pub', 'Vegetarian Friendly...   \n",
       "29       id_29       Oslo  ['French', 'European', 'Norwegian', 'Italian',...   \n",
       "...        ...        ...                                                ...   \n",
       "49980   id_253       Rome  ['Italian', 'Seafood', 'Mediterranean', 'Europ...   \n",
       "49985    id_56   Brussels  ['African', 'Ethiopian', 'Vegetarian Friendly'...   \n",
       "49992    id_13  Stockholm  ['Swedish', 'Scandinavian', 'Vegetarian Friend...   \n",
       "49996  id_6340      Paris  ['French', 'American', 'Bar', 'European', 'Veg...   \n",
       "49999  id_4824      Milan                                        ['Spanish']   \n",
       "\n",
       "       ranking  price  number  \\\n",
       "10      1209.0      2   306.0   \n",
       "14      1105.0      2   273.0   \n",
       "16      1825.0      2   322.0   \n",
       "17      2349.0      2   282.0   \n",
       "29       550.0      2   465.0   \n",
       "...        ...    ...     ...   \n",
       "49980    254.0      2   560.0   \n",
       "49985     57.0      2   989.0   \n",
       "49992     14.0      2  1162.0   \n",
       "49996   6341.0      2   542.0   \n",
       "49999   4827.0      2   260.0   \n",
       "\n",
       "                                                 reviews  \\\n",
       "10     [['Very pretentious, but drinks are top notch'...   \n",
       "14     [['Good food, beer, value and service', 'Eat u...   \n",
       "16     [['truly Neapolitan pizza, new/slick location'...   \n",
       "17     [['Quite a decent pub', 'in the middle of noth...   \n",
       "29     [['Lovely food!', 'Nightmare'], ['02/26/2017',...   \n",
       "...                                                  ...   \n",
       "49980  [['Creative cocktails and pleasant atmosphere....   \n",
       "49985  [['A nice experience with Ethiopian food', 'A ...   \n",
       "49992  [['Great Viking Dinner', 'A foot stompingly go...   \n",
       "49996  [['Parisian atmosphere', 'Bit pricey but inter...   \n",
       "49999  [['Average', 'Nice an informal'], ['01/31/2016...   \n",
       "\n",
       "                                                  URL_TA      ID_TA  sample  \\\n",
       "10     /Restaurant_Review-g187791-d7818546-Reviews-Je...   d7818546       0   \n",
       "14     /Restaurant_Review-g274707-d1093021-Reviews-U_...   d1093021       0   \n",
       "16     /Restaurant_Review-g187849-d11850449-Reviews-P...  d11850449       0   \n",
       "17     /Restaurant_Review-g186338-d2188276-Reviews-Th...   d2188276       0   \n",
       "29     /Restaurant_Review-g190479-d1495732-Reviews-Mo...   d1495732       0   \n",
       "...                                                  ...        ...     ...   \n",
       "49980  /Restaurant_Review-g187791-d8273642-Reviews-Su...   d8273642       1   \n",
       "49985  /Restaurant_Review-g188644-d778285-Reviews-Kok...    d778285       1   \n",
       "49992  /Restaurant_Review-g189852-d2560559-Reviews-Ai...   d2560559       1   \n",
       "49996  /Restaurant_Review-g187147-d1800036-Reviews-La...   d1800036       1   \n",
       "49999  /Restaurant_Review-g187849-d1109020-Reviews-Ta...   d1109020       1   \n",
       "\n",
       "       rating  cuisine_c  price_ind    price1  number_ind  \n",
       "10        0.0   0.000000          0  $$ - $$$           1  \n",
       "14        0.0   1.386294          1  $$ - $$$           1  \n",
       "16        0.0   1.098612          1  $$ - $$$           1  \n",
       "17        0.0   1.609438          1  $$ - $$$           1  \n",
       "29        0.0   1.791759          1  $$ - $$$           1  \n",
       "...       ...        ...        ...       ...         ...  \n",
       "49980     4.5   1.791759          1  $$ - $$$           1  \n",
       "49985     4.0   1.386294          1  $$ - $$$           1  \n",
       "49992     4.5   1.386294          1  $$ - $$$           1  \n",
       "49996     3.5   1.609438          1  $$ - $$$           1  \n",
       "49999     3.0   0.000000          1  $$ - $$$           1  \n",
       "\n",
       "[5946 rows x 15 columns]"
      ]
     },
     "execution_count": 182,
     "metadata": {},
     "output_type": "execute_result"
    }
   ],
   "source": [
    "df[df.number > 252.0]"
   ]
  },
  {
   "cell_type": "code",
   "execution_count": 41,
   "metadata": {},
   "outputs": [
    {
     "name": "stdout",
     "output_type": "stream",
     "text": [
      "2.0       2564\n",
      "3.0       2183\n",
      "4.0       1819\n",
      "5.0       1569\n",
      "6.0       1349\n",
      "          ... \n",
      "758.0        1\n",
      "1063.0       1\n",
      "1028.0       1\n",
      "1108.0       1\n",
      "1543.0       1\n",
      "Name: number, Length: 1573, dtype: int64\n"
     ]
    }
   ],
   "source": [
    "# # заменим пропуски пропорционально имеющимся данным\n",
    "# number_vl = df.number.value_counts()\n",
    "# number_list = [number_vl.index[x] for x in range(len(number_vl))]\n",
    "# p = [number_vl[z]/number_vl.sum() for z in number_vl.index]\n",
    "# a = np.random.choice(number_list, df.number.isna().sum(), p=p)\n",
    "# count = 0\n",
    "# for i in range(len(df.number)):\n",
    "#     if pd.isna(df.loc[i, 'number']) :\n",
    "#         df.loc[i, 'number'] = a[count]\n",
    "#         count += 1\n",
    "# print(df.number.value_counts())"
   ]
  },
  {
   "cell_type": "code",
   "execution_count": 183,
   "metadata": {},
   "outputs": [],
   "source": [
    "# нормализуем колонку\n",
    "df.number = MMS(df.number)"
   ]
  },
  {
   "cell_type": "code",
   "execution_count": 184,
   "metadata": {},
   "outputs": [
    {
     "data": {
      "text/plain": [
       "<AxesSubplot:>"
      ]
     },
     "execution_count": 184,
     "metadata": {},
     "output_type": "execute_result"
    },
    {
     "data": {
      "image/png": "[encoded data removed]",
      "text/plain": [
       "<Figure size 720x720 with 1 Axes>"
      ]
     },
     "metadata": {
      "needs_background": "light"
     },
     "output_type": "display_data"
    }
   ],
   "source": [
    "df.number.hist(bins = 200)"
   ]
  },
  {
   "cell_type": "code",
   "execution_count": 185,
   "metadata": {},
   "outputs": [
    {
     "data": {
      "text/plain": [
       "(-0.014492753623188404, 0.02608695652173913)"
      ]
     },
     "execution_count": 185,
     "metadata": {},
     "output_type": "execute_result"
    }
   ],
   "source": [
    "outliers_iqr(df.number)"
   ]
  },
  {
   "cell_type": "code",
   "execution_count": 186,
   "metadata": {},
   "outputs": [
    {
     "data": {
      "text/html": [
       "<div>\n",
       "<style scoped>\n",
       "    .dataframe tbody tr th:only-of-type {\n",
       "        vertical-align: middle;\n",
       "    }\n",
       "\n",
       "    .dataframe tbody tr th {\n",
       "        vertical-align: top;\n",
       "    }\n",
       "\n",
       "    .dataframe thead th {\n",
       "        text-align: right;\n",
       "    }\n",
       "</style>\n",
       "<table border=\"1\" class=\"dataframe\">\n",
       "  <thead>\n",
       "    <tr style=\"text-align: right;\">\n",
       "      <th></th>\n",
       "      <th>id</th>\n",
       "      <th>city</th>\n",
       "      <th>cuisine</th>\n",
       "      <th>ranking</th>\n",
       "      <th>price</th>\n",
       "      <th>number</th>\n",
       "      <th>reviews</th>\n",
       "      <th>URL_TA</th>\n",
       "      <th>ID_TA</th>\n",
       "      <th>sample</th>\n",
       "      <th>rating</th>\n",
       "      <th>cuisine_c</th>\n",
       "      <th>price_ind</th>\n",
       "      <th>price1</th>\n",
       "      <th>number_ind</th>\n",
       "    </tr>\n",
       "  </thead>\n",
       "  <tbody>\n",
       "    <tr>\n",
       "      <th>10</th>\n",
       "      <td>id_10</td>\n",
       "      <td>Rome</td>\n",
       "      <td>NaN</td>\n",
       "      <td>1209.0</td>\n",
       "      <td>2</td>\n",
       "      <td>0.031677</td>\n",
       "      <td>[['Very pretentious, but drinks are top notch'...</td>\n",
       "      <td>/Restaurant_Review-g187791-d7818546-Reviews-Je...</td>\n",
       "      <td>d7818546</td>\n",
       "      <td>0</td>\n",
       "      <td>0.0</td>\n",
       "      <td>0.000000</td>\n",
       "      <td>0</td>\n",
       "      <td>$$ - $$$</td>\n",
       "      <td>1</td>\n",
       "    </tr>\n",
       "    <tr>\n",
       "      <th>14</th>\n",
       "      <td>id_14</td>\n",
       "      <td>Prague</td>\n",
       "      <td>['European', 'Czech', 'Eastern European', 'Cen...</td>\n",
       "      <td>1105.0</td>\n",
       "      <td>2</td>\n",
       "      <td>0.028261</td>\n",
       "      <td>[['Good food, beer, value and service', 'Eat u...</td>\n",
       "      <td>/Restaurant_Review-g274707-d1093021-Reviews-U_...</td>\n",
       "      <td>d1093021</td>\n",
       "      <td>0</td>\n",
       "      <td>0.0</td>\n",
       "      <td>1.386294</td>\n",
       "      <td>1</td>\n",
       "      <td>$$ - $$$</td>\n",
       "      <td>1</td>\n",
       "    </tr>\n",
       "    <tr>\n",
       "      <th>16</th>\n",
       "      <td>id_16</td>\n",
       "      <td>Milan</td>\n",
       "      <td>['Pizza', 'Vegetarian Friendly', 'Vegan Options']</td>\n",
       "      <td>1825.0</td>\n",
       "      <td>2</td>\n",
       "      <td>0.033333</td>\n",
       "      <td>[['truly Neapolitan pizza, new/slick location'...</td>\n",
       "      <td>/Restaurant_Review-g187849-d11850449-Reviews-P...</td>\n",
       "      <td>d11850449</td>\n",
       "      <td>0</td>\n",
       "      <td>0.0</td>\n",
       "      <td>1.098612</td>\n",
       "      <td>1</td>\n",
       "      <td>$$ - $$$</td>\n",
       "      <td>1</td>\n",
       "    </tr>\n",
       "    <tr>\n",
       "      <th>17</th>\n",
       "      <td>id_17</td>\n",
       "      <td>London</td>\n",
       "      <td>['Bar', 'British', 'Pub', 'Vegetarian Friendly...</td>\n",
       "      <td>2349.0</td>\n",
       "      <td>2</td>\n",
       "      <td>0.029193</td>\n",
       "      <td>[['Quite a decent pub', 'in the middle of noth...</td>\n",
       "      <td>/Restaurant_Review-g186338-d2188276-Reviews-Th...</td>\n",
       "      <td>d2188276</td>\n",
       "      <td>0</td>\n",
       "      <td>0.0</td>\n",
       "      <td>1.609438</td>\n",
       "      <td>1</td>\n",
       "      <td>$$ - $$$</td>\n",
       "      <td>1</td>\n",
       "    </tr>\n",
       "    <tr>\n",
       "      <th>29</th>\n",
       "      <td>id_29</td>\n",
       "      <td>Oslo</td>\n",
       "      <td>['French', 'European', 'Norwegian', 'Italian',...</td>\n",
       "      <td>550.0</td>\n",
       "      <td>2</td>\n",
       "      <td>0.048137</td>\n",
       "      <td>[['Lovely food!', 'Nightmare'], ['02/26/2017',...</td>\n",
       "      <td>/Restaurant_Review-g190479-d1495732-Reviews-Mo...</td>\n",
       "      <td>d1495732</td>\n",
       "      <td>0</td>\n",
       "      <td>0.0</td>\n",
       "      <td>1.791759</td>\n",
       "      <td>1</td>\n",
       "      <td>$$ - $$$</td>\n",
       "      <td>1</td>\n",
       "    </tr>\n",
       "    <tr>\n",
       "      <th>...</th>\n",
       "      <td>...</td>\n",
       "      <td>...</td>\n",
       "      <td>...</td>\n",
       "      <td>...</td>\n",
       "      <td>...</td>\n",
       "      <td>...</td>\n",
       "      <td>...</td>\n",
       "      <td>...</td>\n",
       "      <td>...</td>\n",
       "      <td>...</td>\n",
       "      <td>...</td>\n",
       "      <td>...</td>\n",
       "      <td>...</td>\n",
       "      <td>...</td>\n",
       "      <td>...</td>\n",
       "    </tr>\n",
       "    <tr>\n",
       "      <th>49980</th>\n",
       "      <td>id_253</td>\n",
       "      <td>Rome</td>\n",
       "      <td>['Italian', 'Seafood', 'Mediterranean', 'Europ...</td>\n",
       "      <td>254.0</td>\n",
       "      <td>2</td>\n",
       "      <td>0.057971</td>\n",
       "      <td>[['Creative cocktails and pleasant atmosphere....</td>\n",
       "      <td>/Restaurant_Review-g187791-d8273642-Reviews-Su...</td>\n",
       "      <td>d8273642</td>\n",
       "      <td>1</td>\n",
       "      <td>4.5</td>\n",
       "      <td>1.791759</td>\n",
       "      <td>1</td>\n",
       "      <td>$$ - $$$</td>\n",
       "      <td>1</td>\n",
       "    </tr>\n",
       "    <tr>\n",
       "      <th>49985</th>\n",
       "      <td>id_56</td>\n",
       "      <td>Brussels</td>\n",
       "      <td>['African', 'Ethiopian', 'Vegetarian Friendly'...</td>\n",
       "      <td>57.0</td>\n",
       "      <td>2</td>\n",
       "      <td>0.102381</td>\n",
       "      <td>[['A nice experience with Ethiopian food', 'A ...</td>\n",
       "      <td>/Restaurant_Review-g188644-d778285-Reviews-Kok...</td>\n",
       "      <td>d778285</td>\n",
       "      <td>1</td>\n",
       "      <td>4.0</td>\n",
       "      <td>1.386294</td>\n",
       "      <td>1</td>\n",
       "      <td>$$ - $$$</td>\n",
       "      <td>1</td>\n",
       "    </tr>\n",
       "    <tr>\n",
       "      <th>49992</th>\n",
       "      <td>id_13</td>\n",
       "      <td>Stockholm</td>\n",
       "      <td>['Swedish', 'Scandinavian', 'Vegetarian Friend...</td>\n",
       "      <td>14.0</td>\n",
       "      <td>2</td>\n",
       "      <td>0.120290</td>\n",
       "      <td>[['Great Viking Dinner', 'A foot stompingly go...</td>\n",
       "      <td>/Restaurant_Review-g189852-d2560559-Reviews-Ai...</td>\n",
       "      <td>d2560559</td>\n",
       "      <td>1</td>\n",
       "      <td>4.5</td>\n",
       "      <td>1.386294</td>\n",
       "      <td>1</td>\n",
       "      <td>$$ - $$$</td>\n",
       "      <td>1</td>\n",
       "    </tr>\n",
       "    <tr>\n",
       "      <th>49996</th>\n",
       "      <td>id_6340</td>\n",
       "      <td>Paris</td>\n",
       "      <td>['French', 'American', 'Bar', 'European', 'Veg...</td>\n",
       "      <td>6341.0</td>\n",
       "      <td>2</td>\n",
       "      <td>0.056108</td>\n",
       "      <td>[['Parisian atmosphere', 'Bit pricey but inter...</td>\n",
       "      <td>/Restaurant_Review-g187147-d1800036-Reviews-La...</td>\n",
       "      <td>d1800036</td>\n",
       "      <td>1</td>\n",
       "      <td>3.5</td>\n",
       "      <td>1.609438</td>\n",
       "      <td>1</td>\n",
       "      <td>$$ - $$$</td>\n",
       "      <td>1</td>\n",
       "    </tr>\n",
       "    <tr>\n",
       "      <th>49999</th>\n",
       "      <td>id_4824</td>\n",
       "      <td>Milan</td>\n",
       "      <td>['Spanish']</td>\n",
       "      <td>4827.0</td>\n",
       "      <td>2</td>\n",
       "      <td>0.026915</td>\n",
       "      <td>[['Average', 'Nice an informal'], ['01/31/2016...</td>\n",
       "      <td>/Restaurant_Review-g187849-d1109020-Reviews-Ta...</td>\n",
       "      <td>d1109020</td>\n",
       "      <td>1</td>\n",
       "      <td>3.0</td>\n",
       "      <td>0.000000</td>\n",
       "      <td>1</td>\n",
       "      <td>$$ - $$$</td>\n",
       "      <td>1</td>\n",
       "    </tr>\n",
       "  </tbody>\n",
       "</table>\n",
       "<p>5946 rows × 15 columns</p>\n",
       "</div>"
      ],
      "text/plain": [
       "            id       city                                            cuisine  \\\n",
       "10       id_10       Rome                                                NaN   \n",
       "14       id_14     Prague  ['European', 'Czech', 'Eastern European', 'Cen...   \n",
       "16       id_16      Milan  ['Pizza', 'Vegetarian Friendly', 'Vegan Options']   \n",
       "17       id_17     London  ['Bar', 'British', 'Pub', 'Vegetarian Friendly...   \n",
       "29       id_29       Oslo  ['French', 'European', 'Norwegian', 'Italian',...   \n",
       "...        ...        ...                                                ...   \n",
       "49980   id_253       Rome  ['Italian', 'Seafood', 'Mediterranean', 'Europ...   \n",
       "49985    id_56   Brussels  ['African', 'Ethiopian', 'Vegetarian Friendly'...   \n",
       "49992    id_13  Stockholm  ['Swedish', 'Scandinavian', 'Vegetarian Friend...   \n",
       "49996  id_6340      Paris  ['French', 'American', 'Bar', 'European', 'Veg...   \n",
       "49999  id_4824      Milan                                        ['Spanish']   \n",
       "\n",
       "       ranking  price    number  \\\n",
       "10      1209.0      2  0.031677   \n",
       "14      1105.0      2  0.028261   \n",
       "16      1825.0      2  0.033333   \n",
       "17      2349.0      2  0.029193   \n",
       "29       550.0      2  0.048137   \n",
       "...        ...    ...       ...   \n",
       "49980    254.0      2  0.057971   \n",
       "49985     57.0      2  0.102381   \n",
       "49992     14.0      2  0.120290   \n",
       "49996   6341.0      2  0.056108   \n",
       "49999   4827.0      2  0.026915   \n",
       "\n",
       "                                                 reviews  \\\n",
       "10     [['Very pretentious, but drinks are top notch'...   \n",
       "14     [['Good food, beer, value and service', 'Eat u...   \n",
       "16     [['truly Neapolitan pizza, new/slick location'...   \n",
       "17     [['Quite a decent pub', 'in the middle of noth...   \n",
       "29     [['Lovely food!', 'Nightmare'], ['02/26/2017',...   \n",
       "...                                                  ...   \n",
       "49980  [['Creative cocktails and pleasant atmosphere....   \n",
       "49985  [['A nice experience with Ethiopian food', 'A ...   \n",
       "49992  [['Great Viking Dinner', 'A foot stompingly go...   \n",
       "49996  [['Parisian atmosphere', 'Bit pricey but inter...   \n",
       "49999  [['Average', 'Nice an informal'], ['01/31/2016...   \n",
       "\n",
       "                                                  URL_TA      ID_TA  sample  \\\n",
       "10     /Restaurant_Review-g187791-d7818546-Reviews-Je...   d7818546       0   \n",
       "14     /Restaurant_Review-g274707-d1093021-Reviews-U_...   d1093021       0   \n",
       "16     /Restaurant_Review-g187849-d11850449-Reviews-P...  d11850449       0   \n",
       "17     /Restaurant_Review-g186338-d2188276-Reviews-Th...   d2188276       0   \n",
       "29     /Restaurant_Review-g190479-d1495732-Reviews-Mo...   d1495732       0   \n",
       "...                                                  ...        ...     ...   \n",
       "49980  /Restaurant_Review-g187791-d8273642-Reviews-Su...   d8273642       1   \n",
       "49985  /Restaurant_Review-g188644-d778285-Reviews-Kok...    d778285       1   \n",
       "49992  /Restaurant_Review-g189852-d2560559-Reviews-Ai...   d2560559       1   \n",
       "49996  /Restaurant_Review-g187147-d1800036-Reviews-La...   d1800036       1   \n",
       "49999  /Restaurant_Review-g187849-d1109020-Reviews-Ta...   d1109020       1   \n",
       "\n",
       "       rating  cuisine_c  price_ind    price1  number_ind  \n",
       "10        0.0   0.000000          0  $$ - $$$           1  \n",
       "14        0.0   1.386294          1  $$ - $$$           1  \n",
       "16        0.0   1.098612          1  $$ - $$$           1  \n",
       "17        0.0   1.609438          1  $$ - $$$           1  \n",
       "29        0.0   1.791759          1  $$ - $$$           1  \n",
       "...       ...        ...        ...       ...         ...  \n",
       "49980     4.5   1.791759          1  $$ - $$$           1  \n",
       "49985     4.0   1.386294          1  $$ - $$$           1  \n",
       "49992     4.5   1.386294          1  $$ - $$$           1  \n",
       "49996     3.5   1.609438          1  $$ - $$$           1  \n",
       "49999     3.0   0.000000          1  $$ - $$$           1  \n",
       "\n",
       "[5946 rows x 15 columns]"
      ]
     },
     "execution_count": 186,
     "metadata": {},
     "output_type": "execute_result"
    }
   ],
   "source": [
    "df[df.number > 0.02608695652173913]"
   ]
  },
  {
   "cell_type": "markdown",
   "metadata": {},
   "source": [
    "# reviews"
   ]
  },
  {
   "cell_type": "code",
   "execution_count": 187,
   "metadata": {},
   "outputs": [],
   "source": [
    "# выделим из колонки даты и посчитаем разницу между ними\n",
    "df4 = pd.DataFrame(df.reviews)\n",
    "pattern = re.compile('\\d+\\/\\d+\\/\\d+')\n",
    "df4.reviews = df4.reviews.apply(lambda x: re.findall(pattern, str(x)))\n",
    "df4['date2'] = df4.reviews.apply(lambda x: datetime.strptime(x[-1], '%m/%d/%Y') if len(x) == 2 else np.nan)\n",
    "df4['date1'] = df4.reviews.apply(lambda x: datetime.strptime(x[0], '%m/%d/%Y') if len(x) == 2 or len(x) == 1 else np.nan)\n",
    "df4['dt'] = df4.date1 - df4.date2\n",
    "df4['dt'] = df4['dt'].apply(lambda x: x.days)"
   ]
  },
  {
   "cell_type": "code",
   "execution_count": 188,
   "metadata": {},
   "outputs": [
    {
     "name": "stdout",
     "output_type": "stream",
     "text": [
      "количество пустых строк 13798\n"
     ]
    },
    {
     "data": {
      "text/plain": [
       "<AxesSubplot:>"
      ]
     },
     "execution_count": 188,
     "metadata": {},
     "output_type": "execute_result"
    },
    {
     "data": {
      "image/png": "[encoded data removed]",
      "text/plain": [
       "<Figure size 720x720 with 1 Axes>"
      ]
     },
     "metadata": {
      "needs_background": "light"
     },
     "output_type": "display_data"
    }
   ],
   "source": [
    "print('количество пустых строк', df4.dt.isna().sum())\n",
    "# пометим пустые строки\n",
    "df4['dt_ind'] = df4.dt.isna()\n",
    "df4['dt_ind'] = df4['dt_ind'].apply(lambda x: 0 if x else 1)\n",
    "df4.dt.hist()"
   ]
  },
  {
   "cell_type": "code",
   "execution_count": 189,
   "metadata": {},
   "outputs": [
    {
     "name": "stdout",
     "output_type": "stream",
     "text": [
      "значения и их количество\n",
      " 1.0       829\n",
      "0.0       631\n",
      "2.0       629\n",
      "3.0       606\n",
      "4.0       538\n",
      "         ... \n",
      "1124.0      1\n",
      "918.0       1\n",
      "2425.0      1\n",
      "1355.0      1\n",
      "1727.0      1\n",
      "Name: dt, Length: 1310, dtype: int64\n"
     ]
    }
   ],
   "source": [
    "# отрицательные значения сделаем положительными\n",
    "df4.dt = np.abs(df4.dt)\n",
    "dt_vl = df4.dt.value_counts()\n",
    "print('значения и их количество\\n', dt_vl)"
   ]
  },
  {
   "cell_type": "code",
   "execution_count": 190,
   "metadata": {},
   "outputs": [
    {
     "name": "stdout",
     "output_type": "stream",
     "text": [
      "1.0       1196\n",
      "0.0        886\n",
      "2.0        864\n",
      "3.0        853\n",
      "4.0        737\n",
      "          ... \n",
      "1779.0       1\n",
      "659.0        1\n",
      "1576.0       1\n",
      "1001.0       1\n",
      "1578.0       1\n",
      "Name: dt, Length: 1310, dtype: int64\n"
     ]
    }
   ],
   "source": [
    "# заменим пропуски пропорционально имеющимся данным\n",
    "dt_list = [dt_vl.index[x] for x in range(len(dt_vl))]\n",
    "p = [dt_vl[z]/dt_vl.sum() for z in dt_vl.index]\n",
    "a = np.random.choice(dt_list, df4.dt.isna().sum(), p=p)\n",
    "count = 0\n",
    "for i in range(len(df4.dt)):\n",
    "    if pd.isna(df4.loc[i, 'dt']) :\n",
    "        df4.loc[i, 'dt'] = a[count]\n",
    "        count += 1\n",
    "print(df4.dt.value_counts())"
   ]
  },
  {
   "cell_type": "code",
   "execution_count": 191,
   "metadata": {},
   "outputs": [
    {
     "data": {
      "text/plain": [
       "<AxesSubplot:>"
      ]
     },
     "execution_count": 191,
     "metadata": {},
     "output_type": "execute_result"
    },
    {
     "data": {
      "image/png": "[encoded data removed]",
      "text/plain": [
       "<Figure size 720x720 with 1 Axes>"
      ]
     },
     "metadata": {
      "needs_background": "light"
     },
     "output_type": "display_data"
    }
   ],
   "source": [
    "df4.dt.hist()"
   ]
  },
  {
   "cell_type": "code",
   "execution_count": 192,
   "metadata": {},
   "outputs": [],
   "source": [
    "df['dt'] = df4.dt\n",
    "df['dt_ind'] = df4['dt_ind']"
   ]
  },
  {
   "cell_type": "code",
   "execution_count": 193,
   "metadata": {},
   "outputs": [],
   "source": [
    "df.dt = MMS(df.dt)"
   ]
  },
  {
   "cell_type": "code",
   "execution_count": 194,
   "metadata": {},
   "outputs": [],
   "source": [
    "text = df.reviews.str.replace(',', '')"
   ]
  },
  {
   "cell_type": "code",
   "execution_count": 195,
   "metadata": {},
   "outputs": [
    {
     "data": {
      "text/plain": [
       "[[] []]                                                                                             8112\n",
       "[['Excellent'] ['09/03/2015']]                                                                         2\n",
       "[['Thursday snack' 'Good value for money & good food!'] ['03/13/2017' '06/20/2016']]                   2\n",
       "[['The real codido madrileño'] ['03/31/2017']]                                                         2\n",
       "[['Great coffee and pastries sandwiches ver...' 'Great breakfast!'] ['02/21/2017' '09/19/2016']]       2\n",
       "                                                                                                    ... \n",
       "[['Great spot friendly staff' 'Nice vegan food'] ['10/24/2017' '02/28/2016']]                          1\n",
       "[['Beyond Excellent' 'Dinner with friends'] ['01/07/2018' '12/29/2017']]                               1\n",
       "[['The best' 'In the middle of the action'] ['12/02/2017' '11/03/2017']]                               1\n",
       "[['Great cakes!' 'Excellent breakfast/pastry/service/decorat...'] ['12/23/2017' '01/05/2018']]         1\n",
       "[['Amazing seaside view and good food' 'Horrifically slow service'] ['07/16/2017' '06/08/2017']]       1\n",
       "Name: reviews, Length: 41856, dtype: int64"
      ]
     },
     "execution_count": 195,
     "metadata": {},
     "output_type": "execute_result"
    }
   ],
   "source": [
    "text.value_counts()"
   ]
  },
  {
   "cell_type": "code",
   "execution_count": 196,
   "metadata": {},
   "outputs": [],
   "source": [
    "pattern1 = re.compile('\\D+')\n",
    "text = text.apply(lambda x: re.findall(pattern1, str(x)))"
   ]
  },
  {
   "cell_type": "code",
   "execution_count": 197,
   "metadata": {},
   "outputs": [],
   "source": [
    "analysisPol = text.apply(lambda x: TextBlob(str(x)).polarity)"
   ]
  },
  {
   "cell_type": "code",
   "execution_count": 198,
   "metadata": {},
   "outputs": [],
   "source": [
    "df['analysisPol'] = analysisPol"
   ]
  },
  {
   "cell_type": "code",
   "execution_count": 199,
   "metadata": {},
   "outputs": [],
   "source": [
    "analysisSub = text.apply(lambda x: TextBlob(str(x)).subjectivity)"
   ]
  },
  {
   "cell_type": "code",
   "execution_count": 200,
   "metadata": {},
   "outputs": [],
   "source": [
    "df['analysisSub'] = analysisSub"
   ]
  },
  {
   "cell_type": "code",
   "execution_count": 201,
   "metadata": {},
   "outputs": [
    {
     "data": {
      "text/plain": [
       "<AxesSubplot:>"
      ]
     },
     "execution_count": 201,
     "metadata": {},
     "output_type": "execute_result"
    },
    {
     "data": {
      "image/png": "[encoded data removed]",
      "text/plain": [
       "<Figure size 720x720 with 1 Axes>"
      ]
     },
     "metadata": {
      "needs_background": "light"
     },
     "output_type": "display_data"
    }
   ],
   "source": [
    "df['analysisPol'].hist()"
   ]
  },
  {
   "cell_type": "code",
   "execution_count": 202,
   "metadata": {},
   "outputs": [
    {
     "data": {
      "text/plain": [
       "<AxesSubplot:>"
      ]
     },
     "execution_count": 202,
     "metadata": {},
     "output_type": "execute_result"
    },
    {
     "data": {
      "image/png": "[encoded data removed]",
      "text/plain": [
       "<Figure size 720x720 with 1 Axes>"
      ]
     },
     "metadata": {
      "needs_background": "light"
     },
     "output_type": "display_data"
    }
   ],
   "source": [
    "df['analysisSub'].hist()"
   ]
  },
  {
   "cell_type": "code",
   "execution_count": 203,
   "metadata": {},
   "outputs": [
    {
     "data": {
      "text/html": [
       "<div>\n",
       "<style scoped>\n",
       "    .dataframe tbody tr th:only-of-type {\n",
       "        vertical-align: middle;\n",
       "    }\n",
       "\n",
       "    .dataframe tbody tr th {\n",
       "        vertical-align: top;\n",
       "    }\n",
       "\n",
       "    .dataframe thead th {\n",
       "        text-align: right;\n",
       "    }\n",
       "</style>\n",
       "<table border=\"1\" class=\"dataframe\">\n",
       "  <thead>\n",
       "    <tr style=\"text-align: right;\">\n",
       "      <th></th>\n",
       "      <th>ranking</th>\n",
       "      <th>price</th>\n",
       "      <th>number</th>\n",
       "      <th>rating</th>\n",
       "      <th>cuisine_c</th>\n",
       "      <th>price_ind</th>\n",
       "      <th>number_ind</th>\n",
       "      <th>dt</th>\n",
       "      <th>dt_ind</th>\n",
       "      <th>analysisPol</th>\n",
       "      <th>analysisSub</th>\n",
       "    </tr>\n",
       "  </thead>\n",
       "  <tbody>\n",
       "    <tr>\n",
       "      <th>ranking</th>\n",
       "      <td>1.000000</td>\n",
       "      <td>-0.061680</td>\n",
       "      <td>-0.223156</td>\n",
       "      <td>-0.109897</td>\n",
       "      <td>-0.320777</td>\n",
       "      <td>-0.233946</td>\n",
       "      <td>-0.094831</td>\n",
       "      <td>0.101178</td>\n",
       "      <td>-0.149709</td>\n",
       "      <td>-0.204977</td>\n",
       "      <td>-0.118341</td>\n",
       "    </tr>\n",
       "    <tr>\n",
       "      <th>price</th>\n",
       "      <td>-0.061680</td>\n",
       "      <td>1.000000</td>\n",
       "      <td>0.134776</td>\n",
       "      <td>-0.008169</td>\n",
       "      <td>0.091715</td>\n",
       "      <td>-0.000083</td>\n",
       "      <td>0.010021</td>\n",
       "      <td>-0.037228</td>\n",
       "      <td>0.039375</td>\n",
       "      <td>0.015216</td>\n",
       "      <td>0.032793</td>\n",
       "    </tr>\n",
       "    <tr>\n",
       "      <th>number</th>\n",
       "      <td>-0.223156</td>\n",
       "      <td>0.134776</td>\n",
       "      <td>1.000000</td>\n",
       "      <td>0.011011</td>\n",
       "      <td>0.382942</td>\n",
       "      <td>0.266849</td>\n",
       "      <td>0.106146</td>\n",
       "      <td>-0.144184</td>\n",
       "      <td>0.227142</td>\n",
       "      <td>0.137815</td>\n",
       "      <td>0.143848</td>\n",
       "    </tr>\n",
       "    <tr>\n",
       "      <th>rating</th>\n",
       "      <td>-0.109897</td>\n",
       "      <td>-0.008169</td>\n",
       "      <td>0.011011</td>\n",
       "      <td>1.000000</td>\n",
       "      <td>0.034211</td>\n",
       "      <td>0.020519</td>\n",
       "      <td>0.000631</td>\n",
       "      <td>-0.024660</td>\n",
       "      <td>0.005490</td>\n",
       "      <td>0.081667</td>\n",
       "      <td>0.017122</td>\n",
       "    </tr>\n",
       "    <tr>\n",
       "      <th>cuisine_c</th>\n",
       "      <td>-0.320777</td>\n",
       "      <td>0.091715</td>\n",
       "      <td>0.382942</td>\n",
       "      <td>0.034211</td>\n",
       "      <td>1.000000</td>\n",
       "      <td>0.642196</td>\n",
       "      <td>0.196323</td>\n",
       "      <td>-0.222431</td>\n",
       "      <td>0.431717</td>\n",
       "      <td>0.240331</td>\n",
       "      <td>0.272759</td>\n",
       "    </tr>\n",
       "    <tr>\n",
       "      <th>price_ind</th>\n",
       "      <td>-0.233946</td>\n",
       "      <td>-0.000083</td>\n",
       "      <td>0.266849</td>\n",
       "      <td>0.020519</td>\n",
       "      <td>0.642196</td>\n",
       "      <td>1.000000</td>\n",
       "      <td>0.267568</td>\n",
       "      <td>-0.142745</td>\n",
       "      <td>0.511168</td>\n",
       "      <td>0.243355</td>\n",
       "      <td>0.329264</td>\n",
       "    </tr>\n",
       "    <tr>\n",
       "      <th>number_ind</th>\n",
       "      <td>-0.094831</td>\n",
       "      <td>0.010021</td>\n",
       "      <td>0.106146</td>\n",
       "      <td>0.000631</td>\n",
       "      <td>0.196323</td>\n",
       "      <td>0.267568</td>\n",
       "      <td>1.000000</td>\n",
       "      <td>-0.004478</td>\n",
       "      <td>0.423555</td>\n",
       "      <td>0.169902</td>\n",
       "      <td>0.260916</td>\n",
       "    </tr>\n",
       "    <tr>\n",
       "      <th>dt</th>\n",
       "      <td>0.101178</td>\n",
       "      <td>-0.037228</td>\n",
       "      <td>-0.144184</td>\n",
       "      <td>-0.024660</td>\n",
       "      <td>-0.222431</td>\n",
       "      <td>-0.142745</td>\n",
       "      <td>-0.004478</td>\n",
       "      <td>1.000000</td>\n",
       "      <td>-0.006424</td>\n",
       "      <td>-0.039363</td>\n",
       "      <td>-0.019164</td>\n",
       "    </tr>\n",
       "    <tr>\n",
       "      <th>dt_ind</th>\n",
       "      <td>-0.149709</td>\n",
       "      <td>0.039375</td>\n",
       "      <td>0.227142</td>\n",
       "      <td>0.005490</td>\n",
       "      <td>0.431717</td>\n",
       "      <td>0.511168</td>\n",
       "      <td>0.423555</td>\n",
       "      <td>-0.006424</td>\n",
       "      <td>1.000000</td>\n",
       "      <td>0.359071</td>\n",
       "      <td>0.562176</td>\n",
       "    </tr>\n",
       "    <tr>\n",
       "      <th>analysisPol</th>\n",
       "      <td>-0.204977</td>\n",
       "      <td>0.015216</td>\n",
       "      <td>0.137815</td>\n",
       "      <td>0.081667</td>\n",
       "      <td>0.240331</td>\n",
       "      <td>0.243355</td>\n",
       "      <td>0.169902</td>\n",
       "      <td>-0.039363</td>\n",
       "      <td>0.359071</td>\n",
       "      <td>1.000000</td>\n",
       "      <td>0.559503</td>\n",
       "    </tr>\n",
       "    <tr>\n",
       "      <th>analysisSub</th>\n",
       "      <td>-0.118341</td>\n",
       "      <td>0.032793</td>\n",
       "      <td>0.143848</td>\n",
       "      <td>0.017122</td>\n",
       "      <td>0.272759</td>\n",
       "      <td>0.329264</td>\n",
       "      <td>0.260916</td>\n",
       "      <td>-0.019164</td>\n",
       "      <td>0.562176</td>\n",
       "      <td>0.559503</td>\n",
       "      <td>1.000000</td>\n",
       "    </tr>\n",
       "  </tbody>\n",
       "</table>\n",
       "</div>"
      ],
      "text/plain": [
       "              ranking     price    number    rating  cuisine_c  price_ind  \\\n",
       "ranking      1.000000 -0.061680 -0.223156 -0.109897  -0.320777  -0.233946   \n",
       "price       -0.061680  1.000000  0.134776 -0.008169   0.091715  -0.000083   \n",
       "number      -0.223156  0.134776  1.000000  0.011011   0.382942   0.266849   \n",
       "rating      -0.109897 -0.008169  0.011011  1.000000   0.034211   0.020519   \n",
       "cuisine_c   -0.320777  0.091715  0.382942  0.034211   1.000000   0.642196   \n",
       "price_ind   -0.233946 -0.000083  0.266849  0.020519   0.642196   1.000000   \n",
       "number_ind  -0.094831  0.010021  0.106146  0.000631   0.196323   0.267568   \n",
       "dt           0.101178 -0.037228 -0.144184 -0.024660  -0.222431  -0.142745   \n",
       "dt_ind      -0.149709  0.039375  0.227142  0.005490   0.431717   0.511168   \n",
       "analysisPol -0.204977  0.015216  0.137815  0.081667   0.240331   0.243355   \n",
       "analysisSub -0.118341  0.032793  0.143848  0.017122   0.272759   0.329264   \n",
       "\n",
       "             number_ind        dt    dt_ind  analysisPol  analysisSub  \n",
       "ranking       -0.094831  0.101178 -0.149709    -0.204977    -0.118341  \n",
       "price          0.010021 -0.037228  0.039375     0.015216     0.032793  \n",
       "number         0.106146 -0.144184  0.227142     0.137815     0.143848  \n",
       "rating         0.000631 -0.024660  0.005490     0.081667     0.017122  \n",
       "cuisine_c      0.196323 -0.222431  0.431717     0.240331     0.272759  \n",
       "price_ind      0.267568 -0.142745  0.511168     0.243355     0.329264  \n",
       "number_ind     1.000000 -0.004478  0.423555     0.169902     0.260916  \n",
       "dt            -0.004478  1.000000 -0.006424    -0.039363    -0.019164  \n",
       "dt_ind         0.423555 -0.006424  1.000000     0.359071     0.562176  \n",
       "analysisPol    0.169902 -0.039363  0.359071     1.000000     0.559503  \n",
       "analysisSub    0.260916 -0.019164  0.562176     0.559503     1.000000  "
      ]
     },
     "execution_count": 203,
     "metadata": {},
     "output_type": "execute_result"
    }
   ],
   "source": [
    "corr_matrix = df.drop(columns=['id', 'sample']).corr(method='pearson')\n",
    "corr_matrix"
   ]
  },
  {
   "cell_type": "code",
   "execution_count": 204,
   "metadata": {},
   "outputs": [
    {
     "data": {
      "text/plain": [
       "<AxesSubplot:>"
      ]
     },
     "execution_count": 204,
     "metadata": {},
     "output_type": "execute_result"
    },
    {
     "data": {
      "image/png": "[encoded data removed]",
      "text/plain": [
       "<Figure size 720x720 with 2 Axes>"
      ]
     },
     "metadata": {
      "needs_background": "light"
     },
     "output_type": "display_data"
    }
   ],
   "source": [
    "sns.heatmap(corr_matrix, annot = True, cmap=\"RdBu\")"
   ]
  },
  {
   "cell_type": "code",
   "execution_count": 205,
   "metadata": {},
   "outputs": [
    {
     "data": {
      "text/html": [
       "<div>\n",
       "<style scoped>\n",
       "    .dataframe tbody tr th:only-of-type {\n",
       "        vertical-align: middle;\n",
       "    }\n",
       "\n",
       "    .dataframe tbody tr th {\n",
       "        vertical-align: top;\n",
       "    }\n",
       "\n",
       "    .dataframe thead th {\n",
       "        text-align: right;\n",
       "    }\n",
       "</style>\n",
       "<table border=\"1\" class=\"dataframe\">\n",
       "  <thead>\n",
       "    <tr style=\"text-align: right;\">\n",
       "      <th></th>\n",
       "      <th>ranking</th>\n",
       "      <th>price</th>\n",
       "      <th>number</th>\n",
       "      <th>rating</th>\n",
       "      <th>cuisine_c</th>\n",
       "      <th>price_ind</th>\n",
       "      <th>number_ind</th>\n",
       "      <th>dt</th>\n",
       "      <th>dt_ind</th>\n",
       "      <th>analysisPol</th>\n",
       "      <th>analysisSub</th>\n",
       "    </tr>\n",
       "  </thead>\n",
       "  <tbody>\n",
       "    <tr>\n",
       "      <th>ranking</th>\n",
       "      <td>1</td>\n",
       "      <td></td>\n",
       "      <td></td>\n",
       "      <td></td>\n",
       "      <td></td>\n",
       "      <td></td>\n",
       "      <td></td>\n",
       "      <td></td>\n",
       "      <td></td>\n",
       "      <td></td>\n",
       "      <td></td>\n",
       "    </tr>\n",
       "    <tr>\n",
       "      <th>price</th>\n",
       "      <td></td>\n",
       "      <td>1</td>\n",
       "      <td></td>\n",
       "      <td></td>\n",
       "      <td></td>\n",
       "      <td></td>\n",
       "      <td></td>\n",
       "      <td></td>\n",
       "      <td></td>\n",
       "      <td></td>\n",
       "      <td></td>\n",
       "    </tr>\n",
       "    <tr>\n",
       "      <th>number</th>\n",
       "      <td></td>\n",
       "      <td></td>\n",
       "      <td>1</td>\n",
       "      <td></td>\n",
       "      <td></td>\n",
       "      <td></td>\n",
       "      <td></td>\n",
       "      <td></td>\n",
       "      <td></td>\n",
       "      <td></td>\n",
       "      <td></td>\n",
       "    </tr>\n",
       "    <tr>\n",
       "      <th>rating</th>\n",
       "      <td></td>\n",
       "      <td></td>\n",
       "      <td></td>\n",
       "      <td>1</td>\n",
       "      <td></td>\n",
       "      <td></td>\n",
       "      <td></td>\n",
       "      <td></td>\n",
       "      <td></td>\n",
       "      <td></td>\n",
       "      <td></td>\n",
       "    </tr>\n",
       "    <tr>\n",
       "      <th>cuisine_c</th>\n",
       "      <td></td>\n",
       "      <td></td>\n",
       "      <td></td>\n",
       "      <td></td>\n",
       "      <td>1</td>\n",
       "      <td></td>\n",
       "      <td></td>\n",
       "      <td></td>\n",
       "      <td></td>\n",
       "      <td></td>\n",
       "      <td></td>\n",
       "    </tr>\n",
       "    <tr>\n",
       "      <th>price_ind</th>\n",
       "      <td></td>\n",
       "      <td></td>\n",
       "      <td></td>\n",
       "      <td></td>\n",
       "      <td></td>\n",
       "      <td>1</td>\n",
       "      <td></td>\n",
       "      <td></td>\n",
       "      <td></td>\n",
       "      <td></td>\n",
       "      <td></td>\n",
       "    </tr>\n",
       "    <tr>\n",
       "      <th>number_ind</th>\n",
       "      <td></td>\n",
       "      <td></td>\n",
       "      <td></td>\n",
       "      <td></td>\n",
       "      <td></td>\n",
       "      <td></td>\n",
       "      <td>1</td>\n",
       "      <td></td>\n",
       "      <td></td>\n",
       "      <td></td>\n",
       "      <td></td>\n",
       "    </tr>\n",
       "    <tr>\n",
       "      <th>dt</th>\n",
       "      <td></td>\n",
       "      <td></td>\n",
       "      <td></td>\n",
       "      <td></td>\n",
       "      <td></td>\n",
       "      <td></td>\n",
       "      <td></td>\n",
       "      <td>1</td>\n",
       "      <td></td>\n",
       "      <td></td>\n",
       "      <td></td>\n",
       "    </tr>\n",
       "    <tr>\n",
       "      <th>dt_ind</th>\n",
       "      <td></td>\n",
       "      <td></td>\n",
       "      <td></td>\n",
       "      <td></td>\n",
       "      <td></td>\n",
       "      <td></td>\n",
       "      <td></td>\n",
       "      <td></td>\n",
       "      <td>1</td>\n",
       "      <td></td>\n",
       "      <td></td>\n",
       "    </tr>\n",
       "    <tr>\n",
       "      <th>analysisPol</th>\n",
       "      <td></td>\n",
       "      <td></td>\n",
       "      <td></td>\n",
       "      <td></td>\n",
       "      <td></td>\n",
       "      <td></td>\n",
       "      <td></td>\n",
       "      <td></td>\n",
       "      <td></td>\n",
       "      <td>1</td>\n",
       "      <td></td>\n",
       "    </tr>\n",
       "    <tr>\n",
       "      <th>analysisSub</th>\n",
       "      <td></td>\n",
       "      <td></td>\n",
       "      <td></td>\n",
       "      <td></td>\n",
       "      <td></td>\n",
       "      <td></td>\n",
       "      <td></td>\n",
       "      <td></td>\n",
       "      <td></td>\n",
       "      <td></td>\n",
       "      <td>1</td>\n",
       "    </tr>\n",
       "  </tbody>\n",
       "</table>\n",
       "</div>"
      ],
      "text/plain": [
       "            ranking price number rating cuisine_c price_ind number_ind dt  \\\n",
       "ranking           1                                                         \n",
       "price                   1                                                   \n",
       "number                         1                                            \n",
       "rating                                1                                     \n",
       "cuisine_c                                       1                           \n",
       "price_ind                                                 1                 \n",
       "number_ind                                                           1      \n",
       "dt                                                                      1   \n",
       "dt_ind                                                                      \n",
       "analysisPol                                                                 \n",
       "analysisSub                                                                 \n",
       "\n",
       "            dt_ind analysisPol analysisSub  \n",
       "ranking                                     \n",
       "price                                       \n",
       "number                                      \n",
       "rating                                      \n",
       "cuisine_c                                   \n",
       "price_ind                                   \n",
       "number_ind                                  \n",
       "dt                                          \n",
       "dt_ind           1                          \n",
       "analysisPol                  1              \n",
       "analysisSub                              1  "
      ]
     },
     "execution_count": 205,
     "metadata": {},
     "output_type": "execute_result"
    }
   ],
   "source": [
    "corr_matrix[(corr_matrix > 0.7) | (corr_matrix < -0.7)].fillna('')"
   ]
  },
  {
   "cell_type": "code",
   "execution_count": 206,
   "metadata": {},
   "outputs": [],
   "source": [
    "df = pd.get_dummies(df, columns=['city'], prefix='city')"
   ]
  },
  {
   "cell_type": "code",
   "execution_count": 207,
   "metadata": {},
   "outputs": [],
   "source": [
    "df = pd.get_dummies(df, columns=['price1'], prefix='price')"
   ]
  },
  {
   "cell_type": "code",
   "execution_count": 65,
   "metadata": {},
   "outputs": [
    {
     "data": {
      "text/html": [
       "<div>\n",
       "<style scoped>\n",
       "    .dataframe tbody tr th:only-of-type {\n",
       "        vertical-align: middle;\n",
       "    }\n",
       "\n",
       "    .dataframe tbody tr th {\n",
       "        vertical-align: top;\n",
       "    }\n",
       "\n",
       "    .dataframe thead th {\n",
       "        text-align: right;\n",
       "    }\n",
       "</style>\n",
       "<table border=\"1\" class=\"dataframe\">\n",
       "  <thead>\n",
       "    <tr style=\"text-align: right;\">\n",
       "      <th></th>\n",
       "      <th>id</th>\n",
       "      <th>cuisine</th>\n",
       "      <th>ranking</th>\n",
       "      <th>price</th>\n",
       "      <th>number</th>\n",
       "      <th>reviews</th>\n",
       "      <th>URL_TA</th>\n",
       "      <th>ID_TA</th>\n",
       "      <th>sample</th>\n",
       "      <th>rating</th>\n",
       "      <th>...</th>\n",
       "      <th>city_Paris</th>\n",
       "      <th>city_Prague</th>\n",
       "      <th>city_Rome</th>\n",
       "      <th>city_Stockholm</th>\n",
       "      <th>city_Vienna</th>\n",
       "      <th>city_Warsaw</th>\n",
       "      <th>city_Zurich</th>\n",
       "      <th>price_$</th>\n",
       "      <th>price_$$ - $$$</th>\n",
       "      <th>price_$$$$</th>\n",
       "    </tr>\n",
       "  </thead>\n",
       "  <tbody>\n",
       "    <tr>\n",
       "      <th>0</th>\n",
       "      <td>id_0</td>\n",
       "      <td>['Bar', 'Pub']</td>\n",
       "      <td>12963.0</td>\n",
       "      <td>2</td>\n",
       "      <td>0.000207</td>\n",
       "      <td>[[], []]</td>\n",
       "      <td>/Restaurant_Review-g187147-d10746918-Reviews-L...</td>\n",
       "      <td>d10746918</td>\n",
       "      <td>0</td>\n",
       "      <td>0.0</td>\n",
       "      <td>...</td>\n",
       "      <td>1</td>\n",
       "      <td>0</td>\n",
       "      <td>0</td>\n",
       "      <td>0</td>\n",
       "      <td>0</td>\n",
       "      <td>0</td>\n",
       "      <td>0</td>\n",
       "      <td>0</td>\n",
       "      <td>1</td>\n",
       "      <td>0</td>\n",
       "    </tr>\n",
       "    <tr>\n",
       "      <th>1</th>\n",
       "      <td>id_1</td>\n",
       "      <td>['European', 'Scandinavian', 'Gluten Free Opti...</td>\n",
       "      <td>106.0</td>\n",
       "      <td>2</td>\n",
       "      <td>0.009836</td>\n",
       "      <td>[['Very good reviews!', 'Fine dining in Hakani...</td>\n",
       "      <td>/Restaurant_Review-g189934-d6674944-Reviews-Ra...</td>\n",
       "      <td>d6674944</td>\n",
       "      <td>0</td>\n",
       "      <td>0.0</td>\n",
       "      <td>...</td>\n",
       "      <td>0</td>\n",
       "      <td>0</td>\n",
       "      <td>0</td>\n",
       "      <td>0</td>\n",
       "      <td>0</td>\n",
       "      <td>0</td>\n",
       "      <td>0</td>\n",
       "      <td>0</td>\n",
       "      <td>1</td>\n",
       "      <td>0</td>\n",
       "    </tr>\n",
       "    <tr>\n",
       "      <th>2</th>\n",
       "      <td>id_2</td>\n",
       "      <td>['Vegetarian Friendly']</td>\n",
       "      <td>810.0</td>\n",
       "      <td>2</td>\n",
       "      <td>0.002692</td>\n",
       "      <td>[['Better than the Links', 'Ivy Black'], ['12/...</td>\n",
       "      <td>/Restaurant_Review-g186525-d13129638-Reviews-B...</td>\n",
       "      <td>d13129638</td>\n",
       "      <td>0</td>\n",
       "      <td>0.0</td>\n",
       "      <td>...</td>\n",
       "      <td>0</td>\n",
       "      <td>0</td>\n",
       "      <td>0</td>\n",
       "      <td>0</td>\n",
       "      <td>0</td>\n",
       "      <td>0</td>\n",
       "      <td>0</td>\n",
       "      <td>0</td>\n",
       "      <td>1</td>\n",
       "      <td>0</td>\n",
       "    </tr>\n",
       "    <tr>\n",
       "      <th>3</th>\n",
       "      <td>id_3</td>\n",
       "      <td>['Italian', 'Mediterranean', 'European', 'Vege...</td>\n",
       "      <td>1669.0</td>\n",
       "      <td>3</td>\n",
       "      <td>0.020708</td>\n",
       "      <td>[['Most exquisite', 'Delicious and authentic']...</td>\n",
       "      <td>/Restaurant_Review-g186338-d680417-Reviews-Qui...</td>\n",
       "      <td>d680417</td>\n",
       "      <td>0</td>\n",
       "      <td>0.0</td>\n",
       "      <td>...</td>\n",
       "      <td>0</td>\n",
       "      <td>0</td>\n",
       "      <td>0</td>\n",
       "      <td>0</td>\n",
       "      <td>0</td>\n",
       "      <td>0</td>\n",
       "      <td>0</td>\n",
       "      <td>0</td>\n",
       "      <td>0</td>\n",
       "      <td>1</td>\n",
       "    </tr>\n",
       "    <tr>\n",
       "      <th>4</th>\n",
       "      <td>id_4</td>\n",
       "      <td>['Italian', 'Mediterranean', 'European', 'Seaf...</td>\n",
       "      <td>37.0</td>\n",
       "      <td>3</td>\n",
       "      <td>0.016567</td>\n",
       "      <td>[['Always the best in bratislava', 'Very good ...</td>\n",
       "      <td>/Restaurant_Review-g274924-d1112354-Reviews-Ma...</td>\n",
       "      <td>d1112354</td>\n",
       "      <td>0</td>\n",
       "      <td>0.0</td>\n",
       "      <td>...</td>\n",
       "      <td>0</td>\n",
       "      <td>0</td>\n",
       "      <td>0</td>\n",
       "      <td>0</td>\n",
       "      <td>0</td>\n",
       "      <td>0</td>\n",
       "      <td>0</td>\n",
       "      <td>0</td>\n",
       "      <td>0</td>\n",
       "      <td>1</td>\n",
       "    </tr>\n",
       "    <tr>\n",
       "      <th>...</th>\n",
       "      <td>...</td>\n",
       "      <td>...</td>\n",
       "      <td>...</td>\n",
       "      <td>...</td>\n",
       "      <td>...</td>\n",
       "      <td>...</td>\n",
       "      <td>...</td>\n",
       "      <td>...</td>\n",
       "      <td>...</td>\n",
       "      <td>...</td>\n",
       "      <td>...</td>\n",
       "      <td>...</td>\n",
       "      <td>...</td>\n",
       "      <td>...</td>\n",
       "      <td>...</td>\n",
       "      <td>...</td>\n",
       "      <td>...</td>\n",
       "      <td>...</td>\n",
       "      <td>...</td>\n",
       "      <td>...</td>\n",
       "      <td>...</td>\n",
       "    </tr>\n",
       "    <tr>\n",
       "      <th>49995</th>\n",
       "      <td>id_499</td>\n",
       "      <td>['Italian', 'Vegetarian Friendly', 'Vegan Opti...</td>\n",
       "      <td>500.0</td>\n",
       "      <td>2</td>\n",
       "      <td>0.007973</td>\n",
       "      <td>[['The real Italian experience!', 'Wonderful f...</td>\n",
       "      <td>/Restaurant_Review-g187849-d2104414-Reviews-Ro...</td>\n",
       "      <td>d2104414</td>\n",
       "      <td>1</td>\n",
       "      <td>4.5</td>\n",
       "      <td>...</td>\n",
       "      <td>0</td>\n",
       "      <td>0</td>\n",
       "      <td>0</td>\n",
       "      <td>0</td>\n",
       "      <td>0</td>\n",
       "      <td>0</td>\n",
       "      <td>0</td>\n",
       "      <td>0</td>\n",
       "      <td>1</td>\n",
       "      <td>0</td>\n",
       "    </tr>\n",
       "    <tr>\n",
       "      <th>49996</th>\n",
       "      <td>id_6340</td>\n",
       "      <td>['French', 'American', 'Bar', 'European', 'Veg...</td>\n",
       "      <td>6341.0</td>\n",
       "      <td>2</td>\n",
       "      <td>0.055912</td>\n",
       "      <td>[['Parisian atmosphere', 'Bit pricey but inter...</td>\n",
       "      <td>/Restaurant_Review-g187147-d1800036-Reviews-La...</td>\n",
       "      <td>d1800036</td>\n",
       "      <td>1</td>\n",
       "      <td>3.5</td>\n",
       "      <td>...</td>\n",
       "      <td>1</td>\n",
       "      <td>0</td>\n",
       "      <td>0</td>\n",
       "      <td>0</td>\n",
       "      <td>0</td>\n",
       "      <td>0</td>\n",
       "      <td>0</td>\n",
       "      <td>0</td>\n",
       "      <td>1</td>\n",
       "      <td>0</td>\n",
       "    </tr>\n",
       "    <tr>\n",
       "      <th>49997</th>\n",
       "      <td>id_1649</td>\n",
       "      <td>['Japanese', 'Sushi']</td>\n",
       "      <td>1652.0</td>\n",
       "      <td>2</td>\n",
       "      <td>0.000207</td>\n",
       "      <td>[['Good by swedish standards', 'A hidden jewel...</td>\n",
       "      <td>/Restaurant_Review-g189852-d947615-Reviews-Sus...</td>\n",
       "      <td>d947615</td>\n",
       "      <td>1</td>\n",
       "      <td>4.5</td>\n",
       "      <td>...</td>\n",
       "      <td>0</td>\n",
       "      <td>0</td>\n",
       "      <td>0</td>\n",
       "      <td>1</td>\n",
       "      <td>0</td>\n",
       "      <td>0</td>\n",
       "      <td>0</td>\n",
       "      <td>0</td>\n",
       "      <td>1</td>\n",
       "      <td>0</td>\n",
       "    </tr>\n",
       "    <tr>\n",
       "      <th>49998</th>\n",
       "      <td>id_640</td>\n",
       "      <td>['Polish', 'European', 'Eastern European', 'Ce...</td>\n",
       "      <td>641.0</td>\n",
       "      <td>2</td>\n",
       "      <td>0.007041</td>\n",
       "      <td>[['Underground restaurant', 'Oldest Restaurant...</td>\n",
       "      <td>/Restaurant_Review-g274856-d1100838-Reviews-Ho...</td>\n",
       "      <td>d1100838</td>\n",
       "      <td>1</td>\n",
       "      <td>4.0</td>\n",
       "      <td>...</td>\n",
       "      <td>0</td>\n",
       "      <td>0</td>\n",
       "      <td>0</td>\n",
       "      <td>0</td>\n",
       "      <td>0</td>\n",
       "      <td>1</td>\n",
       "      <td>0</td>\n",
       "      <td>0</td>\n",
       "      <td>1</td>\n",
       "      <td>0</td>\n",
       "    </tr>\n",
       "    <tr>\n",
       "      <th>49999</th>\n",
       "      <td>id_4824</td>\n",
       "      <td>['Spanish']</td>\n",
       "      <td>4827.0</td>\n",
       "      <td>2</td>\n",
       "      <td>0.026714</td>\n",
       "      <td>[['Average', 'Nice an informal'], ['01/31/2016...</td>\n",
       "      <td>/Restaurant_Review-g187849-d1109020-Reviews-Ta...</td>\n",
       "      <td>d1109020</td>\n",
       "      <td>1</td>\n",
       "      <td>3.0</td>\n",
       "      <td>...</td>\n",
       "      <td>0</td>\n",
       "      <td>0</td>\n",
       "      <td>0</td>\n",
       "      <td>0</td>\n",
       "      <td>0</td>\n",
       "      <td>0</td>\n",
       "      <td>0</td>\n",
       "      <td>0</td>\n",
       "      <td>1</td>\n",
       "      <td>0</td>\n",
       "    </tr>\n",
       "  </tbody>\n",
       "</table>\n",
       "<p>50000 rows × 51 columns</p>\n",
       "</div>"
      ],
      "text/plain": [
       "            id                                            cuisine  ranking  \\\n",
       "0         id_0                                     ['Bar', 'Pub']  12963.0   \n",
       "1         id_1  ['European', 'Scandinavian', 'Gluten Free Opti...    106.0   \n",
       "2         id_2                            ['Vegetarian Friendly']    810.0   \n",
       "3         id_3  ['Italian', 'Mediterranean', 'European', 'Vege...   1669.0   \n",
       "4         id_4  ['Italian', 'Mediterranean', 'European', 'Seaf...     37.0   \n",
       "...        ...                                                ...      ...   \n",
       "49995   id_499  ['Italian', 'Vegetarian Friendly', 'Vegan Opti...    500.0   \n",
       "49996  id_6340  ['French', 'American', 'Bar', 'European', 'Veg...   6341.0   \n",
       "49997  id_1649                              ['Japanese', 'Sushi']   1652.0   \n",
       "49998   id_640  ['Polish', 'European', 'Eastern European', 'Ce...    641.0   \n",
       "49999  id_4824                                        ['Spanish']   4827.0   \n",
       "\n",
       "       price    number                                            reviews  \\\n",
       "0          2  0.000207                                           [[], []]   \n",
       "1          2  0.009836  [['Very good reviews!', 'Fine dining in Hakani...   \n",
       "2          2  0.002692  [['Better than the Links', 'Ivy Black'], ['12/...   \n",
       "3          3  0.020708  [['Most exquisite', 'Delicious and authentic']...   \n",
       "4          3  0.016567  [['Always the best in bratislava', 'Very good ...   \n",
       "...      ...       ...                                                ...   \n",
       "49995      2  0.007973  [['The real Italian experience!', 'Wonderful f...   \n",
       "49996      2  0.055912  [['Parisian atmosphere', 'Bit pricey but inter...   \n",
       "49997      2  0.000207  [['Good by swedish standards', 'A hidden jewel...   \n",
       "49998      2  0.007041  [['Underground restaurant', 'Oldest Restaurant...   \n",
       "49999      2  0.026714  [['Average', 'Nice an informal'], ['01/31/2016...   \n",
       "\n",
       "                                                  URL_TA      ID_TA  sample  \\\n",
       "0      /Restaurant_Review-g187147-d10746918-Reviews-L...  d10746918       0   \n",
       "1      /Restaurant_Review-g189934-d6674944-Reviews-Ra...   d6674944       0   \n",
       "2      /Restaurant_Review-g186525-d13129638-Reviews-B...  d13129638       0   \n",
       "3      /Restaurant_Review-g186338-d680417-Reviews-Qui...    d680417       0   \n",
       "4      /Restaurant_Review-g274924-d1112354-Reviews-Ma...   d1112354       0   \n",
       "...                                                  ...        ...     ...   \n",
       "49995  /Restaurant_Review-g187849-d2104414-Reviews-Ro...   d2104414       1   \n",
       "49996  /Restaurant_Review-g187147-d1800036-Reviews-La...   d1800036       1   \n",
       "49997  /Restaurant_Review-g189852-d947615-Reviews-Sus...    d947615       1   \n",
       "49998  /Restaurant_Review-g274856-d1100838-Reviews-Ho...   d1100838       1   \n",
       "49999  /Restaurant_Review-g187849-d1109020-Reviews-Ta...   d1109020       1   \n",
       "\n",
       "       rating  ...  city_Paris  city_Prague  city_Rome  city_Stockholm  \\\n",
       "0         0.0  ...           1            0          0               0   \n",
       "1         0.0  ...           0            0          0               0   \n",
       "2         0.0  ...           0            0          0               0   \n",
       "3         0.0  ...           0            0          0               0   \n",
       "4         0.0  ...           0            0          0               0   \n",
       "...       ...  ...         ...          ...        ...             ...   \n",
       "49995     4.5  ...           0            0          0               0   \n",
       "49996     3.5  ...           1            0          0               0   \n",
       "49997     4.5  ...           0            0          0               1   \n",
       "49998     4.0  ...           0            0          0               0   \n",
       "49999     3.0  ...           0            0          0               0   \n",
       "\n",
       "       city_Vienna  city_Warsaw  city_Zurich  price_$  price_$$ - $$$  \\\n",
       "0                0            0            0        0               1   \n",
       "1                0            0            0        0               1   \n",
       "2                0            0            0        0               1   \n",
       "3                0            0            0        0               0   \n",
       "4                0            0            0        0               0   \n",
       "...            ...          ...          ...      ...             ...   \n",
       "49995            0            0            0        0               1   \n",
       "49996            0            0            0        0               1   \n",
       "49997            0            0            0        0               1   \n",
       "49998            0            1            0        0               1   \n",
       "49999            0            0            0        0               1   \n",
       "\n",
       "       price_$$$$  \n",
       "0               0  \n",
       "1               0  \n",
       "2               0  \n",
       "3               1  \n",
       "4               1  \n",
       "...           ...  \n",
       "49995           0  \n",
       "49996           0  \n",
       "49997           0  \n",
       "49998           0  \n",
       "49999           0  \n",
       "\n",
       "[50000 rows x 51 columns]"
      ]
     },
     "execution_count": 65,
     "metadata": {},
     "output_type": "execute_result"
    }
   ],
   "source": [
    "df"
   ]
  },
  {
   "cell_type": "code",
   "execution_count": 208,
   "metadata": {},
   "outputs": [],
   "source": [
    "train_data = df[df['sample'] == 1].drop(columns=['id', 'cuisine', 'reviews', 'sample', 'URL_TA', 'ID_TA'])\n",
    "test_data = df[df['sample'] == 0].drop(columns=['id', 'cuisine', 'reviews', 'sample', 'URL_TA', 'ID_TA'])\n",
    "\n",
    "y = train_data.rating.values            # наш таргет\n",
    "X = train_data.drop(columns='rating')"
   ]
  },
  {
   "cell_type": "code",
   "execution_count": 209,
   "metadata": {},
   "outputs": [],
   "source": [
    "# Воспользуемся специальной функцие train_test_split для разбивки тестовых данных\n",
    "# выделим 20% данных на валидацию (параметр test_size)\n",
    "X_train, X_test, y_train, y_test = train_test_split(X, y, test_size=0.2, random_state=RANDOM_SEED)"
   ]
  },
  {
   "cell_type": "code",
   "execution_count": 154,
   "metadata": {},
   "outputs": [],
   "source": [
    "# Импортируем необходимые библиотеки:\n",
    "from sklearn.ensemble import RandomForestRegressor # инструмент для создания и обучения модели\n",
    "from sklearn import metrics # инструменты для оценки точности модели"
   ]
  },
  {
   "cell_type": "code",
   "execution_count": 155,
   "metadata": {},
   "outputs": [],
   "source": [
    "# Создаём модель (НАСТРОЙКИ НЕ ТРОГАЕМ)\n",
    "model = RandomForestRegressor(n_estimators=100, verbose=1, n_jobs=-1, random_state=RANDOM_SEED)"
   ]
  },
  {
   "cell_type": "code",
   "execution_count": 210,
   "metadata": {},
   "outputs": [
    {
     "name": "stderr",
     "output_type": "stream",
     "text": [
      "[Parallel(n_jobs=-1)]: Using backend ThreadingBackend with 4 concurrent workers.\n",
      "[Parallel(n_jobs=-1)]: Done  42 tasks      | elapsed:    2.1s\n",
      "[Parallel(n_jobs=-1)]: Done 100 out of 100 | elapsed:    4.9s finished\n",
      "[Parallel(n_jobs=4)]: Using backend ThreadingBackend with 4 concurrent workers.\n",
      "[Parallel(n_jobs=4)]: Done  42 tasks      | elapsed:    0.0s\n",
      "[Parallel(n_jobs=4)]: Done 100 out of 100 | elapsed:    0.0s finished\n"
     ]
    }
   ],
   "source": [
    "# Обучаем модель на тестовом наборе данных\n",
    "model.fit(X_train, y_train)\n",
    "\n",
    "# Используем обученную модель для предсказания рейтинга ресторанов в тестовой выборке.\n",
    "# Предсказанные значения записываем в переменную y_pred\n",
    "y_pred = model.predict(X_test)"
   ]
  },
  {
   "cell_type": "code",
   "execution_count": 211,
   "metadata": {},
   "outputs": [
    {
     "name": "stdout",
     "output_type": "stream",
     "text": [
      "MAE: 0.21572562499999998\n"
     ]
    }
   ],
   "source": [
    "# Сравниваем предсказанные значения (y_pred) с реальными (y_test), и смотрим насколько они в среднем отличаются\n",
    "# Метрика называется Mean Absolute Error (MAE) и показывает среднее отклонение предсказанных значений от фактических.\n",
    "print('MAE:', metrics.mean_absolute_error(y_test, y_pred))"
   ]
  },
  {
   "cell_type": "code",
   "execution_count": 212,
   "metadata": {},
   "outputs": [
    {
     "name": "stdout",
     "output_type": "stream",
     "text": [
      "MAE: 0.184375\n"
     ]
    }
   ],
   "source": [
    "y_pred_rnd = round_pred(y_pred)\n",
    "print('MAE:', metrics.mean_absolute_error(y_test, y_pred_rnd))"
   ]
  },
  {
   "cell_type": "code",
   "execution_count": 213,
   "metadata": {},
   "outputs": [
    {
     "data": {
      "text/plain": [
       "<AxesSubplot:>"
      ]
     },
     "execution_count": 213,
     "metadata": {},
     "output_type": "execute_result"
    },
    {
     "data": {
      "image/png": "[encoded data removed]",
      "text/plain": [
       "<Figure size 720x720 with 1 Axes>"
      ]
     },
     "metadata": {
      "needs_background": "light"
     },
     "output_type": "display_data"
    }
   ],
   "source": [
    "plt.rcParams['figure.figsize'] = (10,10)\n",
    "feat_importances = pd.Series(model.feature_importances_, index=X.columns)\n",
    "feat_importances.nlargest(15).plot(kind='barh')"
   ]
  },
  {
   "cell_type": "code",
   "execution_count": 214,
   "metadata": {},
   "outputs": [
    {
     "data": {
      "text/plain": [
       "city_Prague       0.010149\n",
       "cuisine_c         0.013448\n",
       "city_Berlin       0.013547\n",
       "city_Barcelona    0.013599\n",
       "city_Madrid       0.014067\n",
       "city_Rome         0.015842\n",
       "city_Milan        0.016907\n",
       "analysisSub       0.021547\n",
       "city_London       0.025197\n",
       "dt                0.039968\n",
       "analysisPol       0.050137\n",
       "city_Paris        0.065898\n",
       "number            0.125730\n",
       "ranking           0.448233\n",
       "dtype: float64"
      ]
     },
     "execution_count": 214,
     "metadata": {},
     "output_type": "execute_result"
    }
   ],
   "source": [
    "feat_importances[feat_importances > 0.009].sort_values()"
   ]
  }
 ],
 "metadata": {
  "kernelspec": {
   "display_name": "Python 3",
   "language": "python",
   "name": "python3"
  },
  "language_info": {
   "codemirror_mode": {
    "name": "ipython",
    "version": 3
   },
   "file_extension": ".py",
   "mimetype": "text/x-python",
   "name": "python",
   "nbconvert_exporter": "python",
   "pygments_lexer": "ipython3",
   "version": "3.8.5"
  }
 },
 "nbformat": 4,
 "nbformat_minor": 4
}

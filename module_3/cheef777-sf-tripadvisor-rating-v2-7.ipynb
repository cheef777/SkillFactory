{
 "cells": [
  {
   "cell_type": "markdown",
   "metadata": {},
   "source": [
    "![](https://www.pata.org/wp-content/uploads/2014/09/TripAdvisor_Logo-300x119.png)\n",
    "# Predict TripAdvisor Rating\n",
    "## В этом соревновании нам предстоит предсказать рейтинг ресторана в TripAdvisor\n",
    "**По ходу задачи:**\n",
    "* Прокачаем работу с pandas\n",
    "* Научимся работать с Kaggle Notebooks\n",
    "* Поймем как делать предобработку различных данных\n",
    "* Научимся работать с пропущенными данными (Nan)\n",
    "* Познакомимся с различными видами кодирования признаков\n",
    "* Немного попробуем [Feature Engineering](https://ru.wikipedia.org/wiki/Конструирование_признаков) (генерировать новые признаки)\n",
    "* И совсем немного затронем ML\n",
    "* И многое другое...   \n",
    "\n",
    "\n",
    "\n",
    "### И самое важное, все это вы сможете сделать самостоятельно!\n",
    "\n",
    "*Этот Ноутбук являетсся Примером/Шаблоном к этому соревнованию (Baseline) и не служит готовым решением!*   \n",
    "Вы можете использовать его как основу для построения своего решения.\n",
    "\n",
    "> что такое baseline решение, зачем оно нужно и почему предоставлять baseline к соревнованию стало важным стандартом на kaggle и других площадках.   \n",
    "**baseline** создается больше как шаблон, где можно посмотреть как происходит обращение с входящими данными и что нужно получить на выходе. При этом МЛ начинка может быть достаточно простой, просто для примера. Это помогает быстрее приступить к самому МЛ, а не тратить ценное время на чисто инженерные задачи. \n",
    "Также baseline являеться хорошей опорной точкой по метрике. Если твое решение хуже baseline - ты явно делаешь что-то не то и стоит попробовать другой путь) \n",
    "\n",
    "В контексте нашего соревнования baseline идет с небольшими примерами того, что можно делать с данными, и с инструкцией, что делать дальше, чтобы улучшить результат.  Вообще готовым решением это сложно назвать, так как используются всего 2 самых простых признака (а остальные исключаются)."
   ]
  },
  {
   "cell_type": "markdown",
   "metadata": {},
   "source": [
    "# import"
   ]
  },
  {
   "cell_type": "code",
   "execution_count": 1,
   "metadata": {
    "_cell_guid": "b1076dfc-b9ad-4769-8c92-a6c4dae69d19",
    "_uuid": "8f2839f25d086af736a60e9eeb907d3b93b6e0e5"
   },
   "outputs": [
    {
     "name": "stdout",
     "output_type": "stream",
     "text": [
      "/kaggle/input/sf-dst-restaurant-rating/sample_submission.csv\n",
      "/kaggle/input/sf-dst-restaurant-rating/main_task.csv\n",
      "/kaggle/input/sf-dst-restaurant-rating/kaggle_task.csv\n"
     ]
    }
   ],
   "source": [
    "# This Python 3 environment comes with many helpful analytics libraries installed\n",
    "# It is defined by the kaggle/python docker image: https://github.com/kaggle/docker-python\n",
    "# For example, here's several helpful packages to load in \n",
    "\n",
    "import numpy as np # linear algebra\n",
    "import pandas as pd # data processing, CSV file I/O (e.g. pd.read_csv)\n",
    "\n",
    "import matplotlib.pyplot as plt\n",
    "import seaborn as sns \n",
    "%matplotlib inline\n",
    "\n",
    "from datetime import datetime, timedelta\n",
    "import re\n",
    "from sklearn.preprocessing import StandardScaler\n",
    "from sklearn.preprocessing import MinMaxScaler\n",
    "from textblob import TextBlob\n",
    "from itertools import combinations\n",
    "from scipy.stats import ttest_ind\n",
    "\n",
    "# Загружаем специальный удобный инструмент для разделения датасета:\n",
    "from sklearn.model_selection import train_test_split\n",
    "\n",
    "# Input data files are available in the \"../input/\" directory.\n",
    "# For example, running this (by clicking run or pressing Shift+Enter) will list all files under the input directory\n",
    "\n",
    "import os\n",
    "for dirname, _, filenames in os.walk('/kaggle/input'):\n",
    "    for filename in filenames:\n",
    "        print(os.path.join(dirname, filename))\n",
    "\n",
    "# Any results you write to the current directory are saved as output."
   ]
  },
  {
   "cell_type": "code",
   "execution_count": 2,
   "metadata": {},
   "outputs": [],
   "source": [
    "# всегда фиксируйте RANDOM_SEED, чтобы ваши эксперименты были воспроизводимы!\n",
    "RANDOM_SEED = 42"
   ]
  },
  {
   "cell_type": "code",
   "execution_count": 3,
   "metadata": {},
   "outputs": [],
   "source": [
    "# зафиксируем версию пакетов, чтобы эксперименты были воспроизводимы:\n",
    "!pip freeze > requirements.txt"
   ]
  },
  {
   "cell_type": "markdown",
   "metadata": {},
   "source": [
    "# DATA"
   ]
  },
  {
   "cell_type": "code",
   "execution_count": 4,
   "metadata": {
    "_cell_guid": "79c7e3d0-c299-4dcb-8224-4455121ee9b0",
    "_uuid": "d629ff2d2480ee46fbb7e2d37f6b5fab8052498a"
   },
   "outputs": [],
   "source": [
    "DATA_DIR = '/kaggle/input/sf-dst-restaurant-rating/'\n",
    "df_train = pd.read_csv(DATA_DIR+'/main_task.csv')\n",
    "df_test = pd.read_csv(DATA_DIR+'kaggle_task.csv')\n",
    "sample_submission = pd.read_csv(DATA_DIR+'/sample_submission.csv')"
   ]
  },
  {
   "cell_type": "markdown",
   "metadata": {},
   "source": []
  },
  {
   "cell_type": "code",
   "execution_count": 5,
   "metadata": {},
   "outputs": [
    {
     "data": {
      "text/html": [
       "<div>\n",
       "<style scoped>\n",
       "    .dataframe tbody tr th:only-of-type {\n",
       "        vertical-align: middle;\n",
       "    }\n",
       "\n",
       "    .dataframe tbody tr th {\n",
       "        vertical-align: top;\n",
       "    }\n",
       "\n",
       "    .dataframe thead th {\n",
       "        text-align: right;\n",
       "    }\n",
       "</style>\n",
       "<table border=\"1\" class=\"dataframe\">\n",
       "  <thead>\n",
       "    <tr style=\"text-align: right;\">\n",
       "      <th></th>\n",
       "      <th>Restaurant_id</th>\n",
       "      <th>City</th>\n",
       "      <th>Cuisine Style</th>\n",
       "      <th>Ranking</th>\n",
       "      <th>Rating</th>\n",
       "      <th>Price Range</th>\n",
       "      <th>Number of Reviews</th>\n",
       "      <th>Reviews</th>\n",
       "      <th>URL_TA</th>\n",
       "      <th>ID_TA</th>\n",
       "    </tr>\n",
       "  </thead>\n",
       "  <tbody>\n",
       "    <tr>\n",
       "      <th>0</th>\n",
       "      <td>id_5569</td>\n",
       "      <td>Paris</td>\n",
       "      <td>['European', 'French', 'International']</td>\n",
       "      <td>5570.0</td>\n",
       "      <td>3.5</td>\n",
       "      <td>$$ - $$$</td>\n",
       "      <td>194.0</td>\n",
       "      <td>[['Good food at your doorstep', 'A good hotel ...</td>\n",
       "      <td>/Restaurant_Review-g187147-d1912643-Reviews-R_...</td>\n",
       "      <td>d1912643</td>\n",
       "    </tr>\n",
       "    <tr>\n",
       "      <th>1</th>\n",
       "      <td>id_1535</td>\n",
       "      <td>Stockholm</td>\n",
       "      <td>NaN</td>\n",
       "      <td>1537.0</td>\n",
       "      <td>4.0</td>\n",
       "      <td>NaN</td>\n",
       "      <td>10.0</td>\n",
       "      <td>[['Unique cuisine', 'Delicious Nepalese food']...</td>\n",
       "      <td>/Restaurant_Review-g189852-d7992032-Reviews-Bu...</td>\n",
       "      <td>d7992032</td>\n",
       "    </tr>\n",
       "    <tr>\n",
       "      <th>2</th>\n",
       "      <td>id_352</td>\n",
       "      <td>London</td>\n",
       "      <td>['Japanese', 'Sushi', 'Asian', 'Grill', 'Veget...</td>\n",
       "      <td>353.0</td>\n",
       "      <td>4.5</td>\n",
       "      <td>$$$$</td>\n",
       "      <td>688.0</td>\n",
       "      <td>[['Catch up with friends', 'Not exceptional'],...</td>\n",
       "      <td>/Restaurant_Review-g186338-d8632781-Reviews-RO...</td>\n",
       "      <td>d8632781</td>\n",
       "    </tr>\n",
       "    <tr>\n",
       "      <th>3</th>\n",
       "      <td>id_3456</td>\n",
       "      <td>Berlin</td>\n",
       "      <td>NaN</td>\n",
       "      <td>3458.0</td>\n",
       "      <td>5.0</td>\n",
       "      <td>NaN</td>\n",
       "      <td>3.0</td>\n",
       "      <td>[[], []]</td>\n",
       "      <td>/Restaurant_Review-g187323-d1358776-Reviews-Es...</td>\n",
       "      <td>d1358776</td>\n",
       "    </tr>\n",
       "    <tr>\n",
       "      <th>4</th>\n",
       "      <td>id_615</td>\n",
       "      <td>Munich</td>\n",
       "      <td>['German', 'Central European', 'Vegetarian Fri...</td>\n",
       "      <td>621.0</td>\n",
       "      <td>4.0</td>\n",
       "      <td>$$ - $$$</td>\n",
       "      <td>84.0</td>\n",
       "      <td>[['Best place to try a Bavarian food', 'Nice b...</td>\n",
       "      <td>/Restaurant_Review-g187309-d6864963-Reviews-Au...</td>\n",
       "      <td>d6864963</td>\n",
       "    </tr>\n",
       "  </tbody>\n",
       "</table>\n",
       "</div>"
      ],
      "text/plain": [
       "  Restaurant_id       City                                      Cuisine Style  \\\n",
       "0       id_5569      Paris            ['European', 'French', 'International']   \n",
       "1       id_1535  Stockholm                                                NaN   \n",
       "2        id_352     London  ['Japanese', 'Sushi', 'Asian', 'Grill', 'Veget...   \n",
       "3       id_3456     Berlin                                                NaN   \n",
       "4        id_615     Munich  ['German', 'Central European', 'Vegetarian Fri...   \n",
       "\n",
       "   Ranking  Rating Price Range  Number of Reviews  \\\n",
       "0   5570.0     3.5    $$ - $$$              194.0   \n",
       "1   1537.0     4.0         NaN               10.0   \n",
       "2    353.0     4.5        $$$$              688.0   \n",
       "3   3458.0     5.0         NaN                3.0   \n",
       "4    621.0     4.0    $$ - $$$               84.0   \n",
       "\n",
       "                                             Reviews  \\\n",
       "0  [['Good food at your doorstep', 'A good hotel ...   \n",
       "1  [['Unique cuisine', 'Delicious Nepalese food']...   \n",
       "2  [['Catch up with friends', 'Not exceptional'],...   \n",
       "3                                           [[], []]   \n",
       "4  [['Best place to try a Bavarian food', 'Nice b...   \n",
       "\n",
       "                                              URL_TA     ID_TA  \n",
       "0  /Restaurant_Review-g187147-d1912643-Reviews-R_...  d1912643  \n",
       "1  /Restaurant_Review-g189852-d7992032-Reviews-Bu...  d7992032  \n",
       "2  /Restaurant_Review-g186338-d8632781-Reviews-RO...  d8632781  \n",
       "3  /Restaurant_Review-g187323-d1358776-Reviews-Es...  d1358776  \n",
       "4  /Restaurant_Review-g187309-d6864963-Reviews-Au...  d6864963  "
      ]
     },
     "execution_count": 5,
     "metadata": {},
     "output_type": "execute_result"
    }
   ],
   "source": [
    "df_train.head(5)"
   ]
  },
  {
   "cell_type": "code",
   "execution_count": 6,
   "metadata": {},
   "outputs": [
    {
     "name": "stdout",
     "output_type": "stream",
     "text": [
      "<class 'pandas.core.frame.DataFrame'>\n",
      "RangeIndex: 10000 entries, 0 to 9999\n",
      "Data columns (total 9 columns):\n",
      "Restaurant_id        10000 non-null object\n",
      "City                 10000 non-null object\n",
      "Cuisine Style        7693 non-null object\n",
      "Ranking              10000 non-null float64\n",
      "Price Range          6525 non-null object\n",
      "Number of Reviews    9343 non-null float64\n",
      "Reviews              9998 non-null object\n",
      "URL_TA               10000 non-null object\n",
      "ID_TA                10000 non-null object\n",
      "dtypes: float64(2), object(7)\n",
      "memory usage: 703.2+ KB\n"
     ]
    }
   ],
   "source": [
    "df_test.info()"
   ]
  },
  {
   "cell_type": "code",
   "execution_count": 7,
   "metadata": {},
   "outputs": [
    {
     "data": {
      "text/html": [
       "<div>\n",
       "<style scoped>\n",
       "    .dataframe tbody tr th:only-of-type {\n",
       "        vertical-align: middle;\n",
       "    }\n",
       "\n",
       "    .dataframe tbody tr th {\n",
       "        vertical-align: top;\n",
       "    }\n",
       "\n",
       "    .dataframe thead th {\n",
       "        text-align: right;\n",
       "    }\n",
       "</style>\n",
       "<table border=\"1\" class=\"dataframe\">\n",
       "  <thead>\n",
       "    <tr style=\"text-align: right;\">\n",
       "      <th></th>\n",
       "      <th>Restaurant_id</th>\n",
       "      <th>City</th>\n",
       "      <th>Cuisine Style</th>\n",
       "      <th>Ranking</th>\n",
       "      <th>Price Range</th>\n",
       "      <th>Number of Reviews</th>\n",
       "      <th>Reviews</th>\n",
       "      <th>URL_TA</th>\n",
       "      <th>ID_TA</th>\n",
       "    </tr>\n",
       "  </thead>\n",
       "  <tbody>\n",
       "    <tr>\n",
       "      <th>0</th>\n",
       "      <td>id_0</td>\n",
       "      <td>Paris</td>\n",
       "      <td>['Bar', 'Pub']</td>\n",
       "      <td>12963.0</td>\n",
       "      <td>$$ - $$$</td>\n",
       "      <td>4.0</td>\n",
       "      <td>[[], []]</td>\n",
       "      <td>/Restaurant_Review-g187147-d10746918-Reviews-L...</td>\n",
       "      <td>d10746918</td>\n",
       "    </tr>\n",
       "    <tr>\n",
       "      <th>1</th>\n",
       "      <td>id_1</td>\n",
       "      <td>Helsinki</td>\n",
       "      <td>['European', 'Scandinavian', 'Gluten Free Opti...</td>\n",
       "      <td>106.0</td>\n",
       "      <td>$$ - $$$</td>\n",
       "      <td>97.0</td>\n",
       "      <td>[['Very good reviews!', 'Fine dining in Hakani...</td>\n",
       "      <td>/Restaurant_Review-g189934-d6674944-Reviews-Ra...</td>\n",
       "      <td>d6674944</td>\n",
       "    </tr>\n",
       "    <tr>\n",
       "      <th>2</th>\n",
       "      <td>id_2</td>\n",
       "      <td>Edinburgh</td>\n",
       "      <td>['Vegetarian Friendly']</td>\n",
       "      <td>810.0</td>\n",
       "      <td>$$ - $$$</td>\n",
       "      <td>28.0</td>\n",
       "      <td>[['Better than the Links', 'Ivy Black'], ['12/...</td>\n",
       "      <td>/Restaurant_Review-g186525-d13129638-Reviews-B...</td>\n",
       "      <td>d13129638</td>\n",
       "    </tr>\n",
       "    <tr>\n",
       "      <th>3</th>\n",
       "      <td>id_3</td>\n",
       "      <td>London</td>\n",
       "      <td>['Italian', 'Mediterranean', 'European', 'Vege...</td>\n",
       "      <td>1669.0</td>\n",
       "      <td>$$$$</td>\n",
       "      <td>202.0</td>\n",
       "      <td>[['Most exquisite', 'Delicious and authentic']...</td>\n",
       "      <td>/Restaurant_Review-g186338-d680417-Reviews-Qui...</td>\n",
       "      <td>d680417</td>\n",
       "    </tr>\n",
       "    <tr>\n",
       "      <th>4</th>\n",
       "      <td>id_4</td>\n",
       "      <td>Bratislava</td>\n",
       "      <td>['Italian', 'Mediterranean', 'European', 'Seaf...</td>\n",
       "      <td>37.0</td>\n",
       "      <td>$$$$</td>\n",
       "      <td>162.0</td>\n",
       "      <td>[['Always the best in bratislava', 'Very good ...</td>\n",
       "      <td>/Restaurant_Review-g274924-d1112354-Reviews-Ma...</td>\n",
       "      <td>d1112354</td>\n",
       "    </tr>\n",
       "  </tbody>\n",
       "</table>\n",
       "</div>"
      ],
      "text/plain": [
       "  Restaurant_id        City  \\\n",
       "0          id_0       Paris   \n",
       "1          id_1    Helsinki   \n",
       "2          id_2   Edinburgh   \n",
       "3          id_3      London   \n",
       "4          id_4  Bratislava   \n",
       "\n",
       "                                       Cuisine Style  Ranking Price Range  \\\n",
       "0                                     ['Bar', 'Pub']  12963.0    $$ - $$$   \n",
       "1  ['European', 'Scandinavian', 'Gluten Free Opti...    106.0    $$ - $$$   \n",
       "2                            ['Vegetarian Friendly']    810.0    $$ - $$$   \n",
       "3  ['Italian', 'Mediterranean', 'European', 'Vege...   1669.0        $$$$   \n",
       "4  ['Italian', 'Mediterranean', 'European', 'Seaf...     37.0        $$$$   \n",
       "\n",
       "   Number of Reviews                                            Reviews  \\\n",
       "0                4.0                                           [[], []]   \n",
       "1               97.0  [['Very good reviews!', 'Fine dining in Hakani...   \n",
       "2               28.0  [['Better than the Links', 'Ivy Black'], ['12/...   \n",
       "3              202.0  [['Most exquisite', 'Delicious and authentic']...   \n",
       "4              162.0  [['Always the best in bratislava', 'Very good ...   \n",
       "\n",
       "                                              URL_TA      ID_TA  \n",
       "0  /Restaurant_Review-g187147-d10746918-Reviews-L...  d10746918  \n",
       "1  /Restaurant_Review-g189934-d6674944-Reviews-Ra...   d6674944  \n",
       "2  /Restaurant_Review-g186525-d13129638-Reviews-B...  d13129638  \n",
       "3  /Restaurant_Review-g186338-d680417-Reviews-Qui...    d680417  \n",
       "4  /Restaurant_Review-g274924-d1112354-Reviews-Ma...   d1112354  "
      ]
     },
     "execution_count": 7,
     "metadata": {},
     "output_type": "execute_result"
    }
   ],
   "source": [
    "df_test.head(5)"
   ]
  },
  {
   "cell_type": "code",
   "execution_count": 8,
   "metadata": {},
   "outputs": [
    {
     "data": {
      "text/html": [
       "<div>\n",
       "<style scoped>\n",
       "    .dataframe tbody tr th:only-of-type {\n",
       "        vertical-align: middle;\n",
       "    }\n",
       "\n",
       "    .dataframe tbody tr th {\n",
       "        vertical-align: top;\n",
       "    }\n",
       "\n",
       "    .dataframe thead th {\n",
       "        text-align: right;\n",
       "    }\n",
       "</style>\n",
       "<table border=\"1\" class=\"dataframe\">\n",
       "  <thead>\n",
       "    <tr style=\"text-align: right;\">\n",
       "      <th></th>\n",
       "      <th>Restaurant_id</th>\n",
       "      <th>Rating</th>\n",
       "    </tr>\n",
       "  </thead>\n",
       "  <tbody>\n",
       "    <tr>\n",
       "      <th>0</th>\n",
       "      <td>id_0</td>\n",
       "      <td>2.0</td>\n",
       "    </tr>\n",
       "    <tr>\n",
       "      <th>1</th>\n",
       "      <td>id_1</td>\n",
       "      <td>2.5</td>\n",
       "    </tr>\n",
       "    <tr>\n",
       "      <th>2</th>\n",
       "      <td>id_2</td>\n",
       "      <td>4.0</td>\n",
       "    </tr>\n",
       "    <tr>\n",
       "      <th>3</th>\n",
       "      <td>id_3</td>\n",
       "      <td>1.0</td>\n",
       "    </tr>\n",
       "    <tr>\n",
       "      <th>4</th>\n",
       "      <td>id_4</td>\n",
       "      <td>4.0</td>\n",
       "    </tr>\n",
       "  </tbody>\n",
       "</table>\n",
       "</div>"
      ],
      "text/plain": [
       "  Restaurant_id  Rating\n",
       "0          id_0     2.0\n",
       "1          id_1     2.5\n",
       "2          id_2     4.0\n",
       "3          id_3     1.0\n",
       "4          id_4     4.0"
      ]
     },
     "execution_count": 8,
     "metadata": {},
     "output_type": "execute_result"
    }
   ],
   "source": [
    "sample_submission.head(5)"
   ]
  },
  {
   "cell_type": "code",
   "execution_count": 9,
   "metadata": {},
   "outputs": [
    {
     "name": "stdout",
     "output_type": "stream",
     "text": [
      "<class 'pandas.core.frame.DataFrame'>\n",
      "RangeIndex: 10000 entries, 0 to 9999\n",
      "Data columns (total 2 columns):\n",
      "Restaurant_id    10000 non-null object\n",
      "Rating           10000 non-null float64\n",
      "dtypes: float64(1), object(1)\n",
      "memory usage: 156.4+ KB\n"
     ]
    }
   ],
   "source": [
    "sample_submission.info()"
   ]
  },
  {
   "cell_type": "code",
   "execution_count": 10,
   "metadata": {},
   "outputs": [],
   "source": [
    "# ВАЖНО! дря корректной обработки признаков объединяем трейн и тест в один датасет\n",
    "df_train['sample'] = 1 # помечаем где у нас трейн\n",
    "df_test['sample'] = 0 # помечаем где у нас тест\n",
    "df_test['Rating'] = 0 # в тесте у нас нет значения Rating, мы его должны предсказать, по этому пока просто заполняем нулями\n",
    "\n",
    "df = df_test.append(df_train, sort=False).reset_index(drop=True) # объединяем"
   ]
  },
  {
   "cell_type": "markdown",
   "metadata": {},
   "source": [
    "Подробнее по признакам:\n",
    "* City: Город \n",
    "* Cuisine Style: Кухня\n",
    "* Ranking: Ранг ресторана относительно других ресторанов в этом городе\n",
    "* Price Range: Цены в ресторане в 3 категориях\n",
    "* Number of Reviews: Количество отзывов\n",
    "* Reviews: 2 последних отзыва и даты этих отзывов\n",
    "* URL_TA: страница ресторана на 'www.tripadvisor.com' \n",
    "* ID_TA: ID ресторана в TripAdvisor\n",
    "* Rating: Рейтинг ресторана"
   ]
  },
  {
   "cell_type": "code",
   "execution_count": 11,
   "metadata": {},
   "outputs": [
    {
     "data": {
      "text/html": [
       "<div>\n",
       "<style scoped>\n",
       "    .dataframe tbody tr th:only-of-type {\n",
       "        vertical-align: middle;\n",
       "    }\n",
       "\n",
       "    .dataframe tbody tr th {\n",
       "        vertical-align: top;\n",
       "    }\n",
       "\n",
       "    .dataframe thead th {\n",
       "        text-align: right;\n",
       "    }\n",
       "</style>\n",
       "<table border=\"1\" class=\"dataframe\">\n",
       "  <thead>\n",
       "    <tr style=\"text-align: right;\">\n",
       "      <th></th>\n",
       "      <th>Restaurant_id</th>\n",
       "      <th>City</th>\n",
       "      <th>Cuisine Style</th>\n",
       "      <th>Ranking</th>\n",
       "      <th>Price Range</th>\n",
       "      <th>Number of Reviews</th>\n",
       "      <th>Reviews</th>\n",
       "      <th>URL_TA</th>\n",
       "      <th>ID_TA</th>\n",
       "      <th>sample</th>\n",
       "      <th>Rating</th>\n",
       "    </tr>\n",
       "  </thead>\n",
       "  <tbody>\n",
       "    <tr>\n",
       "      <th>43437</th>\n",
       "      <td>id_1344</td>\n",
       "      <td>Copenhagen</td>\n",
       "      <td>['French', 'European', 'Danish']</td>\n",
       "      <td>1346.0</td>\n",
       "      <td>$$$$</td>\n",
       "      <td>4.0</td>\n",
       "      <td>[['What you need', 'Nice breakfast in a good h...</td>\n",
       "      <td>/Restaurant_Review-g189541-d4129226-Reviews-Re...</td>\n",
       "      <td>d4129226</td>\n",
       "      <td>1</td>\n",
       "      <td>4.5</td>\n",
       "    </tr>\n",
       "    <tr>\n",
       "      <th>32549</th>\n",
       "      <td>id_550</td>\n",
       "      <td>Berlin</td>\n",
       "      <td>['German', 'Bar', 'European', 'Pub', 'Vegetari...</td>\n",
       "      <td>551.0</td>\n",
       "      <td>$$ - $$$</td>\n",
       "      <td>151.0</td>\n",
       "      <td>[['Fantastic blues in packed pub', 'Good food ...</td>\n",
       "      <td>/Restaurant_Review-g187323-d1438914-Reviews-Yo...</td>\n",
       "      <td>d1438914</td>\n",
       "      <td>1</td>\n",
       "      <td>4.0</td>\n",
       "    </tr>\n",
       "    <tr>\n",
       "      <th>8464</th>\n",
       "      <td>id_8464</td>\n",
       "      <td>Rome</td>\n",
       "      <td>['Italian', 'Cafe']</td>\n",
       "      <td>3753.0</td>\n",
       "      <td>$$ - $$$</td>\n",
       "      <td>209.0</td>\n",
       "      <td>[['A Wonderful Place to Buy Quality Cooking S....</td>\n",
       "      <td>/Restaurant_Review-g187791-d2446097-Reviews-Ca...</td>\n",
       "      <td>d2446097</td>\n",
       "      <td>0</td>\n",
       "      <td>0.0</td>\n",
       "    </tr>\n",
       "    <tr>\n",
       "      <th>20326</th>\n",
       "      <td>id_4980</td>\n",
       "      <td>Milan</td>\n",
       "      <td>['Italian']</td>\n",
       "      <td>4983.0</td>\n",
       "      <td>NaN</td>\n",
       "      <td>33.0</td>\n",
       "      <td>[[], []]</td>\n",
       "      <td>/Restaurant_Review-g187849-d6635103-Reviews-Ci...</td>\n",
       "      <td>d6635103</td>\n",
       "      <td>1</td>\n",
       "      <td>4.0</td>\n",
       "    </tr>\n",
       "    <tr>\n",
       "      <th>4166</th>\n",
       "      <td>id_4166</td>\n",
       "      <td>Krakow</td>\n",
       "      <td>['Polish', 'European', 'Eastern European', 'Ce...</td>\n",
       "      <td>106.0</td>\n",
       "      <td>$$ - $$$</td>\n",
       "      <td>4608.0</td>\n",
       "      <td>[['Traditional fayre - huge portions, good at....</td>\n",
       "      <td>/Restaurant_Review-g274772-d1009022-Reviews-Po...</td>\n",
       "      <td>d1009022</td>\n",
       "      <td>0</td>\n",
       "      <td>0.0</td>\n",
       "    </tr>\n",
       "  </tbody>\n",
       "</table>\n",
       "</div>"
      ],
      "text/plain": [
       "      Restaurant_id        City  \\\n",
       "43437       id_1344  Copenhagen   \n",
       "32549        id_550      Berlin   \n",
       "8464        id_8464        Rome   \n",
       "20326       id_4980       Milan   \n",
       "4166        id_4166      Krakow   \n",
       "\n",
       "                                           Cuisine Style  Ranking Price Range  \\\n",
       "43437                   ['French', 'European', 'Danish']   1346.0        $$$$   \n",
       "32549  ['German', 'Bar', 'European', 'Pub', 'Vegetari...    551.0    $$ - $$$   \n",
       "8464                                 ['Italian', 'Cafe']   3753.0    $$ - $$$   \n",
       "20326                                        ['Italian']   4983.0         NaN   \n",
       "4166   ['Polish', 'European', 'Eastern European', 'Ce...    106.0    $$ - $$$   \n",
       "\n",
       "       Number of Reviews                                            Reviews  \\\n",
       "43437                4.0  [['What you need', 'Nice breakfast in a good h...   \n",
       "32549              151.0  [['Fantastic blues in packed pub', 'Good food ...   \n",
       "8464               209.0  [['A Wonderful Place to Buy Quality Cooking S....   \n",
       "20326               33.0                                           [[], []]   \n",
       "4166              4608.0  [['Traditional fayre - huge portions, good at....   \n",
       "\n",
       "                                                  URL_TA     ID_TA  sample  \\\n",
       "43437  /Restaurant_Review-g189541-d4129226-Reviews-Re...  d4129226       1   \n",
       "32549  /Restaurant_Review-g187323-d1438914-Reviews-Yo...  d1438914       1   \n",
       "8464   /Restaurant_Review-g187791-d2446097-Reviews-Ca...  d2446097       0   \n",
       "20326  /Restaurant_Review-g187849-d6635103-Reviews-Ci...  d6635103       1   \n",
       "4166   /Restaurant_Review-g274772-d1009022-Reviews-Po...  d1009022       0   \n",
       "\n",
       "       Rating  \n",
       "43437     4.5  \n",
       "32549     4.0  \n",
       "8464      0.0  \n",
       "20326     4.0  \n",
       "4166      0.0  "
      ]
     },
     "execution_count": 11,
     "metadata": {},
     "output_type": "execute_result"
    }
   ],
   "source": [
    "df.sample(5)"
   ]
  },
  {
   "cell_type": "code",
   "execution_count": 12,
   "metadata": {},
   "outputs": [
    {
     "data": {
      "text/plain": [
       "\"[['Very good reviews!', 'Fine dining in Hakaniemi'], ['12/05/2017', '10/29/2017']]\""
      ]
     },
     "execution_count": 12,
     "metadata": {},
     "output_type": "execute_result"
    }
   ],
   "source": [
    "df.Reviews[1]"
   ]
  },
  {
   "cell_type": "markdown",
   "metadata": {},
   "source": [
    "Как видим, большинство признаков у нас требует очистки и предварительной обработки."
   ]
  },
  {
   "cell_type": "markdown",
   "metadata": {},
   "source": [
    "# функции"
   ]
  },
  {
   "cell_type": "code",
   "execution_count": 13,
   "metadata": {},
   "outputs": [],
   "source": [
    "# функция расчета выбросов\n",
    "def outliers_iqr(ys):\n",
    "    quartile_1, quartile_3 = np.percentile(ys, [25, 75])\n",
    "    iqr = quartile_3 - quartile_1\n",
    "    lower_bound = quartile_1 - (iqr * 1.5)\n",
    "    upper_bound = quartile_3 + (iqr * 1.5)\n",
    "    return lower_bound, upper_bound"
   ]
  },
  {
   "cell_type": "code",
   "execution_count": 14,
   "metadata": {},
   "outputs": [],
   "source": [
    "# функция расчета стаистических закономерностей\n",
    "def get_stat_dif(column):\n",
    "    cols = df_stat.loc[:, column].value_counts().index[:10]\n",
    "    combinations_all = list(combinations(cols, 2))\n",
    "    for comb in combinations_all:\n",
    "        if ttest_ind(df_stat.loc[df_stat.loc[:, column] == comb[0], 'rating'], \n",
    "                        df_stat.loc[df_stat.loc[:, column] == comb[1], 'rating']).pvalue \\\n",
    "            <= 0.05/len(combinations_all): # Учли поправку Бонферони\n",
    "            print('Найдены статистически значимые различия для колонки', column)\n",
    "            break"
   ]
  },
  {
   "cell_type": "code",
   "execution_count": 15,
   "metadata": {},
   "outputs": [],
   "source": [
    "# функция округления результатов предсказания\n",
    "def round_pred(y_pred):\n",
    "    return [(round(y / 0.5) * 0.5) for y in y_pred]"
   ]
  },
  {
   "cell_type": "code",
   "execution_count": 16,
   "metadata": {},
   "outputs": [],
   "source": [
    "# функция minmax нормализации столбца датасета\n",
    "def MMS(ser):\n",
    "    scaler = MinMaxScaler()\n",
    "    x = np.array(ser).reshape(len(ser), 1)\n",
    "    a = scaler.fit_transform(x)\n",
    "    a_s = pd.Series(a.flatten())\n",
    "    return a_s"
   ]
  },
  {
   "cell_type": "code",
   "execution_count": 17,
   "metadata": {},
   "outputs": [],
   "source": [
    "# функция std нормализации столбца датасета\n",
    "def stdS(ser):\n",
    "    scaler = StandardScaler()\n",
    "    x = np.array(ser).reshape(len(ser), 1)\n",
    "    a = scaler.fit_transform(x)\n",
    "    a_s = pd.Series(a.flatten())\n",
    "    return a_s"
   ]
  },
  {
   "cell_type": "code",
   "execution_count": 18,
   "metadata": {},
   "outputs": [
    {
     "name": "stdout",
     "output_type": "stream",
     "text": [
      "названия колонок датасета\n",
      " Index(['Restaurant_id', 'City', 'Cuisine Style', 'Ranking', 'Price Range',\n",
      "       'Number of Reviews', 'Reviews', 'URL_TA', 'ID_TA', 'sample', 'Rating'],\n",
      "      dtype='object')\n"
     ]
    }
   ],
   "source": [
    "print('названия колонок датасета\\n', df.columns)"
   ]
  },
  {
   "cell_type": "markdown",
   "metadata": {},
   "source": [
    "переименуем колонки в удобные для работы названия"
   ]
  },
  {
   "cell_type": "code",
   "execution_count": 19,
   "metadata": {},
   "outputs": [],
   "source": [
    "df.columns = ['id', 'city', 'cuisine', 'ranking',\n",
    "       'price', 'number', 'reviews', 'URL_TA', 'ID_TA',\n",
    "       'sample','rating']"
   ]
  },
  {
   "cell_type": "code",
   "execution_count": 20,
   "metadata": {},
   "outputs": [
    {
     "name": "stdout",
     "output_type": "stream",
     "text": [
      "<class 'pandas.core.frame.DataFrame'>\n",
      "RangeIndex: 50000 entries, 0 to 49999\n",
      "Data columns (total 11 columns):\n",
      "id         50000 non-null object\n",
      "city       50000 non-null object\n",
      "cuisine    38410 non-null object\n",
      "ranking    50000 non-null float64\n",
      "price      32639 non-null object\n",
      "number     46800 non-null float64\n",
      "reviews    49998 non-null object\n",
      "URL_TA     50000 non-null object\n",
      "ID_TA      50000 non-null object\n",
      "sample     50000 non-null int64\n",
      "rating     50000 non-null float64\n",
      "dtypes: float64(3), int64(1), object(7)\n",
      "memory usage: 4.2+ MB\n"
     ]
    }
   ],
   "source": [
    "df.info()"
   ]
  },
  {
   "cell_type": "markdown",
   "metadata": {},
   "source": [
    "четыре колонки имеют пропуски, причем колонки cuisine и price содержат слишком много пропусков"
   ]
  },
  {
   "cell_type": "code",
   "execution_count": 21,
   "metadata": {},
   "outputs": [
    {
     "name": "stderr",
     "output_type": "stream",
     "text": [
      "/opt/conda/lib/python3.6/site-packages/numpy/lib/histograms.py:839: RuntimeWarning: invalid value encountered in greater_equal\n",
      "  keep = (tmp_a >= first_edge)\n",
      "/opt/conda/lib/python3.6/site-packages/numpy/lib/histograms.py:840: RuntimeWarning: invalid value encountered in less_equal\n",
      "  keep &= (tmp_a <= last_edge)\n"
     ]
    },
    {
     "data": {
      "image/png": "[encoded data removed]",
      "text/plain": [
       "<Figure size 540x540 with 12 Axes>"
      ]
     },
     "metadata": {
      "needs_background": "light"
     },
     "output_type": "display_data"
    }
   ],
   "source": [
    "sns.pairplot(df.drop(['sample'], axis = 1));"
   ]
  },
  {
   "cell_type": "markdown",
   "metadata": {},
   "source": [
    "числовые признаки распределены в основном экспоненциально, сосредоточены около предельных значений, имеют существенный разброс, некластеризированы"
   ]
  },
  {
   "cell_type": "markdown",
   "metadata": {},
   "source": [
    "# *колонка* **cuisine**"
   ]
  },
  {
   "cell_type": "code",
   "execution_count": 22,
   "metadata": {},
   "outputs": [
    {
     "name": "stdout",
     "output_type": "stream",
     "text": [
      "0                                           ['Bar', 'Pub']\n",
      "1        ['European', 'Scandinavian', 'Gluten Free Opti...\n",
      "2                                  ['Vegetarian Friendly']\n",
      "3        ['Italian', 'Mediterranean', 'European', 'Vege...\n",
      "4        ['Italian', 'Mediterranean', 'European', 'Seaf...\n",
      "                               ...                        \n",
      "49995    ['Italian', 'Vegetarian Friendly', 'Vegan Opti...\n",
      "49996    ['French', 'American', 'Bar', 'European', 'Veg...\n",
      "49997                                ['Japanese', 'Sushi']\n",
      "49998    ['Polish', 'European', 'Eastern European', 'Ce...\n",
      "49999                                          ['Spanish']\n",
      "Name: cuisine, Length: 50000, dtype: object\n",
      "['European', 'Scandinavian', 'Gluten Free Options', 'Vegetarian Friendly', 'Vegan Options']\n"
     ]
    }
   ],
   "source": [
    "print(df.cuisine)\n",
    "print(df.cuisine[1])"
   ]
  },
  {
   "cell_type": "markdown",
   "metadata": {},
   "source": [
    "данные в колонке представляют из себя строку списков строк, требуется преобразование"
   ]
  },
  {
   "cell_type": "code",
   "execution_count": 23,
   "metadata": {},
   "outputs": [
    {
     "name": "stdout",
     "output_type": "stream",
     "text": [
      "количество пустых строк 11590\n",
      "количесвто пустых строк в процентах 23.18\n"
     ]
    }
   ],
   "source": [
    "# считаем количесвто пустых строк\n",
    "print('количество пустых строк', df.cuisine.isna().sum())\n",
    "# количесвто пустых строк в процентах\n",
    "print('количесвто пустых строк в процентах', df.cuisine.isna().sum()/len(df)*100)\n"
   ]
  },
  {
   "cell_type": "markdown",
   "metadata": {},
   "source": [
    "мы видим очень много пустых строк, но в ресторане не может не быть кухни, как минимум одна все равно есть"
   ]
  },
  {
   "cell_type": "code",
   "execution_count": 24,
   "metadata": {},
   "outputs": [],
   "source": [
    "# преобразуем строку списка в список и пустые строки назовем стандартная кухня\n",
    "df3 = df.cuisine.copy()\n",
    "df3 = df3.fillna('[standart]')\n",
    "df3 = df3.apply(lambda x: str(x)[1:-1])\n",
    "df3 = df3.apply(lambda x: x.replace(\"'\", ''))\n",
    "df3 = df3.str.split(', ')"
   ]
  },
  {
   "cell_type": "code",
   "execution_count": 25,
   "metadata": {},
   "outputs": [
    {
     "data": {
      "text/plain": [
       "['European',\n",
       " 'Scandinavian',\n",
       " 'Gluten Free Options',\n",
       " 'Vegetarian Friendly',\n",
       " 'Vegan Options']"
      ]
     },
     "execution_count": 25,
     "metadata": {},
     "output_type": "execute_result"
    }
   ],
   "source": [
    "# посмотрим на результат\n",
    "df3[1]"
   ]
  },
  {
   "cell_type": "code",
   "execution_count": 26,
   "metadata": {},
   "outputs": [
    {
     "name": "stdout",
     "output_type": "stream",
     "text": [
      "Vegetarian Friendly    14021\n",
      "European               12561\n",
      "standart               11590\n",
      "Mediterranean           7820\n",
      "Italian                 7433\n",
      "                       ...  \n",
      "Fujian                     2\n",
      "Salvadoran                 1\n",
      "Burmese                    1\n",
      "Xinjiang                   1\n",
      "Latvian                    1\n",
      "Name: cuisine, Length: 126, dtype: int64\n",
      "Vegetarian Friendly    0.106814\n",
      "European               0.095691\n",
      "standart               0.088294\n",
      "Mediterranean          0.059574\n",
      "Italian                0.056625\n",
      "                         ...   \n",
      "Fujian                 0.000015\n",
      "Salvadoran             0.000008\n",
      "Burmese                0.000008\n",
      "Xinjiang               0.000008\n",
      "Latvian                0.000008\n",
      "Name: cuisine, Length: 126, dtype: float64\n",
      "126\n"
     ]
    }
   ],
   "source": [
    "# посчитаем количество кухонь\n",
    "cuisine_all = df3.explode()\n",
    "print(cuisine_all.value_counts())\n",
    "print(cuisine_all.value_counts(normalize = True))\n",
    "print(cuisine_all.nunique())"
   ]
  },
  {
   "cell_type": "code",
   "execution_count": 27,
   "metadata": {},
   "outputs": [
    {
     "name": "stdout",
     "output_type": "stream",
     "text": [
      "Найдены статистически значимые различия для колонки cuisine\n"
     ]
    }
   ],
   "source": [
    "# проверим колонку на наличие статистически значимых различий\n",
    "df_stat = pd.DataFrame()\n",
    "df_stat['cuisine'] = df3\n",
    "df_stat['rating'] = df['rating']\n",
    "df_stat['sample'] = df['sample']\n",
    "df_stat = df_stat.explode('cuisine')\n",
    "df_stat = df_stat[df_stat['sample'] == 1]\n",
    "df_stat = df_stat[df_stat['cuisine'] != '']\n",
    "get_stat_dif('cuisine')"
   ]
  },
  {
   "cell_type": "markdown",
   "metadata": {},
   "source": [
    "колонка имеет статистически значимые различия с целевой переменной, но типов кухонь очень много, всего 126, преобразовать в dummy-переменные нецелесообразно"
   ]
  },
  {
   "cell_type": "code",
   "execution_count": 28,
   "metadata": {},
   "outputs": [
    {
     "name": "stdout",
     "output_type": "stream",
     "text": [
      "уникальные значения\n",
      " [ 2  5  1  6  3  4  7  8  9 10 15 11 13 21]\n",
      "количество значений\n",
      " 1     20744\n",
      "2      7794\n",
      "3      6638\n",
      "4      5948\n",
      "5      4482\n",
      "6      2611\n",
      "7      1294\n",
      "8       363\n",
      "9        93\n",
      "10       26\n",
      "11        4\n",
      "21        1\n",
      "15        1\n",
      "13        1\n",
      "Name: cuisine, dtype: int64\n",
      "количество значений в процентах\n",
      " 1     0.41488\n",
      "2     0.15588\n",
      "3     0.13276\n",
      "4     0.11896\n",
      "5     0.08964\n",
      "6     0.05222\n",
      "7     0.02588\n",
      "8     0.00726\n",
      "9     0.00186\n",
      "10    0.00052\n",
      "11    0.00008\n",
      "21    0.00002\n",
      "15    0.00002\n",
      "13    0.00002\n",
      "Name: cuisine, dtype: float64\n"
     ]
    }
   ],
   "source": [
    "# посчитаем количество кухонь для каждого ресторана\n",
    "df3_c = df3.apply(lambda x: len(x))\n",
    "print('уникальные значения\\n', df3_c.unique())\n",
    "print('количество значений\\n', df3_c.value_counts())\n",
    "print('количество значений в процентах\\n', df3_c.value_counts(normalize = True))\n",
    "df['cuisine_c'] = df3_c"
   ]
  },
  {
   "cell_type": "code",
   "execution_count": 29,
   "metadata": {},
   "outputs": [
    {
     "data": {
      "image/png": "[encoded data removed]",
      "text/plain": [
       "<Figure size 432x288 with 1 Axes>"
      ]
     },
     "metadata": {
      "needs_background": "light"
     },
     "output_type": "display_data"
    }
   ],
   "source": [
    "sns.boxplot(df['cuisine_c']);"
   ]
  },
  {
   "cell_type": "code",
   "execution_count": 30,
   "metadata": {},
   "outputs": [
    {
     "data": {
      "image/png": "[encoded data removed]",
      "text/plain": [
       "<Figure size 432x288 with 1 Axes>"
      ]
     },
     "metadata": {
      "needs_background": "light"
     },
     "output_type": "display_data"
    }
   ],
   "source": [
    "df.cuisine_c.hist();"
   ]
  },
  {
   "cell_type": "code",
   "execution_count": 31,
   "metadata": {},
   "outputs": [
    {
     "name": "stdout",
     "output_type": "stream",
     "text": [
      "выбросы (-3.5, 8.5)\n"
     ]
    }
   ],
   "source": [
    "print('выбросы', outliers_iqr(df.cuisine_c))"
   ]
  },
  {
   "cell_type": "code",
   "execution_count": 32,
   "metadata": {},
   "outputs": [
    {
     "data": {
      "text/html": [
       "<div>\n",
       "<style scoped>\n",
       "    .dataframe tbody tr th:only-of-type {\n",
       "        vertical-align: middle;\n",
       "    }\n",
       "\n",
       "    .dataframe tbody tr th {\n",
       "        vertical-align: top;\n",
       "    }\n",
       "\n",
       "    .dataframe thead th {\n",
       "        text-align: right;\n",
       "    }\n",
       "</style>\n",
       "<table border=\"1\" class=\"dataframe\">\n",
       "  <thead>\n",
       "    <tr style=\"text-align: right;\">\n",
       "      <th></th>\n",
       "      <th>id</th>\n",
       "      <th>city</th>\n",
       "      <th>cuisine</th>\n",
       "      <th>ranking</th>\n",
       "      <th>price</th>\n",
       "      <th>number</th>\n",
       "      <th>reviews</th>\n",
       "      <th>URL_TA</th>\n",
       "      <th>ID_TA</th>\n",
       "      <th>sample</th>\n",
       "      <th>rating</th>\n",
       "      <th>cuisine_c</th>\n",
       "    </tr>\n",
       "  </thead>\n",
       "  <tbody>\n",
       "    <tr>\n",
       "      <th>679</th>\n",
       "      <td>id_679</td>\n",
       "      <td>Madrid</td>\n",
       "      <td>['Mexican', 'Latin', 'Contemporary', 'Fusion',...</td>\n",
       "      <td>168.0</td>\n",
       "      <td>$$ - $$$</td>\n",
       "      <td>144.0</td>\n",
       "      <td>[['Great Mexican cuisine is a lively neighbor....</td>\n",
       "      <td>/Restaurant_Review-g187514-d10494492-Reviews-M...</td>\n",
       "      <td>d10494492</td>\n",
       "      <td>0</td>\n",
       "      <td>0.0</td>\n",
       "      <td>9</td>\n",
       "    </tr>\n",
       "    <tr>\n",
       "      <th>832</th>\n",
       "      <td>id_832</td>\n",
       "      <td>Budapest</td>\n",
       "      <td>['Italian', 'French', 'German', 'European', 'H...</td>\n",
       "      <td>422.0</td>\n",
       "      <td>$$ - $$$</td>\n",
       "      <td>41.0</td>\n",
       "      <td>[['Nice place, nice staff', 'Perfect'], ['11/1...</td>\n",
       "      <td>/Restaurant_Review-g274887-d11806031-Reviews-M...</td>\n",
       "      <td>d11806031</td>\n",
       "      <td>0</td>\n",
       "      <td>0.0</td>\n",
       "      <td>10</td>\n",
       "    </tr>\n",
       "    <tr>\n",
       "      <th>1358</th>\n",
       "      <td>id_1358</td>\n",
       "      <td>Budapest</td>\n",
       "      <td>['International', 'Grill', 'Barbecue', 'Europe...</td>\n",
       "      <td>319.0</td>\n",
       "      <td>$$ - $$$</td>\n",
       "      <td>241.0</td>\n",
       "      <td>[['Good value for your money', 'Nice evening d...</td>\n",
       "      <td>/Restaurant_Review-g274887-d1023224-Reviews-Tr...</td>\n",
       "      <td>d1023224</td>\n",
       "      <td>0</td>\n",
       "      <td>0.0</td>\n",
       "      <td>9</td>\n",
       "    </tr>\n",
       "    <tr>\n",
       "      <th>2292</th>\n",
       "      <td>id_2292</td>\n",
       "      <td>Vienna</td>\n",
       "      <td>['German', 'Austrian', 'European', 'Asian', 'C...</td>\n",
       "      <td>1379.0</td>\n",
       "      <td>$$ - $$$</td>\n",
       "      <td>42.0</td>\n",
       "      <td>[['Traditional Austrian dishes', 'Delicious Au...</td>\n",
       "      <td>/Restaurant_Review-g190454-d1907599-Reviews-Gi...</td>\n",
       "      <td>d1907599</td>\n",
       "      <td>0</td>\n",
       "      <td>0.0</td>\n",
       "      <td>10</td>\n",
       "    </tr>\n",
       "    <tr>\n",
       "      <th>3184</th>\n",
       "      <td>id_3184</td>\n",
       "      <td>Rome</td>\n",
       "      <td>['Italian', 'Pizza', 'Seafood', 'Mediterranean...</td>\n",
       "      <td>774.0</td>\n",
       "      <td>$$ - $$$</td>\n",
       "      <td>893.0</td>\n",
       "      <td>[['Waterfront experience', 'Excellent location...</td>\n",
       "      <td>/Restaurant_Review-g187791-d1641052-Reviews-Cu...</td>\n",
       "      <td>d1641052</td>\n",
       "      <td>0</td>\n",
       "      <td>0.0</td>\n",
       "      <td>9</td>\n",
       "    </tr>\n",
       "    <tr>\n",
       "      <th>...</th>\n",
       "      <td>...</td>\n",
       "      <td>...</td>\n",
       "      <td>...</td>\n",
       "      <td>...</td>\n",
       "      <td>...</td>\n",
       "      <td>...</td>\n",
       "      <td>...</td>\n",
       "      <td>...</td>\n",
       "      <td>...</td>\n",
       "      <td>...</td>\n",
       "      <td>...</td>\n",
       "      <td>...</td>\n",
       "    </tr>\n",
       "    <tr>\n",
       "      <th>48241</th>\n",
       "      <td>id_17</td>\n",
       "      <td>Edinburgh</td>\n",
       "      <td>['Mediterranean', 'Barbecue', 'Turkish', 'Euro...</td>\n",
       "      <td>18.0</td>\n",
       "      <td>$$ - $$$</td>\n",
       "      <td>440.0</td>\n",
       "      <td>[['Dinner', 'Still the best'], ['01/10/2018', ...</td>\n",
       "      <td>/Restaurant_Review-g186525-d8699437-Reviews-Ad...</td>\n",
       "      <td>d8699437</td>\n",
       "      <td>1</td>\n",
       "      <td>4.5</td>\n",
       "      <td>9</td>\n",
       "    </tr>\n",
       "    <tr>\n",
       "      <th>49276</th>\n",
       "      <td>id_67</td>\n",
       "      <td>Warsaw</td>\n",
       "      <td>['Lebanese', 'Mediterranean', 'Middle Eastern'...</td>\n",
       "      <td>68.0</td>\n",
       "      <td>$$ - $$$</td>\n",
       "      <td>180.0</td>\n",
       "      <td>[['Good place in Warsaw', 'Exceeded the expect...</td>\n",
       "      <td>/Restaurant_Review-g274856-d3854108-Reviews-Le...</td>\n",
       "      <td>d3854108</td>\n",
       "      <td>1</td>\n",
       "      <td>4.5</td>\n",
       "      <td>9</td>\n",
       "    </tr>\n",
       "    <tr>\n",
       "      <th>49413</th>\n",
       "      <td>id_93</td>\n",
       "      <td>Amsterdam</td>\n",
       "      <td>['Asian', 'Italian', 'French', 'American', 'In...</td>\n",
       "      <td>94.0</td>\n",
       "      <td>$$ - $$$</td>\n",
       "      <td>1480.0</td>\n",
       "      <td>[['Amazing place, great food &amp; vibe - you MUS....</td>\n",
       "      <td>/Restaurant_Review-g188590-d7231902-Reviews-Fo...</td>\n",
       "      <td>d7231902</td>\n",
       "      <td>1</td>\n",
       "      <td>4.5</td>\n",
       "      <td>21</td>\n",
       "    </tr>\n",
       "    <tr>\n",
       "      <th>49614</th>\n",
       "      <td>id_106</td>\n",
       "      <td>Edinburgh</td>\n",
       "      <td>['American', 'Bar', 'British', 'Pub', 'Scottis...</td>\n",
       "      <td>107.0</td>\n",
       "      <td>$$ - $$$</td>\n",
       "      <td>1072.0</td>\n",
       "      <td>[['Great burgers!', 'Great for meat lovers, bu...</td>\n",
       "      <td>/Restaurant_Review-g186525-d1811602-Reviews-Th...</td>\n",
       "      <td>d1811602</td>\n",
       "      <td>1</td>\n",
       "      <td>4.5</td>\n",
       "      <td>9</td>\n",
       "    </tr>\n",
       "    <tr>\n",
       "      <th>49955</th>\n",
       "      <td>id_1502</td>\n",
       "      <td>Barcelona</td>\n",
       "      <td>['Cafe', 'International', 'Mediterranean', 'Sp...</td>\n",
       "      <td>1503.0</td>\n",
       "      <td>$$ - $$$</td>\n",
       "      <td>43.0</td>\n",
       "      <td>[['Perfect 👌', 'A great alternative to the sho...</td>\n",
       "      <td>/Restaurant_Review-g187497-d12036041-Reviews-P...</td>\n",
       "      <td>d12036041</td>\n",
       "      <td>1</td>\n",
       "      <td>4.5</td>\n",
       "      <td>9</td>\n",
       "    </tr>\n",
       "  </tbody>\n",
       "</table>\n",
       "<p>126 rows × 12 columns</p>\n",
       "</div>"
      ],
      "text/plain": [
       "            id       city                                            cuisine  \\\n",
       "679     id_679     Madrid  ['Mexican', 'Latin', 'Contemporary', 'Fusion',...   \n",
       "832     id_832   Budapest  ['Italian', 'French', 'German', 'European', 'H...   \n",
       "1358   id_1358   Budapest  ['International', 'Grill', 'Barbecue', 'Europe...   \n",
       "2292   id_2292     Vienna  ['German', 'Austrian', 'European', 'Asian', 'C...   \n",
       "3184   id_3184       Rome  ['Italian', 'Pizza', 'Seafood', 'Mediterranean...   \n",
       "...        ...        ...                                                ...   \n",
       "48241    id_17  Edinburgh  ['Mediterranean', 'Barbecue', 'Turkish', 'Euro...   \n",
       "49276    id_67     Warsaw  ['Lebanese', 'Mediterranean', 'Middle Eastern'...   \n",
       "49413    id_93  Amsterdam  ['Asian', 'Italian', 'French', 'American', 'In...   \n",
       "49614   id_106  Edinburgh  ['American', 'Bar', 'British', 'Pub', 'Scottis...   \n",
       "49955  id_1502  Barcelona  ['Cafe', 'International', 'Mediterranean', 'Sp...   \n",
       "\n",
       "       ranking     price  number  \\\n",
       "679      168.0  $$ - $$$   144.0   \n",
       "832      422.0  $$ - $$$    41.0   \n",
       "1358     319.0  $$ - $$$   241.0   \n",
       "2292    1379.0  $$ - $$$    42.0   \n",
       "3184     774.0  $$ - $$$   893.0   \n",
       "...        ...       ...     ...   \n",
       "48241     18.0  $$ - $$$   440.0   \n",
       "49276     68.0  $$ - $$$   180.0   \n",
       "49413     94.0  $$ - $$$  1480.0   \n",
       "49614    107.0  $$ - $$$  1072.0   \n",
       "49955   1503.0  $$ - $$$    43.0   \n",
       "\n",
       "                                                 reviews  \\\n",
       "679    [['Great Mexican cuisine is a lively neighbor....   \n",
       "832    [['Nice place, nice staff', 'Perfect'], ['11/1...   \n",
       "1358   [['Good value for your money', 'Nice evening d...   \n",
       "2292   [['Traditional Austrian dishes', 'Delicious Au...   \n",
       "3184   [['Waterfront experience', 'Excellent location...   \n",
       "...                                                  ...   \n",
       "48241  [['Dinner', 'Still the best'], ['01/10/2018', ...   \n",
       "49276  [['Good place in Warsaw', 'Exceeded the expect...   \n",
       "49413  [['Amazing place, great food & vibe - you MUS....   \n",
       "49614  [['Great burgers!', 'Great for meat lovers, bu...   \n",
       "49955  [['Perfect 👌', 'A great alternative to the sho...   \n",
       "\n",
       "                                                  URL_TA      ID_TA  sample  \\\n",
       "679    /Restaurant_Review-g187514-d10494492-Reviews-M...  d10494492       0   \n",
       "832    /Restaurant_Review-g274887-d11806031-Reviews-M...  d11806031       0   \n",
       "1358   /Restaurant_Review-g274887-d1023224-Reviews-Tr...   d1023224       0   \n",
       "2292   /Restaurant_Review-g190454-d1907599-Reviews-Gi...   d1907599       0   \n",
       "3184   /Restaurant_Review-g187791-d1641052-Reviews-Cu...   d1641052       0   \n",
       "...                                                  ...        ...     ...   \n",
       "48241  /Restaurant_Review-g186525-d8699437-Reviews-Ad...   d8699437       1   \n",
       "49276  /Restaurant_Review-g274856-d3854108-Reviews-Le...   d3854108       1   \n",
       "49413  /Restaurant_Review-g188590-d7231902-Reviews-Fo...   d7231902       1   \n",
       "49614  /Restaurant_Review-g186525-d1811602-Reviews-Th...   d1811602       1   \n",
       "49955  /Restaurant_Review-g187497-d12036041-Reviews-P...  d12036041       1   \n",
       "\n",
       "       rating  cuisine_c  \n",
       "679       0.0          9  \n",
       "832       0.0         10  \n",
       "1358      0.0          9  \n",
       "2292      0.0         10  \n",
       "3184      0.0          9  \n",
       "...       ...        ...  \n",
       "48241     4.5          9  \n",
       "49276     4.5          9  \n",
       "49413     4.5         21  \n",
       "49614     4.5          9  \n",
       "49955     4.5          9  \n",
       "\n",
       "[126 rows x 12 columns]"
      ]
     },
     "execution_count": 32,
     "metadata": {},
     "output_type": "execute_result"
    }
   ],
   "source": [
    "df[df.cuisine_c > 8.5]"
   ]
  },
  {
   "cell_type": "markdown",
   "metadata": {},
   "source": [
    "в колонке есть выбросы, которые есть и в тестовой выборке, но их немного, попробуем избавится от них, не меняя их явно"
   ]
  },
  {
   "cell_type": "code",
   "execution_count": 33,
   "metadata": {},
   "outputs": [
    {
     "name": "stdout",
     "output_type": "stream",
     "text": [
      "максимальное значение 3.044522437723423\n",
      "выбросы (-2.0794415416798357, 3.465735902799726)\n",
      "значения и их количество 0.000000    20744\n",
      "0.693147     7794\n",
      "1.098612     6638\n",
      "1.386294     5948\n",
      "1.609438     4482\n",
      "1.791759     2611\n",
      "1.945910     1294\n",
      "2.079442      363\n",
      "2.197225       93\n",
      "2.302585       26\n",
      "2.397895        4\n",
      "2.708050        1\n",
      "2.564949        1\n",
      "3.044522        1\n",
      "Name: cuisine_c, dtype: int64\n"
     ]
    }
   ],
   "source": [
    "# прологарифмируем значения в колонке\n",
    "df.cuisine_c = df.cuisine_c.apply(lambda x: np.log(x))\n",
    "print('максимальное значение', df.cuisine_c.max())\n",
    "print('выбросы', outliers_iqr(df.cuisine_c))\n",
    "print('значения и их количество', df.cuisine_c.value_counts())"
   ]
  },
  {
   "cell_type": "code",
   "execution_count": 34,
   "metadata": {},
   "outputs": [
    {
     "data": {
      "image/png": "[encoded data removed]",
      "text/plain": [
       "<Figure size 432x288 with 1 Axes>"
      ]
     },
     "metadata": {
      "needs_background": "light"
     },
     "output_type": "display_data"
    }
   ],
   "source": [
    "df.cuisine_c.hist(bins = 5);"
   ]
  },
  {
   "cell_type": "code",
   "execution_count": 35,
   "metadata": {},
   "outputs": [
    {
     "data": {
      "image/png": "[encoded data removed]",
      "text/plain": [
       "<Figure size 432x288 with 1 Axes>"
      ]
     },
     "metadata": {
      "needs_background": "light"
     },
     "output_type": "display_data"
    }
   ],
   "source": [
    "sns.boxplot(df.cuisine_c);"
   ]
  },
  {
   "cell_type": "markdown",
   "metadata": {},
   "source": [
    "выбросов больше нет, экспоненциальное распределение осталось"
   ]
  },
  {
   "cell_type": "markdown",
   "metadata": {},
   "source": [
    "# *колонка* **rating**"
   ]
  },
  {
   "cell_type": "code",
   "execution_count": 36,
   "metadata": {},
   "outputs": [
    {
     "name": "stdout",
     "output_type": "stream",
     "text": [
      "уникальные значения [0.  3.5 4.  4.5 5.  3.  2.5 2.  1.  1.5]\n",
      "значения и их количество\n",
      " 4.0    13692\n",
      "4.5    10929\n",
      "0.0    10000\n",
      "3.5     6824\n",
      "5.0     3879\n",
      "3.0     2955\n",
      "2.5      915\n",
      "2.0      466\n",
      "1.0      201\n",
      "1.5      139\n",
      "Name: rating, dtype: int64\n"
     ]
    },
    {
     "data": {
      "image/png": "[encoded data removed]",
      "text/plain": [
       "<Figure size 432x288 with 1 Axes>"
      ]
     },
     "metadata": {
      "needs_background": "light"
     },
     "output_type": "display_data"
    }
   ],
   "source": [
    "print('уникальные значения', df.rating.unique())\n",
    "print('значения и их количество\\n', df.rating.value_counts())\n",
    "df.rating.hist(bins = 100);"
   ]
  },
  {
   "cell_type": "markdown",
   "metadata": {},
   "source": [
    "значения целевой переменной имеет шаг 0,5, распределено примерно нормально"
   ]
  },
  {
   "cell_type": "markdown",
   "metadata": {},
   "source": [
    "# *колонка* **price**"
   ]
  },
  {
   "cell_type": "code",
   "execution_count": 37,
   "metadata": {},
   "outputs": [
    {
     "name": "stdout",
     "output_type": "stream",
     "text": [
      "уникальные значения ['$$ - $$$' '$$$$' '$' nan]\n",
      "значения и их количество\n",
      " $$ - $$$    23041\n",
      "$            7816\n",
      "$$$$         1782\n",
      "Name: price, dtype: int64\n",
      "34.721999999999994\n",
      "3475\n",
      "13886\n"
     ]
    }
   ],
   "source": [
    "print('уникальные значения', df.price.unique())\n",
    "price_vl = df.price.value_counts()\n",
    "print('значения и их количество\\n', price_vl)\n",
    "print(df.price.isna().sum()/50000*100)\n",
    "print(df[df['sample'] == 0].price.isna().sum())\n",
    "print(df[df['sample'] == 1].price.isna().sum())"
   ]
  },
  {
   "cell_type": "code",
   "execution_count": 38,
   "metadata": {},
   "outputs": [
    {
     "name": "stdout",
     "output_type": "stream",
     "text": [
      "Найдены статистически значимые различия для колонки price\n"
     ]
    }
   ],
   "source": [
    "# проверим колонку на наличие статистически значимых различий\n",
    "df_stat = pd.DataFrame()\n",
    "df_stat['price'] = df['price']\n",
    "df_stat['rating'] = df['rating']\n",
    "df_stat['sample'] = df['sample']\n",
    "df_stat = df_stat[df['sample'] == 1]\n",
    "get_stat_dif('price')"
   ]
  },
  {
   "cell_type": "markdown",
   "metadata": {},
   "source": [
    "в колонке очень много пропусков, почти 35%, нужно бы ее удалять, но она имеет статистически значимые различия, попробуем это использовать, заменив пропуски пропорционально имеющимся значениям"
   ]
  },
  {
   "cell_type": "code",
   "execution_count": 39,
   "metadata": {},
   "outputs": [],
   "source": [
    "# пометим строки, где есть NaN\n",
    "df['price_ind'] = df.price.isna()\n",
    "df['price_ind'] = df['price_ind'].apply(lambda x: 0 if x else 1)"
   ]
  },
  {
   "cell_type": "code",
   "execution_count": 40,
   "metadata": {},
   "outputs": [
    {
     "name": "stdout",
     "output_type": "stream",
     "text": [
      "['$$ - $$$', '$', '$$$$'] [0.7059346180949171, 0.23946812095958822, 0.054597260945494656]\n",
      "$$ - $$$    35310\n",
      "$           11961\n",
      "$$$$         2729\n",
      "Name: price, dtype: int64\n"
     ]
    }
   ],
   "source": [
    "# заменим пропуски пропорционально имеющимся данным\n",
    "price_list = [price_vl.index[x] for x in range(3)]\n",
    "p = [price_vl[z]/price_vl.sum() for z in range(3)]\n",
    "print(price_list, p)\n",
    "a = np.random.choice(price_list, df.price.isna().sum(), p=p)\n",
    "count = 0\n",
    "for i in range(len(df.price)):\n",
    "    if pd.isna(df.loc[i, 'price']) :\n",
    "        df.loc[i, 'price'] = a[count]\n",
    "        count += 1\n",
    "print(df.price.value_counts())"
   ]
  },
  {
   "cell_type": "code",
   "execution_count": 41,
   "metadata": {},
   "outputs": [
    {
     "data": {
      "text/plain": [
       "<matplotlib.axes._subplots.AxesSubplot at 0x7f986ce8db38>"
      ]
     },
     "execution_count": 41,
     "metadata": {},
     "output_type": "execute_result"
    },
    {
     "data": {
      "image/png": "[encoded data removed]",
      "text/plain": [
       "<Figure size 432x288 with 1 Axes>"
      ]
     },
     "metadata": {
      "needs_background": "light"
     },
     "output_type": "display_data"
    }
   ],
   "source": [
    "# сохраним колонку с категориальными значениями для последующего преобразования в dummy-переменные\n",
    "df['price1'] = df.price.copy()\n",
    "# заменим на числовыми значениями по принципу LabelEncoding\n",
    "df.price = df.price.apply(lambda x: 1 if x == '$' else 2 if x == '$$ - $$$' else 3)\n",
    "df.price.hist(bins = 3)"
   ]
  },
  {
   "cell_type": "code",
   "execution_count": 42,
   "metadata": {},
   "outputs": [
    {
     "name": "stdout",
     "output_type": "stream",
     "text": [
      "Найдены статистически значимые различия для колонки price\n"
     ]
    }
   ],
   "source": [
    "# проверим колонку на наличие статистически значимых различий после манипуляций\n",
    "df_stat = pd.DataFrame()\n",
    "df_stat['price'] = df['price']\n",
    "df_stat['rating'] = df['rating']\n",
    "df_stat['sample'] = df['sample']\n",
    "df_stat = df_stat[df['sample'] == 1]\n",
    "get_stat_dif('price')"
   ]
  },
  {
   "cell_type": "markdown",
   "metadata": {},
   "source": [
    "# *колонка* **number**"
   ]
  },
  {
   "cell_type": "code",
   "execution_count": 43,
   "metadata": {},
   "outputs": [
    {
     "name": "stdout",
     "output_type": "stream",
     "text": [
      "значения и их количество\n",
      " 2.0       2403\n",
      "3.0       2042\n",
      "4.0       1707\n",
      "5.0       1471\n",
      "6.0       1258\n",
      "          ... \n",
      "5216.0       1\n",
      "1932.0       1\n",
      "1050.0       1\n",
      "1145.0       1\n",
      "1471.0       1\n",
      "Name: number, Length: 1573, dtype: int64\n",
      "количество пустых строк 3200\n"
     ]
    },
    {
     "data": {
      "text/plain": [
       "<matplotlib.axes._subplots.AxesSubplot at 0x7f988d2b19b0>"
      ]
     },
     "execution_count": 43,
     "metadata": {},
     "output_type": "execute_result"
    },
    {
     "data": {
      "image/png": "[encoded data removed]",
      "text/plain": [
       "<Figure size 432x288 with 1 Axes>"
      ]
     },
     "metadata": {
      "needs_background": "light"
     },
     "output_type": "display_data"
    }
   ],
   "source": [
    "print('значения и их количество\\n', df.number.value_counts())\n",
    "print('количество пустых строк', df.number.isna().sum())\n",
    "# пометим строки, где есть NaN\n",
    "df['number_ind'] = df.number.isna()\n",
    "df['number_ind'] = df['number_ind'].apply(lambda x: 0 if x else 1)\n",
    "df.number.hist(bins = 100)"
   ]
  },
  {
   "cell_type": "code",
   "execution_count": 44,
   "metadata": {},
   "outputs": [
    {
     "data": {
      "text/plain": [
       "(-140.0, 252.0)"
      ]
     },
     "execution_count": 44,
     "metadata": {},
     "output_type": "execute_result"
    }
   ],
   "source": [
    "df_n = df.copy()\n",
    "df_n.number.fillna(0, inplace = True)\n",
    "outliers_iqr(df_n.number)"
   ]
  },
  {
   "cell_type": "code",
   "execution_count": 45,
   "metadata": {},
   "outputs": [
    {
     "data": {
      "text/html": [
       "<div>\n",
       "<style scoped>\n",
       "    .dataframe tbody tr th:only-of-type {\n",
       "        vertical-align: middle;\n",
       "    }\n",
       "\n",
       "    .dataframe tbody tr th {\n",
       "        vertical-align: top;\n",
       "    }\n",
       "\n",
       "    .dataframe thead th {\n",
       "        text-align: right;\n",
       "    }\n",
       "</style>\n",
       "<table border=\"1\" class=\"dataframe\">\n",
       "  <thead>\n",
       "    <tr style=\"text-align: right;\">\n",
       "      <th></th>\n",
       "      <th>id</th>\n",
       "      <th>city</th>\n",
       "      <th>cuisine</th>\n",
       "      <th>ranking</th>\n",
       "      <th>price</th>\n",
       "      <th>number</th>\n",
       "      <th>reviews</th>\n",
       "      <th>URL_TA</th>\n",
       "      <th>ID_TA</th>\n",
       "      <th>sample</th>\n",
       "      <th>rating</th>\n",
       "      <th>cuisine_c</th>\n",
       "      <th>price_ind</th>\n",
       "      <th>price1</th>\n",
       "      <th>number_ind</th>\n",
       "    </tr>\n",
       "  </thead>\n",
       "  <tbody>\n",
       "    <tr>\n",
       "      <th>10</th>\n",
       "      <td>id_10</td>\n",
       "      <td>Rome</td>\n",
       "      <td>NaN</td>\n",
       "      <td>1209.0</td>\n",
       "      <td>2</td>\n",
       "      <td>306.0</td>\n",
       "      <td>[['Very pretentious, but drinks are top notch'...</td>\n",
       "      <td>/Restaurant_Review-g187791-d7818546-Reviews-Je...</td>\n",
       "      <td>d7818546</td>\n",
       "      <td>0</td>\n",
       "      <td>0.0</td>\n",
       "      <td>0.000000</td>\n",
       "      <td>0</td>\n",
       "      <td>$$ - $$$</td>\n",
       "      <td>1</td>\n",
       "    </tr>\n",
       "    <tr>\n",
       "      <th>14</th>\n",
       "      <td>id_14</td>\n",
       "      <td>Prague</td>\n",
       "      <td>['European', 'Czech', 'Eastern European', 'Cen...</td>\n",
       "      <td>1105.0</td>\n",
       "      <td>2</td>\n",
       "      <td>273.0</td>\n",
       "      <td>[['Good food, beer, value and service', 'Eat u...</td>\n",
       "      <td>/Restaurant_Review-g274707-d1093021-Reviews-U_...</td>\n",
       "      <td>d1093021</td>\n",
       "      <td>0</td>\n",
       "      <td>0.0</td>\n",
       "      <td>1.386294</td>\n",
       "      <td>1</td>\n",
       "      <td>$$ - $$$</td>\n",
       "      <td>1</td>\n",
       "    </tr>\n",
       "    <tr>\n",
       "      <th>16</th>\n",
       "      <td>id_16</td>\n",
       "      <td>Milan</td>\n",
       "      <td>['Pizza', 'Vegetarian Friendly', 'Vegan Options']</td>\n",
       "      <td>1825.0</td>\n",
       "      <td>2</td>\n",
       "      <td>322.0</td>\n",
       "      <td>[['truly Neapolitan pizza, new/slick location'...</td>\n",
       "      <td>/Restaurant_Review-g187849-d11850449-Reviews-P...</td>\n",
       "      <td>d11850449</td>\n",
       "      <td>0</td>\n",
       "      <td>0.0</td>\n",
       "      <td>1.098612</td>\n",
       "      <td>1</td>\n",
       "      <td>$$ - $$$</td>\n",
       "      <td>1</td>\n",
       "    </tr>\n",
       "    <tr>\n",
       "      <th>17</th>\n",
       "      <td>id_17</td>\n",
       "      <td>London</td>\n",
       "      <td>['Bar', 'British', 'Pub', 'Vegetarian Friendly...</td>\n",
       "      <td>2349.0</td>\n",
       "      <td>2</td>\n",
       "      <td>282.0</td>\n",
       "      <td>[['Quite a decent pub', 'in the middle of noth...</td>\n",
       "      <td>/Restaurant_Review-g186338-d2188276-Reviews-Th...</td>\n",
       "      <td>d2188276</td>\n",
       "      <td>0</td>\n",
       "      <td>0.0</td>\n",
       "      <td>1.609438</td>\n",
       "      <td>1</td>\n",
       "      <td>$$ - $$$</td>\n",
       "      <td>1</td>\n",
       "    </tr>\n",
       "    <tr>\n",
       "      <th>29</th>\n",
       "      <td>id_29</td>\n",
       "      <td>Oslo</td>\n",
       "      <td>['French', 'European', 'Norwegian', 'Italian',...</td>\n",
       "      <td>550.0</td>\n",
       "      <td>2</td>\n",
       "      <td>465.0</td>\n",
       "      <td>[['Lovely food!', 'Nightmare'], ['02/26/2017',...</td>\n",
       "      <td>/Restaurant_Review-g190479-d1495732-Reviews-Mo...</td>\n",
       "      <td>d1495732</td>\n",
       "      <td>0</td>\n",
       "      <td>0.0</td>\n",
       "      <td>1.791759</td>\n",
       "      <td>1</td>\n",
       "      <td>$$ - $$$</td>\n",
       "      <td>1</td>\n",
       "    </tr>\n",
       "    <tr>\n",
       "      <th>...</th>\n",
       "      <td>...</td>\n",
       "      <td>...</td>\n",
       "      <td>...</td>\n",
       "      <td>...</td>\n",
       "      <td>...</td>\n",
       "      <td>...</td>\n",
       "      <td>...</td>\n",
       "      <td>...</td>\n",
       "      <td>...</td>\n",
       "      <td>...</td>\n",
       "      <td>...</td>\n",
       "      <td>...</td>\n",
       "      <td>...</td>\n",
       "      <td>...</td>\n",
       "      <td>...</td>\n",
       "    </tr>\n",
       "    <tr>\n",
       "      <th>49980</th>\n",
       "      <td>id_253</td>\n",
       "      <td>Rome</td>\n",
       "      <td>['Italian', 'Seafood', 'Mediterranean', 'Europ...</td>\n",
       "      <td>254.0</td>\n",
       "      <td>2</td>\n",
       "      <td>560.0</td>\n",
       "      <td>[['Creative cocktails and pleasant atmosphere....</td>\n",
       "      <td>/Restaurant_Review-g187791-d8273642-Reviews-Su...</td>\n",
       "      <td>d8273642</td>\n",
       "      <td>1</td>\n",
       "      <td>4.5</td>\n",
       "      <td>1.791759</td>\n",
       "      <td>1</td>\n",
       "      <td>$$ - $$$</td>\n",
       "      <td>1</td>\n",
       "    </tr>\n",
       "    <tr>\n",
       "      <th>49985</th>\n",
       "      <td>id_56</td>\n",
       "      <td>Brussels</td>\n",
       "      <td>['African', 'Ethiopian', 'Vegetarian Friendly'...</td>\n",
       "      <td>57.0</td>\n",
       "      <td>2</td>\n",
       "      <td>989.0</td>\n",
       "      <td>[['A nice experience with Ethiopian food', 'A ...</td>\n",
       "      <td>/Restaurant_Review-g188644-d778285-Reviews-Kok...</td>\n",
       "      <td>d778285</td>\n",
       "      <td>1</td>\n",
       "      <td>4.0</td>\n",
       "      <td>1.386294</td>\n",
       "      <td>1</td>\n",
       "      <td>$$ - $$$</td>\n",
       "      <td>1</td>\n",
       "    </tr>\n",
       "    <tr>\n",
       "      <th>49992</th>\n",
       "      <td>id_13</td>\n",
       "      <td>Stockholm</td>\n",
       "      <td>['Swedish', 'Scandinavian', 'Vegetarian Friend...</td>\n",
       "      <td>14.0</td>\n",
       "      <td>2</td>\n",
       "      <td>1162.0</td>\n",
       "      <td>[['Great Viking Dinner', 'A foot stompingly go...</td>\n",
       "      <td>/Restaurant_Review-g189852-d2560559-Reviews-Ai...</td>\n",
       "      <td>d2560559</td>\n",
       "      <td>1</td>\n",
       "      <td>4.5</td>\n",
       "      <td>1.386294</td>\n",
       "      <td>1</td>\n",
       "      <td>$$ - $$$</td>\n",
       "      <td>1</td>\n",
       "    </tr>\n",
       "    <tr>\n",
       "      <th>49996</th>\n",
       "      <td>id_6340</td>\n",
       "      <td>Paris</td>\n",
       "      <td>['French', 'American', 'Bar', 'European', 'Veg...</td>\n",
       "      <td>6341.0</td>\n",
       "      <td>2</td>\n",
       "      <td>542.0</td>\n",
       "      <td>[['Parisian atmosphere', 'Bit pricey but inter...</td>\n",
       "      <td>/Restaurant_Review-g187147-d1800036-Reviews-La...</td>\n",
       "      <td>d1800036</td>\n",
       "      <td>1</td>\n",
       "      <td>3.5</td>\n",
       "      <td>1.609438</td>\n",
       "      <td>1</td>\n",
       "      <td>$$ - $$$</td>\n",
       "      <td>1</td>\n",
       "    </tr>\n",
       "    <tr>\n",
       "      <th>49999</th>\n",
       "      <td>id_4824</td>\n",
       "      <td>Milan</td>\n",
       "      <td>['Spanish']</td>\n",
       "      <td>4827.0</td>\n",
       "      <td>2</td>\n",
       "      <td>260.0</td>\n",
       "      <td>[['Average', 'Nice an informal'], ['01/31/2016...</td>\n",
       "      <td>/Restaurant_Review-g187849-d1109020-Reviews-Ta...</td>\n",
       "      <td>d1109020</td>\n",
       "      <td>1</td>\n",
       "      <td>3.0</td>\n",
       "      <td>0.000000</td>\n",
       "      <td>1</td>\n",
       "      <td>$$ - $$$</td>\n",
       "      <td>1</td>\n",
       "    </tr>\n",
       "  </tbody>\n",
       "</table>\n",
       "<p>5946 rows × 15 columns</p>\n",
       "</div>"
      ],
      "text/plain": [
       "            id       city                                            cuisine  \\\n",
       "10       id_10       Rome                                                NaN   \n",
       "14       id_14     Prague  ['European', 'Czech', 'Eastern European', 'Cen...   \n",
       "16       id_16      Milan  ['Pizza', 'Vegetarian Friendly', 'Vegan Options']   \n",
       "17       id_17     London  ['Bar', 'British', 'Pub', 'Vegetarian Friendly...   \n",
       "29       id_29       Oslo  ['French', 'European', 'Norwegian', 'Italian',...   \n",
       "...        ...        ...                                                ...   \n",
       "49980   id_253       Rome  ['Italian', 'Seafood', 'Mediterranean', 'Europ...   \n",
       "49985    id_56   Brussels  ['African', 'Ethiopian', 'Vegetarian Friendly'...   \n",
       "49992    id_13  Stockholm  ['Swedish', 'Scandinavian', 'Vegetarian Friend...   \n",
       "49996  id_6340      Paris  ['French', 'American', 'Bar', 'European', 'Veg...   \n",
       "49999  id_4824      Milan                                        ['Spanish']   \n",
       "\n",
       "       ranking  price  number  \\\n",
       "10      1209.0      2   306.0   \n",
       "14      1105.0      2   273.0   \n",
       "16      1825.0      2   322.0   \n",
       "17      2349.0      2   282.0   \n",
       "29       550.0      2   465.0   \n",
       "...        ...    ...     ...   \n",
       "49980    254.0      2   560.0   \n",
       "49985     57.0      2   989.0   \n",
       "49992     14.0      2  1162.0   \n",
       "49996   6341.0      2   542.0   \n",
       "49999   4827.0      2   260.0   \n",
       "\n",
       "                                                 reviews  \\\n",
       "10     [['Very pretentious, but drinks are top notch'...   \n",
       "14     [['Good food, beer, value and service', 'Eat u...   \n",
       "16     [['truly Neapolitan pizza, new/slick location'...   \n",
       "17     [['Quite a decent pub', 'in the middle of noth...   \n",
       "29     [['Lovely food!', 'Nightmare'], ['02/26/2017',...   \n",
       "...                                                  ...   \n",
       "49980  [['Creative cocktails and pleasant atmosphere....   \n",
       "49985  [['A nice experience with Ethiopian food', 'A ...   \n",
       "49992  [['Great Viking Dinner', 'A foot stompingly go...   \n",
       "49996  [['Parisian atmosphere', 'Bit pricey but inter...   \n",
       "49999  [['Average', 'Nice an informal'], ['01/31/2016...   \n",
       "\n",
       "                                                  URL_TA      ID_TA  sample  \\\n",
       "10     /Restaurant_Review-g187791-d7818546-Reviews-Je...   d7818546       0   \n",
       "14     /Restaurant_Review-g274707-d1093021-Reviews-U_...   d1093021       0   \n",
       "16     /Restaurant_Review-g187849-d11850449-Reviews-P...  d11850449       0   \n",
       "17     /Restaurant_Review-g186338-d2188276-Reviews-Th...   d2188276       0   \n",
       "29     /Restaurant_Review-g190479-d1495732-Reviews-Mo...   d1495732       0   \n",
       "...                                                  ...        ...     ...   \n",
       "49980  /Restaurant_Review-g187791-d8273642-Reviews-Su...   d8273642       1   \n",
       "49985  /Restaurant_Review-g188644-d778285-Reviews-Kok...    d778285       1   \n",
       "49992  /Restaurant_Review-g189852-d2560559-Reviews-Ai...   d2560559       1   \n",
       "49996  /Restaurant_Review-g187147-d1800036-Reviews-La...   d1800036       1   \n",
       "49999  /Restaurant_Review-g187849-d1109020-Reviews-Ta...   d1109020       1   \n",
       "\n",
       "       rating  cuisine_c  price_ind    price1  number_ind  \n",
       "10        0.0   0.000000          0  $$ - $$$           1  \n",
       "14        0.0   1.386294          1  $$ - $$$           1  \n",
       "16        0.0   1.098612          1  $$ - $$$           1  \n",
       "17        0.0   1.609438          1  $$ - $$$           1  \n",
       "29        0.0   1.791759          1  $$ - $$$           1  \n",
       "...       ...        ...        ...       ...         ...  \n",
       "49980     4.5   1.791759          1  $$ - $$$           1  \n",
       "49985     4.0   1.386294          1  $$ - $$$           1  \n",
       "49992     4.5   1.386294          1  $$ - $$$           1  \n",
       "49996     3.5   1.609438          1  $$ - $$$           1  \n",
       "49999     3.0   0.000000          1  $$ - $$$           1  \n",
       "\n",
       "[5946 rows x 15 columns]"
      ]
     },
     "execution_count": 45,
     "metadata": {},
     "output_type": "execute_result"
    }
   ],
   "source": [
    "df_n[df_n.number > 252]"
   ]
  },
  {
   "cell_type": "markdown",
   "metadata": {},
   "source": [
    "очень проблематичная колонка, количество пустых срок превышает количество самого распространенного значения, а количество выбросов почти 6000, если принять, что отсутствие отзывов приравнивается к нулю"
   ]
  },
  {
   "cell_type": "code",
   "execution_count": 46,
   "metadata": {},
   "outputs": [
    {
     "data": {
      "text/plain": [
       "array(['[[], []]', '[[\"Nova\\' Doba\"], [\\'01/26/2017\\']]',\n",
       "       \"[['South American food at its best!'], ['09/05/2013']]\", ...,\n",
       "       \"[['Small, Friendly Place on the Mile'], ['11/15/2015']]\",\n",
       "       \"[['Personal expirence'], ['10/27/2017']]\",\n",
       "       \"[['I love this place!'], ['08/24/2015']]\"], dtype=object)"
      ]
     },
     "execution_count": 46,
     "metadata": {},
     "output_type": "execute_result"
    }
   ],
   "source": [
    "df_isna = df[df.number.isna()]\n",
    "df_isna['reviews'].unique()"
   ]
  },
  {
   "cell_type": "code",
   "execution_count": 47,
   "metadata": {},
   "outputs": [
    {
     "data": {
      "text/plain": [
       "1177"
      ]
     },
     "execution_count": 47,
     "metadata": {},
     "output_type": "execute_result"
    }
   ],
   "source": [
    "df_isna['reviews'].nunique()"
   ]
  },
  {
   "cell_type": "code",
   "execution_count": 48,
   "metadata": {},
   "outputs": [
    {
     "data": {
      "text/plain": [
       "1"
      ]
     },
     "execution_count": 48,
     "metadata": {},
     "output_type": "execute_result"
    }
   ],
   "source": [
    "df_isna.reviews.isna().sum()"
   ]
  },
  {
   "cell_type": "code",
   "execution_count": 49,
   "metadata": {},
   "outputs": [
    {
     "data": {
      "text/html": [
       "<div>\n",
       "<style scoped>\n",
       "    .dataframe tbody tr th:only-of-type {\n",
       "        vertical-align: middle;\n",
       "    }\n",
       "\n",
       "    .dataframe tbody tr th {\n",
       "        vertical-align: top;\n",
       "    }\n",
       "\n",
       "    .dataframe thead th {\n",
       "        text-align: right;\n",
       "    }\n",
       "</style>\n",
       "<table border=\"1\" class=\"dataframe\">\n",
       "  <thead>\n",
       "    <tr style=\"text-align: right;\">\n",
       "      <th></th>\n",
       "      <th>id</th>\n",
       "      <th>city</th>\n",
       "      <th>cuisine</th>\n",
       "      <th>ranking</th>\n",
       "      <th>price</th>\n",
       "      <th>number</th>\n",
       "      <th>reviews</th>\n",
       "      <th>URL_TA</th>\n",
       "      <th>ID_TA</th>\n",
       "      <th>sample</th>\n",
       "      <th>rating</th>\n",
       "      <th>cuisine_c</th>\n",
       "      <th>price_ind</th>\n",
       "      <th>price1</th>\n",
       "      <th>number_ind</th>\n",
       "    </tr>\n",
       "  </thead>\n",
       "  <tbody>\n",
       "    <tr>\n",
       "      <th>9608</th>\n",
       "      <td>id_9608</td>\n",
       "      <td>Vienna</td>\n",
       "      <td>NaN</td>\n",
       "      <td>1779.0</td>\n",
       "      <td>2</td>\n",
       "      <td>NaN</td>\n",
       "      <td>NaN</td>\n",
       "      <td>/Restaurant_Review-g190454-d12605368-Reviews-R...</td>\n",
       "      <td>d12605368</td>\n",
       "      <td>0</td>\n",
       "      <td>0.0</td>\n",
       "      <td>0.0</td>\n",
       "      <td>0</td>\n",
       "      <td>$$ - $$$</td>\n",
       "      <td>0</td>\n",
       "    </tr>\n",
       "  </tbody>\n",
       "</table>\n",
       "</div>"
      ],
      "text/plain": [
       "           id    city cuisine  ranking  price  number reviews  \\\n",
       "9608  id_9608  Vienna     NaN   1779.0      2     NaN     NaN   \n",
       "\n",
       "                                                 URL_TA      ID_TA  sample  \\\n",
       "9608  /Restaurant_Review-g190454-d12605368-Reviews-R...  d12605368       0   \n",
       "\n",
       "      rating  cuisine_c  price_ind    price1  number_ind  \n",
       "9608     0.0        0.0          0  $$ - $$$           0  "
      ]
     },
     "execution_count": 49,
     "metadata": {},
     "output_type": "execute_result"
    }
   ],
   "source": [
    "df_isna[df_isna.reviews.isna()]"
   ]
  },
  {
   "cell_type": "code",
   "execution_count": 50,
   "metadata": {},
   "outputs": [
    {
     "data": {
      "text/plain": [
       "[[], []]                                                               2023\n",
       "[['A warm welcome and a great breakfast'], ['05/14/2017']]                1\n",
       "[['Best Pizza of our Trip'], ['04/22/2014']]                              1\n",
       "[['Surprisingly good'], ['06/09/2017']]                                   1\n",
       "[['Cozy and laid back'], ['07/17/2013']]                                  1\n",
       "                                                                       ... \n",
       "[['God Tier'], ['12/03/2017']]                                            1\n",
       "[['Quick bite'], ['04/28/2016']]                                          1\n",
       "[['Good ambiance and friendly service'], ['05/31/2016']]                  1\n",
       "[['Restaurant recommended by concierge'], ['02/28/2016']]                 1\n",
       "[['Beautiful vegan cafe and country shop in a...'], ['12/28/2017']]       1\n",
       "Name: reviews, Length: 1177, dtype: int64"
      ]
     },
     "execution_count": 50,
     "metadata": {},
     "output_type": "execute_result"
    }
   ],
   "source": [
    "df_isna['reviews'].value_counts()"
   ]
  },
  {
   "cell_type": "markdown",
   "metadata": {},
   "source": [
    "при ближайшем рассмотрении мы видим, что пропуски в количестве отзывов верны лишь на 2/3, а в третьи случаев отзывы все-таки имеются\n",
    "заполним пропуски единицами, если отзывы есть и нулями, если они пустые или отсутствуют"
   ]
  },
  {
   "cell_type": "code",
   "execution_count": 51,
   "metadata": {},
   "outputs": [],
   "source": [
    "for i in range(len(df)):\n",
    "    if pd.isna(df.loc[i, 'number']):\n",
    "        if not pd.isna(df.loc[i, 'reviews']):\n",
    "            if df.loc[i, 'reviews'][2] != ']':\n",
    "                df.loc[i, 'number'] = 1"
   ]
  },
  {
   "cell_type": "code",
   "execution_count": 52,
   "metadata": {},
   "outputs": [],
   "source": [
    "df.number.fillna(0, inplace = True)"
   ]
  },
  {
   "cell_type": "code",
   "execution_count": 53,
   "metadata": {},
   "outputs": [
    {
     "data": {
      "text/plain": [
       "(-140.0, 252.0)"
      ]
     },
     "execution_count": 53,
     "metadata": {},
     "output_type": "execute_result"
    }
   ],
   "source": [
    "outliers_iqr(df.number)"
   ]
  },
  {
   "cell_type": "code",
   "execution_count": 54,
   "metadata": {},
   "outputs": [
    {
     "data": {
      "text/html": [
       "<div>\n",
       "<style scoped>\n",
       "    .dataframe tbody tr th:only-of-type {\n",
       "        vertical-align: middle;\n",
       "    }\n",
       "\n",
       "    .dataframe tbody tr th {\n",
       "        vertical-align: top;\n",
       "    }\n",
       "\n",
       "    .dataframe thead th {\n",
       "        text-align: right;\n",
       "    }\n",
       "</style>\n",
       "<table border=\"1\" class=\"dataframe\">\n",
       "  <thead>\n",
       "    <tr style=\"text-align: right;\">\n",
       "      <th></th>\n",
       "      <th>id</th>\n",
       "      <th>city</th>\n",
       "      <th>cuisine</th>\n",
       "      <th>ranking</th>\n",
       "      <th>price</th>\n",
       "      <th>number</th>\n",
       "      <th>reviews</th>\n",
       "      <th>URL_TA</th>\n",
       "      <th>ID_TA</th>\n",
       "      <th>sample</th>\n",
       "      <th>rating</th>\n",
       "      <th>cuisine_c</th>\n",
       "      <th>price_ind</th>\n",
       "      <th>price1</th>\n",
       "      <th>number_ind</th>\n",
       "    </tr>\n",
       "  </thead>\n",
       "  <tbody>\n",
       "    <tr>\n",
       "      <th>10</th>\n",
       "      <td>id_10</td>\n",
       "      <td>Rome</td>\n",
       "      <td>NaN</td>\n",
       "      <td>1209.0</td>\n",
       "      <td>2</td>\n",
       "      <td>306.0</td>\n",
       "      <td>[['Very pretentious, but drinks are top notch'...</td>\n",
       "      <td>/Restaurant_Review-g187791-d7818546-Reviews-Je...</td>\n",
       "      <td>d7818546</td>\n",
       "      <td>0</td>\n",
       "      <td>0.0</td>\n",
       "      <td>0.000000</td>\n",
       "      <td>0</td>\n",
       "      <td>$$ - $$$</td>\n",
       "      <td>1</td>\n",
       "    </tr>\n",
       "    <tr>\n",
       "      <th>14</th>\n",
       "      <td>id_14</td>\n",
       "      <td>Prague</td>\n",
       "      <td>['European', 'Czech', 'Eastern European', 'Cen...</td>\n",
       "      <td>1105.0</td>\n",
       "      <td>2</td>\n",
       "      <td>273.0</td>\n",
       "      <td>[['Good food, beer, value and service', 'Eat u...</td>\n",
       "      <td>/Restaurant_Review-g274707-d1093021-Reviews-U_...</td>\n",
       "      <td>d1093021</td>\n",
       "      <td>0</td>\n",
       "      <td>0.0</td>\n",
       "      <td>1.386294</td>\n",
       "      <td>1</td>\n",
       "      <td>$$ - $$$</td>\n",
       "      <td>1</td>\n",
       "    </tr>\n",
       "    <tr>\n",
       "      <th>16</th>\n",
       "      <td>id_16</td>\n",
       "      <td>Milan</td>\n",
       "      <td>['Pizza', 'Vegetarian Friendly', 'Vegan Options']</td>\n",
       "      <td>1825.0</td>\n",
       "      <td>2</td>\n",
       "      <td>322.0</td>\n",
       "      <td>[['truly Neapolitan pizza, new/slick location'...</td>\n",
       "      <td>/Restaurant_Review-g187849-d11850449-Reviews-P...</td>\n",
       "      <td>d11850449</td>\n",
       "      <td>0</td>\n",
       "      <td>0.0</td>\n",
       "      <td>1.098612</td>\n",
       "      <td>1</td>\n",
       "      <td>$$ - $$$</td>\n",
       "      <td>1</td>\n",
       "    </tr>\n",
       "    <tr>\n",
       "      <th>17</th>\n",
       "      <td>id_17</td>\n",
       "      <td>London</td>\n",
       "      <td>['Bar', 'British', 'Pub', 'Vegetarian Friendly...</td>\n",
       "      <td>2349.0</td>\n",
       "      <td>2</td>\n",
       "      <td>282.0</td>\n",
       "      <td>[['Quite a decent pub', 'in the middle of noth...</td>\n",
       "      <td>/Restaurant_Review-g186338-d2188276-Reviews-Th...</td>\n",
       "      <td>d2188276</td>\n",
       "      <td>0</td>\n",
       "      <td>0.0</td>\n",
       "      <td>1.609438</td>\n",
       "      <td>1</td>\n",
       "      <td>$$ - $$$</td>\n",
       "      <td>1</td>\n",
       "    </tr>\n",
       "    <tr>\n",
       "      <th>29</th>\n",
       "      <td>id_29</td>\n",
       "      <td>Oslo</td>\n",
       "      <td>['French', 'European', 'Norwegian', 'Italian',...</td>\n",
       "      <td>550.0</td>\n",
       "      <td>2</td>\n",
       "      <td>465.0</td>\n",
       "      <td>[['Lovely food!', 'Nightmare'], ['02/26/2017',...</td>\n",
       "      <td>/Restaurant_Review-g190479-d1495732-Reviews-Mo...</td>\n",
       "      <td>d1495732</td>\n",
       "      <td>0</td>\n",
       "      <td>0.0</td>\n",
       "      <td>1.791759</td>\n",
       "      <td>1</td>\n",
       "      <td>$$ - $$$</td>\n",
       "      <td>1</td>\n",
       "    </tr>\n",
       "    <tr>\n",
       "      <th>...</th>\n",
       "      <td>...</td>\n",
       "      <td>...</td>\n",
       "      <td>...</td>\n",
       "      <td>...</td>\n",
       "      <td>...</td>\n",
       "      <td>...</td>\n",
       "      <td>...</td>\n",
       "      <td>...</td>\n",
       "      <td>...</td>\n",
       "      <td>...</td>\n",
       "      <td>...</td>\n",
       "      <td>...</td>\n",
       "      <td>...</td>\n",
       "      <td>...</td>\n",
       "      <td>...</td>\n",
       "    </tr>\n",
       "    <tr>\n",
       "      <th>49980</th>\n",
       "      <td>id_253</td>\n",
       "      <td>Rome</td>\n",
       "      <td>['Italian', 'Seafood', 'Mediterranean', 'Europ...</td>\n",
       "      <td>254.0</td>\n",
       "      <td>2</td>\n",
       "      <td>560.0</td>\n",
       "      <td>[['Creative cocktails and pleasant atmosphere....</td>\n",
       "      <td>/Restaurant_Review-g187791-d8273642-Reviews-Su...</td>\n",
       "      <td>d8273642</td>\n",
       "      <td>1</td>\n",
       "      <td>4.5</td>\n",
       "      <td>1.791759</td>\n",
       "      <td>1</td>\n",
       "      <td>$$ - $$$</td>\n",
       "      <td>1</td>\n",
       "    </tr>\n",
       "    <tr>\n",
       "      <th>49985</th>\n",
       "      <td>id_56</td>\n",
       "      <td>Brussels</td>\n",
       "      <td>['African', 'Ethiopian', 'Vegetarian Friendly'...</td>\n",
       "      <td>57.0</td>\n",
       "      <td>2</td>\n",
       "      <td>989.0</td>\n",
       "      <td>[['A nice experience with Ethiopian food', 'A ...</td>\n",
       "      <td>/Restaurant_Review-g188644-d778285-Reviews-Kok...</td>\n",
       "      <td>d778285</td>\n",
       "      <td>1</td>\n",
       "      <td>4.0</td>\n",
       "      <td>1.386294</td>\n",
       "      <td>1</td>\n",
       "      <td>$$ - $$$</td>\n",
       "      <td>1</td>\n",
       "    </tr>\n",
       "    <tr>\n",
       "      <th>49992</th>\n",
       "      <td>id_13</td>\n",
       "      <td>Stockholm</td>\n",
       "      <td>['Swedish', 'Scandinavian', 'Vegetarian Friend...</td>\n",
       "      <td>14.0</td>\n",
       "      <td>2</td>\n",
       "      <td>1162.0</td>\n",
       "      <td>[['Great Viking Dinner', 'A foot stompingly go...</td>\n",
       "      <td>/Restaurant_Review-g189852-d2560559-Reviews-Ai...</td>\n",
       "      <td>d2560559</td>\n",
       "      <td>1</td>\n",
       "      <td>4.5</td>\n",
       "      <td>1.386294</td>\n",
       "      <td>1</td>\n",
       "      <td>$$ - $$$</td>\n",
       "      <td>1</td>\n",
       "    </tr>\n",
       "    <tr>\n",
       "      <th>49996</th>\n",
       "      <td>id_6340</td>\n",
       "      <td>Paris</td>\n",
       "      <td>['French', 'American', 'Bar', 'European', 'Veg...</td>\n",
       "      <td>6341.0</td>\n",
       "      <td>2</td>\n",
       "      <td>542.0</td>\n",
       "      <td>[['Parisian atmosphere', 'Bit pricey but inter...</td>\n",
       "      <td>/Restaurant_Review-g187147-d1800036-Reviews-La...</td>\n",
       "      <td>d1800036</td>\n",
       "      <td>1</td>\n",
       "      <td>3.5</td>\n",
       "      <td>1.609438</td>\n",
       "      <td>1</td>\n",
       "      <td>$$ - $$$</td>\n",
       "      <td>1</td>\n",
       "    </tr>\n",
       "    <tr>\n",
       "      <th>49999</th>\n",
       "      <td>id_4824</td>\n",
       "      <td>Milan</td>\n",
       "      <td>['Spanish']</td>\n",
       "      <td>4827.0</td>\n",
       "      <td>2</td>\n",
       "      <td>260.0</td>\n",
       "      <td>[['Average', 'Nice an informal'], ['01/31/2016...</td>\n",
       "      <td>/Restaurant_Review-g187849-d1109020-Reviews-Ta...</td>\n",
       "      <td>d1109020</td>\n",
       "      <td>1</td>\n",
       "      <td>3.0</td>\n",
       "      <td>0.000000</td>\n",
       "      <td>1</td>\n",
       "      <td>$$ - $$$</td>\n",
       "      <td>1</td>\n",
       "    </tr>\n",
       "  </tbody>\n",
       "</table>\n",
       "<p>5946 rows × 15 columns</p>\n",
       "</div>"
      ],
      "text/plain": [
       "            id       city                                            cuisine  \\\n",
       "10       id_10       Rome                                                NaN   \n",
       "14       id_14     Prague  ['European', 'Czech', 'Eastern European', 'Cen...   \n",
       "16       id_16      Milan  ['Pizza', 'Vegetarian Friendly', 'Vegan Options']   \n",
       "17       id_17     London  ['Bar', 'British', 'Pub', 'Vegetarian Friendly...   \n",
       "29       id_29       Oslo  ['French', 'European', 'Norwegian', 'Italian',...   \n",
       "...        ...        ...                                                ...   \n",
       "49980   id_253       Rome  ['Italian', 'Seafood', 'Mediterranean', 'Europ...   \n",
       "49985    id_56   Brussels  ['African', 'Ethiopian', 'Vegetarian Friendly'...   \n",
       "49992    id_13  Stockholm  ['Swedish', 'Scandinavian', 'Vegetarian Friend...   \n",
       "49996  id_6340      Paris  ['French', 'American', 'Bar', 'European', 'Veg...   \n",
       "49999  id_4824      Milan                                        ['Spanish']   \n",
       "\n",
       "       ranking  price  number  \\\n",
       "10      1209.0      2   306.0   \n",
       "14      1105.0      2   273.0   \n",
       "16      1825.0      2   322.0   \n",
       "17      2349.0      2   282.0   \n",
       "29       550.0      2   465.0   \n",
       "...        ...    ...     ...   \n",
       "49980    254.0      2   560.0   \n",
       "49985     57.0      2   989.0   \n",
       "49992     14.0      2  1162.0   \n",
       "49996   6341.0      2   542.0   \n",
       "49999   4827.0      2   260.0   \n",
       "\n",
       "                                                 reviews  \\\n",
       "10     [['Very pretentious, but drinks are top notch'...   \n",
       "14     [['Good food, beer, value and service', 'Eat u...   \n",
       "16     [['truly Neapolitan pizza, new/slick location'...   \n",
       "17     [['Quite a decent pub', 'in the middle of noth...   \n",
       "29     [['Lovely food!', 'Nightmare'], ['02/26/2017',...   \n",
       "...                                                  ...   \n",
       "49980  [['Creative cocktails and pleasant atmosphere....   \n",
       "49985  [['A nice experience with Ethiopian food', 'A ...   \n",
       "49992  [['Great Viking Dinner', 'A foot stompingly go...   \n",
       "49996  [['Parisian atmosphere', 'Bit pricey but inter...   \n",
       "49999  [['Average', 'Nice an informal'], ['01/31/2016...   \n",
       "\n",
       "                                                  URL_TA      ID_TA  sample  \\\n",
       "10     /Restaurant_Review-g187791-d7818546-Reviews-Je...   d7818546       0   \n",
       "14     /Restaurant_Review-g274707-d1093021-Reviews-U_...   d1093021       0   \n",
       "16     /Restaurant_Review-g187849-d11850449-Reviews-P...  d11850449       0   \n",
       "17     /Restaurant_Review-g186338-d2188276-Reviews-Th...   d2188276       0   \n",
       "29     /Restaurant_Review-g190479-d1495732-Reviews-Mo...   d1495732       0   \n",
       "...                                                  ...        ...     ...   \n",
       "49980  /Restaurant_Review-g187791-d8273642-Reviews-Su...   d8273642       1   \n",
       "49985  /Restaurant_Review-g188644-d778285-Reviews-Kok...    d778285       1   \n",
       "49992  /Restaurant_Review-g189852-d2560559-Reviews-Ai...   d2560559       1   \n",
       "49996  /Restaurant_Review-g187147-d1800036-Reviews-La...   d1800036       1   \n",
       "49999  /Restaurant_Review-g187849-d1109020-Reviews-Ta...   d1109020       1   \n",
       "\n",
       "       rating  cuisine_c  price_ind    price1  number_ind  \n",
       "10        0.0   0.000000          0  $$ - $$$           1  \n",
       "14        0.0   1.386294          1  $$ - $$$           1  \n",
       "16        0.0   1.098612          1  $$ - $$$           1  \n",
       "17        0.0   1.609438          1  $$ - $$$           1  \n",
       "29        0.0   1.791759          1  $$ - $$$           1  \n",
       "...       ...        ...        ...       ...         ...  \n",
       "49980     4.5   1.791759          1  $$ - $$$           1  \n",
       "49985     4.0   1.386294          1  $$ - $$$           1  \n",
       "49992     4.5   1.386294          1  $$ - $$$           1  \n",
       "49996     3.5   1.609438          1  $$ - $$$           1  \n",
       "49999     3.0   0.000000          1  $$ - $$$           1  \n",
       "\n",
       "[5946 rows x 15 columns]"
      ]
     },
     "execution_count": 54,
     "metadata": {},
     "output_type": "execute_result"
    }
   ],
   "source": [
    "df[df.number > 252.0]"
   ]
  },
  {
   "cell_type": "markdown",
   "metadata": {},
   "source": [
    "количество выбросов не уменьшилось, но это реальные данные, и мы ничего не сможем с ними сделать"
   ]
  },
  {
   "cell_type": "code",
   "execution_count": 55,
   "metadata": {},
   "outputs": [
    {
     "data": {
      "text/plain": [
       "<matplotlib.axes._subplots.AxesSubplot at 0x7f9871243358>"
      ]
     },
     "execution_count": 55,
     "metadata": {},
     "output_type": "execute_result"
    },
    {
     "data": {
      "image/png": "[encoded data removed]",
      "text/plain": [
       "<Figure size 432x288 with 1 Axes>"
      ]
     },
     "metadata": {
      "needs_background": "light"
     },
     "output_type": "display_data"
    }
   ],
   "source": [
    "# нормализуем колонку\n",
    "df.number = MMS(df.number)\n",
    "df.number.hist(bins = 200)"
   ]
  },
  {
   "cell_type": "markdown",
   "metadata": {},
   "source": [
    "# *колонка* **reviews**"
   ]
  },
  {
   "cell_type": "code",
   "execution_count": 56,
   "metadata": {},
   "outputs": [
    {
     "name": "stdout",
     "output_type": "stream",
     "text": [
      "количество пустых строк 13798\n"
     ]
    },
    {
     "data": {
      "text/plain": [
       "<matplotlib.axes._subplots.AxesSubplot at 0x7f986c619be0>"
      ]
     },
     "execution_count": 56,
     "metadata": {},
     "output_type": "execute_result"
    },
    {
     "data": {
      "image/png": "[encoded data removed]",
      "text/plain": [
       "<Figure size 432x288 with 1 Axes>"
      ]
     },
     "metadata": {
      "needs_background": "light"
     },
     "output_type": "display_data"
    }
   ],
   "source": [
    "# выделим из колонки даты и посчитаем разницу между ними\n",
    "df4 = pd.DataFrame(df.reviews)\n",
    "pattern = re.compile('\\d+\\/\\d+\\/\\d+')\n",
    "df4.reviews = df4.reviews.apply(lambda x: re.findall(pattern, str(x)))\n",
    "df4['date2'] = df4.reviews.apply(lambda x: datetime.strptime(x[-1], '%m/%d/%Y') if len(x) == 2 else np.nan)\n",
    "df4['date1'] = df4.reviews.apply(lambda x: datetime.strptime(x[0], '%m/%d/%Y') if len(x) == 2 or len(x) == 1 else np.nan)\n",
    "df4['dt'] = df4.date1 - df4.date2\n",
    "df4['dt'] = df4['dt'].apply(lambda x: x.days)\n",
    "print('количество пустых строк', df4.dt.isna().sum())\n",
    "# пометим пустые строки\n",
    "df4['dt_ind'] = df4.dt.isna()\n",
    "df4['dt_ind'] = df4['dt_ind'].apply(lambda x: 0 if x else 1)\n",
    "df4.dt.hist()"
   ]
  },
  {
   "cell_type": "markdown",
   "metadata": {},
   "source": [
    "количество пустых строк велико, имеются отрицательные значения временного периода"
   ]
  },
  {
   "cell_type": "code",
   "execution_count": 57,
   "metadata": {},
   "outputs": [
    {
     "name": "stdout",
     "output_type": "stream",
     "text": [
      "значения и их количество\n",
      " 1.0       829\n",
      "0.0       631\n",
      "2.0       629\n",
      "3.0       606\n",
      "4.0       538\n",
      "         ... \n",
      "1124.0      1\n",
      "918.0       1\n",
      "2425.0      1\n",
      "1355.0      1\n",
      "1727.0      1\n",
      "Name: dt, Length: 1310, dtype: int64\n"
     ]
    }
   ],
   "source": [
    "# отрицательные значения сделаем положительными\n",
    "df4.dt = np.abs(df4.dt)\n",
    "dt_vl = df4.dt.value_counts()\n",
    "print('значения и их количество\\n', dt_vl)"
   ]
  },
  {
   "cell_type": "code",
   "execution_count": 58,
   "metadata": {},
   "outputs": [
    {
     "name": "stdout",
     "output_type": "stream",
     "text": [
      "1.0       1133\n",
      "2.0        886\n",
      "0.0        875\n",
      "3.0        858\n",
      "4.0        731\n",
      "          ... \n",
      "1403.0       1\n",
      "1433.0       1\n",
      "1289.0       1\n",
      "805.0        1\n",
      "1114.0       1\n",
      "Name: dt, Length: 1310, dtype: int64\n"
     ]
    }
   ],
   "source": [
    "# заменим пропуски пропорционально имеющимся данным\n",
    "dt_list = [dt_vl.index[x] for x in range(len(dt_vl))]\n",
    "p = [dt_vl[z]/dt_vl.sum() for z in dt_vl.index]\n",
    "a = np.random.choice(dt_list, df4.dt.isna().sum(), p=p)\n",
    "count = 0\n",
    "for i in range(len(df4.dt)):\n",
    "    if pd.isna(df4.loc[i, 'dt']) :\n",
    "        df4.loc[i, 'dt'] = a[count]\n",
    "        count += 1\n",
    "print(df4.dt.value_counts())"
   ]
  },
  {
   "cell_type": "code",
   "execution_count": 59,
   "metadata": {},
   "outputs": [],
   "source": [
    "df['dt'] = df4.dt\n",
    "df['dt_ind'] = df4['dt_ind']\n",
    "# нормализуем данные\n",
    "df.dt = MMS(df.dt)"
   ]
  },
  {
   "cell_type": "markdown",
   "metadata": {},
   "source": [
    "проведем анализ настроений отзывов"
   ]
  },
  {
   "cell_type": "code",
   "execution_count": 60,
   "metadata": {},
   "outputs": [],
   "source": [
    "text = df.reviews.str.replace(',', '')\n",
    "pattern1 = re.compile('\\D+')\n",
    "text = text.apply(lambda x: re.findall(pattern1, str(x)))\n",
    "analysisPol = text.apply(lambda x: TextBlob(str(x)).polarity)\n",
    "df['analysisPol'] = analysisPol\n",
    "analysisSub = text.apply(lambda x: TextBlob(str(x)).subjectivity)\n",
    "df['analysisSub'] = analysisSub"
   ]
  },
  {
   "cell_type": "code",
   "execution_count": 61,
   "metadata": {},
   "outputs": [
    {
     "data": {
      "text/plain": [
       "<matplotlib.axes._subplots.AxesSubplot at 0x7f988d5286d8>"
      ]
     },
     "execution_count": 61,
     "metadata": {},
     "output_type": "execute_result"
    },
    {
     "data": {
      "image/png": "[encoded data removed]",
      "text/plain": [
       "<Figure size 432x288 with 1 Axes>"
      ]
     },
     "metadata": {
      "needs_background": "light"
     },
     "output_type": "display_data"
    }
   ],
   "source": [
    "df['analysisPol'].hist()"
   ]
  },
  {
   "cell_type": "code",
   "execution_count": 62,
   "metadata": {},
   "outputs": [
    {
     "data": {
      "text/plain": [
       "<matplotlib.axes._subplots.AxesSubplot at 0x7f985f309e10>"
      ]
     },
     "execution_count": 62,
     "metadata": {},
     "output_type": "execute_result"
    },
    {
     "data": {
      "image/png": "[encoded data removed]",
      "text/plain": [
       "<Figure size 432x288 with 1 Axes>"
      ]
     },
     "metadata": {
      "needs_background": "light"
     },
     "output_type": "display_data"
    }
   ],
   "source": [
    "df['analysisSub'].hist()"
   ]
  },
  {
   "cell_type": "markdown",
   "metadata": {},
   "source": [
    "большинство отзывов положительные, хотя нейтральных больше всего, субъективизм не мал, но самое большое значение малосубъективных отзывов"
   ]
  },
  {
   "cell_type": "code",
   "execution_count": 63,
   "metadata": {},
   "outputs": [
    {
     "data": {
      "text/html": [
       "<div>\n",
       "<style scoped>\n",
       "    .dataframe tbody tr th:only-of-type {\n",
       "        vertical-align: middle;\n",
       "    }\n",
       "\n",
       "    .dataframe tbody tr th {\n",
       "        vertical-align: top;\n",
       "    }\n",
       "\n",
       "    .dataframe thead th {\n",
       "        text-align: right;\n",
       "    }\n",
       "</style>\n",
       "<table border=\"1\" class=\"dataframe\">\n",
       "  <thead>\n",
       "    <tr style=\"text-align: right;\">\n",
       "      <th></th>\n",
       "      <th>ranking</th>\n",
       "      <th>price</th>\n",
       "      <th>number</th>\n",
       "      <th>rating</th>\n",
       "      <th>cuisine_c</th>\n",
       "      <th>price_ind</th>\n",
       "      <th>number_ind</th>\n",
       "      <th>dt</th>\n",
       "      <th>dt_ind</th>\n",
       "      <th>analysisPol</th>\n",
       "      <th>analysisSub</th>\n",
       "    </tr>\n",
       "  </thead>\n",
       "  <tbody>\n",
       "    <tr>\n",
       "      <th>ranking</th>\n",
       "      <td>1.000000</td>\n",
       "      <td>-0.062927</td>\n",
       "      <td>-0.223156</td>\n",
       "      <td>-0.109897</td>\n",
       "      <td>-0.320777</td>\n",
       "      <td>-0.233946</td>\n",
       "      <td>-0.094831</td>\n",
       "      <td>0.105206</td>\n",
       "      <td>-0.149709</td>\n",
       "      <td>-0.204977</td>\n",
       "      <td>-0.118341</td>\n",
       "    </tr>\n",
       "    <tr>\n",
       "      <th>price</th>\n",
       "      <td>-0.062927</td>\n",
       "      <td>1.000000</td>\n",
       "      <td>0.134909</td>\n",
       "      <td>-0.006536</td>\n",
       "      <td>0.093370</td>\n",
       "      <td>-0.000621</td>\n",
       "      <td>0.003392</td>\n",
       "      <td>-0.033019</td>\n",
       "      <td>0.034095</td>\n",
       "      <td>0.011971</td>\n",
       "      <td>0.027008</td>\n",
       "    </tr>\n",
       "    <tr>\n",
       "      <th>number</th>\n",
       "      <td>-0.223156</td>\n",
       "      <td>0.134909</td>\n",
       "      <td>1.000000</td>\n",
       "      <td>0.011011</td>\n",
       "      <td>0.382942</td>\n",
       "      <td>0.266849</td>\n",
       "      <td>0.106146</td>\n",
       "      <td>-0.143983</td>\n",
       "      <td>0.227142</td>\n",
       "      <td>0.137815</td>\n",
       "      <td>0.143848</td>\n",
       "    </tr>\n",
       "    <tr>\n",
       "      <th>rating</th>\n",
       "      <td>-0.109897</td>\n",
       "      <td>-0.006536</td>\n",
       "      <td>0.011011</td>\n",
       "      <td>1.000000</td>\n",
       "      <td>0.034211</td>\n",
       "      <td>0.020519</td>\n",
       "      <td>0.000631</td>\n",
       "      <td>-0.024086</td>\n",
       "      <td>0.005490</td>\n",
       "      <td>0.081667</td>\n",
       "      <td>0.017122</td>\n",
       "    </tr>\n",
       "    <tr>\n",
       "      <th>cuisine_c</th>\n",
       "      <td>-0.320777</td>\n",
       "      <td>0.093370</td>\n",
       "      <td>0.382942</td>\n",
       "      <td>0.034211</td>\n",
       "      <td>1.000000</td>\n",
       "      <td>0.642196</td>\n",
       "      <td>0.196323</td>\n",
       "      <td>-0.223459</td>\n",
       "      <td>0.431717</td>\n",
       "      <td>0.240331</td>\n",
       "      <td>0.272759</td>\n",
       "    </tr>\n",
       "    <tr>\n",
       "      <th>price_ind</th>\n",
       "      <td>-0.233946</td>\n",
       "      <td>-0.000621</td>\n",
       "      <td>0.266849</td>\n",
       "      <td>0.020519</td>\n",
       "      <td>0.642196</td>\n",
       "      <td>1.000000</td>\n",
       "      <td>0.267568</td>\n",
       "      <td>-0.145313</td>\n",
       "      <td>0.511168</td>\n",
       "      <td>0.243355</td>\n",
       "      <td>0.329264</td>\n",
       "    </tr>\n",
       "    <tr>\n",
       "      <th>number_ind</th>\n",
       "      <td>-0.094831</td>\n",
       "      <td>0.003392</td>\n",
       "      <td>0.106146</td>\n",
       "      <td>0.000631</td>\n",
       "      <td>0.196323</td>\n",
       "      <td>0.267568</td>\n",
       "      <td>1.000000</td>\n",
       "      <td>-0.011120</td>\n",
       "      <td>0.423555</td>\n",
       "      <td>0.169902</td>\n",
       "      <td>0.260916</td>\n",
       "    </tr>\n",
       "    <tr>\n",
       "      <th>dt</th>\n",
       "      <td>0.105206</td>\n",
       "      <td>-0.033019</td>\n",
       "      <td>-0.143983</td>\n",
       "      <td>-0.024086</td>\n",
       "      <td>-0.223459</td>\n",
       "      <td>-0.145313</td>\n",
       "      <td>-0.011120</td>\n",
       "      <td>1.000000</td>\n",
       "      <td>-0.003798</td>\n",
       "      <td>-0.036746</td>\n",
       "      <td>-0.015101</td>\n",
       "    </tr>\n",
       "    <tr>\n",
       "      <th>dt_ind</th>\n",
       "      <td>-0.149709</td>\n",
       "      <td>0.034095</td>\n",
       "      <td>0.227142</td>\n",
       "      <td>0.005490</td>\n",
       "      <td>0.431717</td>\n",
       "      <td>0.511168</td>\n",
       "      <td>0.423555</td>\n",
       "      <td>-0.003798</td>\n",
       "      <td>1.000000</td>\n",
       "      <td>0.359071</td>\n",
       "      <td>0.562176</td>\n",
       "    </tr>\n",
       "    <tr>\n",
       "      <th>analysisPol</th>\n",
       "      <td>-0.204977</td>\n",
       "      <td>0.011971</td>\n",
       "      <td>0.137815</td>\n",
       "      <td>0.081667</td>\n",
       "      <td>0.240331</td>\n",
       "      <td>0.243355</td>\n",
       "      <td>0.169902</td>\n",
       "      <td>-0.036746</td>\n",
       "      <td>0.359071</td>\n",
       "      <td>1.000000</td>\n",
       "      <td>0.559503</td>\n",
       "    </tr>\n",
       "    <tr>\n",
       "      <th>analysisSub</th>\n",
       "      <td>-0.118341</td>\n",
       "      <td>0.027008</td>\n",
       "      <td>0.143848</td>\n",
       "      <td>0.017122</td>\n",
       "      <td>0.272759</td>\n",
       "      <td>0.329264</td>\n",
       "      <td>0.260916</td>\n",
       "      <td>-0.015101</td>\n",
       "      <td>0.562176</td>\n",
       "      <td>0.559503</td>\n",
       "      <td>1.000000</td>\n",
       "    </tr>\n",
       "  </tbody>\n",
       "</table>\n",
       "</div>"
      ],
      "text/plain": [
       "              ranking     price    number    rating  cuisine_c  price_ind  \\\n",
       "ranking      1.000000 -0.062927 -0.223156 -0.109897  -0.320777  -0.233946   \n",
       "price       -0.062927  1.000000  0.134909 -0.006536   0.093370  -0.000621   \n",
       "number      -0.223156  0.134909  1.000000  0.011011   0.382942   0.266849   \n",
       "rating      -0.109897 -0.006536  0.011011  1.000000   0.034211   0.020519   \n",
       "cuisine_c   -0.320777  0.093370  0.382942  0.034211   1.000000   0.642196   \n",
       "price_ind   -0.233946 -0.000621  0.266849  0.020519   0.642196   1.000000   \n",
       "number_ind  -0.094831  0.003392  0.106146  0.000631   0.196323   0.267568   \n",
       "dt           0.105206 -0.033019 -0.143983 -0.024086  -0.223459  -0.145313   \n",
       "dt_ind      -0.149709  0.034095  0.227142  0.005490   0.431717   0.511168   \n",
       "analysisPol -0.204977  0.011971  0.137815  0.081667   0.240331   0.243355   \n",
       "analysisSub -0.118341  0.027008  0.143848  0.017122   0.272759   0.329264   \n",
       "\n",
       "             number_ind        dt    dt_ind  analysisPol  analysisSub  \n",
       "ranking       -0.094831  0.105206 -0.149709    -0.204977    -0.118341  \n",
       "price          0.003392 -0.033019  0.034095     0.011971     0.027008  \n",
       "number         0.106146 -0.143983  0.227142     0.137815     0.143848  \n",
       "rating         0.000631 -0.024086  0.005490     0.081667     0.017122  \n",
       "cuisine_c      0.196323 -0.223459  0.431717     0.240331     0.272759  \n",
       "price_ind      0.267568 -0.145313  0.511168     0.243355     0.329264  \n",
       "number_ind     1.000000 -0.011120  0.423555     0.169902     0.260916  \n",
       "dt            -0.011120  1.000000 -0.003798    -0.036746    -0.015101  \n",
       "dt_ind         0.423555 -0.003798  1.000000     0.359071     0.562176  \n",
       "analysisPol    0.169902 -0.036746  0.359071     1.000000     0.559503  \n",
       "analysisSub    0.260916 -0.015101  0.562176     0.559503     1.000000  "
      ]
     },
     "execution_count": 63,
     "metadata": {},
     "output_type": "execute_result"
    }
   ],
   "source": [
    "# выведем матрицу корреляций\n",
    "corr_matrix = df.drop(columns=['id', 'sample']).corr(method='pearson')\n",
    "corr_matrix"
   ]
  },
  {
   "cell_type": "code",
   "execution_count": 64,
   "metadata": {},
   "outputs": [
    {
     "data": {
      "image/png": "[encoded data removed]",
      "text/plain": [
       "<Figure size 432x288 with 2 Axes>"
      ]
     },
     "metadata": {
      "needs_background": "light"
     },
     "output_type": "display_data"
    }
   ],
   "source": [
    "sns.heatmap(corr_matrix, annot = True, cmap=\"RdBu\");"
   ]
  },
  {
   "cell_type": "code",
   "execution_count": 65,
   "metadata": {},
   "outputs": [
    {
     "data": {
      "text/html": [
       "<div>\n",
       "<style scoped>\n",
       "    .dataframe tbody tr th:only-of-type {\n",
       "        vertical-align: middle;\n",
       "    }\n",
       "\n",
       "    .dataframe tbody tr th {\n",
       "        vertical-align: top;\n",
       "    }\n",
       "\n",
       "    .dataframe thead th {\n",
       "        text-align: right;\n",
       "    }\n",
       "</style>\n",
       "<table border=\"1\" class=\"dataframe\">\n",
       "  <thead>\n",
       "    <tr style=\"text-align: right;\">\n",
       "      <th></th>\n",
       "      <th>ranking</th>\n",
       "      <th>price</th>\n",
       "      <th>number</th>\n",
       "      <th>rating</th>\n",
       "      <th>cuisine_c</th>\n",
       "      <th>price_ind</th>\n",
       "      <th>number_ind</th>\n",
       "      <th>dt</th>\n",
       "      <th>dt_ind</th>\n",
       "      <th>analysisPol</th>\n",
       "      <th>analysisSub</th>\n",
       "    </tr>\n",
       "  </thead>\n",
       "  <tbody>\n",
       "    <tr>\n",
       "      <th>ranking</th>\n",
       "      <td>1</td>\n",
       "      <td></td>\n",
       "      <td></td>\n",
       "      <td></td>\n",
       "      <td></td>\n",
       "      <td></td>\n",
       "      <td></td>\n",
       "      <td></td>\n",
       "      <td></td>\n",
       "      <td></td>\n",
       "      <td></td>\n",
       "    </tr>\n",
       "    <tr>\n",
       "      <th>price</th>\n",
       "      <td></td>\n",
       "      <td>1</td>\n",
       "      <td></td>\n",
       "      <td></td>\n",
       "      <td></td>\n",
       "      <td></td>\n",
       "      <td></td>\n",
       "      <td></td>\n",
       "      <td></td>\n",
       "      <td></td>\n",
       "      <td></td>\n",
       "    </tr>\n",
       "    <tr>\n",
       "      <th>number</th>\n",
       "      <td></td>\n",
       "      <td></td>\n",
       "      <td>1</td>\n",
       "      <td></td>\n",
       "      <td></td>\n",
       "      <td></td>\n",
       "      <td></td>\n",
       "      <td></td>\n",
       "      <td></td>\n",
       "      <td></td>\n",
       "      <td></td>\n",
       "    </tr>\n",
       "    <tr>\n",
       "      <th>rating</th>\n",
       "      <td></td>\n",
       "      <td></td>\n",
       "      <td></td>\n",
       "      <td>1</td>\n",
       "      <td></td>\n",
       "      <td></td>\n",
       "      <td></td>\n",
       "      <td></td>\n",
       "      <td></td>\n",
       "      <td></td>\n",
       "      <td></td>\n",
       "    </tr>\n",
       "    <tr>\n",
       "      <th>cuisine_c</th>\n",
       "      <td></td>\n",
       "      <td></td>\n",
       "      <td></td>\n",
       "      <td></td>\n",
       "      <td>1</td>\n",
       "      <td></td>\n",
       "      <td></td>\n",
       "      <td></td>\n",
       "      <td></td>\n",
       "      <td></td>\n",
       "      <td></td>\n",
       "    </tr>\n",
       "    <tr>\n",
       "      <th>price_ind</th>\n",
       "      <td></td>\n",
       "      <td></td>\n",
       "      <td></td>\n",
       "      <td></td>\n",
       "      <td></td>\n",
       "      <td>1</td>\n",
       "      <td></td>\n",
       "      <td></td>\n",
       "      <td></td>\n",
       "      <td></td>\n",
       "      <td></td>\n",
       "    </tr>\n",
       "    <tr>\n",
       "      <th>number_ind</th>\n",
       "      <td></td>\n",
       "      <td></td>\n",
       "      <td></td>\n",
       "      <td></td>\n",
       "      <td></td>\n",
       "      <td></td>\n",
       "      <td>1</td>\n",
       "      <td></td>\n",
       "      <td></td>\n",
       "      <td></td>\n",
       "      <td></td>\n",
       "    </tr>\n",
       "    <tr>\n",
       "      <th>dt</th>\n",
       "      <td></td>\n",
       "      <td></td>\n",
       "      <td></td>\n",
       "      <td></td>\n",
       "      <td></td>\n",
       "      <td></td>\n",
       "      <td></td>\n",
       "      <td>1</td>\n",
       "      <td></td>\n",
       "      <td></td>\n",
       "      <td></td>\n",
       "    </tr>\n",
       "    <tr>\n",
       "      <th>dt_ind</th>\n",
       "      <td></td>\n",
       "      <td></td>\n",
       "      <td></td>\n",
       "      <td></td>\n",
       "      <td></td>\n",
       "      <td></td>\n",
       "      <td></td>\n",
       "      <td></td>\n",
       "      <td>1</td>\n",
       "      <td></td>\n",
       "      <td></td>\n",
       "    </tr>\n",
       "    <tr>\n",
       "      <th>analysisPol</th>\n",
       "      <td></td>\n",
       "      <td></td>\n",
       "      <td></td>\n",
       "      <td></td>\n",
       "      <td></td>\n",
       "      <td></td>\n",
       "      <td></td>\n",
       "      <td></td>\n",
       "      <td></td>\n",
       "      <td>1</td>\n",
       "      <td></td>\n",
       "    </tr>\n",
       "    <tr>\n",
       "      <th>analysisSub</th>\n",
       "      <td></td>\n",
       "      <td></td>\n",
       "      <td></td>\n",
       "      <td></td>\n",
       "      <td></td>\n",
       "      <td></td>\n",
       "      <td></td>\n",
       "      <td></td>\n",
       "      <td></td>\n",
       "      <td></td>\n",
       "      <td>1</td>\n",
       "    </tr>\n",
       "  </tbody>\n",
       "</table>\n",
       "</div>"
      ],
      "text/plain": [
       "            ranking price number rating cuisine_c price_ind number_ind dt  \\\n",
       "ranking           1                                                         \n",
       "price                   1                                                   \n",
       "number                         1                                            \n",
       "rating                                1                                     \n",
       "cuisine_c                                       1                           \n",
       "price_ind                                                 1                 \n",
       "number_ind                                                           1      \n",
       "dt                                                                      1   \n",
       "dt_ind                                                                      \n",
       "analysisPol                                                                 \n",
       "analysisSub                                                                 \n",
       "\n",
       "            dt_ind analysisPol analysisSub  \n",
       "ranking                                     \n",
       "price                                       \n",
       "number                                      \n",
       "rating                                      \n",
       "cuisine_c                                   \n",
       "price_ind                                   \n",
       "number_ind                                  \n",
       "dt                                          \n",
       "dt_ind           1                          \n",
       "analysisPol                  1              \n",
       "analysisSub                              1  "
      ]
     },
     "execution_count": 65,
     "metadata": {},
     "output_type": "execute_result"
    }
   ],
   "source": [
    "corr_matrix[(corr_matrix > 0.7) | (corr_matrix < -0.7)].fillna('')"
   ]
  },
  {
   "cell_type": "markdown",
   "metadata": {},
   "source": [
    "сильно скоррелированных данных нет, можно приступать к обучению модели"
   ]
  },
  {
   "cell_type": "code",
   "execution_count": 66,
   "metadata": {},
   "outputs": [],
   "source": [
    "# создадим dummy-переменные из колонок с городами и ценовой категории\n",
    "df = pd.get_dummies(df, columns=['city'], prefix='city')\n",
    "df = pd.get_dummies(df, columns=['price1'], prefix='price')"
   ]
  },
  {
   "cell_type": "markdown",
   "metadata": {},
   "source": [
    "**Перед тем как отправлять наши данные на обучение, разделим данные на еще один тест и трейн, для валидации. \n",
    "Это поможет нам проверить, как хорошо наша модель работает, до отправки submissiona на kaggle.**"
   ]
  },
  {
   "cell_type": "code",
   "execution_count": 67,
   "metadata": {},
   "outputs": [],
   "source": [
    "train_data = df[df['sample'] == 1].drop(columns=['id', 'cuisine', 'reviews', 'sample', 'URL_TA', 'ID_TA'])\n",
    "test_data = df[df['sample'] == 0].drop(columns=['id', 'cuisine', 'reviews', 'sample', 'URL_TA', 'ID_TA'])\n",
    "\n",
    "y = train_data.rating.values            # наш таргет\n",
    "X = train_data.drop(columns='rating')"
   ]
  },
  {
   "cell_type": "code",
   "execution_count": 68,
   "metadata": {},
   "outputs": [],
   "source": [
    "# Воспользуемся специальной функцие train_test_split для разбивки тестовых данных\n",
    "# выделим 20% данных на валидацию (параметр test_size)\n",
    "X_train, X_test, y_train, y_test = train_test_split(X, y, test_size=0.2, random_state=RANDOM_SEED)"
   ]
  },
  {
   "cell_type": "code",
   "execution_count": 69,
   "metadata": {},
   "outputs": [
    {
     "data": {
      "text/plain": [
       "((10000, 45), (40000, 45), (40000, 44), (32000, 44), (8000, 44))"
      ]
     },
     "execution_count": 69,
     "metadata": {},
     "output_type": "execute_result"
    }
   ],
   "source": [
    "# проверяем\n",
    "test_data.shape, train_data.shape, X.shape, X_train.shape, X_test.shape"
   ]
  },
  {
   "cell_type": "markdown",
   "metadata": {},
   "source": [
    "# Model \n",
    "Сам ML"
   ]
  },
  {
   "cell_type": "code",
   "execution_count": 70,
   "metadata": {},
   "outputs": [],
   "source": [
    "# Импортируем необходимые библиотеки:\n",
    "from sklearn.ensemble import RandomForestRegressor # инструмент для создания и обучения модели\n",
    "from sklearn import metrics # инструменты для оценки точности модели"
   ]
  },
  {
   "cell_type": "code",
   "execution_count": 71,
   "metadata": {},
   "outputs": [],
   "source": [
    "# Создаём модель (НАСТРОЙКИ НЕ ТРОГАЕМ)\n",
    "model = RandomForestRegressor(n_estimators=100, verbose=1, n_jobs=-1, random_state=RANDOM_SEED)"
   ]
  },
  {
   "cell_type": "code",
   "execution_count": 72,
   "metadata": {},
   "outputs": [
    {
     "name": "stderr",
     "output_type": "stream",
     "text": [
      "[Parallel(n_jobs=-1)]: Using backend ThreadingBackend with 4 concurrent workers.\n",
      "[Parallel(n_jobs=-1)]: Done  42 tasks      | elapsed:    3.6s\n",
      "[Parallel(n_jobs=-1)]: Done 100 out of 100 | elapsed:    8.2s finished\n",
      "[Parallel(n_jobs=4)]: Using backend ThreadingBackend with 4 concurrent workers.\n",
      "[Parallel(n_jobs=4)]: Done  42 tasks      | elapsed:    0.0s\n",
      "[Parallel(n_jobs=4)]: Done 100 out of 100 | elapsed:    0.1s finished\n"
     ]
    }
   ],
   "source": [
    "# Обучаем модель на тестовом наборе данных\n",
    "model.fit(X_train, y_train)\n",
    "\n",
    "# Используем обученную модель для предсказания рейтинга ресторанов в тестовой выборке.\n",
    "# Предсказанные значения записываем в переменную y_pred\n",
    "y_pred = model.predict(X_test)"
   ]
  },
  {
   "cell_type": "code",
   "execution_count": 73,
   "metadata": {},
   "outputs": [
    {
     "name": "stdout",
     "output_type": "stream",
     "text": [
      "MAE: 0.215596875\n"
     ]
    }
   ],
   "source": [
    "# Сравниваем предсказанные значения (y_pred) с реальными (y_test), и смотрим насколько они в среднем отличаются\n",
    "# Метрика называется Mean Absolute Error (MAE) и показывает среднее отклонение предсказанных значений от фактических.\n",
    "print('MAE:', metrics.mean_absolute_error(y_test, y_pred))"
   ]
  },
  {
   "cell_type": "code",
   "execution_count": 74,
   "metadata": {},
   "outputs": [
    {
     "name": "stdout",
     "output_type": "stream",
     "text": [
      "MAE: 0.18525\n"
     ]
    }
   ],
   "source": [
    "y_pred_rnd = round_pred(y_pred)\n",
    "print('MAE:', metrics.mean_absolute_error(y_test, y_pred_rnd))"
   ]
  },
  {
   "cell_type": "code",
   "execution_count": 75,
   "metadata": {},
   "outputs": [
    {
     "data": {
      "text/plain": [
       "<matplotlib.axes._subplots.AxesSubplot at 0x7f985f29e240>"
      ]
     },
     "execution_count": 75,
     "metadata": {},
     "output_type": "execute_result"
    },
    {
     "data": {
      "image/png": "[encoded data removed]",
      "text/plain": [
       "<Figure size 720x720 with 1 Axes>"
      ]
     },
     "metadata": {
      "needs_background": "light"
     },
     "output_type": "display_data"
    }
   ],
   "source": [
    "# в RandomForestRegressor есть возможность вывести самые важные признаки для модели\n",
    "plt.rcParams['figure.figsize'] = (10,10)\n",
    "feat_importances = pd.Series(model.feature_importances_, index=X.columns)\n",
    "feat_importances.nlargest(15).plot(kind='barh')"
   ]
  },
  {
   "cell_type": "markdown",
   "metadata": {},
   "source": [
    "# Submission\n",
    "Если все устраевает - готовим Submission на кагл"
   ]
  },
  {
   "cell_type": "code",
   "execution_count": 76,
   "metadata": {},
   "outputs": [
    {
     "data": {
      "text/html": [
       "<div>\n",
       "<style scoped>\n",
       "    .dataframe tbody tr th:only-of-type {\n",
       "        vertical-align: middle;\n",
       "    }\n",
       "\n",
       "    .dataframe tbody tr th {\n",
       "        vertical-align: top;\n",
       "    }\n",
       "\n",
       "    .dataframe thead th {\n",
       "        text-align: right;\n",
       "    }\n",
       "</style>\n",
       "<table border=\"1\" class=\"dataframe\">\n",
       "  <thead>\n",
       "    <tr style=\"text-align: right;\">\n",
       "      <th></th>\n",
       "      <th>ranking</th>\n",
       "      <th>price</th>\n",
       "      <th>number</th>\n",
       "      <th>rating</th>\n",
       "      <th>cuisine_c</th>\n",
       "      <th>price_ind</th>\n",
       "      <th>number_ind</th>\n",
       "      <th>dt</th>\n",
       "      <th>dt_ind</th>\n",
       "      <th>analysisPol</th>\n",
       "      <th>...</th>\n",
       "      <th>city_Paris</th>\n",
       "      <th>city_Prague</th>\n",
       "      <th>city_Rome</th>\n",
       "      <th>city_Stockholm</th>\n",
       "      <th>city_Vienna</th>\n",
       "      <th>city_Warsaw</th>\n",
       "      <th>city_Zurich</th>\n",
       "      <th>price_$</th>\n",
       "      <th>price_$$ - $$$</th>\n",
       "      <th>price_$$$$</th>\n",
       "    </tr>\n",
       "  </thead>\n",
       "  <tbody>\n",
       "    <tr>\n",
       "      <th>3004</th>\n",
       "      <td>2380.0</td>\n",
       "      <td>2</td>\n",
       "      <td>0.000725</td>\n",
       "      <td>0.0</td>\n",
       "      <td>0.000000</td>\n",
       "      <td>0</td>\n",
       "      <td>1</td>\n",
       "      <td>0.072816</td>\n",
       "      <td>0</td>\n",
       "      <td>0.450000</td>\n",
       "      <td>...</td>\n",
       "      <td>0</td>\n",
       "      <td>0</td>\n",
       "      <td>0</td>\n",
       "      <td>0</td>\n",
       "      <td>0</td>\n",
       "      <td>0</td>\n",
       "      <td>0</td>\n",
       "      <td>0</td>\n",
       "      <td>1</td>\n",
       "      <td>0</td>\n",
       "    </tr>\n",
       "    <tr>\n",
       "      <th>6507</th>\n",
       "      <td>5626.0</td>\n",
       "      <td>2</td>\n",
       "      <td>0.000414</td>\n",
       "      <td>0.0</td>\n",
       "      <td>0.693147</td>\n",
       "      <td>1</td>\n",
       "      <td>1</td>\n",
       "      <td>0.000910</td>\n",
       "      <td>1</td>\n",
       "      <td>0.000000</td>\n",
       "      <td>...</td>\n",
       "      <td>0</td>\n",
       "      <td>0</td>\n",
       "      <td>0</td>\n",
       "      <td>0</td>\n",
       "      <td>0</td>\n",
       "      <td>0</td>\n",
       "      <td>0</td>\n",
       "      <td>0</td>\n",
       "      <td>1</td>\n",
       "      <td>0</td>\n",
       "    </tr>\n",
       "    <tr>\n",
       "      <th>8759</th>\n",
       "      <td>1812.0</td>\n",
       "      <td>1</td>\n",
       "      <td>0.000311</td>\n",
       "      <td>0.0</td>\n",
       "      <td>0.000000</td>\n",
       "      <td>0</td>\n",
       "      <td>1</td>\n",
       "      <td>0.003337</td>\n",
       "      <td>0</td>\n",
       "      <td>0.000000</td>\n",
       "      <td>...</td>\n",
       "      <td>0</td>\n",
       "      <td>0</td>\n",
       "      <td>0</td>\n",
       "      <td>0</td>\n",
       "      <td>0</td>\n",
       "      <td>0</td>\n",
       "      <td>0</td>\n",
       "      <td>1</td>\n",
       "      <td>0</td>\n",
       "      <td>0</td>\n",
       "    </tr>\n",
       "    <tr>\n",
       "      <th>5795</th>\n",
       "      <td>3768.0</td>\n",
       "      <td>3</td>\n",
       "      <td>0.019772</td>\n",
       "      <td>0.0</td>\n",
       "      <td>1.098612</td>\n",
       "      <td>1</td>\n",
       "      <td>1</td>\n",
       "      <td>0.008192</td>\n",
       "      <td>1</td>\n",
       "      <td>0.273929</td>\n",
       "      <td>...</td>\n",
       "      <td>1</td>\n",
       "      <td>0</td>\n",
       "      <td>0</td>\n",
       "      <td>0</td>\n",
       "      <td>0</td>\n",
       "      <td>0</td>\n",
       "      <td>0</td>\n",
       "      <td>0</td>\n",
       "      <td>0</td>\n",
       "      <td>1</td>\n",
       "    </tr>\n",
       "    <tr>\n",
       "      <th>6897</th>\n",
       "      <td>782.0</td>\n",
       "      <td>2</td>\n",
       "      <td>0.000104</td>\n",
       "      <td>0.0</td>\n",
       "      <td>0.000000</td>\n",
       "      <td>0</td>\n",
       "      <td>0</td>\n",
       "      <td>0.022148</td>\n",
       "      <td>0</td>\n",
       "      <td>0.000000</td>\n",
       "      <td>...</td>\n",
       "      <td>0</td>\n",
       "      <td>0</td>\n",
       "      <td>0</td>\n",
       "      <td>0</td>\n",
       "      <td>0</td>\n",
       "      <td>0</td>\n",
       "      <td>0</td>\n",
       "      <td>0</td>\n",
       "      <td>1</td>\n",
       "      <td>0</td>\n",
       "    </tr>\n",
       "    <tr>\n",
       "      <th>71</th>\n",
       "      <td>7458.0</td>\n",
       "      <td>1</td>\n",
       "      <td>0.001139</td>\n",
       "      <td>0.0</td>\n",
       "      <td>0.000000</td>\n",
       "      <td>1</td>\n",
       "      <td>1</td>\n",
       "      <td>0.024272</td>\n",
       "      <td>1</td>\n",
       "      <td>0.303125</td>\n",
       "      <td>...</td>\n",
       "      <td>0</td>\n",
       "      <td>0</td>\n",
       "      <td>0</td>\n",
       "      <td>0</td>\n",
       "      <td>0</td>\n",
       "      <td>0</td>\n",
       "      <td>0</td>\n",
       "      <td>1</td>\n",
       "      <td>0</td>\n",
       "      <td>0</td>\n",
       "    </tr>\n",
       "    <tr>\n",
       "      <th>518</th>\n",
       "      <td>198.0</td>\n",
       "      <td>2</td>\n",
       "      <td>0.014596</td>\n",
       "      <td>0.0</td>\n",
       "      <td>1.791759</td>\n",
       "      <td>1</td>\n",
       "      <td>1</td>\n",
       "      <td>0.000303</td>\n",
       "      <td>1</td>\n",
       "      <td>0.366667</td>\n",
       "      <td>...</td>\n",
       "      <td>0</td>\n",
       "      <td>0</td>\n",
       "      <td>0</td>\n",
       "      <td>0</td>\n",
       "      <td>0</td>\n",
       "      <td>0</td>\n",
       "      <td>0</td>\n",
       "      <td>0</td>\n",
       "      <td>1</td>\n",
       "      <td>0</td>\n",
       "    </tr>\n",
       "    <tr>\n",
       "      <th>8810</th>\n",
       "      <td>3016.0</td>\n",
       "      <td>2</td>\n",
       "      <td>0.001656</td>\n",
       "      <td>0.0</td>\n",
       "      <td>0.000000</td>\n",
       "      <td>1</td>\n",
       "      <td>1</td>\n",
       "      <td>0.000000</td>\n",
       "      <td>1</td>\n",
       "      <td>0.550000</td>\n",
       "      <td>...</td>\n",
       "      <td>0</td>\n",
       "      <td>0</td>\n",
       "      <td>0</td>\n",
       "      <td>0</td>\n",
       "      <td>0</td>\n",
       "      <td>0</td>\n",
       "      <td>0</td>\n",
       "      <td>0</td>\n",
       "      <td>1</td>\n",
       "      <td>0</td>\n",
       "    </tr>\n",
       "    <tr>\n",
       "      <th>3188</th>\n",
       "      <td>738.0</td>\n",
       "      <td>1</td>\n",
       "      <td>0.017081</td>\n",
       "      <td>0.0</td>\n",
       "      <td>1.386294</td>\n",
       "      <td>1</td>\n",
       "      <td>1</td>\n",
       "      <td>0.027002</td>\n",
       "      <td>1</td>\n",
       "      <td>0.900000</td>\n",
       "      <td>...</td>\n",
       "      <td>0</td>\n",
       "      <td>0</td>\n",
       "      <td>0</td>\n",
       "      <td>0</td>\n",
       "      <td>0</td>\n",
       "      <td>0</td>\n",
       "      <td>0</td>\n",
       "      <td>1</td>\n",
       "      <td>0</td>\n",
       "      <td>0</td>\n",
       "    </tr>\n",
       "    <tr>\n",
       "      <th>5140</th>\n",
       "      <td>5203.0</td>\n",
       "      <td>2</td>\n",
       "      <td>0.011698</td>\n",
       "      <td>0.0</td>\n",
       "      <td>0.693147</td>\n",
       "      <td>1</td>\n",
       "      <td>1</td>\n",
       "      <td>0.101335</td>\n",
       "      <td>1</td>\n",
       "      <td>0.866667</td>\n",
       "      <td>...</td>\n",
       "      <td>0</td>\n",
       "      <td>0</td>\n",
       "      <td>0</td>\n",
       "      <td>0</td>\n",
       "      <td>0</td>\n",
       "      <td>0</td>\n",
       "      <td>0</td>\n",
       "      <td>0</td>\n",
       "      <td>1</td>\n",
       "      <td>0</td>\n",
       "    </tr>\n",
       "    <tr>\n",
       "      <th>1253</th>\n",
       "      <td>1103.0</td>\n",
       "      <td>2</td>\n",
       "      <td>0.007350</td>\n",
       "      <td>0.0</td>\n",
       "      <td>0.000000</td>\n",
       "      <td>0</td>\n",
       "      <td>1</td>\n",
       "      <td>0.007282</td>\n",
       "      <td>1</td>\n",
       "      <td>0.350000</td>\n",
       "      <td>...</td>\n",
       "      <td>0</td>\n",
       "      <td>0</td>\n",
       "      <td>0</td>\n",
       "      <td>0</td>\n",
       "      <td>0</td>\n",
       "      <td>0</td>\n",
       "      <td>0</td>\n",
       "      <td>0</td>\n",
       "      <td>1</td>\n",
       "      <td>0</td>\n",
       "    </tr>\n",
       "    <tr>\n",
       "      <th>9975</th>\n",
       "      <td>482.0</td>\n",
       "      <td>2</td>\n",
       "      <td>0.001863</td>\n",
       "      <td>0.0</td>\n",
       "      <td>0.000000</td>\n",
       "      <td>0</td>\n",
       "      <td>1</td>\n",
       "      <td>0.096481</td>\n",
       "      <td>0</td>\n",
       "      <td>0.000000</td>\n",
       "      <td>...</td>\n",
       "      <td>0</td>\n",
       "      <td>0</td>\n",
       "      <td>0</td>\n",
       "      <td>0</td>\n",
       "      <td>0</td>\n",
       "      <td>0</td>\n",
       "      <td>0</td>\n",
       "      <td>0</td>\n",
       "      <td>1</td>\n",
       "      <td>0</td>\n",
       "    </tr>\n",
       "    <tr>\n",
       "      <th>653</th>\n",
       "      <td>1549.0</td>\n",
       "      <td>1</td>\n",
       "      <td>0.000311</td>\n",
       "      <td>0.0</td>\n",
       "      <td>1.609438</td>\n",
       "      <td>1</td>\n",
       "      <td>1</td>\n",
       "      <td>0.030643</td>\n",
       "      <td>0</td>\n",
       "      <td>0.187500</td>\n",
       "      <td>...</td>\n",
       "      <td>0</td>\n",
       "      <td>0</td>\n",
       "      <td>0</td>\n",
       "      <td>0</td>\n",
       "      <td>1</td>\n",
       "      <td>0</td>\n",
       "      <td>0</td>\n",
       "      <td>1</td>\n",
       "      <td>0</td>\n",
       "      <td>0</td>\n",
       "    </tr>\n",
       "    <tr>\n",
       "      <th>6073</th>\n",
       "      <td>11369.0</td>\n",
       "      <td>1</td>\n",
       "      <td>0.000518</td>\n",
       "      <td>0.0</td>\n",
       "      <td>0.000000</td>\n",
       "      <td>0</td>\n",
       "      <td>1</td>\n",
       "      <td>0.001214</td>\n",
       "      <td>1</td>\n",
       "      <td>0.000000</td>\n",
       "      <td>...</td>\n",
       "      <td>0</td>\n",
       "      <td>0</td>\n",
       "      <td>0</td>\n",
       "      <td>0</td>\n",
       "      <td>0</td>\n",
       "      <td>0</td>\n",
       "      <td>0</td>\n",
       "      <td>1</td>\n",
       "      <td>0</td>\n",
       "      <td>0</td>\n",
       "    </tr>\n",
       "    <tr>\n",
       "      <th>6333</th>\n",
       "      <td>4693.0</td>\n",
       "      <td>2</td>\n",
       "      <td>0.000621</td>\n",
       "      <td>0.0</td>\n",
       "      <td>0.693147</td>\n",
       "      <td>1</td>\n",
       "      <td>1</td>\n",
       "      <td>0.071299</td>\n",
       "      <td>0</td>\n",
       "      <td>0.000000</td>\n",
       "      <td>...</td>\n",
       "      <td>0</td>\n",
       "      <td>0</td>\n",
       "      <td>0</td>\n",
       "      <td>0</td>\n",
       "      <td>0</td>\n",
       "      <td>0</td>\n",
       "      <td>0</td>\n",
       "      <td>0</td>\n",
       "      <td>1</td>\n",
       "      <td>0</td>\n",
       "    </tr>\n",
       "    <tr>\n",
       "      <th>2133</th>\n",
       "      <td>12566.0</td>\n",
       "      <td>2</td>\n",
       "      <td>0.000000</td>\n",
       "      <td>0.0</td>\n",
       "      <td>0.000000</td>\n",
       "      <td>0</td>\n",
       "      <td>0</td>\n",
       "      <td>0.539745</td>\n",
       "      <td>0</td>\n",
       "      <td>0.000000</td>\n",
       "      <td>...</td>\n",
       "      <td>0</td>\n",
       "      <td>0</td>\n",
       "      <td>0</td>\n",
       "      <td>0</td>\n",
       "      <td>0</td>\n",
       "      <td>0</td>\n",
       "      <td>0</td>\n",
       "      <td>0</td>\n",
       "      <td>1</td>\n",
       "      <td>0</td>\n",
       "    </tr>\n",
       "    <tr>\n",
       "      <th>936</th>\n",
       "      <td>5811.0</td>\n",
       "      <td>2</td>\n",
       "      <td>0.000207</td>\n",
       "      <td>0.0</td>\n",
       "      <td>0.000000</td>\n",
       "      <td>0</td>\n",
       "      <td>1</td>\n",
       "      <td>0.000607</td>\n",
       "      <td>0</td>\n",
       "      <td>0.300000</td>\n",
       "      <td>...</td>\n",
       "      <td>0</td>\n",
       "      <td>0</td>\n",
       "      <td>0</td>\n",
       "      <td>0</td>\n",
       "      <td>0</td>\n",
       "      <td>0</td>\n",
       "      <td>0</td>\n",
       "      <td>0</td>\n",
       "      <td>1</td>\n",
       "      <td>0</td>\n",
       "    </tr>\n",
       "    <tr>\n",
       "      <th>2903</th>\n",
       "      <td>3542.0</td>\n",
       "      <td>2</td>\n",
       "      <td>0.005694</td>\n",
       "      <td>0.0</td>\n",
       "      <td>0.693147</td>\n",
       "      <td>1</td>\n",
       "      <td>1</td>\n",
       "      <td>0.001214</td>\n",
       "      <td>1</td>\n",
       "      <td>0.050000</td>\n",
       "      <td>...</td>\n",
       "      <td>0</td>\n",
       "      <td>0</td>\n",
       "      <td>0</td>\n",
       "      <td>0</td>\n",
       "      <td>0</td>\n",
       "      <td>0</td>\n",
       "      <td>0</td>\n",
       "      <td>0</td>\n",
       "      <td>1</td>\n",
       "      <td>0</td>\n",
       "    </tr>\n",
       "    <tr>\n",
       "      <th>125</th>\n",
       "      <td>4558.0</td>\n",
       "      <td>2</td>\n",
       "      <td>0.003002</td>\n",
       "      <td>0.0</td>\n",
       "      <td>0.000000</td>\n",
       "      <td>1</td>\n",
       "      <td>1</td>\n",
       "      <td>0.142294</td>\n",
       "      <td>1</td>\n",
       "      <td>0.325000</td>\n",
       "      <td>...</td>\n",
       "      <td>0</td>\n",
       "      <td>0</td>\n",
       "      <td>0</td>\n",
       "      <td>0</td>\n",
       "      <td>0</td>\n",
       "      <td>0</td>\n",
       "      <td>0</td>\n",
       "      <td>0</td>\n",
       "      <td>1</td>\n",
       "      <td>0</td>\n",
       "    </tr>\n",
       "    <tr>\n",
       "      <th>6533</th>\n",
       "      <td>3321.0</td>\n",
       "      <td>1</td>\n",
       "      <td>0.003313</td>\n",
       "      <td>0.0</td>\n",
       "      <td>0.000000</td>\n",
       "      <td>1</td>\n",
       "      <td>1</td>\n",
       "      <td>0.028519</td>\n",
       "      <td>0</td>\n",
       "      <td>0.000000</td>\n",
       "      <td>...</td>\n",
       "      <td>0</td>\n",
       "      <td>0</td>\n",
       "      <td>0</td>\n",
       "      <td>0</td>\n",
       "      <td>0</td>\n",
       "      <td>0</td>\n",
       "      <td>0</td>\n",
       "      <td>1</td>\n",
       "      <td>0</td>\n",
       "      <td>0</td>\n",
       "    </tr>\n",
       "  </tbody>\n",
       "</table>\n",
       "<p>20 rows × 45 columns</p>\n",
       "</div>"
      ],
      "text/plain": [
       "      ranking  price    number  rating  cuisine_c  price_ind  number_ind  \\\n",
       "3004   2380.0      2  0.000725     0.0   0.000000          0           1   \n",
       "6507   5626.0      2  0.000414     0.0   0.693147          1           1   \n",
       "8759   1812.0      1  0.000311     0.0   0.000000          0           1   \n",
       "5795   3768.0      3  0.019772     0.0   1.098612          1           1   \n",
       "6897    782.0      2  0.000104     0.0   0.000000          0           0   \n",
       "71     7458.0      1  0.001139     0.0   0.000000          1           1   \n",
       "518     198.0      2  0.014596     0.0   1.791759          1           1   \n",
       "8810   3016.0      2  0.001656     0.0   0.000000          1           1   \n",
       "3188    738.0      1  0.017081     0.0   1.386294          1           1   \n",
       "5140   5203.0      2  0.011698     0.0   0.693147          1           1   \n",
       "1253   1103.0      2  0.007350     0.0   0.000000          0           1   \n",
       "9975    482.0      2  0.001863     0.0   0.000000          0           1   \n",
       "653    1549.0      1  0.000311     0.0   1.609438          1           1   \n",
       "6073  11369.0      1  0.000518     0.0   0.000000          0           1   \n",
       "6333   4693.0      2  0.000621     0.0   0.693147          1           1   \n",
       "2133  12566.0      2  0.000000     0.0   0.000000          0           0   \n",
       "936    5811.0      2  0.000207     0.0   0.000000          0           1   \n",
       "2903   3542.0      2  0.005694     0.0   0.693147          1           1   \n",
       "125    4558.0      2  0.003002     0.0   0.000000          1           1   \n",
       "6533   3321.0      1  0.003313     0.0   0.000000          1           1   \n",
       "\n",
       "            dt  dt_ind  analysisPol  ...  city_Paris  city_Prague  city_Rome  \\\n",
       "3004  0.072816       0     0.450000  ...           0            0          0   \n",
       "6507  0.000910       1     0.000000  ...           0            0          0   \n",
       "8759  0.003337       0     0.000000  ...           0            0          0   \n",
       "5795  0.008192       1     0.273929  ...           1            0          0   \n",
       "6897  0.022148       0     0.000000  ...           0            0          0   \n",
       "71    0.024272       1     0.303125  ...           0            0          0   \n",
       "518   0.000303       1     0.366667  ...           0            0          0   \n",
       "8810  0.000000       1     0.550000  ...           0            0          0   \n",
       "3188  0.027002       1     0.900000  ...           0            0          0   \n",
       "5140  0.101335       1     0.866667  ...           0            0          0   \n",
       "1253  0.007282       1     0.350000  ...           0            0          0   \n",
       "9975  0.096481       0     0.000000  ...           0            0          0   \n",
       "653   0.030643       0     0.187500  ...           0            0          0   \n",
       "6073  0.001214       1     0.000000  ...           0            0          0   \n",
       "6333  0.071299       0     0.000000  ...           0            0          0   \n",
       "2133  0.539745       0     0.000000  ...           0            0          0   \n",
       "936   0.000607       0     0.300000  ...           0            0          0   \n",
       "2903  0.001214       1     0.050000  ...           0            0          0   \n",
       "125   0.142294       1     0.325000  ...           0            0          0   \n",
       "6533  0.028519       0     0.000000  ...           0            0          0   \n",
       "\n",
       "      city_Stockholm  city_Vienna  city_Warsaw  city_Zurich  price_$  \\\n",
       "3004               0            0            0            0        0   \n",
       "6507               0            0            0            0        0   \n",
       "8759               0            0            0            0        1   \n",
       "5795               0            0            0            0        0   \n",
       "6897               0            0            0            0        0   \n",
       "71                 0            0            0            0        1   \n",
       "518                0            0            0            0        0   \n",
       "8810               0            0            0            0        0   \n",
       "3188               0            0            0            0        1   \n",
       "5140               0            0            0            0        0   \n",
       "1253               0            0            0            0        0   \n",
       "9975               0            0            0            0        0   \n",
       "653                0            1            0            0        1   \n",
       "6073               0            0            0            0        1   \n",
       "6333               0            0            0            0        0   \n",
       "2133               0            0            0            0        0   \n",
       "936                0            0            0            0        0   \n",
       "2903               0            0            0            0        0   \n",
       "125                0            0            0            0        0   \n",
       "6533               0            0            0            0        1   \n",
       "\n",
       "      price_$$ - $$$  price_$$$$  \n",
       "3004               1           0  \n",
       "6507               1           0  \n",
       "8759               0           0  \n",
       "5795               0           1  \n",
       "6897               1           0  \n",
       "71                 0           0  \n",
       "518                1           0  \n",
       "8810               1           0  \n",
       "3188               0           0  \n",
       "5140               1           0  \n",
       "1253               1           0  \n",
       "9975               1           0  \n",
       "653                0           0  \n",
       "6073               0           0  \n",
       "6333               1           0  \n",
       "2133               1           0  \n",
       "936                1           0  \n",
       "2903               1           0  \n",
       "125                1           0  \n",
       "6533               0           0  \n",
       "\n",
       "[20 rows x 45 columns]"
      ]
     },
     "execution_count": 76,
     "metadata": {},
     "output_type": "execute_result"
    }
   ],
   "source": [
    "test_data.sample(20)"
   ]
  },
  {
   "cell_type": "code",
   "execution_count": 77,
   "metadata": {},
   "outputs": [],
   "source": [
    "test_data = test_data.drop(columns='rating')"
   ]
  },
  {
   "cell_type": "code",
   "execution_count": 78,
   "metadata": {},
   "outputs": [
    {
     "data": {
      "text/html": [
       "<div>\n",
       "<style scoped>\n",
       "    .dataframe tbody tr th:only-of-type {\n",
       "        vertical-align: middle;\n",
       "    }\n",
       "\n",
       "    .dataframe tbody tr th {\n",
       "        vertical-align: top;\n",
       "    }\n",
       "\n",
       "    .dataframe thead th {\n",
       "        text-align: right;\n",
       "    }\n",
       "</style>\n",
       "<table border=\"1\" class=\"dataframe\">\n",
       "  <thead>\n",
       "    <tr style=\"text-align: right;\">\n",
       "      <th></th>\n",
       "      <th>Restaurant_id</th>\n",
       "      <th>Rating</th>\n",
       "    </tr>\n",
       "  </thead>\n",
       "  <tbody>\n",
       "    <tr>\n",
       "      <th>0</th>\n",
       "      <td>id_0</td>\n",
       "      <td>2.0</td>\n",
       "    </tr>\n",
       "    <tr>\n",
       "      <th>1</th>\n",
       "      <td>id_1</td>\n",
       "      <td>2.5</td>\n",
       "    </tr>\n",
       "    <tr>\n",
       "      <th>2</th>\n",
       "      <td>id_2</td>\n",
       "      <td>4.0</td>\n",
       "    </tr>\n",
       "    <tr>\n",
       "      <th>3</th>\n",
       "      <td>id_3</td>\n",
       "      <td>1.0</td>\n",
       "    </tr>\n",
       "    <tr>\n",
       "      <th>4</th>\n",
       "      <td>id_4</td>\n",
       "      <td>4.0</td>\n",
       "    </tr>\n",
       "    <tr>\n",
       "      <th>...</th>\n",
       "      <td>...</td>\n",
       "      <td>...</td>\n",
       "    </tr>\n",
       "    <tr>\n",
       "      <th>9995</th>\n",
       "      <td>id_9995</td>\n",
       "      <td>3.0</td>\n",
       "    </tr>\n",
       "    <tr>\n",
       "      <th>9996</th>\n",
       "      <td>id_9996</td>\n",
       "      <td>1.5</td>\n",
       "    </tr>\n",
       "    <tr>\n",
       "      <th>9997</th>\n",
       "      <td>id_9997</td>\n",
       "      <td>4.5</td>\n",
       "    </tr>\n",
       "    <tr>\n",
       "      <th>9998</th>\n",
       "      <td>id_9998</td>\n",
       "      <td>1.0</td>\n",
       "    </tr>\n",
       "    <tr>\n",
       "      <th>9999</th>\n",
       "      <td>id_9999</td>\n",
       "      <td>2.5</td>\n",
       "    </tr>\n",
       "  </tbody>\n",
       "</table>\n",
       "<p>10000 rows × 2 columns</p>\n",
       "</div>"
      ],
      "text/plain": [
       "     Restaurant_id  Rating\n",
       "0             id_0     2.0\n",
       "1             id_1     2.5\n",
       "2             id_2     4.0\n",
       "3             id_3     1.0\n",
       "4             id_4     4.0\n",
       "...            ...     ...\n",
       "9995       id_9995     3.0\n",
       "9996       id_9996     1.5\n",
       "9997       id_9997     4.5\n",
       "9998       id_9998     1.0\n",
       "9999       id_9999     2.5\n",
       "\n",
       "[10000 rows x 2 columns]"
      ]
     },
     "execution_count": 78,
     "metadata": {},
     "output_type": "execute_result"
    }
   ],
   "source": [
    "sample_submission"
   ]
  },
  {
   "cell_type": "code",
   "execution_count": 79,
   "metadata": {},
   "outputs": [
    {
     "name": "stderr",
     "output_type": "stream",
     "text": [
      "[Parallel(n_jobs=4)]: Using backend ThreadingBackend with 4 concurrent workers.\n",
      "[Parallel(n_jobs=4)]: Done  42 tasks      | elapsed:    0.0s\n",
      "[Parallel(n_jobs=4)]: Done 100 out of 100 | elapsed:    0.1s finished\n"
     ]
    }
   ],
   "source": [
    "predict_submission = model.predict(test_data)"
   ]
  },
  {
   "cell_type": "code",
   "execution_count": 80,
   "metadata": {},
   "outputs": [
    {
     "data": {
      "text/plain": [
       "array([3.13 , 4.31 , 4.465, ..., 3.455, 4.49 , 4.19 ])"
      ]
     },
     "execution_count": 80,
     "metadata": {},
     "output_type": "execute_result"
    }
   ],
   "source": [
    "predict_submission"
   ]
  },
  {
   "cell_type": "code",
   "execution_count": 81,
   "metadata": {},
   "outputs": [
    {
     "data": {
      "text/plain": [
       "[3.0, 4.5, 4.5, 4.5, 4.5, 4.5, 2.5, 3.0, 4.0, 4.5]"
      ]
     },
     "execution_count": 81,
     "metadata": {},
     "output_type": "execute_result"
    }
   ],
   "source": [
    "predict_submission = round_pred(predict_submission)\n",
    "predict_submission[:10]"
   ]
  },
  {
   "cell_type": "code",
   "execution_count": 82,
   "metadata": {},
   "outputs": [
    {
     "data": {
      "text/html": [
       "<div>\n",
       "<style scoped>\n",
       "    .dataframe tbody tr th:only-of-type {\n",
       "        vertical-align: middle;\n",
       "    }\n",
       "\n",
       "    .dataframe tbody tr th {\n",
       "        vertical-align: top;\n",
       "    }\n",
       "\n",
       "    .dataframe thead th {\n",
       "        text-align: right;\n",
       "    }\n",
       "</style>\n",
       "<table border=\"1\" class=\"dataframe\">\n",
       "  <thead>\n",
       "    <tr style=\"text-align: right;\">\n",
       "      <th></th>\n",
       "      <th>Restaurant_id</th>\n",
       "      <th>Rating</th>\n",
       "    </tr>\n",
       "  </thead>\n",
       "  <tbody>\n",
       "    <tr>\n",
       "      <th>0</th>\n",
       "      <td>id_0</td>\n",
       "      <td>3.0</td>\n",
       "    </tr>\n",
       "    <tr>\n",
       "      <th>1</th>\n",
       "      <td>id_1</td>\n",
       "      <td>4.5</td>\n",
       "    </tr>\n",
       "    <tr>\n",
       "      <th>2</th>\n",
       "      <td>id_2</td>\n",
       "      <td>4.5</td>\n",
       "    </tr>\n",
       "    <tr>\n",
       "      <th>3</th>\n",
       "      <td>id_3</td>\n",
       "      <td>4.5</td>\n",
       "    </tr>\n",
       "    <tr>\n",
       "      <th>4</th>\n",
       "      <td>id_4</td>\n",
       "      <td>4.5</td>\n",
       "    </tr>\n",
       "    <tr>\n",
       "      <th>5</th>\n",
       "      <td>id_5</td>\n",
       "      <td>4.5</td>\n",
       "    </tr>\n",
       "    <tr>\n",
       "      <th>6</th>\n",
       "      <td>id_6</td>\n",
       "      <td>2.5</td>\n",
       "    </tr>\n",
       "    <tr>\n",
       "      <th>7</th>\n",
       "      <td>id_7</td>\n",
       "      <td>3.0</td>\n",
       "    </tr>\n",
       "    <tr>\n",
       "      <th>8</th>\n",
       "      <td>id_8</td>\n",
       "      <td>4.0</td>\n",
       "    </tr>\n",
       "    <tr>\n",
       "      <th>9</th>\n",
       "      <td>id_9</td>\n",
       "      <td>4.5</td>\n",
       "    </tr>\n",
       "  </tbody>\n",
       "</table>\n",
       "</div>"
      ],
      "text/plain": [
       "  Restaurant_id  Rating\n",
       "0          id_0     3.0\n",
       "1          id_1     4.5\n",
       "2          id_2     4.5\n",
       "3          id_3     4.5\n",
       "4          id_4     4.5\n",
       "5          id_5     4.5\n",
       "6          id_6     2.5\n",
       "7          id_7     3.0\n",
       "8          id_8     4.0\n",
       "9          id_9     4.5"
      ]
     },
     "execution_count": 82,
     "metadata": {},
     "output_type": "execute_result"
    }
   ],
   "source": [
    "sample_submission['Rating'] = predict_submission\n",
    "sample_submission.to_csv('submission.csv', index=False)\n",
    "sample_submission.head(10)"
   ]
  }
 ],
 "metadata": {
  "kernelspec": {
   "display_name": "Python 3",
   "language": "python",
   "name": "python3"
  },
  "language_info": {
   "codemirror_mode": {
    "name": "ipython",
    "version": 3
   },
   "file_extension": ".py",
   "mimetype": "text/x-python",
   "name": "python",
   "nbconvert_exporter": "python",
   "pygments_lexer": "ipython3",
   "version": "3.6.6"
  }
 },
 "nbformat": 4,
 "nbformat_minor": 4
}
